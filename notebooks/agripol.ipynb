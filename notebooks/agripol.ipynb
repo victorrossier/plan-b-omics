{
 "cells": [
  {
   "cell_type": "code",
   "execution_count": 141,
   "id": "0c43c8ea-5bd1-4081-b9d1-3e50bd9e5bf2",
   "metadata": {},
   "outputs": [],
   "source": [
    "import numpy as np\n",
    "import pandas as pd\n",
    "import seaborn as sns\n",
    "from itertools import repeat\n",
    "from collections import defaultdict\n",
    "import matplotlib.pyplot as plt\n",
    "\n"
   ]
  },
  {
   "cell_type": "code",
   "execution_count": 2,
   "id": "c86f5625-7a4c-4873-bf92-0d25e90764b2",
   "metadata": {},
   "outputs": [],
   "source": [
    "pd.set_option('display.max_columns', None)"
   ]
  },
  {
   "cell_type": "code",
   "execution_count": 3,
   "id": "5c482c92-8117-4a9b-94c4-04f6f85d7539",
   "metadata": {},
   "outputs": [],
   "source": [
    "work_path = '/cluster/raid/home/f80878961/agripol/'"
   ]
  },
  {
   "cell_type": "code",
   "execution_count": 4,
   "id": "535fdb99-cf18-4c2d-8ad4-24bccf5c40c4",
   "metadata": {},
   "outputs": [],
   "source": [
    "pathogen_data_fn = '{}Agripol all pathogen data beta Actin complet to use for stats.xlsx'.format(work_path)"
   ]
  },
  {
   "cell_type": "code",
   "execution_count": 5,
   "id": "a1cbcaf2-b098-4313-a269-068dd8fbae43",
   "metadata": {},
   "outputs": [],
   "source": [
    "# to disable ssl certificate check...\n",
    "import ssl\n",
    "ssl._create_default_https_context = ssl._create_unverified_context"
   ]
  },
  {
   "cell_type": "markdown",
   "id": "576736ae-aaa8-414c-9621-ccc61756ed17",
   "metadata": {},
   "source": [
    "# Parse pathogen data"
   ]
  },
  {
   "cell_type": "code",
   "execution_count": 6,
   "id": "c5ead066-9d88-4b44-aef4-9559caed48c2",
   "metadata": {},
   "outputs": [
    {
     "name": "stderr",
     "output_type": "stream",
     "text": [
      "/cluster/raid/home/f80878961/.conda/envs/planb/lib/python3.9/site-packages/openpyxl/worksheet/_read_only.py:85: UserWarning: Conditional Formatting extension is not supported and will be removed\n",
      "  for idx, row in parser.parse():\n",
      "/cluster/raid/home/f80878961/.conda/envs/planb/lib/python3.9/site-packages/openpyxl/worksheet/_read_only.py:85: UserWarning: Conditional Formatting extension is not supported and will be removed\n",
      "  for idx, row in parser.parse():\n",
      "/cluster/raid/home/f80878961/.conda/envs/planb/lib/python3.9/site-packages/openpyxl/worksheet/_read_only.py:85: UserWarning: Conditional Formatting extension is not supported and will be removed\n",
      "  for idx, row in parser.parse():\n",
      "/cluster/raid/home/f80878961/.conda/envs/planb/lib/python3.9/site-packages/openpyxl/worksheet/_read_only.py:85: UserWarning: Conditional Formatting extension is not supported and will be removed\n",
      "  for idx, row in parser.parse():\n",
      "/cluster/raid/home/f80878961/.conda/envs/planb/lib/python3.9/site-packages/openpyxl/worksheet/_read_only.py:85: UserWarning: Conditional Formatting extension is not supported and will be removed\n",
      "  for idx, row in parser.parse():\n"
     ]
    }
   ],
   "source": [
    "dfs = pd.read_excel(pathogen_data_fn, sheet_name=None, engine='openpyxl')"
   ]
  },
  {
   "cell_type": "code",
   "execution_count": 8,
   "id": "651b7e76-d05d-4b5d-91d6-1e01962c3415",
   "metadata": {},
   "outputs": [
    {
     "data": {
      "text/plain": [
       "dict_keys(['Runs 2018', 'Runs 2019', 'Runs 2020', 'Runs 2021', 'Runs 2022', 'missing bactin'])"
      ]
     },
     "execution_count": 8,
     "metadata": {},
     "output_type": "execute_result"
    }
   ],
   "source": [
    "dfs.keys()"
   ]
  },
  {
   "cell_type": "code",
   "execution_count": 9,
   "id": "0e47849f-b165-4b74-8bcc-3c6bbbfd0ffa",
   "metadata": {},
   "outputs": [],
   "source": [
    "def clean_df(df, pathogens, apis_col, βActin_col):\n",
    "\n",
    "    p2cols = defaultdict(list)\n",
    "    columns = []\n",
    "    curr_pathogen = None\n",
    "    for c in df.columns:\n",
    "        if c in pathogens:\n",
    "            curr_pathogen = c\n",
    "        if curr_pathogen and c not in {apis_col, βActin_col}:\n",
    "            p2cols[curr_pathogen].append(c)\n",
    "            columns.append(c)\n",
    "    \n",
    "    new_cols = []\n",
    "    for p, cols in p2cols.items():\n",
    "        assert len(cols) >1 & len(cols) <4\n",
    "        \n",
    "        # ct and detected?\n",
    "        if len(cols) == 2:\n",
    "            new_cols.extend(['{} Ct value'.format(p), '{} Detected'.format(p)])\n",
    "        \n",
    "        # ct, delta ct , and detected\n",
    "        else:\n",
    "            new_cols.extend(['{} Ct value'.format(p), '{} delta Ct'.format(p), '{} Detected'.format(p)])\n",
    "    \n",
    "    assert len(columns) == len(new_cols)\n",
    "\n",
    "    return df, columns, new_cols"
   ]
  },
  {
   "cell_type": "markdown",
   "id": "87c7e662-be21-418a-ba59-ac714edf0fa9",
   "metadata": {},
   "source": [
    "2018\n",
    "\n",
    "get pathogen names from this first table"
   ]
  },
  {
   "cell_type": "code",
   "execution_count": 10,
   "id": "cef0a378-eb06-4760-a7a9-4b3e6d14a6dd",
   "metadata": {},
   "outputs": [],
   "source": [
    "year = 2018\n",
    "apis_col = \"Apis mellifera (sert de contrôle interne à l'exploitabilité de l'ADN extrait)\"\n",
    "βActin_col = 'βActin RT'"
   ]
  },
  {
   "cell_type": "code",
   "execution_count": 11,
   "id": "5209f22e-cf22-4962-8124-1eae16e76163",
   "metadata": {},
   "outputs": [
    {
     "data": {
      "text/plain": [
       "Index(['Unnamed: 0', 'Unnamed: 1', 'Unnamed: 2', 'Unnamed: 3', 'Unnamed: 4',\n",
       "       'Unnamed: 5', 'Unnamed: 6', 'Unnamed: 7', 'Unnamed: 8',\n",
       "       'Apis mellifera (sert de contrôle interne à l'exploitabilité de l'ADN extrait)',\n",
       "       'Melissococcus plutonius', 'Unnamed: 11', 'Paenibacillus larvae',\n",
       "       'Unnamed: 13', 'Ascosphera', 'Unnamed: 15', 'Nosema ceranae',\n",
       "       'Unnamed: 17', 'Nosema apis', 'Unnamed: 19', 'βActin RT', 'DWV A',\n",
       "       'Unnamed: 22', 'DWV B', 'Unnamed: 24', 'Unnamed: 25', 'DWV C',\n",
       "       'Unnamed: 27', 'Unnamed: 28', 'SBV', 'Unnamed: 30', 'Unnamed: 31',\n",
       "       'BCQV', 'Unnamed: 33', 'Unnamed: 34', 'ABPV', 'Unnamed: 36',\n",
       "       'Unnamed: 37', 'KBV', 'Unnamed: 39', 'Unnamed: 40', 'IAPV',\n",
       "       'Unnamed: 42', 'Unnamed: 43'],\n",
       "      dtype='object')"
      ]
     },
     "execution_count": 11,
     "metadata": {},
     "output_type": "execute_result"
    }
   ],
   "source": [
    "df = dfs['Runs {}'.format(year)]\n",
    "df.columns"
   ]
  },
  {
   "cell_type": "code",
   "execution_count": 12,
   "id": "68e6e2f6-69a8-4480-bb31-bb629a72786c",
   "metadata": {},
   "outputs": [
    {
     "data": {
      "text/plain": [
       "['Melissococcus plutonius',\n",
       " 'Paenibacillus larvae',\n",
       " 'Ascosphera',\n",
       " 'Nosema ceranae',\n",
       " 'Nosema apis',\n",
       " 'DWV A',\n",
       " 'DWV B',\n",
       " 'DWV C',\n",
       " 'SBV',\n",
       " 'BCQV',\n",
       " 'ABPV',\n",
       " 'KBV',\n",
       " 'IAPV']"
      ]
     },
     "execution_count": 12,
     "metadata": {},
     "output_type": "execute_result"
    }
   ],
   "source": [
    "pathogens = []\n",
    "for c in df:\n",
    "    if not c.startswith('Unnamed') and c not in {apis_col, βActin_col}:\n",
    "        pathogens.append(c)\n",
    "\n",
    "assert len(pathogens) == 13\n",
    "pathogens"
   ]
  },
  {
   "cell_type": "code",
   "execution_count": 13,
   "id": "1fc6a6fa-f1c9-4e40-a1a5-de8415b20d34",
   "metadata": {},
   "outputs": [],
   "source": [
    "df, columns, new_cols = clean_df(df, pathogens, apis_col, βActin_col)\n",
    "\n",
    "other_columns = ['Unnamed: 0', 'Unnamed: 1', 'Unnamed: 2', 'Unnamed: 3', 'Unnamed: 4']\n",
    "other_columns_new_names = ['N° tube', 'Rucher', 'Colonie', 'Date', 'Visite']\n",
    "for i, oc in enumerate(other_columns):\n",
    "    assert dfs['Runs {}'.format(year)][oc][0] == other_columns_new_names[i]"
   ]
  },
  {
   "cell_type": "code",
   "execution_count": 14,
   "id": "a9799461-7fe3-42ee-a941-b10d1343da5a",
   "metadata": {},
   "outputs": [],
   "source": [
    "# skip first row and rows without qPCR values\n",
    "df_2018 = df.loc[1:788, other_columns + columns]\n",
    "df_2018.columns = other_columns_new_names + new_cols\n",
    "\n",
    "# filter rows without Rucher, Colonie, etc. even if there are PCR values ?"
   ]
  },
  {
   "cell_type": "markdown",
   "id": "a64b2720-9306-447b-822c-1a3c61572d69",
   "metadata": {},
   "source": [
    "2019"
   ]
  },
  {
   "cell_type": "code",
   "execution_count": 15,
   "id": "30bb4419-7d53-49f7-9f72-6e61d087078e",
   "metadata": {},
   "outputs": [],
   "source": [
    "year = 2019\n",
    "apis_col = \"Apis mellifera (sert de contrôle interne à l'exploitabilité de l'ADN extrait)\"\n",
    "βActin_col = 'β-Actin RT run no 200824 1+2 et 2008243'\n",
    "\n",
    "df = dfs['Runs {}'.format(year)]\n",
    "df, columns, new_cols = clean_df(df, pathogens, apis_col, βActin_col)\n",
    "\n",
    "other_columns = ['Unnamed: 0', 'Unnamed: 1', 'Unnamed: 2', 'Unnamed: 3', 'Unnamed: 4']\n",
    "other_columns_new_names = ['N° tube', 'Rucher', 'Colonie', 'Date', 'Visite']\n",
    "for i, oc in enumerate(other_columns):\n",
    "    assert dfs['Runs {}'.format(year)][oc][0] == other_columns_new_names[i]"
   ]
  },
  {
   "cell_type": "code",
   "execution_count": 16,
   "id": "09a22cd7-ac4b-43a5-bb56-165167e18074",
   "metadata": {},
   "outputs": [],
   "source": [
    "# skip first row and rows without qPCR values\n",
    "df_2019 = df.loc[1:1076, other_columns + columns]\n",
    "df_2019.columns = other_columns_new_names + new_cols"
   ]
  },
  {
   "cell_type": "markdown",
   "id": "85ab03bb-0420-4d4c-8a7d-7f3fd27151e1",
   "metadata": {},
   "source": [
    "2020\n",
    "\n",
    "- no IAPV"
   ]
  },
  {
   "cell_type": "code",
   "execution_count": 41,
   "id": "9a12fb47-bc75-4aea-9358-9e7168589915",
   "metadata": {},
   "outputs": [],
   "source": [
    "year = 2020\n",
    "apis_col = \"Apis mellifera\"\n",
    "βActin_col = 'β-Actin (internal control for RNA quality)'"
   ]
  },
  {
   "cell_type": "code",
   "execution_count": 42,
   "id": "d558f9ab-1f2a-4ca1-b127-d2029621cfd5",
   "metadata": {},
   "outputs": [],
   "source": [
    "df = dfs['Runs {}'.format(year)]"
   ]
  },
  {
   "cell_type": "code",
   "execution_count": 43,
   "id": "cb0c6c34-3c9c-4ae0-ab08-1b647b547d19",
   "metadata": {},
   "outputs": [],
   "source": [
    "df = df.rename(columns={'Nosema \\nceranae': 'Nosema ceranae', 'Nosema \\napis':'Nosema apis'}).drop('Unnamed: 46', axis=1)"
   ]
  },
  {
   "cell_type": "code",
   "execution_count": 44,
   "id": "f7b771fb-51f8-4112-8b38-b6d21271c34f",
   "metadata": {},
   "outputs": [],
   "source": [
    "df, columns, new_cols = clean_df(df, pathogens, apis_col, βActin_col)\n",
    "\n",
    "other_columns = ['Unnamed: 0', 'Unnamed: 1', 'Unnamed: 2', 'Unnamed: 3', 'Unnamed: 4']\n",
    "other_columns_new_names = ['N° tube', 'Rucher', 'Colonie', 'Date', 'Visite']\n",
    "for i, oc in enumerate(other_columns):\n",
    "    assert dfs['Runs {}'.format(year)][oc][0] == other_columns_new_names[i]"
   ]
  },
  {
   "cell_type": "code",
   "execution_count": 45,
   "id": "3b81ffaa-9175-4fa7-8f82-f51f3745d2f2",
   "metadata": {},
   "outputs": [],
   "source": [
    "# skip first row and rows without qPCR values\n",
    "df_2020 = df.loc[1:934, other_columns + columns]\n",
    "df_2020.columns = other_columns_new_names + new_cols"
   ]
  },
  {
   "cell_type": "markdown",
   "id": "186bd830-82df-4b2a-a009-0c297a42dca0",
   "metadata": {},
   "source": [
    "2021"
   ]
  },
  {
   "cell_type": "code",
   "execution_count": 53,
   "id": "0b5f44db-6730-4c96-9773-e5df495094a8",
   "metadata": {},
   "outputs": [],
   "source": [
    "year = 2021\n",
    "apis_col = \"Apis mellifera\"\n",
    "βActin_col = 'β-Actin (internal control for RNA quality)'"
   ]
  },
  {
   "cell_type": "code",
   "execution_count": 54,
   "id": "30792466-2766-478b-a8d2-af8d963f912d",
   "metadata": {},
   "outputs": [],
   "source": [
    "df = dfs['Runs {}'.format(year)]"
   ]
  },
  {
   "cell_type": "code",
   "execution_count": 55,
   "id": "0844238e-74cb-40b1-b5e3-9a40173091dd",
   "metadata": {},
   "outputs": [],
   "source": [
    "df = df.rename(columns={'Nosema \\nceranae': 'Nosema ceranae', 'Nosema \\napis':'Nosema apis'})"
   ]
  },
  {
   "cell_type": "code",
   "execution_count": 56,
   "id": "e62e0eb3-3652-461c-83b4-05b2d676e85f",
   "metadata": {},
   "outputs": [],
   "source": [
    "df, columns, new_cols = clean_df(df, pathogens, apis_col, βActin_col)\n",
    "\n",
    "other_columns = ['Unnamed: 0', 'Unnamed: 1', 'Unnamed: 2', 'Unnamed: 3', 'Unnamed: 4']\n",
    "other_columns_new_names = ['N° tube', 'Rucher', 'Colonie', 'Date', 'Visite']\n",
    "for i, oc in enumerate(other_columns):\n",
    "    assert dfs['Runs {}'.format(year)][oc][0] == other_columns_new_names[i]"
   ]
  },
  {
   "cell_type": "code",
   "execution_count": 61,
   "id": "ed2776e1-6688-46de-a27d-46186068fba1",
   "metadata": {},
   "outputs": [],
   "source": [
    "# skip first row and rows without qPCR values\n",
    "df_2021 = df.loc[1:951, other_columns + columns]\n",
    "df_2021.columns = other_columns_new_names + new_cols"
   ]
  },
  {
   "cell_type": "markdown",
   "id": "642be39f-a88b-487e-ba82-f57ad5a99274",
   "metadata": {},
   "source": [
    "2022\n",
    "\n",
    "- no ABPV, KBV, IAPV, which are strains of KIABPV --> assumption KIABPV = IAPV as no ABPV and KBV in 2018-2021"
   ]
  },
  {
   "cell_type": "code",
   "execution_count": 107,
   "id": "faa80a2c-f047-4a04-be6f-0d1b4844b136",
   "metadata": {},
   "outputs": [],
   "source": [
    "year = 2022\n",
    "apis_col = \"Apis mellifera\"\n",
    "βActin_col = 'β-Actin (internal control for RNA quality)'"
   ]
  },
  {
   "cell_type": "code",
   "execution_count": 108,
   "id": "8ee1703a-f0f3-4898-98c4-3cd2db98e602",
   "metadata": {},
   "outputs": [],
   "source": [
    "df = dfs['Runs {}'.format(year)]"
   ]
  },
  {
   "cell_type": "code",
   "execution_count": 109,
   "id": "09448fe2-95e0-472f-a2a6-23f4e3606643",
   "metadata": {},
   "outputs": [],
   "source": [
    "df = df.rename(columns={'Nosema \\nceranae': 'Nosema ceranae', 'Nosema Apis':'Nosema apis', 'KIABPV' : 'ABPV'}).drop('Ct values for ABPV, KBV IAPV not available this year', axis=1)"
   ]
  },
  {
   "cell_type": "code",
   "execution_count": 110,
   "id": "4253d11c-3ec7-46c4-9c71-d0ec2b3a4280",
   "metadata": {},
   "outputs": [],
   "source": [
    "df, columns, new_cols = clean_df(df, pathogens, apis_col, βActin_col)\n",
    "\n",
    "other_columns = ['Unnamed: 0', 'Unnamed: 1', 'Unnamed: 2', 'Unnamed: 3', 'Unnamed: 4']\n",
    "other_columns_new_names = ['N° tube', 'Rucher', 'Colonie', 'Date', 'Visite']\n",
    "for i, oc in enumerate(other_columns):\n",
    "    assert dfs['Runs {}'.format(year)][oc][0] == other_columns_new_names[i]"
   ]
  },
  {
   "cell_type": "code",
   "execution_count": 113,
   "id": "09511b34-d52b-49ae-9407-f8f69ac37c8b",
   "metadata": {},
   "outputs": [],
   "source": [
    "# skip first row and rows without qPCR values\n",
    "df_2022 = df.loc[1:957, other_columns + columns]\n",
    "df_2022.columns = other_columns_new_names + new_cols"
   ]
  },
  {
   "cell_type": "markdown",
   "id": "1a5cb65a-7c30-4349-a666-32b78827feb6",
   "metadata": {},
   "source": [
    "Merge datasets"
   ]
  },
  {
   "cell_type": "code",
   "execution_count": 114,
   "id": "d9fe5bd1-4a65-4a7e-976a-0f3b2332d3ce",
   "metadata": {},
   "outputs": [
    {
     "name": "stdout",
     "output_type": "stream",
     "text": [
      "(788, 38)\n",
      "(1076, 39)\n",
      "(934, 36)\n",
      "(951, 39)\n",
      "(957, 29)\n"
     ]
    }
   ],
   "source": [
    "print(df_2018.shape)\n",
    "print(df_2019.shape)\n",
    "print(df_2020.shape)\n",
    "print(df_2021.shape)\n",
    "print(df_2022.shape)"
   ]
  },
  {
   "cell_type": "code",
   "execution_count": 116,
   "id": "eff86eab-a001-44cc-b3a2-e4fd1ebf6e7a",
   "metadata": {},
   "outputs": [
    {
     "name": "stdout",
     "output_type": "stream",
     "text": [
      "{'DWV A delta Ct'}\n",
      "{'IAPV delta Ct', 'IAPV Detected', 'IAPV Ct value'}\n",
      "set()\n",
      "{'SBV Ct value', 'IAPV Ct value', 'KBV Ct value', 'SBV delta Ct', 'KBV Detected', 'IAPV Detected', 'ABPV delta Ct', 'SBV Detected', 'IAPV delta Ct', 'KBV delta Ct'}\n"
     ]
    }
   ],
   "source": [
    "print(set(df_2019.columns).difference(df_2018))\n",
    "print(set(df_2019.columns).difference(df_2020))\n",
    "print(set(df_2019.columns).difference(df_2021))\n",
    "print(set(df_2019.columns).difference(df_2022))"
   ]
  },
  {
   "cell_type": "code",
   "execution_count": 117,
   "id": "a7ee80e6-8a5c-4967-b57f-fb51fdade92f",
   "metadata": {},
   "outputs": [],
   "source": [
    "df_all = pd.concat([df_2018, df_2019, df_2020, df_2021, df_2022], ignore_index=True)"
   ]
  },
  {
   "cell_type": "code",
   "execution_count": 118,
   "id": "ed29d8dd-318a-4d16-a3f7-6c56f853b970",
   "metadata": {},
   "outputs": [
    {
     "data": {
      "text/plain": [
       "(4706, 39)"
      ]
     },
     "execution_count": 118,
     "metadata": {},
     "output_type": "execute_result"
    }
   ],
   "source": [
    "df_all.shape"
   ]
  },
  {
   "cell_type": "code",
   "execution_count": 119,
   "id": "10f6fd84-6a84-4353-b15f-b2dc253099c7",
   "metadata": {},
   "outputs": [],
   "source": [
    "pathogen_nr = [0] * len(df_all)\n",
    "\n",
    "df_prev_rows = [list] * len(df_all)\n",
    "# df_abun_rows = [] * len(df_2019)\n",
    "\n",
    "for i in range(len(df_all)):\n",
    "    row = [0] * len(pathogens)\n",
    "    for j, p in enumerate(pathogens):\n",
    "        if df_all.iloc[i, df_all.columns.get_loc('{} Detected'.format(p))] == '+':\n",
    "            pathogen_nr[i] += 1\n",
    "            row[j] = 1\n",
    "    df_prev_rows[i] = row"
   ]
  },
  {
   "cell_type": "code",
   "execution_count": 120,
   "id": "1b918542-6123-48cb-bb70-c9b7c4ebeb92",
   "metadata": {},
   "outputs": [],
   "source": [
    "df_prev = pd.DataFrame(df_prev_rows, columns=pathogens)"
   ]
  },
  {
   "cell_type": "code",
   "execution_count": 121,
   "id": "ff473ec3-9197-4cc4-a80f-3af44e777840",
   "metadata": {},
   "outputs": [
    {
     "data": {
      "text/html": [
       "<div>\n",
       "<style scoped>\n",
       "    .dataframe tbody tr th:only-of-type {\n",
       "        vertical-align: middle;\n",
       "    }\n",
       "\n",
       "    .dataframe tbody tr th {\n",
       "        vertical-align: top;\n",
       "    }\n",
       "\n",
       "    .dataframe thead th {\n",
       "        text-align: right;\n",
       "    }\n",
       "</style>\n",
       "<table border=\"1\" class=\"dataframe\">\n",
       "  <thead>\n",
       "    <tr style=\"text-align: right;\">\n",
       "      <th></th>\n",
       "      <th>Melissococcus plutonius</th>\n",
       "      <th>Paenibacillus larvae</th>\n",
       "      <th>Ascosphera</th>\n",
       "      <th>Nosema ceranae</th>\n",
       "      <th>Nosema apis</th>\n",
       "      <th>DWV A</th>\n",
       "      <th>DWV B</th>\n",
       "      <th>DWV C</th>\n",
       "      <th>SBV</th>\n",
       "      <th>BCQV</th>\n",
       "      <th>ABPV</th>\n",
       "      <th>KBV</th>\n",
       "      <th>IAPV</th>\n",
       "    </tr>\n",
       "  </thead>\n",
       "  <tbody>\n",
       "    <tr>\n",
       "      <th>0</th>\n",
       "      <td>0</td>\n",
       "      <td>0</td>\n",
       "      <td>0</td>\n",
       "      <td>0</td>\n",
       "      <td>0</td>\n",
       "      <td>0</td>\n",
       "      <td>1</td>\n",
       "      <td>0</td>\n",
       "      <td>0</td>\n",
       "      <td>0</td>\n",
       "      <td>0</td>\n",
       "      <td>0</td>\n",
       "      <td>0</td>\n",
       "    </tr>\n",
       "    <tr>\n",
       "      <th>1</th>\n",
       "      <td>0</td>\n",
       "      <td>0</td>\n",
       "      <td>0</td>\n",
       "      <td>0</td>\n",
       "      <td>0</td>\n",
       "      <td>0</td>\n",
       "      <td>0</td>\n",
       "      <td>0</td>\n",
       "      <td>0</td>\n",
       "      <td>0</td>\n",
       "      <td>0</td>\n",
       "      <td>0</td>\n",
       "      <td>0</td>\n",
       "    </tr>\n",
       "    <tr>\n",
       "      <th>2</th>\n",
       "      <td>0</td>\n",
       "      <td>0</td>\n",
       "      <td>0</td>\n",
       "      <td>0</td>\n",
       "      <td>0</td>\n",
       "      <td>0</td>\n",
       "      <td>0</td>\n",
       "      <td>0</td>\n",
       "      <td>0</td>\n",
       "      <td>0</td>\n",
       "      <td>0</td>\n",
       "      <td>0</td>\n",
       "      <td>0</td>\n",
       "    </tr>\n",
       "    <tr>\n",
       "      <th>3</th>\n",
       "      <td>0</td>\n",
       "      <td>0</td>\n",
       "      <td>0</td>\n",
       "      <td>1</td>\n",
       "      <td>0</td>\n",
       "      <td>0</td>\n",
       "      <td>1</td>\n",
       "      <td>0</td>\n",
       "      <td>0</td>\n",
       "      <td>0</td>\n",
       "      <td>0</td>\n",
       "      <td>0</td>\n",
       "      <td>0</td>\n",
       "    </tr>\n",
       "    <tr>\n",
       "      <th>4</th>\n",
       "      <td>0</td>\n",
       "      <td>0</td>\n",
       "      <td>0</td>\n",
       "      <td>1</td>\n",
       "      <td>0</td>\n",
       "      <td>0</td>\n",
       "      <td>0</td>\n",
       "      <td>0</td>\n",
       "      <td>0</td>\n",
       "      <td>0</td>\n",
       "      <td>0</td>\n",
       "      <td>0</td>\n",
       "      <td>0</td>\n",
       "    </tr>\n",
       "    <tr>\n",
       "      <th>...</th>\n",
       "      <td>...</td>\n",
       "      <td>...</td>\n",
       "      <td>...</td>\n",
       "      <td>...</td>\n",
       "      <td>...</td>\n",
       "      <td>...</td>\n",
       "      <td>...</td>\n",
       "      <td>...</td>\n",
       "      <td>...</td>\n",
       "      <td>...</td>\n",
       "      <td>...</td>\n",
       "      <td>...</td>\n",
       "      <td>...</td>\n",
       "    </tr>\n",
       "    <tr>\n",
       "      <th>4701</th>\n",
       "      <td>0</td>\n",
       "      <td>0</td>\n",
       "      <td>0</td>\n",
       "      <td>1</td>\n",
       "      <td>0</td>\n",
       "      <td>0</td>\n",
       "      <td>0</td>\n",
       "      <td>0</td>\n",
       "      <td>0</td>\n",
       "      <td>0</td>\n",
       "      <td>0</td>\n",
       "      <td>0</td>\n",
       "      <td>0</td>\n",
       "    </tr>\n",
       "    <tr>\n",
       "      <th>4702</th>\n",
       "      <td>0</td>\n",
       "      <td>0</td>\n",
       "      <td>0</td>\n",
       "      <td>1</td>\n",
       "      <td>0</td>\n",
       "      <td>0</td>\n",
       "      <td>0</td>\n",
       "      <td>0</td>\n",
       "      <td>0</td>\n",
       "      <td>0</td>\n",
       "      <td>0</td>\n",
       "      <td>0</td>\n",
       "      <td>0</td>\n",
       "    </tr>\n",
       "    <tr>\n",
       "      <th>4703</th>\n",
       "      <td>0</td>\n",
       "      <td>0</td>\n",
       "      <td>0</td>\n",
       "      <td>1</td>\n",
       "      <td>0</td>\n",
       "      <td>0</td>\n",
       "      <td>0</td>\n",
       "      <td>0</td>\n",
       "      <td>0</td>\n",
       "      <td>0</td>\n",
       "      <td>0</td>\n",
       "      <td>0</td>\n",
       "      <td>0</td>\n",
       "    </tr>\n",
       "    <tr>\n",
       "      <th>4704</th>\n",
       "      <td>0</td>\n",
       "      <td>0</td>\n",
       "      <td>0</td>\n",
       "      <td>1</td>\n",
       "      <td>0</td>\n",
       "      <td>0</td>\n",
       "      <td>0</td>\n",
       "      <td>0</td>\n",
       "      <td>0</td>\n",
       "      <td>0</td>\n",
       "      <td>0</td>\n",
       "      <td>0</td>\n",
       "      <td>0</td>\n",
       "    </tr>\n",
       "    <tr>\n",
       "      <th>4705</th>\n",
       "      <td>0</td>\n",
       "      <td>0</td>\n",
       "      <td>0</td>\n",
       "      <td>1</td>\n",
       "      <td>0</td>\n",
       "      <td>0</td>\n",
       "      <td>0</td>\n",
       "      <td>0</td>\n",
       "      <td>0</td>\n",
       "      <td>0</td>\n",
       "      <td>0</td>\n",
       "      <td>0</td>\n",
       "      <td>0</td>\n",
       "    </tr>\n",
       "  </tbody>\n",
       "</table>\n",
       "<p>4706 rows × 13 columns</p>\n",
       "</div>"
      ],
      "text/plain": [
       "      Melissococcus plutonius  Paenibacillus larvae  Ascosphera  \\\n",
       "0                           0                     0           0   \n",
       "1                           0                     0           0   \n",
       "2                           0                     0           0   \n",
       "3                           0                     0           0   \n",
       "4                           0                     0           0   \n",
       "...                       ...                   ...         ...   \n",
       "4701                        0                     0           0   \n",
       "4702                        0                     0           0   \n",
       "4703                        0                     0           0   \n",
       "4704                        0                     0           0   \n",
       "4705                        0                     0           0   \n",
       "\n",
       "      Nosema ceranae  Nosema apis  DWV A  DWV B  DWV C  SBV  BCQV  ABPV  KBV  \\\n",
       "0                  0            0      0      1      0    0     0     0    0   \n",
       "1                  0            0      0      0      0    0     0     0    0   \n",
       "2                  0            0      0      0      0    0     0     0    0   \n",
       "3                  1            0      0      1      0    0     0     0    0   \n",
       "4                  1            0      0      0      0    0     0     0    0   \n",
       "...              ...          ...    ...    ...    ...  ...   ...   ...  ...   \n",
       "4701               1            0      0      0      0    0     0     0    0   \n",
       "4702               1            0      0      0      0    0     0     0    0   \n",
       "4703               1            0      0      0      0    0     0     0    0   \n",
       "4704               1            0      0      0      0    0     0     0    0   \n",
       "4705               1            0      0      0      0    0     0     0    0   \n",
       "\n",
       "      IAPV  \n",
       "0        0  \n",
       "1        0  \n",
       "2        0  \n",
       "3        0  \n",
       "4        0  \n",
       "...    ...  \n",
       "4701     0  \n",
       "4702     0  \n",
       "4703     0  \n",
       "4704     0  \n",
       "4705     0  \n",
       "\n",
       "[4706 rows x 13 columns]"
      ]
     },
     "execution_count": 121,
     "metadata": {},
     "output_type": "execute_result"
    }
   ],
   "source": [
    "df_prev"
   ]
  },
  {
   "cell_type": "markdown",
   "id": "cc8d9151-60a2-46b9-86b4-f298753b54bd",
   "metadata": {},
   "source": [
    "# Cluster samples by presence absence of pathogens"
   ]
  },
  {
   "cell_type": "code",
   "execution_count": 122,
   "id": "5bb8d8c3-06cf-45c9-82bf-e59071cfed59",
   "metadata": {},
   "outputs": [
    {
     "data": {
      "text/plain": [
       "0"
      ]
     },
     "execution_count": 122,
     "metadata": {},
     "output_type": "execute_result"
    }
   ],
   "source": [
    "sum(df_prev['KBV'])\n",
    "sum(df_prev['IAPV'])"
   ]
  },
  {
   "cell_type": "code",
   "execution_count": 123,
   "id": "6e40e63d-6401-4dff-b9d4-df36735196cc",
   "metadata": {},
   "outputs": [
    {
     "name": "stderr",
     "output_type": "stream",
     "text": [
      "/cluster/raid/home/f80878961/.conda/envs/planb/lib/python3.9/site-packages/seaborn/matrix.py:560: UserWarning: Clustering large matrix with scipy. Installing `fastcluster` may give better performance.\n",
      "  warnings.warn(msg)\n"
     ]
    },
    {
     "data": {
      "image/png": "[encoded data removed]",
      "text/plain": [
       "<Figure size 1000x1000 with 4 Axes>"
      ]
     },
     "metadata": {},
     "output_type": "display_data"
    }
   ],
   "source": [
    "cg = sns.clustermap(df_prev, metric='jaccard', col_cluster=False)"
   ]
  },
  {
   "cell_type": "code",
   "execution_count": 125,
   "id": "6faa99e8-f78e-407c-bf73-87fe32e2f12f",
   "metadata": {},
   "outputs": [
    {
     "data": {
      "text/plain": [
       "Melissococcus plutonius       1\n",
       "Paenibacillus larvae          4\n",
       "Ascosphera                  265\n",
       "Nosema ceranae             3155\n",
       "Nosema apis                  87\n",
       "DWV A                        15\n",
       "DWV B                       325\n",
       "DWV C                         0\n",
       "SBV                          46\n",
       "BCQV                        102\n",
       "ABPV                        341\n",
       "KBV                           0\n",
       "IAPV                          0\n",
       "dtype: int64"
      ]
     },
     "execution_count": 125,
     "metadata": {},
     "output_type": "execute_result"
    }
   ],
   "source": [
    "df_prev.sum(axis=0)"
   ]
  },
  {
   "cell_type": "code",
   "execution_count": 143,
   "id": "9ecc0318-9b94-4f85-bbb7-4995bbe05406",
   "metadata": {},
   "outputs": [
    {
     "name": "stderr",
     "output_type": "stream",
     "text": [
      "/tmp/ipykernel_1972489/1230642133.py:2: UserWarning: set_ticklabels() should only be used with a fixed number of ticks, i.e. after set_ticks() or using a FixedLocator.\n",
      "  ax.set_xticklabels(ax.get_xticklabels(), rotation=90)\n"
     ]
    },
    {
     "data": {
      "image/png": "[encoded data removed]",
      "text/plain": [
       "<Figure size 640x480 with 1 Axes>"
      ]
     },
     "metadata": {},
     "output_type": "display_data"
    }
   ],
   "source": [
    "ax = sns.barplot(df_prev.sum(axis=0))\n",
    "ax.set_xticklabels(ax.get_xticklabels(), rotation=90)\n",
    "plt.show()\n"
   ]
  },
  {
   "cell_type": "code",
   "execution_count": 144,
   "id": "ee297fa7-1c65-4584-9706-726142f2540b",
   "metadata": {},
   "outputs": [],
   "source": [
    "min_patho_nr = 3\n",
    "df_prev_filtered = df_prev[df_prev.sum(axis=1) >= min_patho_nr].drop(columns=df_prev.columns[df_prev.sum(axis=0) == 0])"
   ]
  },
  {
   "cell_type": "code",
   "execution_count": 146,
   "id": "577486f2-8f2c-4361-8c30-d4bd781bbceb",
   "metadata": {},
   "outputs": [
    {
     "data": {
      "text/plain": [
       "(131, 10)"
      ]
     },
     "execution_count": 146,
     "metadata": {},
     "output_type": "execute_result"
    }
   ],
   "source": [
    "df_prev_filtered.shape"
   ]
  },
  {
   "cell_type": "code",
   "execution_count": 149,
   "id": "5424e748-dacd-4a80-90e3-2deec86daccc",
   "metadata": {},
   "outputs": [
    {
     "data": {
      "image/png": "[encoded data removed]",
      "text/plain": [
       "<Figure size 1000x1000 with 4 Axes>"
      ]
     },
     "metadata": {},
     "output_type": "display_data"
    }
   ],
   "source": [
    "cg = sns.clustermap(df_prev_filtered, metric='jaccard', col_cluster=True)"
   ]
  },
  {
   "cell_type": "code",
   "execution_count": 229,
   "id": "77dfcf37-6119-4bb6-b615-231ac2ae4425",
   "metadata": {},
   "outputs": [],
   "source": [
    "clustered_rows = np.array(df_prev_filtered.index[cg.dendrogram_row.reordered_ind])"
   ]
  },
  {
   "cell_type": "code",
   "execution_count": 230,
   "id": "f4693f1e-0fda-402a-a7c6-5238d3ae3d1f",
   "metadata": {},
   "outputs": [],
   "source": [
    "# new index clustered\n",
    "new_idx_clustered = np.array(cg.dendrogram_row.reordered_ind)\n",
    "\n",
    "# reorder table accordingly\n",
    "df_prev_filtered_clust = df_prev_filtered.iloc[new_idx_clustered, :]"
   ]
  },
  {
   "cell_type": "code",
   "execution_count": 235,
   "id": "cbc10d40-dc08-4510-bca4-6b32d2689e4c",
   "metadata": {},
   "outputs": [
    {
     "data": {
      "text/plain": [
       "104"
      ]
     },
     "execution_count": 235,
     "metadata": {},
     "output_type": "execute_result"
    }
   ],
   "source": [
    "original_index = 1290 # bacteria\n",
    "original_index = 1411\n",
    "\n",
    "idx = np.argwhere(df_prev_filtered_clust.index == original_index).flatten()[0]\n",
    "idx"
   ]
  },
  {
   "cell_type": "code",
   "execution_count": 236,
   "id": "c88c3488-afb7-4993-8d29-4b715b5f07aa",
   "metadata": {},
   "outputs": [],
   "source": [
    "rge = 5"
   ]
  },
  {
   "cell_type": "code",
   "execution_count": 237,
   "id": "344c3d6b-0a99-4be6-85e5-cc04780c7bc1",
   "metadata": {},
   "outputs": [
    {
     "data": {
      "text/html": [
       "<div>\n",
       "<style scoped>\n",
       "    .dataframe tbody tr th:only-of-type {\n",
       "        vertical-align: middle;\n",
       "    }\n",
       "\n",
       "    .dataframe tbody tr th {\n",
       "        vertical-align: top;\n",
       "    }\n",
       "\n",
       "    .dataframe thead th {\n",
       "        text-align: right;\n",
       "    }\n",
       "</style>\n",
       "<table border=\"1\" class=\"dataframe\">\n",
       "  <thead>\n",
       "    <tr style=\"text-align: right;\">\n",
       "      <th></th>\n",
       "      <th>Melissococcus plutonius</th>\n",
       "      <th>Paenibacillus larvae</th>\n",
       "      <th>Ascosphera</th>\n",
       "      <th>Nosema ceranae</th>\n",
       "      <th>Nosema apis</th>\n",
       "      <th>DWV A</th>\n",
       "      <th>DWV B</th>\n",
       "      <th>SBV</th>\n",
       "      <th>BCQV</th>\n",
       "      <th>ABPV</th>\n",
       "    </tr>\n",
       "  </thead>\n",
       "  <tbody>\n",
       "    <tr>\n",
       "      <th>1653</th>\n",
       "      <td>0</td>\n",
       "      <td>0</td>\n",
       "      <td>0</td>\n",
       "      <td>1</td>\n",
       "      <td>0</td>\n",
       "      <td>0</td>\n",
       "      <td>1</td>\n",
       "      <td>0</td>\n",
       "      <td>0</td>\n",
       "      <td>1</td>\n",
       "    </tr>\n",
       "    <tr>\n",
       "      <th>1633</th>\n",
       "      <td>0</td>\n",
       "      <td>0</td>\n",
       "      <td>0</td>\n",
       "      <td>1</td>\n",
       "      <td>0</td>\n",
       "      <td>0</td>\n",
       "      <td>1</td>\n",
       "      <td>0</td>\n",
       "      <td>0</td>\n",
       "      <td>1</td>\n",
       "    </tr>\n",
       "    <tr>\n",
       "      <th>221</th>\n",
       "      <td>0</td>\n",
       "      <td>0</td>\n",
       "      <td>0</td>\n",
       "      <td>1</td>\n",
       "      <td>0</td>\n",
       "      <td>0</td>\n",
       "      <td>1</td>\n",
       "      <td>0</td>\n",
       "      <td>0</td>\n",
       "      <td>1</td>\n",
       "    </tr>\n",
       "    <tr>\n",
       "      <th>128</th>\n",
       "      <td>0</td>\n",
       "      <td>0</td>\n",
       "      <td>0</td>\n",
       "      <td>1</td>\n",
       "      <td>0</td>\n",
       "      <td>0</td>\n",
       "      <td>1</td>\n",
       "      <td>0</td>\n",
       "      <td>0</td>\n",
       "      <td>1</td>\n",
       "    </tr>\n",
       "    <tr>\n",
       "      <th>187</th>\n",
       "      <td>0</td>\n",
       "      <td>0</td>\n",
       "      <td>0</td>\n",
       "      <td>1</td>\n",
       "      <td>0</td>\n",
       "      <td>0</td>\n",
       "      <td>1</td>\n",
       "      <td>0</td>\n",
       "      <td>0</td>\n",
       "      <td>1</td>\n",
       "    </tr>\n",
       "    <tr>\n",
       "      <th>1411</th>\n",
       "      <td>0</td>\n",
       "      <td>0</td>\n",
       "      <td>1</td>\n",
       "      <td>1</td>\n",
       "      <td>0</td>\n",
       "      <td>1</td>\n",
       "      <td>1</td>\n",
       "      <td>0</td>\n",
       "      <td>0</td>\n",
       "      <td>0</td>\n",
       "    </tr>\n",
       "    <tr>\n",
       "      <th>3631</th>\n",
       "      <td>0</td>\n",
       "      <td>0</td>\n",
       "      <td>0</td>\n",
       "      <td>1</td>\n",
       "      <td>0</td>\n",
       "      <td>1</td>\n",
       "      <td>1</td>\n",
       "      <td>0</td>\n",
       "      <td>0</td>\n",
       "      <td>0</td>\n",
       "    </tr>\n",
       "    <tr>\n",
       "      <th>3553</th>\n",
       "      <td>0</td>\n",
       "      <td>0</td>\n",
       "      <td>0</td>\n",
       "      <td>1</td>\n",
       "      <td>0</td>\n",
       "      <td>1</td>\n",
       "      <td>1</td>\n",
       "      <td>0</td>\n",
       "      <td>0</td>\n",
       "      <td>0</td>\n",
       "    </tr>\n",
       "    <tr>\n",
       "      <th>3371</th>\n",
       "      <td>0</td>\n",
       "      <td>0</td>\n",
       "      <td>0</td>\n",
       "      <td>1</td>\n",
       "      <td>0</td>\n",
       "      <td>1</td>\n",
       "      <td>1</td>\n",
       "      <td>0</td>\n",
       "      <td>0</td>\n",
       "      <td>0</td>\n",
       "    </tr>\n",
       "    <tr>\n",
       "      <th>3316</th>\n",
       "      <td>0</td>\n",
       "      <td>0</td>\n",
       "      <td>0</td>\n",
       "      <td>1</td>\n",
       "      <td>0</td>\n",
       "      <td>1</td>\n",
       "      <td>1</td>\n",
       "      <td>0</td>\n",
       "      <td>0</td>\n",
       "      <td>0</td>\n",
       "    </tr>\n",
       "  </tbody>\n",
       "</table>\n",
       "</div>"
      ],
      "text/plain": [
       "      Melissococcus plutonius  Paenibacillus larvae  Ascosphera  \\\n",
       "1653                        0                     0           0   \n",
       "1633                        0                     0           0   \n",
       "221                         0                     0           0   \n",
       "128                         0                     0           0   \n",
       "187                         0                     0           0   \n",
       "1411                        0                     0           1   \n",
       "3631                        0                     0           0   \n",
       "3553                        0                     0           0   \n",
       "3371                        0                     0           0   \n",
       "3316                        0                     0           0   \n",
       "\n",
       "      Nosema ceranae  Nosema apis  DWV A  DWV B  SBV  BCQV  ABPV  \n",
       "1653               1            0      0      1    0     0     1  \n",
       "1633               1            0      0      1    0     0     1  \n",
       "221                1            0      0      1    0     0     1  \n",
       "128                1            0      0      1    0     0     1  \n",
       "187                1            0      0      1    0     0     1  \n",
       "1411               1            0      1      1    0     0     0  \n",
       "3631               1            0      1      1    0     0     0  \n",
       "3553               1            0      1      1    0     0     0  \n",
       "3371               1            0      1      1    0     0     0  \n",
       "3316               1            0      1      1    0     0     0  "
      ]
     },
     "execution_count": 237,
     "metadata": {},
     "output_type": "execute_result"
    }
   ],
   "source": [
    "left_p = (idx - rge) if idx > rge else 0\n",
    "right_p = (idx + rge) if (idx + rge) < len(df_prev_filtered) else len(df_prev_filtered)\n",
    "zoom_df = df_prev_filtered_clust.iloc[left_p : right_p, :]\n",
    "zoom_df"
   ]
  },
  {
   "cell_type": "code",
   "execution_count": 238,
   "id": "f9be1db8-d640-446f-a549-aa9eb50d994c",
   "metadata": {},
   "outputs": [
    {
     "data": {
      "text/plain": [
       "<Axes: >"
      ]
     },
     "execution_count": 238,
     "metadata": {},
     "output_type": "execute_result"
    },
    {
     "data": {
      "image/png": "[encoded data removed]",
      "text/plain": [
       "<Figure size 640x480 with 2 Axes>"
      ]
     },
     "metadata": {},
     "output_type": "display_data"
    }
   ],
   "source": [
    "sns.heatmap(zoom_df)"
   ]
  },
  {
   "cell_type": "code",
   "execution_count": 239,
   "id": "c26f09b1-f4e3-4512-934b-3a66c50b2071",
   "metadata": {},
   "outputs": [
    {
     "data": {
      "text/html": [
       "<div>\n",
       "<style scoped>\n",
       "    .dataframe tbody tr th:only-of-type {\n",
       "        vertical-align: middle;\n",
       "    }\n",
       "\n",
       "    .dataframe tbody tr th {\n",
       "        vertical-align: top;\n",
       "    }\n",
       "\n",
       "    .dataframe thead th {\n",
       "        text-align: right;\n",
       "    }\n",
       "</style>\n",
       "<table border=\"1\" class=\"dataframe\">\n",
       "  <thead>\n",
       "    <tr style=\"text-align: right;\">\n",
       "      <th></th>\n",
       "      <th>N° tube</th>\n",
       "      <th>Rucher</th>\n",
       "      <th>Colonie</th>\n",
       "      <th>Date</th>\n",
       "      <th>Visite</th>\n",
       "      <th>Melissococcus plutonius Ct value</th>\n",
       "      <th>Melissococcus plutonius Detected</th>\n",
       "      <th>Paenibacillus larvae Ct value</th>\n",
       "      <th>Paenibacillus larvae Detected</th>\n",
       "      <th>Ascosphera Ct value</th>\n",
       "      <th>Ascosphera Detected</th>\n",
       "      <th>Nosema ceranae Ct value</th>\n",
       "      <th>Nosema ceranae Detected</th>\n",
       "      <th>Nosema apis Ct value</th>\n",
       "      <th>Nosema apis Detected</th>\n",
       "      <th>DWV A Ct value</th>\n",
       "      <th>DWV A Detected</th>\n",
       "      <th>DWV B Ct value</th>\n",
       "      <th>DWV B delta Ct</th>\n",
       "      <th>DWV B Detected</th>\n",
       "      <th>DWV C Ct value</th>\n",
       "      <th>DWV C delta Ct</th>\n",
       "      <th>DWV C Detected</th>\n",
       "      <th>SBV Ct value</th>\n",
       "      <th>SBV delta Ct</th>\n",
       "      <th>SBV Detected</th>\n",
       "      <th>BCQV Ct value</th>\n",
       "      <th>BCQV delta Ct</th>\n",
       "      <th>BCQV Detected</th>\n",
       "      <th>ABPV Ct value</th>\n",
       "      <th>ABPV delta Ct</th>\n",
       "      <th>ABPV Detected</th>\n",
       "      <th>KBV Ct value</th>\n",
       "      <th>KBV delta Ct</th>\n",
       "      <th>KBV Detected</th>\n",
       "      <th>IAPV Ct value</th>\n",
       "      <th>IAPV delta Ct</th>\n",
       "      <th>IAPV Detected</th>\n",
       "      <th>DWV A delta Ct</th>\n",
       "    </tr>\n",
       "  </thead>\n",
       "  <tbody>\n",
       "    <tr>\n",
       "      <th>1411</th>\n",
       "      <td>624</td>\n",
       "      <td>R15</td>\n",
       "      <td>C04</td>\n",
       "      <td>2019-08-20 00:00:00</td>\n",
       "      <td>V3</td>\n",
       "      <td>flat</td>\n",
       "      <td>-</td>\n",
       "      <td>36.05</td>\n",
       "      <td>-</td>\n",
       "      <td>23.17</td>\n",
       "      <td>+</td>\n",
       "      <td>18.845</td>\n",
       "      <td>+</td>\n",
       "      <td>flat</td>\n",
       "      <td>-</td>\n",
       "      <td>30.41</td>\n",
       "      <td>+</td>\n",
       "      <td>33.56</td>\n",
       "      <td>-1.06</td>\n",
       "      <td>+</td>\n",
       "      <td>flat</td>\n",
       "      <td>NaN</td>\n",
       "      <td>-</td>\n",
       "      <td>flat</td>\n",
       "      <td>NaN</td>\n",
       "      <td>-</td>\n",
       "      <td>25.72</td>\n",
       "      <td>NaN</td>\n",
       "      <td>-</td>\n",
       "      <td>NaN</td>\n",
       "      <td>NaN</td>\n",
       "      <td>-</td>\n",
       "      <td>NaN</td>\n",
       "      <td>NaN</td>\n",
       "      <td>-</td>\n",
       "      <td>NaN</td>\n",
       "      <td>NaN</td>\n",
       "      <td>-</td>\n",
       "      <td>2.09</td>\n",
       "    </tr>\n",
       "  </tbody>\n",
       "</table>\n",
       "</div>"
      ],
      "text/plain": [
       "     N° tube Rucher Colonie                 Date Visite  \\\n",
       "1411     624    R15     C04  2019-08-20 00:00:00     V3   \n",
       "\n",
       "     Melissococcus plutonius Ct value Melissococcus plutonius Detected  \\\n",
       "1411                             flat                                -   \n",
       "\n",
       "     Paenibacillus larvae Ct value Paenibacillus larvae Detected  \\\n",
       "1411                         36.05                             -   \n",
       "\n",
       "     Ascosphera Ct value Ascosphera Detected Nosema ceranae Ct value  \\\n",
       "1411               23.17                   +                  18.845   \n",
       "\n",
       "     Nosema ceranae Detected Nosema apis Ct value Nosema apis Detected  \\\n",
       "1411                       +                 flat                    -   \n",
       "\n",
       "     DWV A Ct value DWV A Detected DWV B Ct value DWV B delta Ct  \\\n",
       "1411          30.41              +          33.56          -1.06   \n",
       "\n",
       "     DWV B Detected DWV C Ct value DWV C delta Ct DWV C Detected SBV Ct value  \\\n",
       "1411              +           flat            NaN              -         flat   \n",
       "\n",
       "     SBV delta Ct SBV Detected BCQV Ct value BCQV delta Ct BCQV Detected  \\\n",
       "1411          NaN            -         25.72           NaN             -   \n",
       "\n",
       "     ABPV Ct value ABPV delta Ct ABPV Detected KBV Ct value KBV delta Ct  \\\n",
       "1411           NaN           NaN             -          NaN          NaN   \n",
       "\n",
       "     KBV Detected IAPV Ct value IAPV delta Ct IAPV Detected DWV A delta Ct  \n",
       "1411            -           NaN           NaN             -           2.09  "
      ]
     },
     "execution_count": 239,
     "metadata": {},
     "output_type": "execute_result"
    }
   ],
   "source": [
    "df_all[original_index:original_index+1]"
   ]
  },
  {
   "cell_type": "markdown",
   "id": "e3f52ac0-e133-4d8c-ade1-cee2e92bae0d",
   "metadata": {},
   "source": [
    "TO DO:\n",
    "- other metadata\n",
    "\n",
    "\n",
    "-  understand clusters\n",
    "-  think abundances (how treat absences, mask value when absent)\n",
    "-  validate I understood correctly these tables...\n"
   ]
  },
  {
   "cell_type": "code",
   "execution_count": null,
   "id": "cb80908e-f69d-415c-a401-d9e420355e7b",
   "metadata": {},
   "outputs": [],
   "source": []
  }
 ],
 "metadata": {
  "kernelspec": {
   "display_name": "Python 3 (ipykernel)",
   "language": "python",
   "name": "python3"
  },
  "language_info": {
   "codemirror_mode": {
    "name": "ipython",
    "version": 3
   },
   "file_extension": ".py",
   "mimetype": "text/x-python",
   "name": "python",
   "nbconvert_exporter": "python",
   "pygments_lexer": "ipython3",
   "version": "3.9.21"
  }
 },
 "nbformat": 4,
 "nbformat_minor": 5
}
