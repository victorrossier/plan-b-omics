{
 "cells": [
  {
   "cell_type": "code",
   "execution_count": 102,
   "id": "0c43c8ea-5bd1-4081-b9d1-3e50bd9e5bf2",
   "metadata": {},
   "outputs": [],
   "source": [
    "import numpy as np\n",
    "import pandas as pd\n",
    "import seaborn as sns\n",
    "from itertools import repeat\n",
    "from collections import defaultdict\n",
    "import matplotlib.pyplot as plt\n",
    "\n",
    "pd.set_option('display.max_columns', None)\n",
    "#pd.set_option('display.max_rows', None)\n",
    "\n",
    "\n",
    "# to disable ssl certificate check...\n",
    "import ssl\n",
    "ssl._create_default_https_context = ssl._create_unverified_context"
   ]
  },
  {
   "cell_type": "code",
   "execution_count": 2,
   "id": "539a68dc-5e2b-4670-9838-5d9455ea7b20",
   "metadata": {},
   "outputs": [],
   "source": [
    "work_path = '/cluster/raid/home/f80878961/agripol/'\n",
    "\n",
    "pathogen_data_fn = '{}Agripol all pathogen data beta Actin complet to use for stats.xlsx'.format(work_path)\n",
    "\n",
    "coleval_data_fn = '{}agripol_coleval_clean_20231228 unprotect_corrected.xlsx'.format(work_path)"
   ]
  },
  {
   "cell_type": "markdown",
   "id": "1e232c18-ad00-43ef-832c-24ac8f429f6c",
   "metadata": {},
   "source": [
    "# Parse ColEval table"
   ]
  },
  {
   "cell_type": "code",
   "execution_count": 3,
   "id": "2ab84ed0-5258-405d-9422-52a786d76596",
   "metadata": {},
   "outputs": [
    {
     "data": {
      "text/plain": [
       "dict_keys(['coleval_2018', 'coleval_2019', 'coleval_2020', 'coleval_2021', 'coleval_2022', 'coleval_2023', 'codeboook'])"
      ]
     },
     "execution_count": 3,
     "metadata": {},
     "output_type": "execute_result"
    }
   ],
   "source": [
    "dfs = pd.read_excel(coleval_data_fn, sheet_name=None, engine='openpyxl')\n",
    "dfs.keys()"
   ]
  },
  {
   "cell_type": "code",
   "execution_count": 4,
   "id": "cb80908e-f69d-415c-a401-d9e420355e7b",
   "metadata": {},
   "outputs": [],
   "source": [
    "coleval_df = pd.concat(\n",
    "    [dfs['coleval_2018'].iloc[:, :22],\n",
    "    dfs['coleval_2019'].iloc[:, :22].rename(columns={'anneeRuche2': 'anneeRuche'}),\n",
    "    dfs['coleval_2020'].iloc[:, :22].rename(columns={'anneeRuche3': 'anneeRuche'}),\n",
    "    dfs['coleval_2021'].iloc[:, :22].rename(columns={'anneeRuche4': 'anneeRuche'}),\n",
    "    dfs['coleval_2022'].iloc[:, :22].rename(columns={'anneeRuche5': 'anneeRuche'}),\n",
    "    dfs['coleval_2023'].iloc[:, :22].rename(columns={'anneeRuche4': 'anneeRuche'})]\n",
    ")"
   ]
  },
  {
   "cell_type": "code",
   "execution_count": 5,
   "id": "22c8959e-f53a-4a88-b1fe-3aa7341b8d5c",
   "metadata": {},
   "outputs": [
    {
     "data": {
      "text/html": [
       "<div>\n",
       "<style scoped>\n",
       "    .dataframe tbody tr th:only-of-type {\n",
       "        vertical-align: middle;\n",
       "    }\n",
       "\n",
       "    .dataframe tbody tr th {\n",
       "        vertical-align: top;\n",
       "    }\n",
       "\n",
       "    .dataframe thead th {\n",
       "        text-align: right;\n",
       "    }\n",
       "</style>\n",
       "<table border=\"1\" class=\"dataframe\">\n",
       "  <thead>\n",
       "    <tr style=\"text-align: right;\">\n",
       "      <th></th>\n",
       "      <th>ideval</th>\n",
       "      <th>coderucher</th>\n",
       "      <th>year</th>\n",
       "      <th>numruche</th>\n",
       "      <th>anneeRuche</th>\n",
       "      <th>datecoleval</th>\n",
       "      <th>visites</th>\n",
       "      <th>heurecoleval</th>\n",
       "      <th>evaluateur</th>\n",
       "      <th>typeCorps</th>\n",
       "      <th>typeHausse</th>\n",
       "      <th>nbreHausse</th>\n",
       "      <th>etatColonie</th>\n",
       "      <th>sumPCabeilleTotal</th>\n",
       "      <th>sumPHabeilleTotal</th>\n",
       "      <th>nbrAbeilleTotal</th>\n",
       "      <th>sumPCcouvfermeTotal</th>\n",
       "      <th>nbrCellCouvFermeTotal</th>\n",
       "      <th>sumPCmiel</th>\n",
       "      <th>dm2miel</th>\n",
       "      <th>sumPCpollen</th>\n",
       "      <th>dm2pollen</th>\n",
       "    </tr>\n",
       "  </thead>\n",
       "  <tbody>\n",
       "    <tr>\n",
       "      <th>0</th>\n",
       "      <td>v1R01C012018</td>\n",
       "      <td>R01</td>\n",
       "      <td>2018</td>\n",
       "      <td>C01</td>\n",
       "      <td>2018.0</td>\n",
       "      <td>2018-04-20</td>\n",
       "      <td>v1</td>\n",
       "      <td>am</td>\n",
       "      <td>julie</td>\n",
       "      <td>S</td>\n",
       "      <td>NaN</td>\n",
       "      <td>0.0</td>\n",
       "      <td>NaN</td>\n",
       "      <td>440.0</td>\n",
       "      <td>0.0</td>\n",
       "      <td>9504.0</td>\n",
       "      <td>275.0</td>\n",
       "      <td>9075.0</td>\n",
       "      <td>190.0</td>\n",
       "      <td>21.546</td>\n",
       "      <td>220.0</td>\n",
       "      <td>24.948</td>\n",
       "    </tr>\n",
       "    <tr>\n",
       "      <th>1</th>\n",
       "      <td>v1R01C022018</td>\n",
       "      <td>R01</td>\n",
       "      <td>2018</td>\n",
       "      <td>C02</td>\n",
       "      <td>2018.0</td>\n",
       "      <td>2018-04-20</td>\n",
       "      <td>v1</td>\n",
       "      <td>am</td>\n",
       "      <td>julie</td>\n",
       "      <td>S</td>\n",
       "      <td>NaN</td>\n",
       "      <td>0.0</td>\n",
       "      <td>NaN</td>\n",
       "      <td>175.0</td>\n",
       "      <td>0.0</td>\n",
       "      <td>3780.0</td>\n",
       "      <td>105.0</td>\n",
       "      <td>3465.0</td>\n",
       "      <td>110.0</td>\n",
       "      <td>12.474</td>\n",
       "      <td>170.0</td>\n",
       "      <td>19.278</td>\n",
       "    </tr>\n",
       "    <tr>\n",
       "      <th>2</th>\n",
       "      <td>v1R01C032018</td>\n",
       "      <td>R01</td>\n",
       "      <td>2018</td>\n",
       "      <td>C03</td>\n",
       "      <td>2018.0</td>\n",
       "      <td>2018-04-20</td>\n",
       "      <td>v1</td>\n",
       "      <td>am</td>\n",
       "      <td>julie</td>\n",
       "      <td>S</td>\n",
       "      <td>NaN</td>\n",
       "      <td>0.0</td>\n",
       "      <td>NaN</td>\n",
       "      <td>515.0</td>\n",
       "      <td>0.0</td>\n",
       "      <td>11124.0</td>\n",
       "      <td>490.0</td>\n",
       "      <td>16170.0</td>\n",
       "      <td>300.0</td>\n",
       "      <td>34.020</td>\n",
       "      <td>215.0</td>\n",
       "      <td>24.381</td>\n",
       "    </tr>\n",
       "    <tr>\n",
       "      <th>3</th>\n",
       "      <td>v1R01C042018</td>\n",
       "      <td>R01</td>\n",
       "      <td>2018</td>\n",
       "      <td>C04</td>\n",
       "      <td>2018.0</td>\n",
       "      <td>2018-04-20</td>\n",
       "      <td>v1</td>\n",
       "      <td>am</td>\n",
       "      <td>julie</td>\n",
       "      <td>S</td>\n",
       "      <td>NaN</td>\n",
       "      <td>0.0</td>\n",
       "      <td>NaN</td>\n",
       "      <td>220.0</td>\n",
       "      <td>0.0</td>\n",
       "      <td>4752.0</td>\n",
       "      <td>255.0</td>\n",
       "      <td>8415.0</td>\n",
       "      <td>240.0</td>\n",
       "      <td>27.216</td>\n",
       "      <td>120.0</td>\n",
       "      <td>13.608</td>\n",
       "    </tr>\n",
       "    <tr>\n",
       "      <th>4</th>\n",
       "      <td>v1R01C052018</td>\n",
       "      <td>R01</td>\n",
       "      <td>2018</td>\n",
       "      <td>C05</td>\n",
       "      <td>2018.0</td>\n",
       "      <td>2018-04-20</td>\n",
       "      <td>v1</td>\n",
       "      <td>am</td>\n",
       "      <td>julie</td>\n",
       "      <td>S</td>\n",
       "      <td>NaN</td>\n",
       "      <td>0.0</td>\n",
       "      <td>NaN</td>\n",
       "      <td>680.0</td>\n",
       "      <td>0.0</td>\n",
       "      <td>14688.0</td>\n",
       "      <td>485.0</td>\n",
       "      <td>16005.0</td>\n",
       "      <td>570.0</td>\n",
       "      <td>64.638</td>\n",
       "      <td>295.0</td>\n",
       "      <td>33.453</td>\n",
       "    </tr>\n",
       "    <tr>\n",
       "      <th>...</th>\n",
       "      <td>...</td>\n",
       "      <td>...</td>\n",
       "      <td>...</td>\n",
       "      <td>...</td>\n",
       "      <td>...</td>\n",
       "      <td>...</td>\n",
       "      <td>...</td>\n",
       "      <td>...</td>\n",
       "      <td>...</td>\n",
       "      <td>...</td>\n",
       "      <td>...</td>\n",
       "      <td>...</td>\n",
       "      <td>...</td>\n",
       "      <td>...</td>\n",
       "      <td>...</td>\n",
       "      <td>...</td>\n",
       "      <td>...</td>\n",
       "      <td>...</td>\n",
       "      <td>...</td>\n",
       "      <td>...</td>\n",
       "      <td>...</td>\n",
       "      <td>...</td>\n",
       "    </tr>\n",
       "    <tr>\n",
       "      <th>1195</th>\n",
       "      <td>v1R30C06_2023</td>\n",
       "      <td>R30</td>\n",
       "      <td>2023</td>\n",
       "      <td>C06</td>\n",
       "      <td>2021.0</td>\n",
       "      <td>NaT</td>\n",
       "      <td>v4</td>\n",
       "      <td>NaN</td>\n",
       "      <td>Cédric Reymond</td>\n",
       "      <td>D</td>\n",
       "      <td>D</td>\n",
       "      <td>NaN</td>\n",
       "      <td>colonie</td>\n",
       "      <td>NaN</td>\n",
       "      <td>NaN</td>\n",
       "      <td>NaN</td>\n",
       "      <td>NaN</td>\n",
       "      <td>NaN</td>\n",
       "      <td>NaN</td>\n",
       "      <td>NaN</td>\n",
       "      <td>NaN</td>\n",
       "      <td>NaN</td>\n",
       "    </tr>\n",
       "    <tr>\n",
       "      <th>1196</th>\n",
       "      <td>v1R30C07_2023</td>\n",
       "      <td>R30</td>\n",
       "      <td>2023</td>\n",
       "      <td>C07</td>\n",
       "      <td>2021.0</td>\n",
       "      <td>NaT</td>\n",
       "      <td>v4</td>\n",
       "      <td>NaN</td>\n",
       "      <td>Cédric Reymond</td>\n",
       "      <td>D</td>\n",
       "      <td>NaN</td>\n",
       "      <td>NaN</td>\n",
       "      <td>colonie</td>\n",
       "      <td>NaN</td>\n",
       "      <td>NaN</td>\n",
       "      <td>NaN</td>\n",
       "      <td>NaN</td>\n",
       "      <td>NaN</td>\n",
       "      <td>NaN</td>\n",
       "      <td>NaN</td>\n",
       "      <td>NaN</td>\n",
       "      <td>NaN</td>\n",
       "    </tr>\n",
       "    <tr>\n",
       "      <th>1197</th>\n",
       "      <td>v1R30C08_2023</td>\n",
       "      <td>R30</td>\n",
       "      <td>2023</td>\n",
       "      <td>C08</td>\n",
       "      <td>2021.0</td>\n",
       "      <td>NaT</td>\n",
       "      <td>v4</td>\n",
       "      <td>NaN</td>\n",
       "      <td>Cédric Reymond</td>\n",
       "      <td>D</td>\n",
       "      <td>NaN</td>\n",
       "      <td>NaN</td>\n",
       "      <td>colonie</td>\n",
       "      <td>NaN</td>\n",
       "      <td>NaN</td>\n",
       "      <td>NaN</td>\n",
       "      <td>NaN</td>\n",
       "      <td>NaN</td>\n",
       "      <td>NaN</td>\n",
       "      <td>NaN</td>\n",
       "      <td>NaN</td>\n",
       "      <td>NaN</td>\n",
       "    </tr>\n",
       "    <tr>\n",
       "      <th>1198</th>\n",
       "      <td>v1R30C09_2023</td>\n",
       "      <td>R30</td>\n",
       "      <td>2023</td>\n",
       "      <td>C09</td>\n",
       "      <td>2018.0</td>\n",
       "      <td>NaT</td>\n",
       "      <td>v4</td>\n",
       "      <td>NaN</td>\n",
       "      <td>Cédric Reymond</td>\n",
       "      <td>D</td>\n",
       "      <td>D</td>\n",
       "      <td>NaN</td>\n",
       "      <td>colonie</td>\n",
       "      <td>NaN</td>\n",
       "      <td>NaN</td>\n",
       "      <td>NaN</td>\n",
       "      <td>NaN</td>\n",
       "      <td>NaN</td>\n",
       "      <td>NaN</td>\n",
       "      <td>NaN</td>\n",
       "      <td>NaN</td>\n",
       "      <td>NaN</td>\n",
       "    </tr>\n",
       "    <tr>\n",
       "      <th>1199</th>\n",
       "      <td>v1R30C10_2023</td>\n",
       "      <td>R30</td>\n",
       "      <td>2023</td>\n",
       "      <td>C10</td>\n",
       "      <td>2018.0</td>\n",
       "      <td>NaT</td>\n",
       "      <td>v4</td>\n",
       "      <td>NaN</td>\n",
       "      <td>Cédric Reymond</td>\n",
       "      <td>D</td>\n",
       "      <td>D</td>\n",
       "      <td>NaN</td>\n",
       "      <td>colonie</td>\n",
       "      <td>NaN</td>\n",
       "      <td>NaN</td>\n",
       "      <td>NaN</td>\n",
       "      <td>NaN</td>\n",
       "      <td>NaN</td>\n",
       "      <td>NaN</td>\n",
       "      <td>NaN</td>\n",
       "      <td>NaN</td>\n",
       "      <td>NaN</td>\n",
       "    </tr>\n",
       "  </tbody>\n",
       "</table>\n",
       "<p>7000 rows × 22 columns</p>\n",
       "</div>"
      ],
      "text/plain": [
       "             ideval coderucher  year numruche  anneeRuche datecoleval visites  \\\n",
       "0      v1R01C012018        R01  2018      C01      2018.0  2018-04-20      v1   \n",
       "1      v1R01C022018        R01  2018      C02      2018.0  2018-04-20      v1   \n",
       "2      v1R01C032018        R01  2018      C03      2018.0  2018-04-20      v1   \n",
       "3      v1R01C042018        R01  2018      C04      2018.0  2018-04-20      v1   \n",
       "4      v1R01C052018        R01  2018      C05      2018.0  2018-04-20      v1   \n",
       "...             ...        ...   ...      ...         ...         ...     ...   \n",
       "1195  v1R30C06_2023        R30  2023      C06      2021.0         NaT      v4   \n",
       "1196  v1R30C07_2023        R30  2023      C07      2021.0         NaT      v4   \n",
       "1197  v1R30C08_2023        R30  2023      C08      2021.0         NaT      v4   \n",
       "1198  v1R30C09_2023        R30  2023      C09      2018.0         NaT      v4   \n",
       "1199  v1R30C10_2023        R30  2023      C10      2018.0         NaT      v4   \n",
       "\n",
       "     heurecoleval      evaluateur typeCorps typeHausse  nbreHausse  \\\n",
       "0              am           julie         S        NaN         0.0   \n",
       "1              am           julie         S        NaN         0.0   \n",
       "2              am           julie         S        NaN         0.0   \n",
       "3              am           julie         S        NaN         0.0   \n",
       "4              am           julie         S        NaN         0.0   \n",
       "...           ...             ...       ...        ...         ...   \n",
       "1195          NaN  Cédric Reymond         D          D         NaN   \n",
       "1196          NaN  Cédric Reymond         D        NaN         NaN   \n",
       "1197          NaN  Cédric Reymond         D        NaN         NaN   \n",
       "1198          NaN  Cédric Reymond         D          D         NaN   \n",
       "1199          NaN  Cédric Reymond         D          D         NaN   \n",
       "\n",
       "     etatColonie  sumPCabeilleTotal  sumPHabeilleTotal  nbrAbeilleTotal  \\\n",
       "0            NaN              440.0                0.0           9504.0   \n",
       "1            NaN              175.0                0.0           3780.0   \n",
       "2            NaN              515.0                0.0          11124.0   \n",
       "3            NaN              220.0                0.0           4752.0   \n",
       "4            NaN              680.0                0.0          14688.0   \n",
       "...          ...                ...                ...              ...   \n",
       "1195     colonie                NaN                NaN              NaN   \n",
       "1196     colonie                NaN                NaN              NaN   \n",
       "1197     colonie                NaN                NaN              NaN   \n",
       "1198     colonie                NaN                NaN              NaN   \n",
       "1199     colonie                NaN                NaN              NaN   \n",
       "\n",
       "      sumPCcouvfermeTotal  nbrCellCouvFermeTotal  sumPCmiel  dm2miel  \\\n",
       "0                   275.0                 9075.0      190.0   21.546   \n",
       "1                   105.0                 3465.0      110.0   12.474   \n",
       "2                   490.0                16170.0      300.0   34.020   \n",
       "3                   255.0                 8415.0      240.0   27.216   \n",
       "4                   485.0                16005.0      570.0   64.638   \n",
       "...                   ...                    ...        ...      ...   \n",
       "1195                  NaN                    NaN        NaN      NaN   \n",
       "1196                  NaN                    NaN        NaN      NaN   \n",
       "1197                  NaN                    NaN        NaN      NaN   \n",
       "1198                  NaN                    NaN        NaN      NaN   \n",
       "1199                  NaN                    NaN        NaN      NaN   \n",
       "\n",
       "      sumPCpollen  dm2pollen  \n",
       "0           220.0     24.948  \n",
       "1           170.0     19.278  \n",
       "2           215.0     24.381  \n",
       "3           120.0     13.608  \n",
       "4           295.0     33.453  \n",
       "...           ...        ...  \n",
       "1195          NaN        NaN  \n",
       "1196          NaN        NaN  \n",
       "1197          NaN        NaN  \n",
       "1198          NaN        NaN  \n",
       "1199          NaN        NaN  \n",
       "\n",
       "[7000 rows x 22 columns]"
      ]
     },
     "execution_count": 5,
     "metadata": {},
     "output_type": "execute_result"
    }
   ],
   "source": [
    "coleval_df"
   ]
  },
  {
   "cell_type": "markdown",
   "id": "576736ae-aaa8-414c-9621-ccc61756ed17",
   "metadata": {},
   "source": [
    "# Parse pathogen data"
   ]
  },
  {
   "cell_type": "code",
   "execution_count": 6,
   "id": "c5ead066-9d88-4b44-aef4-9559caed48c2",
   "metadata": {},
   "outputs": [
    {
     "name": "stderr",
     "output_type": "stream",
     "text": [
      "/cluster/raid/home/f80878961/.conda/envs/planb/lib/python3.9/site-packages/openpyxl/worksheet/_read_only.py:85: UserWarning: Conditional Formatting extension is not supported and will be removed\n",
      "  for idx, row in parser.parse():\n",
      "/cluster/raid/home/f80878961/.conda/envs/planb/lib/python3.9/site-packages/openpyxl/worksheet/_read_only.py:85: UserWarning: Conditional Formatting extension is not supported and will be removed\n",
      "  for idx, row in parser.parse():\n",
      "/cluster/raid/home/f80878961/.conda/envs/planb/lib/python3.9/site-packages/openpyxl/worksheet/_read_only.py:85: UserWarning: Conditional Formatting extension is not supported and will be removed\n",
      "  for idx, row in parser.parse():\n",
      "/cluster/raid/home/f80878961/.conda/envs/planb/lib/python3.9/site-packages/openpyxl/worksheet/_read_only.py:85: UserWarning: Conditional Formatting extension is not supported and will be removed\n",
      "  for idx, row in parser.parse():\n",
      "/cluster/raid/home/f80878961/.conda/envs/planb/lib/python3.9/site-packages/openpyxl/worksheet/_read_only.py:85: UserWarning: Conditional Formatting extension is not supported and will be removed\n",
      "  for idx, row in parser.parse():\n"
     ]
    },
    {
     "data": {
      "text/plain": [
       "dict_keys(['Runs 2018', 'Runs 2019', 'Runs 2020', 'Runs 2021', 'Runs 2022', 'missing bactin'])"
      ]
     },
     "execution_count": 6,
     "metadata": {},
     "output_type": "execute_result"
    }
   ],
   "source": [
    "dfs = pd.read_excel(pathogen_data_fn, sheet_name=None, engine='openpyxl')\n",
    "dfs.keys()"
   ]
  },
  {
   "cell_type": "code",
   "execution_count": 7,
   "id": "0e47849f-b165-4b74-8bcc-3c6bbbfd0ffa",
   "metadata": {},
   "outputs": [],
   "source": [
    "def clean_df(df, pathogens, apis_col, βActin_col):\n",
    "    '''\n",
    "    custom function to clean agripol pathogen excel file\n",
    "    '''\n",
    "    p2cols = defaultdict(list)\n",
    "    columns = []\n",
    "    curr_pathogen = None\n",
    "    for c in df.columns:\n",
    "        if c in pathogens:\n",
    "            curr_pathogen = c\n",
    "        if curr_pathogen and c not in {apis_col, βActin_col}:\n",
    "            p2cols[curr_pathogen].append(c)\n",
    "            columns.append(c)\n",
    "    \n",
    "    new_cols = []\n",
    "    for p, cols in p2cols.items():\n",
    "        assert len(cols) >1 & len(cols) <4\n",
    "        \n",
    "        # ct and detected?\n",
    "        if len(cols) == 2:\n",
    "            new_cols.extend(['{} Ct value'.format(p), '{} Detected'.format(p)])\n",
    "        \n",
    "        # ct, delta ct , and detected\n",
    "        else:\n",
    "            new_cols.extend(['{} Ct value'.format(p), '{} delta Ct'.format(p), '{} Detected'.format(p)])\n",
    "    \n",
    "    assert len(columns) == len(new_cols)\n",
    "\n",
    "    return df, columns, new_cols"
   ]
  },
  {
   "cell_type": "markdown",
   "id": "87c7e662-be21-418a-ba59-ac714edf0fa9",
   "metadata": {},
   "source": [
    "2018\n",
    "\n",
    "get pathogen names from this first table"
   ]
  },
  {
   "cell_type": "code",
   "execution_count": 8,
   "id": "cef0a378-eb06-4760-a7a9-4b3e6d14a6dd",
   "metadata": {},
   "outputs": [],
   "source": [
    "year = 2018\n",
    "apis_col = \"Apis mellifera (sert de contrôle interne à l'exploitabilité de l'ADN extrait)\"\n",
    "βActin_col = 'βActin RT'"
   ]
  },
  {
   "cell_type": "code",
   "execution_count": 9,
   "id": "5209f22e-cf22-4962-8124-1eae16e76163",
   "metadata": {},
   "outputs": [
    {
     "data": {
      "text/plain": [
       "Index(['Unnamed: 0', 'Unnamed: 1', 'Unnamed: 2', 'Unnamed: 3', 'Unnamed: 4',\n",
       "       'Unnamed: 5', 'Unnamed: 6', 'Unnamed: 7', 'Unnamed: 8',\n",
       "       'Apis mellifera (sert de contrôle interne à l'exploitabilité de l'ADN extrait)',\n",
       "       'Melissococcus plutonius', 'Unnamed: 11', 'Paenibacillus larvae',\n",
       "       'Unnamed: 13', 'Ascosphera', 'Unnamed: 15', 'Nosema ceranae',\n",
       "       'Unnamed: 17', 'Nosema apis', 'Unnamed: 19', 'βActin RT', 'DWV A',\n",
       "       'Unnamed: 22', 'DWV B', 'Unnamed: 24', 'Unnamed: 25', 'DWV C',\n",
       "       'Unnamed: 27', 'Unnamed: 28', 'SBV', 'Unnamed: 30', 'Unnamed: 31',\n",
       "       'BCQV', 'Unnamed: 33', 'Unnamed: 34', 'ABPV', 'Unnamed: 36',\n",
       "       'Unnamed: 37', 'KBV', 'Unnamed: 39', 'Unnamed: 40', 'IAPV',\n",
       "       'Unnamed: 42', 'Unnamed: 43'],\n",
       "      dtype='object')"
      ]
     },
     "execution_count": 9,
     "metadata": {},
     "output_type": "execute_result"
    }
   ],
   "source": [
    "df = dfs['Runs {}'.format(year)]\n",
    "df.columns"
   ]
  },
  {
   "cell_type": "code",
   "execution_count": 10,
   "id": "68e6e2f6-69a8-4480-bb31-bb629a72786c",
   "metadata": {},
   "outputs": [
    {
     "data": {
      "text/plain": [
       "['Melissococcus plutonius',\n",
       " 'Paenibacillus larvae',\n",
       " 'Ascosphera',\n",
       " 'Nosema ceranae',\n",
       " 'Nosema apis',\n",
       " 'DWV A',\n",
       " 'DWV B',\n",
       " 'DWV C',\n",
       " 'SBV',\n",
       " 'BCQV',\n",
       " 'ABPV',\n",
       " 'KBV',\n",
       " 'IAPV']"
      ]
     },
     "execution_count": 10,
     "metadata": {},
     "output_type": "execute_result"
    }
   ],
   "source": [
    "pathogens = []\n",
    "for c in df:\n",
    "    if not c.startswith('Unnamed') and c not in {apis_col, βActin_col}:\n",
    "        pathogens.append(c)\n",
    "\n",
    "assert len(pathogens) == 13\n",
    "pathogens"
   ]
  },
  {
   "cell_type": "code",
   "execution_count": 11,
   "id": "1fc6a6fa-f1c9-4e40-a1a5-de8415b20d34",
   "metadata": {},
   "outputs": [],
   "source": [
    "df, columns, new_cols = clean_df(df, pathogens, apis_col, βActin_col)\n",
    "\n",
    "other_columns = ['Unnamed: 0', 'Unnamed: 1', 'Unnamed: 2', 'Unnamed: 3', 'Unnamed: 4']\n",
    "other_columns_new_names = ['N° tube', 'Rucher', 'Colonie', 'Date', 'Visite']\n",
    "for i, oc in enumerate(other_columns):\n",
    "    assert dfs['Runs {}'.format(year)][oc][0] == other_columns_new_names[i]"
   ]
  },
  {
   "cell_type": "code",
   "execution_count": 12,
   "id": "a9799461-7fe3-42ee-a941-b10d1343da5a",
   "metadata": {},
   "outputs": [],
   "source": [
    "# skip first row and rows without qPCR values\n",
    "df_2018 = df.loc[1:788, other_columns + columns]\n",
    "df_2018.columns = other_columns_new_names + new_cols\n",
    "\n",
    "# filter rows without Rucher, Colonie, etc. even if there are PCR values ?"
   ]
  },
  {
   "cell_type": "markdown",
   "id": "a64b2720-9306-447b-822c-1a3c61572d69",
   "metadata": {},
   "source": [
    "2019"
   ]
  },
  {
   "cell_type": "code",
   "execution_count": 13,
   "id": "30bb4419-7d53-49f7-9f72-6e61d087078e",
   "metadata": {},
   "outputs": [],
   "source": [
    "year = 2019\n",
    "apis_col = \"Apis mellifera (sert de contrôle interne à l'exploitabilité de l'ADN extrait)\"\n",
    "βActin_col = 'β-Actin RT run no 200824 1+2 et 2008243'\n",
    "\n",
    "df = dfs['Runs {}'.format(year)]\n",
    "df, columns, new_cols = clean_df(df, pathogens, apis_col, βActin_col)\n",
    "\n",
    "other_columns = ['Unnamed: 0', 'Unnamed: 1', 'Unnamed: 2', 'Unnamed: 3', 'Unnamed: 4']\n",
    "other_columns_new_names = ['N° tube', 'Rucher', 'Colonie', 'Date', 'Visite']\n",
    "for i, oc in enumerate(other_columns):\n",
    "    assert dfs['Runs {}'.format(year)][oc][0] == other_columns_new_names[i]"
   ]
  },
  {
   "cell_type": "code",
   "execution_count": 14,
   "id": "09a22cd7-ac4b-43a5-bb56-165167e18074",
   "metadata": {},
   "outputs": [],
   "source": [
    "# skip first row and rows without qPCR values\n",
    "df_2019 = df.loc[1:1076, other_columns + columns]\n",
    "df_2019.columns = other_columns_new_names + new_cols"
   ]
  },
  {
   "cell_type": "markdown",
   "id": "85ab03bb-0420-4d4c-8a7d-7f3fd27151e1",
   "metadata": {},
   "source": [
    "2020\n",
    "\n",
    "- no IAPV"
   ]
  },
  {
   "cell_type": "code",
   "execution_count": 15,
   "id": "9a12fb47-bc75-4aea-9358-9e7168589915",
   "metadata": {},
   "outputs": [],
   "source": [
    "year = 2020\n",
    "apis_col = \"Apis mellifera\"\n",
    "βActin_col = 'β-Actin (internal control for RNA quality)'"
   ]
  },
  {
   "cell_type": "code",
   "execution_count": 16,
   "id": "d558f9ab-1f2a-4ca1-b127-d2029621cfd5",
   "metadata": {},
   "outputs": [],
   "source": [
    "df = dfs['Runs {}'.format(year)]"
   ]
  },
  {
   "cell_type": "code",
   "execution_count": 17,
   "id": "cb0c6c34-3c9c-4ae0-ab08-1b647b547d19",
   "metadata": {},
   "outputs": [],
   "source": [
    "df = df.rename(columns={'Nosema \\nceranae': 'Nosema ceranae', 'Nosema \\napis':'Nosema apis'}).drop('Unnamed: 46', axis=1)"
   ]
  },
  {
   "cell_type": "code",
   "execution_count": 18,
   "id": "f7b771fb-51f8-4112-8b38-b6d21271c34f",
   "metadata": {},
   "outputs": [],
   "source": [
    "df, columns, new_cols = clean_df(df, pathogens, apis_col, βActin_col)\n",
    "\n",
    "other_columns = ['Unnamed: 0', 'Unnamed: 1', 'Unnamed: 2', 'Unnamed: 3', 'Unnamed: 4']\n",
    "other_columns_new_names = ['N° tube', 'Rucher', 'Colonie', 'Date', 'Visite']\n",
    "for i, oc in enumerate(other_columns):\n",
    "    assert dfs['Runs {}'.format(year)][oc][0] == other_columns_new_names[i]"
   ]
  },
  {
   "cell_type": "code",
   "execution_count": 19,
   "id": "3b81ffaa-9175-4fa7-8f82-f51f3745d2f2",
   "metadata": {},
   "outputs": [],
   "source": [
    "# skip first row and rows without qPCR values\n",
    "df_2020 = df.loc[1:934, other_columns + columns]\n",
    "df_2020.columns = other_columns_new_names + new_cols"
   ]
  },
  {
   "cell_type": "markdown",
   "id": "186bd830-82df-4b2a-a009-0c297a42dca0",
   "metadata": {},
   "source": [
    "2021"
   ]
  },
  {
   "cell_type": "code",
   "execution_count": 20,
   "id": "0b5f44db-6730-4c96-9773-e5df495094a8",
   "metadata": {},
   "outputs": [],
   "source": [
    "year = 2021\n",
    "apis_col = \"Apis mellifera\"\n",
    "βActin_col = 'β-Actin (internal control for RNA quality)'"
   ]
  },
  {
   "cell_type": "code",
   "execution_count": 21,
   "id": "30792466-2766-478b-a8d2-af8d963f912d",
   "metadata": {},
   "outputs": [],
   "source": [
    "df = dfs['Runs {}'.format(year)]"
   ]
  },
  {
   "cell_type": "code",
   "execution_count": 22,
   "id": "0844238e-74cb-40b1-b5e3-9a40173091dd",
   "metadata": {},
   "outputs": [],
   "source": [
    "df = df.rename(columns={'Nosema \\nceranae': 'Nosema ceranae', 'Nosema \\napis':'Nosema apis'})"
   ]
  },
  {
   "cell_type": "code",
   "execution_count": 23,
   "id": "e62e0eb3-3652-461c-83b4-05b2d676e85f",
   "metadata": {},
   "outputs": [],
   "source": [
    "df, columns, new_cols = clean_df(df, pathogens, apis_col, βActin_col)\n",
    "\n",
    "other_columns = ['Unnamed: 0', 'Unnamed: 1', 'Unnamed: 2', 'Unnamed: 3', 'Unnamed: 4']\n",
    "other_columns_new_names = ['N° tube', 'Rucher', 'Colonie', 'Date', 'Visite']\n",
    "for i, oc in enumerate(other_columns):\n",
    "    assert dfs['Runs {}'.format(year)][oc][0] == other_columns_new_names[i]"
   ]
  },
  {
   "cell_type": "code",
   "execution_count": 24,
   "id": "ed2776e1-6688-46de-a27d-46186068fba1",
   "metadata": {},
   "outputs": [],
   "source": [
    "# skip first row and rows without qPCR values\n",
    "df_2021 = df.loc[1:951, other_columns + columns]\n",
    "df_2021.columns = other_columns_new_names + new_cols"
   ]
  },
  {
   "cell_type": "markdown",
   "id": "642be39f-a88b-487e-ba82-f57ad5a99274",
   "metadata": {},
   "source": [
    "2022\n",
    "\n",
    "- no ABPV, KBV, IAPV, which are strains of KIABPV --> assumption KIABPV = IAPV as no ABPV and KBV in 2018-2021"
   ]
  },
  {
   "cell_type": "code",
   "execution_count": 25,
   "id": "faa80a2c-f047-4a04-be6f-0d1b4844b136",
   "metadata": {},
   "outputs": [],
   "source": [
    "year = 2022\n",
    "apis_col = \"Apis mellifera\"\n",
    "βActin_col = 'β-Actin (internal control for RNA quality)'"
   ]
  },
  {
   "cell_type": "code",
   "execution_count": 26,
   "id": "8ee1703a-f0f3-4898-98c4-3cd2db98e602",
   "metadata": {},
   "outputs": [],
   "source": [
    "df = dfs['Runs {}'.format(year)]"
   ]
  },
  {
   "cell_type": "code",
   "execution_count": 27,
   "id": "09448fe2-95e0-472f-a2a6-23f4e3606643",
   "metadata": {},
   "outputs": [],
   "source": [
    "df = df.rename(columns={'Nosema \\nceranae': 'Nosema ceranae', 'Nosema Apis':'Nosema apis', 'KIABPV' : 'ABPV'}).drop('Ct values for ABPV, KBV IAPV not available this year', axis=1)"
   ]
  },
  {
   "cell_type": "code",
   "execution_count": 28,
   "id": "4253d11c-3ec7-46c4-9c71-d0ec2b3a4280",
   "metadata": {},
   "outputs": [],
   "source": [
    "df, columns, new_cols = clean_df(df, pathogens, apis_col, βActin_col)\n",
    "\n",
    "other_columns = ['Unnamed: 0', 'Unnamed: 1', 'Unnamed: 2', 'Unnamed: 3', 'Unnamed: 4']\n",
    "other_columns_new_names = ['N° tube', 'Rucher', 'Colonie', 'Date', 'Visite']\n",
    "for i, oc in enumerate(other_columns):\n",
    "    assert dfs['Runs {}'.format(year)][oc][0] == other_columns_new_names[i]"
   ]
  },
  {
   "cell_type": "code",
   "execution_count": 29,
   "id": "09511b34-d52b-49ae-9407-f8f69ac37c8b",
   "metadata": {},
   "outputs": [],
   "source": [
    "# skip first row and rows without qPCR values\n",
    "df_2022 = df.loc[1:957, other_columns + columns]\n",
    "df_2022.columns = other_columns_new_names + new_cols"
   ]
  },
  {
   "cell_type": "markdown",
   "id": "1a5cb65a-7c30-4349-a666-32b78827feb6",
   "metadata": {},
   "source": [
    "Merge datasets"
   ]
  },
  {
   "cell_type": "code",
   "execution_count": 30,
   "id": "d9fe5bd1-4a65-4a7e-976a-0f3b2332d3ce",
   "metadata": {},
   "outputs": [
    {
     "name": "stdout",
     "output_type": "stream",
     "text": [
      "(788, 38)\n",
      "(1076, 39)\n",
      "(934, 36)\n",
      "(951, 39)\n",
      "(957, 29)\n"
     ]
    }
   ],
   "source": [
    "print(df_2018.shape)\n",
    "print(df_2019.shape)\n",
    "print(df_2020.shape)\n",
    "print(df_2021.shape)\n",
    "print(df_2022.shape)"
   ]
  },
  {
   "cell_type": "code",
   "execution_count": 31,
   "id": "eff86eab-a001-44cc-b3a2-e4fd1ebf6e7a",
   "metadata": {},
   "outputs": [
    {
     "name": "stdout",
     "output_type": "stream",
     "text": [
      "{'DWV A delta Ct'}\n",
      "{'IAPV delta Ct', 'IAPV Ct value', 'IAPV Detected'}\n",
      "set()\n",
      "{'IAPV delta Ct', 'KBV Ct value', 'SBV delta Ct', 'SBV Ct value', 'ABPV delta Ct', 'SBV Detected', 'KBV delta Ct', 'KBV Detected', 'IAPV Detected', 'IAPV Ct value'}\n"
     ]
    }
   ],
   "source": [
    "print(set(df_2019.columns).difference(df_2018))\n",
    "print(set(df_2019.columns).difference(df_2020))\n",
    "print(set(df_2019.columns).difference(df_2021))\n",
    "print(set(df_2019.columns).difference(df_2022))"
   ]
  },
  {
   "cell_type": "code",
   "execution_count": 32,
   "id": "a7ee80e6-8a5c-4967-b57f-fb51fdade92f",
   "metadata": {},
   "outputs": [],
   "source": [
    "df_all = pd.concat([df_2018, df_2019, df_2020, df_2021, df_2022], ignore_index=True)"
   ]
  },
  {
   "cell_type": "code",
   "execution_count": 33,
   "id": "ed29d8dd-318a-4d16-a3f7-6c56f853b970",
   "metadata": {},
   "outputs": [
    {
     "data": {
      "text/plain": [
       "(4706, 39)"
      ]
     },
     "execution_count": 33,
     "metadata": {},
     "output_type": "execute_result"
    }
   ],
   "source": [
    "df_all.shape"
   ]
  },
  {
   "cell_type": "code",
   "execution_count": 34,
   "id": "10f6fd84-6a84-4353-b15f-b2dc253099c7",
   "metadata": {},
   "outputs": [],
   "source": [
    "pathogen_nr = [0] * len(df_all)\n",
    "\n",
    "df_prev_rows = [list] * len(df_all)\n",
    "# df_abun_rows = [] * len(df_2019)\n",
    "\n",
    "for i in range(len(df_all)):\n",
    "    row = [0] * len(pathogens)\n",
    "    for j, p in enumerate(pathogens):\n",
    "        if df_all.iloc[i, df_all.columns.get_loc('{} Detected'.format(p))] == '+':\n",
    "            pathogen_nr[i] += 1\n",
    "            row[j] = 1\n",
    "    df_prev_rows[i] = row"
   ]
  },
  {
   "cell_type": "code",
   "execution_count": 35,
   "id": "1b918542-6123-48cb-bb70-c9b7c4ebeb92",
   "metadata": {},
   "outputs": [],
   "source": [
    "df_prev = pd.DataFrame(df_prev_rows, columns=pathogens)"
   ]
  },
  {
   "cell_type": "code",
   "execution_count": 36,
   "id": "ff473ec3-9197-4cc4-a80f-3af44e777840",
   "metadata": {},
   "outputs": [
    {
     "data": {
      "text/html": [
       "<div>\n",
       "<style scoped>\n",
       "    .dataframe tbody tr th:only-of-type {\n",
       "        vertical-align: middle;\n",
       "    }\n",
       "\n",
       "    .dataframe tbody tr th {\n",
       "        vertical-align: top;\n",
       "    }\n",
       "\n",
       "    .dataframe thead th {\n",
       "        text-align: right;\n",
       "    }\n",
       "</style>\n",
       "<table border=\"1\" class=\"dataframe\">\n",
       "  <thead>\n",
       "    <tr style=\"text-align: right;\">\n",
       "      <th></th>\n",
       "      <th>Melissococcus plutonius</th>\n",
       "      <th>Paenibacillus larvae</th>\n",
       "      <th>Ascosphera</th>\n",
       "      <th>Nosema ceranae</th>\n",
       "      <th>Nosema apis</th>\n",
       "      <th>DWV A</th>\n",
       "      <th>DWV B</th>\n",
       "      <th>DWV C</th>\n",
       "      <th>SBV</th>\n",
       "      <th>BCQV</th>\n",
       "      <th>ABPV</th>\n",
       "      <th>KBV</th>\n",
       "      <th>IAPV</th>\n",
       "    </tr>\n",
       "  </thead>\n",
       "  <tbody>\n",
       "    <tr>\n",
       "      <th>0</th>\n",
       "      <td>0</td>\n",
       "      <td>0</td>\n",
       "      <td>0</td>\n",
       "      <td>0</td>\n",
       "      <td>0</td>\n",
       "      <td>0</td>\n",
       "      <td>1</td>\n",
       "      <td>0</td>\n",
       "      <td>0</td>\n",
       "      <td>0</td>\n",
       "      <td>0</td>\n",
       "      <td>0</td>\n",
       "      <td>0</td>\n",
       "    </tr>\n",
       "    <tr>\n",
       "      <th>1</th>\n",
       "      <td>0</td>\n",
       "      <td>0</td>\n",
       "      <td>0</td>\n",
       "      <td>0</td>\n",
       "      <td>0</td>\n",
       "      <td>0</td>\n",
       "      <td>0</td>\n",
       "      <td>0</td>\n",
       "      <td>0</td>\n",
       "      <td>0</td>\n",
       "      <td>0</td>\n",
       "      <td>0</td>\n",
       "      <td>0</td>\n",
       "    </tr>\n",
       "    <tr>\n",
       "      <th>2</th>\n",
       "      <td>0</td>\n",
       "      <td>0</td>\n",
       "      <td>0</td>\n",
       "      <td>0</td>\n",
       "      <td>0</td>\n",
       "      <td>0</td>\n",
       "      <td>0</td>\n",
       "      <td>0</td>\n",
       "      <td>0</td>\n",
       "      <td>0</td>\n",
       "      <td>0</td>\n",
       "      <td>0</td>\n",
       "      <td>0</td>\n",
       "    </tr>\n",
       "    <tr>\n",
       "      <th>3</th>\n",
       "      <td>0</td>\n",
       "      <td>0</td>\n",
       "      <td>0</td>\n",
       "      <td>1</td>\n",
       "      <td>0</td>\n",
       "      <td>0</td>\n",
       "      <td>1</td>\n",
       "      <td>0</td>\n",
       "      <td>0</td>\n",
       "      <td>0</td>\n",
       "      <td>0</td>\n",
       "      <td>0</td>\n",
       "      <td>0</td>\n",
       "    </tr>\n",
       "    <tr>\n",
       "      <th>4</th>\n",
       "      <td>0</td>\n",
       "      <td>0</td>\n",
       "      <td>0</td>\n",
       "      <td>1</td>\n",
       "      <td>0</td>\n",
       "      <td>0</td>\n",
       "      <td>0</td>\n",
       "      <td>0</td>\n",
       "      <td>0</td>\n",
       "      <td>0</td>\n",
       "      <td>0</td>\n",
       "      <td>0</td>\n",
       "      <td>0</td>\n",
       "    </tr>\n",
       "    <tr>\n",
       "      <th>...</th>\n",
       "      <td>...</td>\n",
       "      <td>...</td>\n",
       "      <td>...</td>\n",
       "      <td>...</td>\n",
       "      <td>...</td>\n",
       "      <td>...</td>\n",
       "      <td>...</td>\n",
       "      <td>...</td>\n",
       "      <td>...</td>\n",
       "      <td>...</td>\n",
       "      <td>...</td>\n",
       "      <td>...</td>\n",
       "      <td>...</td>\n",
       "    </tr>\n",
       "    <tr>\n",
       "      <th>4701</th>\n",
       "      <td>0</td>\n",
       "      <td>0</td>\n",
       "      <td>0</td>\n",
       "      <td>1</td>\n",
       "      <td>0</td>\n",
       "      <td>0</td>\n",
       "      <td>0</td>\n",
       "      <td>0</td>\n",
       "      <td>0</td>\n",
       "      <td>0</td>\n",
       "      <td>0</td>\n",
       "      <td>0</td>\n",
       "      <td>0</td>\n",
       "    </tr>\n",
       "    <tr>\n",
       "      <th>4702</th>\n",
       "      <td>0</td>\n",
       "      <td>0</td>\n",
       "      <td>0</td>\n",
       "      <td>1</td>\n",
       "      <td>0</td>\n",
       "      <td>0</td>\n",
       "      <td>0</td>\n",
       "      <td>0</td>\n",
       "      <td>0</td>\n",
       "      <td>0</td>\n",
       "      <td>0</td>\n",
       "      <td>0</td>\n",
       "      <td>0</td>\n",
       "    </tr>\n",
       "    <tr>\n",
       "      <th>4703</th>\n",
       "      <td>0</td>\n",
       "      <td>0</td>\n",
       "      <td>0</td>\n",
       "      <td>1</td>\n",
       "      <td>0</td>\n",
       "      <td>0</td>\n",
       "      <td>0</td>\n",
       "      <td>0</td>\n",
       "      <td>0</td>\n",
       "      <td>0</td>\n",
       "      <td>0</td>\n",
       "      <td>0</td>\n",
       "      <td>0</td>\n",
       "    </tr>\n",
       "    <tr>\n",
       "      <th>4704</th>\n",
       "      <td>0</td>\n",
       "      <td>0</td>\n",
       "      <td>0</td>\n",
       "      <td>1</td>\n",
       "      <td>0</td>\n",
       "      <td>0</td>\n",
       "      <td>0</td>\n",
       "      <td>0</td>\n",
       "      <td>0</td>\n",
       "      <td>0</td>\n",
       "      <td>0</td>\n",
       "      <td>0</td>\n",
       "      <td>0</td>\n",
       "    </tr>\n",
       "    <tr>\n",
       "      <th>4705</th>\n",
       "      <td>0</td>\n",
       "      <td>0</td>\n",
       "      <td>0</td>\n",
       "      <td>1</td>\n",
       "      <td>0</td>\n",
       "      <td>0</td>\n",
       "      <td>0</td>\n",
       "      <td>0</td>\n",
       "      <td>0</td>\n",
       "      <td>0</td>\n",
       "      <td>0</td>\n",
       "      <td>0</td>\n",
       "      <td>0</td>\n",
       "    </tr>\n",
       "  </tbody>\n",
       "</table>\n",
       "<p>4706 rows × 13 columns</p>\n",
       "</div>"
      ],
      "text/plain": [
       "      Melissococcus plutonius  Paenibacillus larvae  Ascosphera  \\\n",
       "0                           0                     0           0   \n",
       "1                           0                     0           0   \n",
       "2                           0                     0           0   \n",
       "3                           0                     0           0   \n",
       "4                           0                     0           0   \n",
       "...                       ...                   ...         ...   \n",
       "4701                        0                     0           0   \n",
       "4702                        0                     0           0   \n",
       "4703                        0                     0           0   \n",
       "4704                        0                     0           0   \n",
       "4705                        0                     0           0   \n",
       "\n",
       "      Nosema ceranae  Nosema apis  DWV A  DWV B  DWV C  SBV  BCQV  ABPV  KBV  \\\n",
       "0                  0            0      0      1      0    0     0     0    0   \n",
       "1                  0            0      0      0      0    0     0     0    0   \n",
       "2                  0            0      0      0      0    0     0     0    0   \n",
       "3                  1            0      0      1      0    0     0     0    0   \n",
       "4                  1            0      0      0      0    0     0     0    0   \n",
       "...              ...          ...    ...    ...    ...  ...   ...   ...  ...   \n",
       "4701               1            0      0      0      0    0     0     0    0   \n",
       "4702               1            0      0      0      0    0     0     0    0   \n",
       "4703               1            0      0      0      0    0     0     0    0   \n",
       "4704               1            0      0      0      0    0     0     0    0   \n",
       "4705               1            0      0      0      0    0     0     0    0   \n",
       "\n",
       "      IAPV  \n",
       "0        0  \n",
       "1        0  \n",
       "2        0  \n",
       "3        0  \n",
       "4        0  \n",
       "...    ...  \n",
       "4701     0  \n",
       "4702     0  \n",
       "4703     0  \n",
       "4704     0  \n",
       "4705     0  \n",
       "\n",
       "[4706 rows x 13 columns]"
      ]
     },
     "execution_count": 36,
     "metadata": {},
     "output_type": "execute_result"
    }
   ],
   "source": [
    "df_prev"
   ]
  },
  {
   "cell_type": "markdown",
   "id": "cc8d9151-60a2-46b9-86b4-f298753b54bd",
   "metadata": {},
   "source": [
    "# Cluster samples by presence absence of pathogens"
   ]
  },
  {
   "cell_type": "code",
   "execution_count": 37,
   "id": "5bb8d8c3-06cf-45c9-82bf-e59071cfed59",
   "metadata": {},
   "outputs": [
    {
     "data": {
      "text/plain": [
       "0"
      ]
     },
     "execution_count": 37,
     "metadata": {},
     "output_type": "execute_result"
    }
   ],
   "source": [
    "sum(df_prev['KBV'])\n",
    "sum(df_prev['IAPV'])"
   ]
  },
  {
   "cell_type": "code",
   "execution_count": 38,
   "id": "6e40e63d-6401-4dff-b9d4-df36735196cc",
   "metadata": {},
   "outputs": [
    {
     "name": "stderr",
     "output_type": "stream",
     "text": [
      "/cluster/raid/home/f80878961/.conda/envs/planb/lib/python3.9/site-packages/seaborn/matrix.py:560: UserWarning: Clustering large matrix with scipy. Installing `fastcluster` may give better performance.\n",
      "  warnings.warn(msg)\n"
     ]
    },
    {
     "data": {
      "image/png": "[encoded data removed]",
      "text/plain": [
       "<Figure size 1000x1000 with 4 Axes>"
      ]
     },
     "metadata": {},
     "output_type": "display_data"
    }
   ],
   "source": [
    "cg = sns.clustermap(df_prev, metric='jaccard', col_cluster=False)"
   ]
  },
  {
   "cell_type": "code",
   "execution_count": 39,
   "id": "6faa99e8-f78e-407c-bf73-87fe32e2f12f",
   "metadata": {},
   "outputs": [
    {
     "data": {
      "text/plain": [
       "Melissococcus plutonius       1\n",
       "Paenibacillus larvae          4\n",
       "Ascosphera                  265\n",
       "Nosema ceranae             3155\n",
       "Nosema apis                  87\n",
       "DWV A                        15\n",
       "DWV B                       325\n",
       "DWV C                         0\n",
       "SBV                          46\n",
       "BCQV                        102\n",
       "ABPV                        341\n",
       "KBV                           0\n",
       "IAPV                          0\n",
       "dtype: int64"
      ]
     },
     "execution_count": 39,
     "metadata": {},
     "output_type": "execute_result"
    }
   ],
   "source": [
    "df_prev.sum(axis=0)"
   ]
  },
  {
   "cell_type": "code",
   "execution_count": 40,
   "id": "9ecc0318-9b94-4f85-bbb7-4995bbe05406",
   "metadata": {},
   "outputs": [
    {
     "name": "stderr",
     "output_type": "stream",
     "text": [
      "/tmp/ipykernel_172259/2600048935.py:2: UserWarning: set_ticklabels() should only be used with a fixed number of ticks, i.e. after set_ticks() or using a FixedLocator.\n",
      "  ax.set_xticklabels(ax.get_xticklabels(), rotation=90)\n"
     ]
    },
    {
     "data": {
      "image/png": "[encoded data removed]",
      "text/plain": [
       "<Figure size 640x480 with 1 Axes>"
      ]
     },
     "metadata": {},
     "output_type": "display_data"
    }
   ],
   "source": [
    "ax = sns.barplot(df_prev.sum(axis=0))\n",
    "ax.set_xticklabels(ax.get_xticklabels(), rotation=90)\n",
    "plt.show()"
   ]
  },
  {
   "cell_type": "code",
   "execution_count": 38,
   "id": "ee297fa7-1c65-4584-9706-726142f2540b",
   "metadata": {},
   "outputs": [],
   "source": [
    "min_patho_nr = 3\n",
    "df_prev_filtered = df_prev[df_prev.sum(axis=1) >= min_patho_nr].drop(columns=df_prev.columns[df_prev.sum(axis=0) == 0])"
   ]
  },
  {
   "cell_type": "code",
   "execution_count": 39,
   "id": "577486f2-8f2c-4361-8c30-d4bd781bbceb",
   "metadata": {},
   "outputs": [
    {
     "data": {
      "text/plain": [
       "(131, 10)"
      ]
     },
     "execution_count": 39,
     "metadata": {},
     "output_type": "execute_result"
    }
   ],
   "source": [
    "df_prev_filtered.shape"
   ]
  },
  {
   "cell_type": "code",
   "execution_count": 40,
   "id": "f8fdab94-c584-4ac0-aaec-fda62ce3faad",
   "metadata": {},
   "outputs": [
    {
     "name": "stderr",
     "output_type": "stream",
     "text": [
      "/tmp/ipykernel_3075160/2880208192.py:2: UserWarning: set_ticklabels() should only be used with a fixed number of ticks, i.e. after set_ticks() or using a FixedLocator.\n",
      "  ax.set_xticklabels(ax.get_xticklabels(), rotation=90)\n"
     ]
    },
    {
     "data": {
      "image/png": "[encoded data removed]",
      "text/plain": [
       "<Figure size 640x480 with 1 Axes>"
      ]
     },
     "metadata": {},
     "output_type": "display_data"
    }
   ],
   "source": [
    "ax = sns.barplot(df_prev_filtered.sum(axis=0))\n",
    "ax.set_xticklabels(ax.get_xticklabels(), rotation=90)\n",
    "plt.show()"
   ]
  },
  {
   "cell_type": "code",
   "execution_count": 41,
   "id": "5424e748-dacd-4a80-90e3-2deec86daccc",
   "metadata": {},
   "outputs": [
    {
     "data": {
      "image/png": "[encoded data removed]",
      "text/plain": [
       "<Figure size 1000x1000 with 4 Axes>"
      ]
     },
     "metadata": {},
     "output_type": "display_data"
    }
   ],
   "source": [
    "cg = sns.clustermap(df_prev_filtered, metric='jaccard', col_cluster=True)\n",
    "cg.cax.set_visible(False)\n",
    "\n"
   ]
  },
  {
   "cell_type": "code",
   "execution_count": 42,
   "id": "77dfcf37-6119-4bb6-b615-231ac2ae4425",
   "metadata": {},
   "outputs": [],
   "source": [
    "clustered_rows = np.array(df_prev_filtered.index[cg.dendrogram_row.reordered_ind])"
   ]
  },
  {
   "cell_type": "code",
   "execution_count": 43,
   "id": "f4693f1e-0fda-402a-a7c6-5238d3ae3d1f",
   "metadata": {},
   "outputs": [],
   "source": [
    "# new index clustered\n",
    "new_idx_clustered = np.array(cg.dendrogram_row.reordered_ind)\n",
    "\n",
    "# reorder table accordingly\n",
    "df_prev_filtered_clust = df_prev_filtered.iloc[new_idx_clustered, :]"
   ]
  },
  {
   "cell_type": "code",
   "execution_count": 44,
   "id": "cbc10d40-dc08-4510-bca4-6b32d2689e4c",
   "metadata": {},
   "outputs": [
    {
     "data": {
      "text/plain": [
       "66"
      ]
     },
     "execution_count": 44,
     "metadata": {},
     "output_type": "execute_result"
    }
   ],
   "source": [
    "original_index = 1290 # bacteria\n",
    "original_index = 3496\n",
    "original_index = 1411\n",
    "original_index = 3784\n",
    "\n",
    "idx = np.argwhere(df_prev_filtered_clust.index == original_index).flatten()[0]\n",
    "idx"
   ]
  },
  {
   "cell_type": "code",
   "execution_count": 45,
   "id": "c88c3488-afb7-4993-8d29-4b715b5f07aa",
   "metadata": {},
   "outputs": [],
   "source": [
    "rge = 5"
   ]
  },
  {
   "cell_type": "code",
   "execution_count": 46,
   "id": "344c3d6b-0a99-4be6-85e5-cc04780c7bc1",
   "metadata": {},
   "outputs": [
    {
     "data": {
      "text/html": [
       "<div>\n",
       "<style scoped>\n",
       "    .dataframe tbody tr th:only-of-type {\n",
       "        vertical-align: middle;\n",
       "    }\n",
       "\n",
       "    .dataframe tbody tr th {\n",
       "        vertical-align: top;\n",
       "    }\n",
       "\n",
       "    .dataframe thead th {\n",
       "        text-align: right;\n",
       "    }\n",
       "</style>\n",
       "<table border=\"1\" class=\"dataframe\">\n",
       "  <thead>\n",
       "    <tr style=\"text-align: right;\">\n",
       "      <th></th>\n",
       "      <th>Melissococcus plutonius</th>\n",
       "      <th>Paenibacillus larvae</th>\n",
       "      <th>Ascosphera</th>\n",
       "      <th>Nosema ceranae</th>\n",
       "      <th>Nosema apis</th>\n",
       "      <th>DWV A</th>\n",
       "      <th>DWV B</th>\n",
       "      <th>SBV</th>\n",
       "      <th>BCQV</th>\n",
       "      <th>ABPV</th>\n",
       "    </tr>\n",
       "  </thead>\n",
       "  <tbody>\n",
       "    <tr>\n",
       "      <th>1670</th>\n",
       "      <td>0</td>\n",
       "      <td>0</td>\n",
       "      <td>1</td>\n",
       "      <td>1</td>\n",
       "      <td>0</td>\n",
       "      <td>0</td>\n",
       "      <td>1</td>\n",
       "      <td>0</td>\n",
       "      <td>0</td>\n",
       "      <td>0</td>\n",
       "    </tr>\n",
       "    <tr>\n",
       "      <th>1499</th>\n",
       "      <td>0</td>\n",
       "      <td>0</td>\n",
       "      <td>1</td>\n",
       "      <td>1</td>\n",
       "      <td>0</td>\n",
       "      <td>0</td>\n",
       "      <td>1</td>\n",
       "      <td>0</td>\n",
       "      <td>0</td>\n",
       "      <td>0</td>\n",
       "    </tr>\n",
       "    <tr>\n",
       "      <th>1471</th>\n",
       "      <td>0</td>\n",
       "      <td>0</td>\n",
       "      <td>1</td>\n",
       "      <td>1</td>\n",
       "      <td>0</td>\n",
       "      <td>0</td>\n",
       "      <td>1</td>\n",
       "      <td>0</td>\n",
       "      <td>0</td>\n",
       "      <td>0</td>\n",
       "    </tr>\n",
       "    <tr>\n",
       "      <th>1377</th>\n",
       "      <td>0</td>\n",
       "      <td>0</td>\n",
       "      <td>1</td>\n",
       "      <td>1</td>\n",
       "      <td>0</td>\n",
       "      <td>0</td>\n",
       "      <td>1</td>\n",
       "      <td>0</td>\n",
       "      <td>0</td>\n",
       "      <td>0</td>\n",
       "    </tr>\n",
       "    <tr>\n",
       "      <th>1405</th>\n",
       "      <td>0</td>\n",
       "      <td>0</td>\n",
       "      <td>1</td>\n",
       "      <td>1</td>\n",
       "      <td>0</td>\n",
       "      <td>0</td>\n",
       "      <td>1</td>\n",
       "      <td>0</td>\n",
       "      <td>0</td>\n",
       "      <td>0</td>\n",
       "    </tr>\n",
       "    <tr>\n",
       "      <th>3784</th>\n",
       "      <td>0</td>\n",
       "      <td>0</td>\n",
       "      <td>0</td>\n",
       "      <td>0</td>\n",
       "      <td>0</td>\n",
       "      <td>0</td>\n",
       "      <td>1</td>\n",
       "      <td>0</td>\n",
       "      <td>1</td>\n",
       "      <td>1</td>\n",
       "    </tr>\n",
       "    <tr>\n",
       "      <th>3790</th>\n",
       "      <td>0</td>\n",
       "      <td>0</td>\n",
       "      <td>0</td>\n",
       "      <td>0</td>\n",
       "      <td>0</td>\n",
       "      <td>0</td>\n",
       "      <td>1</td>\n",
       "      <td>0</td>\n",
       "      <td>1</td>\n",
       "      <td>1</td>\n",
       "    </tr>\n",
       "    <tr>\n",
       "      <th>3546</th>\n",
       "      <td>0</td>\n",
       "      <td>0</td>\n",
       "      <td>0</td>\n",
       "      <td>1</td>\n",
       "      <td>0</td>\n",
       "      <td>0</td>\n",
       "      <td>1</td>\n",
       "      <td>0</td>\n",
       "      <td>1</td>\n",
       "      <td>1</td>\n",
       "    </tr>\n",
       "    <tr>\n",
       "      <th>1613</th>\n",
       "      <td>0</td>\n",
       "      <td>0</td>\n",
       "      <td>0</td>\n",
       "      <td>1</td>\n",
       "      <td>0</td>\n",
       "      <td>0</td>\n",
       "      <td>1</td>\n",
       "      <td>0</td>\n",
       "      <td>1</td>\n",
       "      <td>1</td>\n",
       "    </tr>\n",
       "    <tr>\n",
       "      <th>2788</th>\n",
       "      <td>0</td>\n",
       "      <td>0</td>\n",
       "      <td>0</td>\n",
       "      <td>1</td>\n",
       "      <td>0</td>\n",
       "      <td>0</td>\n",
       "      <td>1</td>\n",
       "      <td>0</td>\n",
       "      <td>1</td>\n",
       "      <td>1</td>\n",
       "    </tr>\n",
       "  </tbody>\n",
       "</table>\n",
       "</div>"
      ],
      "text/plain": [
       "      Melissococcus plutonius  Paenibacillus larvae  Ascosphera  \\\n",
       "1670                        0                     0           1   \n",
       "1499                        0                     0           1   \n",
       "1471                        0                     0           1   \n",
       "1377                        0                     0           1   \n",
       "1405                        0                     0           1   \n",
       "3784                        0                     0           0   \n",
       "3790                        0                     0           0   \n",
       "3546                        0                     0           0   \n",
       "1613                        0                     0           0   \n",
       "2788                        0                     0           0   \n",
       "\n",
       "      Nosema ceranae  Nosema apis  DWV A  DWV B  SBV  BCQV  ABPV  \n",
       "1670               1            0      0      1    0     0     0  \n",
       "1499               1            0      0      1    0     0     0  \n",
       "1471               1            0      0      1    0     0     0  \n",
       "1377               1            0      0      1    0     0     0  \n",
       "1405               1            0      0      1    0     0     0  \n",
       "3784               0            0      0      1    0     1     1  \n",
       "3790               0            0      0      1    0     1     1  \n",
       "3546               1            0      0      1    0     1     1  \n",
       "1613               1            0      0      1    0     1     1  \n",
       "2788               1            0      0      1    0     1     1  "
      ]
     },
     "execution_count": 46,
     "metadata": {},
     "output_type": "execute_result"
    }
   ],
   "source": [
    "left_p = (idx - rge) if idx > rge else 0\n",
    "right_p = (idx + rge) if (idx + rge) < len(df_prev_filtered) else len(df_prev_filtered)\n",
    "zoom_df = df_prev_filtered_clust.iloc[left_p : right_p, :]\n",
    "zoom_df"
   ]
  },
  {
   "cell_type": "code",
   "execution_count": 47,
   "id": "f9be1db8-d640-446f-a549-aa9eb50d994c",
   "metadata": {},
   "outputs": [
    {
     "data": {
      "text/plain": [
       "<Axes: >"
      ]
     },
     "execution_count": 47,
     "metadata": {},
     "output_type": "execute_result"
    },
    {
     "data": {
      "image/png": "[encoded data removed]",
      "text/plain": [
       "<Figure size 640x480 with 2 Axes>"
      ]
     },
     "metadata": {},
     "output_type": "display_data"
    }
   ],
   "source": [
    "sns.heatmap(zoom_df)"
   ]
  },
  {
   "cell_type": "code",
   "execution_count": 70,
   "id": "c26f09b1-f4e3-4512-934b-3a66c50b2071",
   "metadata": {},
   "outputs": [
    {
     "data": {
      "text/html": [
       "<div>\n",
       "<style scoped>\n",
       "    .dataframe tbody tr th:only-of-type {\n",
       "        vertical-align: middle;\n",
       "    }\n",
       "\n",
       "    .dataframe tbody tr th {\n",
       "        vertical-align: top;\n",
       "    }\n",
       "\n",
       "    .dataframe thead th {\n",
       "        text-align: right;\n",
       "    }\n",
       "</style>\n",
       "<table border=\"1\" class=\"dataframe\">\n",
       "  <thead>\n",
       "    <tr style=\"text-align: right;\">\n",
       "      <th></th>\n",
       "      <th>N° tube</th>\n",
       "      <th>Rucher</th>\n",
       "      <th>Colonie</th>\n",
       "      <th>Date</th>\n",
       "      <th>Visite</th>\n",
       "      <th>Melissococcus plutonius Ct value</th>\n",
       "      <th>Melissococcus plutonius Detected</th>\n",
       "      <th>Paenibacillus larvae Ct value</th>\n",
       "      <th>Paenibacillus larvae Detected</th>\n",
       "      <th>Ascosphera Ct value</th>\n",
       "      <th>Ascosphera Detected</th>\n",
       "      <th>Nosema ceranae Ct value</th>\n",
       "      <th>Nosema ceranae Detected</th>\n",
       "      <th>Nosema apis Ct value</th>\n",
       "      <th>Nosema apis Detected</th>\n",
       "      <th>DWV A Ct value</th>\n",
       "      <th>DWV A Detected</th>\n",
       "      <th>DWV B Ct value</th>\n",
       "      <th>DWV B delta Ct</th>\n",
       "      <th>DWV B Detected</th>\n",
       "      <th>DWV C Ct value</th>\n",
       "      <th>DWV C delta Ct</th>\n",
       "      <th>DWV C Detected</th>\n",
       "      <th>SBV Ct value</th>\n",
       "      <th>SBV delta Ct</th>\n",
       "      <th>SBV Detected</th>\n",
       "      <th>BCQV Ct value</th>\n",
       "      <th>BCQV delta Ct</th>\n",
       "      <th>BCQV Detected</th>\n",
       "      <th>ABPV Ct value</th>\n",
       "      <th>ABPV delta Ct</th>\n",
       "      <th>ABPV Detected</th>\n",
       "      <th>KBV Ct value</th>\n",
       "      <th>KBV delta Ct</th>\n",
       "      <th>KBV Detected</th>\n",
       "      <th>IAPV Ct value</th>\n",
       "      <th>IAPV delta Ct</th>\n",
       "      <th>IAPV Detected</th>\n",
       "      <th>DWV A delta Ct</th>\n",
       "    </tr>\n",
       "  </thead>\n",
       "  <tbody>\n",
       "    <tr>\n",
       "      <th>3784</th>\n",
       "      <td>36</td>\n",
       "      <td>R20</td>\n",
       "      <td>C03</td>\n",
       "      <td>2022-07-19 00:00:00</td>\n",
       "      <td>V3</td>\n",
       "      <td>flat</td>\n",
       "      <td>-</td>\n",
       "      <td>flat</td>\n",
       "      <td>-</td>\n",
       "      <td>25.31</td>\n",
       "      <td>-</td>\n",
       "      <td>25</td>\n",
       "      <td>-</td>\n",
       "      <td>34.69</td>\n",
       "      <td>-</td>\n",
       "      <td>33.08</td>\n",
       "      <td>-</td>\n",
       "      <td>13.09</td>\n",
       "      <td>11.6</td>\n",
       "      <td>+</td>\n",
       "      <td>31.02</td>\n",
       "      <td>NaN</td>\n",
       "      <td>-</td>\n",
       "      <td>NaN</td>\n",
       "      <td>NaN</td>\n",
       "      <td>NaN</td>\n",
       "      <td>22.555</td>\n",
       "      <td>2.135</td>\n",
       "      <td>+</td>\n",
       "      <td>28.75</td>\n",
       "      <td>NaN</td>\n",
       "      <td>+</td>\n",
       "      <td>NaN</td>\n",
       "      <td>NaN</td>\n",
       "      <td>NaN</td>\n",
       "      <td>NaN</td>\n",
       "      <td>NaN</td>\n",
       "      <td>NaN</td>\n",
       "      <td>NaN</td>\n",
       "    </tr>\n",
       "  </tbody>\n",
       "</table>\n",
       "</div>"
      ],
      "text/plain": [
       "     N° tube Rucher Colonie                 Date Visite  \\\n",
       "3784      36    R20     C03  2022-07-19 00:00:00     V3   \n",
       "\n",
       "     Melissococcus plutonius Ct value Melissococcus plutonius Detected  \\\n",
       "3784                             flat                                -   \n",
       "\n",
       "     Paenibacillus larvae Ct value Paenibacillus larvae Detected  \\\n",
       "3784                          flat                             -   \n",
       "\n",
       "     Ascosphera Ct value Ascosphera Detected Nosema ceranae Ct value  \\\n",
       "3784               25.31                   -                      25   \n",
       "\n",
       "     Nosema ceranae Detected Nosema apis Ct value Nosema apis Detected  \\\n",
       "3784                       -                34.69                    -   \n",
       "\n",
       "     DWV A Ct value DWV A Detected DWV B Ct value DWV B delta Ct  \\\n",
       "3784          33.08              -          13.09           11.6   \n",
       "\n",
       "     DWV B Detected DWV C Ct value DWV C delta Ct DWV C Detected SBV Ct value  \\\n",
       "3784              +          31.02            NaN              -          NaN   \n",
       "\n",
       "     SBV delta Ct SBV Detected BCQV Ct value BCQV delta Ct BCQV Detected  \\\n",
       "3784          NaN          NaN        22.555         2.135             +   \n",
       "\n",
       "     ABPV Ct value ABPV delta Ct ABPV Detected KBV Ct value KBV delta Ct  \\\n",
       "3784         28.75           NaN             +          NaN          NaN   \n",
       "\n",
       "     KBV Detected IAPV Ct value IAPV delta Ct IAPV Detected DWV A delta Ct  \n",
       "3784          NaN           NaN           NaN           NaN            NaN  "
      ]
     },
     "execution_count": 70,
     "metadata": {},
     "output_type": "execute_result"
    }
   ],
   "source": [
    "df_all[original_index:original_index+1]"
   ]
  },
  {
   "cell_type": "code",
   "execution_count": 71,
   "id": "80f6af51-9c17-48d8-88da-11f72b61dd2c",
   "metadata": {},
   "outputs": [],
   "source": [
    "patho_row = df_all[original_index:original_index+1]"
   ]
  },
  {
   "cell_type": "code",
   "execution_count": 95,
   "id": "0d2266c4-065b-4ff4-874c-da73aeaf3ae9",
   "metadata": {},
   "outputs": [
    {
     "data": {
      "text/plain": [
       "'v1'"
      ]
     },
     "execution_count": 95,
     "metadata": {},
     "output_type": "execute_result"
    }
   ],
   "source": [
    "'V1'.lower()"
   ]
  },
  {
   "cell_type": "code",
   "execution_count": 96,
   "id": "aa70c818-a5a4-4975-83b9-c48a9f25e316",
   "metadata": {},
   "outputs": [
    {
     "data": {
      "text/html": [
       "<div>\n",
       "<style scoped>\n",
       "    .dataframe tbody tr th:only-of-type {\n",
       "        vertical-align: middle;\n",
       "    }\n",
       "\n",
       "    .dataframe tbody tr th {\n",
       "        vertical-align: top;\n",
       "    }\n",
       "\n",
       "    .dataframe thead th {\n",
       "        text-align: right;\n",
       "    }\n",
       "</style>\n",
       "<table border=\"1\" class=\"dataframe\">\n",
       "  <thead>\n",
       "    <tr style=\"text-align: right;\">\n",
       "      <th></th>\n",
       "      <th>ideval</th>\n",
       "      <th>coderucher</th>\n",
       "      <th>year</th>\n",
       "      <th>numruche</th>\n",
       "      <th>anneeRuche</th>\n",
       "      <th>datecoleval</th>\n",
       "      <th>visites</th>\n",
       "      <th>heurecoleval</th>\n",
       "      <th>evaluateur</th>\n",
       "      <th>typeCorps</th>\n",
       "      <th>typeHausse</th>\n",
       "      <th>nbreHausse</th>\n",
       "      <th>etatColonie</th>\n",
       "      <th>sumPCabeilleTotal</th>\n",
       "      <th>sumPHabeilleTotal</th>\n",
       "      <th>nbrAbeilleTotal</th>\n",
       "      <th>sumPCcouvfermeTotal</th>\n",
       "      <th>nbrCellCouvFermeTotal</th>\n",
       "      <th>sumPCmiel</th>\n",
       "      <th>dm2miel</th>\n",
       "      <th>sumPCpollen</th>\n",
       "      <th>dm2pollen</th>\n",
       "    </tr>\n",
       "  </thead>\n",
       "  <tbody>\n",
       "    <tr>\n",
       "      <th>792</th>\n",
       "      <td>v3R20C032022</td>\n",
       "      <td>R20</td>\n",
       "      <td>2022</td>\n",
       "      <td>C03</td>\n",
       "      <td>2021.0</td>\n",
       "      <td>2022-07-19</td>\n",
       "      <td>v3</td>\n",
       "      <td>am</td>\n",
       "      <td>Jud Marcel</td>\n",
       "      <td>D</td>\n",
       "      <td>D</td>\n",
       "      <td>0.0</td>\n",
       "      <td>colonie</td>\n",
       "      <td>375.0</td>\n",
       "      <td>0.0</td>\n",
       "      <td>9562.5</td>\n",
       "      <td>425.0</td>\n",
       "      <td>17000.0</td>\n",
       "      <td>300.0</td>\n",
       "      <td>34.02</td>\n",
       "      <td>255.0</td>\n",
       "      <td>28.917</td>\n",
       "    </tr>\n",
       "  </tbody>\n",
       "</table>\n",
       "</div>"
      ],
      "text/plain": [
       "           ideval coderucher  year numruche  anneeRuche datecoleval visites  \\\n",
       "792  v3R20C032022        R20  2022      C03      2021.0  2022-07-19      v3   \n",
       "\n",
       "    heurecoleval  evaluateur typeCorps typeHausse  nbreHausse etatColonie  \\\n",
       "792           am  Jud Marcel         D          D         0.0     colonie   \n",
       "\n",
       "     sumPCabeilleTotal  sumPHabeilleTotal  nbrAbeilleTotal  \\\n",
       "792              375.0                0.0           9562.5   \n",
       "\n",
       "     sumPCcouvfermeTotal  nbrCellCouvFermeTotal  sumPCmiel  dm2miel  \\\n",
       "792                425.0                17000.0      300.0    34.02   \n",
       "\n",
       "     sumPCpollen  dm2pollen  \n",
       "792        255.0     28.917  "
      ]
     },
     "execution_count": 96,
     "metadata": {},
     "output_type": "execute_result"
    }
   ],
   "source": [
    "coleval_df[\n",
    "    (coleval_df['coderucher'] == patho_row.iloc[0, 1]) & \n",
    "    (coleval_df['year'] == patho_row.iloc[0, 3].year) &\n",
    "    (coleval_df['numruche'] == patho_row.iloc[0, 2]) &\n",
    "    (coleval_df['visites'] == patho_row.iloc[0, 4].lower())\n",
    "]"
   ]
  },
  {
   "cell_type": "code",
   "execution_count": 78,
   "id": "83d1e615-8711-4bb5-af4a-77830a75b84d",
   "metadata": {},
   "outputs": [
    {
     "data": {
      "text/plain": [
       "3784    R20\n",
       "Name: Rucher, dtype: object"
      ]
     },
     "execution_count": 78,
     "metadata": {},
     "output_type": "execute_result"
    }
   ],
   "source": [
    "patho_row.loc[:, 'Rucher']"
   ]
  },
  {
   "cell_type": "code",
   "execution_count": 97,
   "id": "669aa186-7ceb-4cbc-a0c5-0774cc93f586",
   "metadata": {},
   "outputs": [],
   "source": [
    "def get_coleval_row(coleval_df, patho_row):\n",
    "    return coleval_df[\n",
    "        (coleval_df['coderucher'] == patho_row.iloc[0, 1]) & \n",
    "        (coleval_df['year'] == patho_row.iloc[0, 3].year) &\n",
    "        (coleval_df['numruche'] == patho_row.iloc[0, 2]) &\n",
    "        (coleval_df['visites'] == patho_row.iloc[0, 4].lower())\n",
    "        ]"
   ]
  },
  {
   "cell_type": "code",
   "execution_count": 118,
   "id": "aa366a65-97ff-43c9-abf3-713967b3b2f4",
   "metadata": {},
   "outputs": [],
   "source": [
    "original_index = 1290 # bacteria\n",
    "# original_index = 3496\n",
    "# original_index = 1411\n",
    "# original_index = 3784"
   ]
  },
  {
   "cell_type": "code",
   "execution_count": 115,
   "id": "db7bb425-1667-4960-b681-67db2de1a199",
   "metadata": {},
   "outputs": [],
   "source": [
    "patho_row  = df_all[original_index:original_index+1]"
   ]
  },
  {
   "cell_type": "code",
   "execution_count": 116,
   "id": "d9207651-ba49-446c-b4c9-ef49129dce5d",
   "metadata": {},
   "outputs": [
    {
     "data": {
      "text/html": [
       "<div>\n",
       "<style scoped>\n",
       "    .dataframe tbody tr th:only-of-type {\n",
       "        vertical-align: middle;\n",
       "    }\n",
       "\n",
       "    .dataframe tbody tr th {\n",
       "        vertical-align: top;\n",
       "    }\n",
       "\n",
       "    .dataframe thead th {\n",
       "        text-align: right;\n",
       "    }\n",
       "</style>\n",
       "<table border=\"1\" class=\"dataframe\">\n",
       "  <thead>\n",
       "    <tr style=\"text-align: right;\">\n",
       "      <th></th>\n",
       "      <th>N° tube</th>\n",
       "      <th>Rucher</th>\n",
       "      <th>Colonie</th>\n",
       "      <th>Date</th>\n",
       "      <th>Visite</th>\n",
       "      <th>Melissococcus plutonius Ct value</th>\n",
       "      <th>Melissococcus plutonius Detected</th>\n",
       "      <th>Paenibacillus larvae Ct value</th>\n",
       "      <th>Paenibacillus larvae Detected</th>\n",
       "      <th>Ascosphera Ct value</th>\n",
       "      <th>Ascosphera Detected</th>\n",
       "      <th>Nosema ceranae Ct value</th>\n",
       "      <th>Nosema ceranae Detected</th>\n",
       "      <th>Nosema apis Ct value</th>\n",
       "      <th>Nosema apis Detected</th>\n",
       "      <th>DWV A Ct value</th>\n",
       "      <th>DWV A Detected</th>\n",
       "      <th>DWV B Ct value</th>\n",
       "      <th>DWV B delta Ct</th>\n",
       "      <th>DWV B Detected</th>\n",
       "      <th>DWV C Ct value</th>\n",
       "      <th>DWV C delta Ct</th>\n",
       "      <th>DWV C Detected</th>\n",
       "      <th>SBV Ct value</th>\n",
       "      <th>SBV delta Ct</th>\n",
       "      <th>SBV Detected</th>\n",
       "      <th>BCQV Ct value</th>\n",
       "      <th>BCQV delta Ct</th>\n",
       "      <th>BCQV Detected</th>\n",
       "      <th>ABPV Ct value</th>\n",
       "      <th>ABPV delta Ct</th>\n",
       "      <th>ABPV Detected</th>\n",
       "      <th>KBV Ct value</th>\n",
       "      <th>KBV delta Ct</th>\n",
       "      <th>KBV Detected</th>\n",
       "      <th>IAPV Ct value</th>\n",
       "      <th>IAPV delta Ct</th>\n",
       "      <th>IAPV Detected</th>\n",
       "      <th>DWV A delta Ct</th>\n",
       "    </tr>\n",
       "  </thead>\n",
       "  <tbody>\n",
       "    <tr>\n",
       "      <th>1290</th>\n",
       "      <td>503</td>\n",
       "      <td>R16</td>\n",
       "      <td>C09</td>\n",
       "      <td>2019-04-23 00:00:00</td>\n",
       "      <td>V1</td>\n",
       "      <td>27.475</td>\n",
       "      <td>+</td>\n",
       "      <td>18.99</td>\n",
       "      <td>+</td>\n",
       "      <td>27.495</td>\n",
       "      <td>-</td>\n",
       "      <td>25.27</td>\n",
       "      <td>+</td>\n",
       "      <td>flat</td>\n",
       "      <td>-</td>\n",
       "      <td>NaN</td>\n",
       "      <td>-</td>\n",
       "      <td>NaN</td>\n",
       "      <td>NaN</td>\n",
       "      <td>-</td>\n",
       "      <td>NaN</td>\n",
       "      <td>NaN</td>\n",
       "      <td>-</td>\n",
       "      <td>31.36</td>\n",
       "      <td>NaN</td>\n",
       "      <td>-</td>\n",
       "      <td>flat</td>\n",
       "      <td>NaN</td>\n",
       "      <td>-</td>\n",
       "      <td>NaN</td>\n",
       "      <td>NaN</td>\n",
       "      <td>-</td>\n",
       "      <td>NaN</td>\n",
       "      <td>NaN</td>\n",
       "      <td>-</td>\n",
       "      <td>NaN</td>\n",
       "      <td>NaN</td>\n",
       "      <td>-</td>\n",
       "      <td>NaN</td>\n",
       "    </tr>\n",
       "  </tbody>\n",
       "</table>\n",
       "</div>"
      ],
      "text/plain": [
       "     N° tube Rucher Colonie                 Date Visite  \\\n",
       "1290     503    R16     C09  2019-04-23 00:00:00     V1   \n",
       "\n",
       "     Melissococcus plutonius Ct value Melissococcus plutonius Detected  \\\n",
       "1290                           27.475                                +   \n",
       "\n",
       "     Paenibacillus larvae Ct value Paenibacillus larvae Detected  \\\n",
       "1290                         18.99                             +   \n",
       "\n",
       "     Ascosphera Ct value Ascosphera Detected Nosema ceranae Ct value  \\\n",
       "1290              27.495                   -                   25.27   \n",
       "\n",
       "     Nosema ceranae Detected Nosema apis Ct value Nosema apis Detected  \\\n",
       "1290                       +                 flat                    -   \n",
       "\n",
       "     DWV A Ct value DWV A Detected DWV B Ct value DWV B delta Ct  \\\n",
       "1290            NaN              -            NaN            NaN   \n",
       "\n",
       "     DWV B Detected DWV C Ct value DWV C delta Ct DWV C Detected SBV Ct value  \\\n",
       "1290              -            NaN            NaN              -        31.36   \n",
       "\n",
       "     SBV delta Ct SBV Detected BCQV Ct value BCQV delta Ct BCQV Detected  \\\n",
       "1290          NaN            -          flat           NaN             -   \n",
       "\n",
       "     ABPV Ct value ABPV delta Ct ABPV Detected KBV Ct value KBV delta Ct  \\\n",
       "1290           NaN           NaN             -          NaN          NaN   \n",
       "\n",
       "     KBV Detected IAPV Ct value IAPV delta Ct IAPV Detected DWV A delta Ct  \n",
       "1290            -           NaN           NaN             -            NaN  "
      ]
     },
     "execution_count": 116,
     "metadata": {},
     "output_type": "execute_result"
    }
   ],
   "source": [
    "patho_row"
   ]
  },
  {
   "cell_type": "code",
   "execution_count": 117,
   "id": "fad7224b-edab-4019-818c-6f22759becbd",
   "metadata": {},
   "outputs": [
    {
     "data": {
      "text/html": [
       "<div>\n",
       "<style scoped>\n",
       "    .dataframe tbody tr th:only-of-type {\n",
       "        vertical-align: middle;\n",
       "    }\n",
       "\n",
       "    .dataframe tbody tr th {\n",
       "        vertical-align: top;\n",
       "    }\n",
       "\n",
       "    .dataframe thead th {\n",
       "        text-align: right;\n",
       "    }\n",
       "</style>\n",
       "<table border=\"1\" class=\"dataframe\">\n",
       "  <thead>\n",
       "    <tr style=\"text-align: right;\">\n",
       "      <th></th>\n",
       "      <th>ideval</th>\n",
       "      <th>coderucher</th>\n",
       "      <th>year</th>\n",
       "      <th>numruche</th>\n",
       "      <th>anneeRuche</th>\n",
       "      <th>datecoleval</th>\n",
       "      <th>visites</th>\n",
       "      <th>heurecoleval</th>\n",
       "      <th>evaluateur</th>\n",
       "      <th>typeCorps</th>\n",
       "      <th>typeHausse</th>\n",
       "      <th>nbreHausse</th>\n",
       "      <th>etatColonie</th>\n",
       "      <th>sumPCabeilleTotal</th>\n",
       "      <th>sumPHabeilleTotal</th>\n",
       "      <th>nbrAbeilleTotal</th>\n",
       "      <th>sumPCcouvfermeTotal</th>\n",
       "      <th>nbrCellCouvFermeTotal</th>\n",
       "      <th>sumPCmiel</th>\n",
       "      <th>dm2miel</th>\n",
       "      <th>sumPCpollen</th>\n",
       "      <th>dm2pollen</th>\n",
       "    </tr>\n",
       "  </thead>\n",
       "  <tbody>\n",
       "    <tr>\n",
       "      <th>158</th>\n",
       "      <td>v1R16C092020</td>\n",
       "      <td>R16</td>\n",
       "      <td>2020</td>\n",
       "      <td>C09</td>\n",
       "      <td>2018.0</td>\n",
       "      <td>2020-04-15</td>\n",
       "      <td>v1</td>\n",
       "      <td>pm</td>\n",
       "      <td>cedric</td>\n",
       "      <td>D</td>\n",
       "      <td>NaN</td>\n",
       "      <td>0.0</td>\n",
       "      <td>colonie</td>\n",
       "      <td>345.0</td>\n",
       "      <td>0.0</td>\n",
       "      <td>8797.5</td>\n",
       "      <td>200.0</td>\n",
       "      <td>8000.0</td>\n",
       "      <td>185.0</td>\n",
       "      <td>20.979</td>\n",
       "      <td>50.0</td>\n",
       "      <td>5.67</td>\n",
       "    </tr>\n",
       "  </tbody>\n",
       "</table>\n",
       "</div>"
      ],
      "text/plain": [
       "           ideval coderucher  year numruche  anneeRuche datecoleval visites  \\\n",
       "158  v1R16C092020        R16  2020      C09      2018.0  2020-04-15      v1   \n",
       "\n",
       "    heurecoleval evaluateur typeCorps typeHausse  nbreHausse etatColonie  \\\n",
       "158           pm     cedric         D        NaN         0.0     colonie   \n",
       "\n",
       "     sumPCabeilleTotal  sumPHabeilleTotal  nbrAbeilleTotal  \\\n",
       "158              345.0                0.0           8797.5   \n",
       "\n",
       "     sumPCcouvfermeTotal  nbrCellCouvFermeTotal  sumPCmiel  dm2miel  \\\n",
       "158                200.0                 8000.0      185.0   20.979   \n",
       "\n",
       "     sumPCpollen  dm2pollen  \n",
       "158         50.0       5.67  "
      ]
     },
     "execution_count": 117,
     "metadata": {},
     "output_type": "execute_result"
    }
   ],
   "source": [
    "coleval_df[\n",
    "        (coleval_df['coderucher'] == patho_row.iloc[0, 1]) & \n",
    "        (coleval_df['year'] == 2020) &\n",
    "        (coleval_df['numruche'] == patho_row.iloc[0, 2]) &\n",
    "        (coleval_df['visites'] == patho_row.iloc[0, 4].lower())\n",
    "        ]"
   ]
  },
  {
   "cell_type": "code",
   "execution_count": null,
   "id": "229f4a82-7264-4d68-a698-2bb6a3432d9d",
   "metadata": {},
   "outputs": [],
   "source": []
  },
  {
   "cell_type": "code",
   "execution_count": 119,
   "id": "b7a42477-789d-4f0a-8581-610729b60e23",
   "metadata": {},
   "outputs": [
    {
     "data": {
      "text/html": [
       "<div>\n",
       "<style scoped>\n",
       "    .dataframe tbody tr th:only-of-type {\n",
       "        vertical-align: middle;\n",
       "    }\n",
       "\n",
       "    .dataframe tbody tr th {\n",
       "        vertical-align: top;\n",
       "    }\n",
       "\n",
       "    .dataframe thead th {\n",
       "        text-align: right;\n",
       "    }\n",
       "</style>\n",
       "<table border=\"1\" class=\"dataframe\">\n",
       "  <thead>\n",
       "    <tr style=\"text-align: right;\">\n",
       "      <th></th>\n",
       "      <th>ideval</th>\n",
       "      <th>coderucher</th>\n",
       "      <th>year</th>\n",
       "      <th>numruche</th>\n",
       "      <th>anneeRuche</th>\n",
       "      <th>datecoleval</th>\n",
       "      <th>visites</th>\n",
       "      <th>heurecoleval</th>\n",
       "      <th>evaluateur</th>\n",
       "      <th>typeCorps</th>\n",
       "      <th>typeHausse</th>\n",
       "      <th>nbreHausse</th>\n",
       "      <th>etatColonie</th>\n",
       "      <th>sumPCabeilleTotal</th>\n",
       "      <th>sumPHabeilleTotal</th>\n",
       "      <th>nbrAbeilleTotal</th>\n",
       "      <th>sumPCcouvfermeTotal</th>\n",
       "      <th>nbrCellCouvFermeTotal</th>\n",
       "      <th>sumPCmiel</th>\n",
       "      <th>dm2miel</th>\n",
       "      <th>sumPCpollen</th>\n",
       "      <th>dm2pollen</th>\n",
       "    </tr>\n",
       "  </thead>\n",
       "  <tbody>\n",
       "    <tr>\n",
       "      <th>158</th>\n",
       "      <td>v1R16C092019</td>\n",
       "      <td>R16</td>\n",
       "      <td>2019</td>\n",
       "      <td>C09</td>\n",
       "      <td>2018.0</td>\n",
       "      <td>2019-04-23</td>\n",
       "      <td>v1</td>\n",
       "      <td>pm</td>\n",
       "      <td>cedric</td>\n",
       "      <td>D</td>\n",
       "      <td>NaN</td>\n",
       "      <td>0.0</td>\n",
       "      <td>colonie</td>\n",
       "      <td>190.0</td>\n",
       "      <td>0.0</td>\n",
       "      <td>4845.0</td>\n",
       "      <td>220.0</td>\n",
       "      <td>8800.0</td>\n",
       "      <td>95.0</td>\n",
       "      <td>10.773</td>\n",
       "      <td>100.0</td>\n",
       "      <td>11.34</td>\n",
       "    </tr>\n",
       "  </tbody>\n",
       "</table>\n",
       "</div>"
      ],
      "text/plain": [
       "           ideval coderucher  year numruche  anneeRuche datecoleval visites  \\\n",
       "158  v1R16C092019        R16  2019      C09      2018.0  2019-04-23      v1   \n",
       "\n",
       "    heurecoleval evaluateur typeCorps typeHausse  nbreHausse etatColonie  \\\n",
       "158           pm     cedric         D        NaN         0.0     colonie   \n",
       "\n",
       "     sumPCabeilleTotal  sumPHabeilleTotal  nbrAbeilleTotal  \\\n",
       "158              190.0                0.0           4845.0   \n",
       "\n",
       "     sumPCcouvfermeTotal  nbrCellCouvFermeTotal  sumPCmiel  dm2miel  \\\n",
       "158                220.0                 8800.0       95.0   10.773   \n",
       "\n",
       "     sumPCpollen  dm2pollen  \n",
       "158        100.0      11.34  "
      ]
     },
     "execution_count": 119,
     "metadata": {},
     "output_type": "execute_result"
    }
   ],
   "source": [
    "get_coleval_row(coleval_df, df_all[original_index:original_index+1])"
   ]
  },
  {
   "cell_type": "code",
   "execution_count": null,
   "id": "e6c80a83-e966-4915-8a3d-76784ec54dbe",
   "metadata": {},
   "outputs": [],
   "source": [
    "patho_row "
   ]
  },
  {
   "cell_type": "markdown",
   "id": "e3f52ac0-e133-4d8c-ade1-cee2e92bae0d",
   "metadata": {},
   "source": [
    "TO DO:\n",
    "-  validate I understood correctly these tables...\n",
    "- \n",
    "-  understand clusters\n",
    "-  think abundances (how treat absences, mask value when absent)\n"
   ]
  },
  {
   "cell_type": "markdown",
   "id": "7b799144-a3eb-4c67-b882-28800a74b8c1",
   "metadata": {},
   "source": [
    "# Sample selections"
   ]
  },
  {
   "cell_type": "code",
   "execution_count": 69,
   "id": "eb3efd1b-c423-414a-920f-7701944d565d",
   "metadata": {},
   "outputs": [
    {
     "name": "stderr",
     "output_type": "stream",
     "text": [
      "/tmp/ipykernel_172259/3498131122.py:3: SettingWithCopyWarning: \n",
      "A value is trying to be set on a copy of a slice from a DataFrame.\n",
      "Try using .loc[row_indexer,col_indexer] = value instead\n",
      "\n",
      "See the caveats in the documentation: https://pandas.pydata.org/pandas-docs/stable/user_guide/indexing.html#returning-a-view-versus-a-copy\n",
      "  mp_df['Melissococcus plutonius Ct value'] = np.array(mp_df['Melissococcus plutonius Ct value'].to_numpy(), dtype=float)\n"
     ]
    }
   ],
   "source": [
    "mp_df = df_all[~df_all['Melissococcus plutonius Ct value'].isin({'flat', 'flat !', np.nan, 'X'})]\n",
    "\n",
    "mp_df['Melissococcus plutonius Ct value'] = np.array(mp_df['Melissococcus plutonius Ct value'].to_numpy(), dtype=float)"
   ]
  },
  {
   "cell_type": "code",
   "execution_count": 70,
   "id": "eafdb1c5-2b5a-4dbf-a25c-18e923c05277",
   "metadata": {},
   "outputs": [
    {
     "data": {
      "text/plain": [
       "<Axes: xlabel='Melissococcus plutonius Ct value', ylabel='Count'>"
      ]
     },
     "execution_count": 70,
     "metadata": {},
     "output_type": "execute_result"
    },
    {
     "data": {
      "image/png": "[encoded data removed]",
      "text/plain": [
       "<Figure size 640x480 with 1 Axes>"
      ]
     },
     "metadata": {},
     "output_type": "display_data"
    }
   ],
   "source": [
    "sns.histplot(mp_df['Melissococcus plutonius Ct value'], bins=50)"
   ]
  },
  {
   "cell_type": "code",
   "execution_count": 91,
   "id": "aae6fd97-9ba6-4436-a292-a2966c2eb973",
   "metadata": {},
   "outputs": [
    {
     "data": {
      "text/html": [
       "<div>\n",
       "<style scoped>\n",
       "    .dataframe tbody tr th:only-of-type {\n",
       "        vertical-align: middle;\n",
       "    }\n",
       "\n",
       "    .dataframe tbody tr th {\n",
       "        vertical-align: top;\n",
       "    }\n",
       "\n",
       "    .dataframe thead th {\n",
       "        text-align: right;\n",
       "    }\n",
       "</style>\n",
       "<table border=\"1\" class=\"dataframe\">\n",
       "  <thead>\n",
       "    <tr style=\"text-align: right;\">\n",
       "      <th></th>\n",
       "      <th>N° tube</th>\n",
       "      <th>Rucher</th>\n",
       "      <th>Colonie</th>\n",
       "      <th>Date</th>\n",
       "      <th>Visite</th>\n",
       "      <th>Melissococcus plutonius Ct value</th>\n",
       "      <th>Melissococcus plutonius Detected</th>\n",
       "      <th>Paenibacillus larvae Ct value</th>\n",
       "      <th>Paenibacillus larvae Detected</th>\n",
       "      <th>Ascosphera Ct value</th>\n",
       "      <th>Ascosphera Detected</th>\n",
       "      <th>Nosema ceranae Ct value</th>\n",
       "      <th>Nosema ceranae Detected</th>\n",
       "      <th>Nosema apis Ct value</th>\n",
       "      <th>Nosema apis Detected</th>\n",
       "      <th>DWV A Ct value</th>\n",
       "      <th>DWV A Detected</th>\n",
       "      <th>DWV B Ct value</th>\n",
       "      <th>DWV B delta Ct</th>\n",
       "      <th>DWV B Detected</th>\n",
       "      <th>DWV C Ct value</th>\n",
       "      <th>DWV C delta Ct</th>\n",
       "      <th>DWV C Detected</th>\n",
       "      <th>SBV Ct value</th>\n",
       "      <th>SBV delta Ct</th>\n",
       "      <th>SBV Detected</th>\n",
       "      <th>BCQV Ct value</th>\n",
       "      <th>BCQV delta Ct</th>\n",
       "      <th>BCQV Detected</th>\n",
       "      <th>ABPV Ct value</th>\n",
       "      <th>ABPV delta Ct</th>\n",
       "      <th>ABPV Detected</th>\n",
       "      <th>KBV Ct value</th>\n",
       "      <th>KBV delta Ct</th>\n",
       "      <th>KBV Detected</th>\n",
       "      <th>IAPV Ct value</th>\n",
       "      <th>IAPV delta Ct</th>\n",
       "      <th>IAPV Detected</th>\n",
       "      <th>DWV A delta Ct</th>\n",
       "    </tr>\n",
       "  </thead>\n",
       "  <tbody>\n",
       "    <tr>\n",
       "      <th>1290</th>\n",
       "      <td>503</td>\n",
       "      <td>R16</td>\n",
       "      <td>C09</td>\n",
       "      <td>2019-04-23 00:00:00</td>\n",
       "      <td>V1</td>\n",
       "      <td>27.475</td>\n",
       "      <td>+</td>\n",
       "      <td>18.99</td>\n",
       "      <td>+</td>\n",
       "      <td>27.495</td>\n",
       "      <td>-</td>\n",
       "      <td>25.27</td>\n",
       "      <td>+</td>\n",
       "      <td>flat</td>\n",
       "      <td>-</td>\n",
       "      <td>NaN</td>\n",
       "      <td>-</td>\n",
       "      <td>NaN</td>\n",
       "      <td>NaN</td>\n",
       "      <td>-</td>\n",
       "      <td>NaN</td>\n",
       "      <td>NaN</td>\n",
       "      <td>-</td>\n",
       "      <td>31.36</td>\n",
       "      <td>NaN</td>\n",
       "      <td>-</td>\n",
       "      <td>flat</td>\n",
       "      <td>NaN</td>\n",
       "      <td>-</td>\n",
       "      <td>NaN</td>\n",
       "      <td>NaN</td>\n",
       "      <td>-</td>\n",
       "      <td>NaN</td>\n",
       "      <td>NaN</td>\n",
       "      <td>-</td>\n",
       "      <td>NaN</td>\n",
       "      <td>NaN</td>\n",
       "      <td>-</td>\n",
       "      <td>NaN</td>\n",
       "    </tr>\n",
       "  </tbody>\n",
       "</table>\n",
       "</div>"
      ],
      "text/plain": [
       "     N° tube Rucher Colonie                 Date Visite  \\\n",
       "1290     503    R16     C09  2019-04-23 00:00:00     V1   \n",
       "\n",
       "     Melissococcus plutonius Ct value Melissococcus plutonius Detected  \\\n",
       "1290                           27.475                                +   \n",
       "\n",
       "     Paenibacillus larvae Ct value Paenibacillus larvae Detected  \\\n",
       "1290                         18.99                             +   \n",
       "\n",
       "     Ascosphera Ct value Ascosphera Detected Nosema ceranae Ct value  \\\n",
       "1290              27.495                   -                   25.27   \n",
       "\n",
       "     Nosema ceranae Detected Nosema apis Ct value Nosema apis Detected  \\\n",
       "1290                       +                 flat                    -   \n",
       "\n",
       "     DWV A Ct value DWV A Detected DWV B Ct value DWV B delta Ct  \\\n",
       "1290            NaN              -            NaN            NaN   \n",
       "\n",
       "     DWV B Detected DWV C Ct value DWV C delta Ct DWV C Detected SBV Ct value  \\\n",
       "1290              -            NaN            NaN              -        31.36   \n",
       "\n",
       "     SBV delta Ct SBV Detected BCQV Ct value BCQV delta Ct BCQV Detected  \\\n",
       "1290          NaN            -          flat           NaN             -   \n",
       "\n",
       "     ABPV Ct value ABPV delta Ct ABPV Detected KBV Ct value KBV delta Ct  \\\n",
       "1290           NaN           NaN             -          NaN          NaN   \n",
       "\n",
       "     KBV Detected IAPV Ct value IAPV delta Ct IAPV Detected DWV A delta Ct  \n",
       "1290            -           NaN           NaN             -            NaN  "
      ]
     },
     "execution_count": 91,
     "metadata": {},
     "output_type": "execute_result"
    }
   ],
   "source": [
    "mp_high = mp_df[mp_df['Melissococcus plutonius Ct value'] < 30].index.to_numpy()\n",
    "mp_med = mp_df[(mp_df['Melissococcus plutonius Ct value'] > 30) & (mp_df['Melissococcus plutonius Ct value'] < 33)].index.to_numpy()\n",
    "mp_low = mp_df[(mp_df['Melissococcus plutonius Ct value'] > 35) & (mp_df['Melissococcus plutonius Ct value'] < 38)].index.to_numpy()\n",
    "\n",
    "df_all.iloc[mp_high, :]"
   ]
  },
  {
   "cell_type": "code",
   "execution_count": 123,
   "id": "4cffc52a-0dbf-43d5-98f3-8ec457035d72",
   "metadata": {},
   "outputs": [
    {
     "name": "stderr",
     "output_type": "stream",
     "text": [
      "/tmp/ipykernel_172259/776051710.py:3: SettingWithCopyWarning: \n",
      "A value is trying to be set on a copy of a slice from a DataFrame.\n",
      "Try using .loc[row_indexer,col_indexer] = value instead\n",
      "\n",
      "See the caveats in the documentation: https://pandas.pydata.org/pandas-docs/stable/user_guide/indexing.html#returning-a-view-versus-a-copy\n",
      "  dwvb_df['DWV B Ct value'] = np.array(dwvb_df['DWV B Ct value'].to_numpy(), dtype=float)\n",
      "/tmp/ipykernel_172259/776051710.py:4: SettingWithCopyWarning: \n",
      "A value is trying to be set on a copy of a slice from a DataFrame.\n",
      "Try using .loc[row_indexer,col_indexer] = value instead\n",
      "\n",
      "See the caveats in the documentation: https://pandas.pydata.org/pandas-docs/stable/user_guide/indexing.html#returning-a-view-versus-a-copy\n",
      "  dwvb_df['DWV B delta Ct'] = np.array(dwvb_df['DWV B delta Ct'].to_numpy(), dtype=float)\n"
     ]
    }
   ],
   "source": [
    "dwvb_df = df_all[~df_all['DWV B Ct value'].isin({'flat', 'flat ', 'flat !', np.nan, 'X'})]\n",
    "\n",
    "dwvb_df['DWV B Ct value'] = np.array(dwvb_df['DWV B Ct value'].to_numpy(), dtype=float)\n",
    "dwvb_df['DWV B delta Ct'] = np.array(dwvb_df['DWV B delta Ct'].to_numpy(), dtype=float)"
   ]
  },
  {
   "cell_type": "code",
   "execution_count": 130,
   "id": "84f234c4-b6f6-4bb3-87de-8f70e93870ee",
   "metadata": {},
   "outputs": [
    {
     "data": {
      "text/plain": [
       "<Axes: xlabel='DWV B Ct value', ylabel='Count'>"
      ]
     },
     "execution_count": 130,
     "metadata": {},
     "output_type": "execute_result"
    },
    {
     "data": {
      "image/png": "[encoded data removed]",
      "text/plain": [
       "<Figure size 640x480 with 1 Axes>"
      ]
     },
     "metadata": {},
     "output_type": "display_data"
    }
   ],
   "source": [
    "sns.histplot(dwvb_df['DWV B Ct value'], bins=50)"
   ]
  },
  {
   "cell_type": "code",
   "execution_count": 133,
   "id": "925895f9-3305-4114-81f1-77d4b02bd947",
   "metadata": {},
   "outputs": [
    {
     "data": {
      "text/plain": [
       "<Axes: xlabel='DWV B Ct value', ylabel='DWV B delta Ct'>"
      ]
     },
     "execution_count": 133,
     "metadata": {},
     "output_type": "execute_result"
    },
    {
     "data": {
      "image/png": "[encoded data removed]",
      "text/plain": [
       "<Figure size 640x480 with 1 Axes>"
      ]
     },
     "metadata": {},
     "output_type": "display_data"
    }
   ],
   "source": [
    "sns.scatterplot(data=dwvb_df, x='DWV B Ct value', y='DWV B delta Ct')"
   ]
  },
  {
   "cell_type": "code",
   "execution_count": 129,
   "id": "624b6eca-4f22-434e-9821-ba0d928cf58e",
   "metadata": {
    "scrolled": true
   },
   "outputs": [
    {
     "data": {
      "text/plain": [
       "<Axes: xlabel='DWV B delta Ct', ylabel='Count'>"
      ]
     },
     "execution_count": 129,
     "metadata": {},
     "output_type": "execute_result"
    },
    {
     "data": {
      "image/png": "[encoded data removed]",
      "text/plain": [
       "<Figure size 640x480 with 1 Axes>"
      ]
     },
     "metadata": {},
     "output_type": "display_data"
    }
   ],
   "source": [
    "sns.histplot(dwvb_df['DWV B delta Ct'], bins=50)"
   ]
  },
  {
   "cell_type": "code",
   "execution_count": 141,
   "id": "452f7634-f71a-41af-8dd1-cf5a653758db",
   "metadata": {},
   "outputs": [],
   "source": [
    "from itertools import product"
   ]
  },
  {
   "cell_type": "code",
   "execution_count": 134,
   "id": "f88e0b37-fd30-4e9f-b502-3f780b2e52f9",
   "metadata": {},
   "outputs": [],
   "source": [
    "dwvb_low = dwvb_df[(dwvb_df['DWV B delta Ct'] > -15) & (dwvb_df['DWV B delta Ct'] < -5)].index.to_numpy()\n",
    "dwvb_med = dwvb_df[(dwvb_df['DWV B delta Ct'] > 5) & (dwvb_df['DWV B delta Ct'] < 10)].index.to_numpy()\n",
    "dwvb_high = dwvb_df[(dwvb_df['DWV B delta Ct'] > 15) & (dwvb_df['DWV B delta Ct'] < 25)].index.to_numpy()"
   ]
  },
  {
   "cell_type": "code",
   "execution_count": 143,
   "id": "2dac710a-791d-4d9b-b51d-6e84e1113a55",
   "metadata": {},
   "outputs": [
    {
     "name": "stdout",
     "output_type": "stream",
     "text": [
      "set()\n",
      "set()\n",
      "set()\n",
      "{2753, 2777, 3981, 3404}\n",
      "set()\n",
      "set()\n",
      "set()\n",
      "set()\n",
      "set()\n"
     ]
    }
   ],
   "source": [
    "for a, b in product([dwvb_low, dwvb_med, dwvb_high], [mp_low, mp_med, mp_high]):\n",
    "    print(set(a).intersection(b))"
   ]
  },
  {
   "cell_type": "code",
   "execution_count": 147,
   "id": "e928674a-0a40-4c42-9c47-acbbb2a2bf04",
   "metadata": {},
   "outputs": [
    {
     "data": {
      "text/plain": [
       "{2753, 2777, 3404, 3981}"
      ]
     },
     "execution_count": 147,
     "metadata": {},
     "output_type": "execute_result"
    }
   ],
   "source": [
    "# pick med here\n",
    "set(dwvb_med).intersection(mp_low)"
   ]
  },
  {
   "cell_type": "code",
   "execution_count": 153,
   "id": "247efaa5-c7df-4be5-b1d8-546175940a4e",
   "metadata": {},
   "outputs": [],
   "source": [
    "dwvba = df_all[(df_all['DWV B Detected'] == '+') & (df_all['DWV A Detected'] == '+')].index.to_numpy()"
   ]
  },
  {
   "cell_type": "code",
   "execution_count": 160,
   "id": "4e32a066-e01c-4d66-ad9c-afe46de7a6fe",
   "metadata": {},
   "outputs": [
    {
     "data": {
      "text/plain": [
       "array([ 886, 1405, 1621, 1627, 1649, 1694, 1745, 2641, 2689, 2715, 2729,\n",
       "       2767, 3828, 3839, 3846, 3855, 3927, 4014])"
      ]
     },
     "execution_count": 160,
     "metadata": {},
     "output_type": "execute_result"
    }
   ],
   "source": [
    "np.intersect1d()"
   ]
  },
  {
   "cell_type": "code",
   "execution_count": 172,
   "id": "888c14a0-65f2-4cd2-be6e-3f4856ee5b2d",
   "metadata": {},
   "outputs": [
    {
     "data": {
      "text/plain": [
       "{1785}"
      ]
     },
     "execution_count": 172,
     "metadata": {},
     "output_type": "execute_result"
    }
   ],
   "source": [
    "#  both deformed wings variants\n",
    "set(list(dwvb_high)).intersection(dwvba)"
   ]
  },
  {
   "cell_type": "markdown",
   "id": "a419fd41-1f44-4d85-8d9b-3827054fc37a",
   "metadata": {},
   "source": [
    "1785: high DWV B & presence of DWV A\n",
    "[2753, 2777, 3981, 3404] : med dwvb and low MP\n"
   ]
  },
  {
   "cell_type": "code",
   "execution_count": 195,
   "id": "2ba3e6af-d994-4344-b935-0fe29b1b6994",
   "metadata": {},
   "outputs": [],
   "source": [
    "cand_samples = [1785] + [2753, 2777, 3981, 3404] + list(dwvb_low) + list(mp_med) + list(mp_high) + [3496]"
   ]
  },
  {
   "cell_type": "code",
   "execution_count": 196,
   "id": "2ca0abea-1f27-4421-9653-fdcc470974fc",
   "metadata": {},
   "outputs": [
    {
     "data": {
      "image/png": "[encoded data removed]",
      "text/plain": [
       "<Figure size 1200x1000 with 2 Axes>"
      ]
     },
     "metadata": {},
     "output_type": "display_data"
    }
   ],
   "source": [
    "plt.figure(figsize=(12, 10))\n",
    "cg = sns.heatmap(df_prev.iloc[cand_samples, :])\n",
    "plt.show()"
   ]
  },
  {
   "cell_type": "markdown",
   "id": "472183d2-3d9a-42b8-b65f-d8b203c91f0f",
   "metadata": {},
   "source": []
  },
  {
   "cell_type": "code",
   "execution_count": null,
   "id": "e3ad3cdd-cba2-4bbc-bd0b-2fa5ffc94509",
   "metadata": {},
   "outputs": [],
   "source": []
  },
  {
   "cell_type": "code",
   "execution_count": 171,
   "id": "c09c873f-7b28-40da-974c-52f11624de1b",
   "metadata": {},
   "outputs": [
    {
     "data": {
      "text/plain": [
       "array([ 886, 1405, 1621, 1627, 1649, 1694, 1745, 2641, 2689, 2715, 2729,\n",
       "       2767, 3828, 3839, 3846, 3855, 3927, 4014])"
      ]
     },
     "execution_count": 171,
     "metadata": {},
     "output_type": "execute_result"
    }
   ],
   "source": [
    "dwvb_low"
   ]
  },
  {
   "cell_type": "code",
   "execution_count": 155,
   "id": "4706085c-cfe6-488b-b804-a333184278fc",
   "metadata": {},
   "outputs": [
    {
     "ename": "ValueError",
     "evalue": "setting an array element with a sequence. The requested array has an inhomogeneous shape after 1 dimensions. The detected shape was (3,) + inhomogeneous part.",
     "output_type": "error",
     "traceback": [
      "\u001b[0;31m---------------------------------------------------------------------------\u001b[0m",
      "\u001b[0;31mValueError\u001b[0m                                Traceback (most recent call last)",
      "Cell \u001b[0;32mIn[155], line 1\u001b[0m\n\u001b[0;32m----> 1\u001b[0m \u001b[43mnp\u001b[49m\u001b[38;5;241;43m.\u001b[39;49m\u001b[43marray\u001b[49m\u001b[43m(\u001b[49m\u001b[43m[\u001b[49m\u001b[43mdwvb_low\u001b[49m\u001b[43m,\u001b[49m\u001b[43m \u001b[49m\u001b[43mdwvb_med\u001b[49m\u001b[43m,\u001b[49m\u001b[43m \u001b[49m\u001b[43mdwvb_high\u001b[49m\u001b[43m]\u001b[49m\u001b[43m)\u001b[49m\u001b[38;5;241m.\u001b[39mflatten()\n",
      "\u001b[0;31mValueError\u001b[0m: setting an array element with a sequence. The requested array has an inhomogeneous shape after 1 dimensions. The detected shape was (3,) + inhomogeneous part."
     ]
    }
   ],
   "source": [
    "np.array([dwvb_low, dwvb_med, dwvb_high]).flatten()\n",
    "\n"
   ]
  },
  {
   "cell_type": "code",
   "execution_count": 150,
   "id": "a0b908f6-98af-4cc0-a635-0a9b1ded47b4",
   "metadata": {
    "scrolled": true
   },
   "outputs": [
    {
     "data": {
      "text/plain": [
       "Index(['N° tube', 'Rucher', 'Colonie', 'Date', 'Visite',\n",
       "       'Melissococcus plutonius Ct value', 'Melissococcus plutonius Detected',\n",
       "       'Paenibacillus larvae Ct value', 'Paenibacillus larvae Detected',\n",
       "       'Ascosphera Ct value', 'Ascosphera Detected', 'Nosema ceranae Ct value',\n",
       "       'Nosema ceranae Detected', 'Nosema apis Ct value',\n",
       "       'Nosema apis Detected', 'DWV A Ct value', 'DWV A Detected',\n",
       "       'DWV B Ct value', 'DWV B delta Ct', 'DWV B Detected', 'DWV C Ct value',\n",
       "       'DWV C delta Ct', 'DWV C Detected', 'SBV Ct value', 'SBV delta Ct',\n",
       "       'SBV Detected', 'BCQV Ct value', 'BCQV delta Ct', 'BCQV Detected',\n",
       "       'ABPV Ct value', 'ABPV delta Ct', 'ABPV Detected', 'KBV Ct value',\n",
       "       'KBV delta Ct', 'KBV Detected', 'IAPV Ct value', 'IAPV delta Ct',\n",
       "       'IAPV Detected', 'DWV A delta Ct'],\n",
       "      dtype='object')"
      ]
     },
     "execution_count": 150,
     "metadata": {},
     "output_type": "execute_result"
    }
   ],
   "source": [
    "df_all.columns"
   ]
  },
  {
   "cell_type": "code",
   "execution_count": null,
   "id": "8094b947-5d7c-4700-af14-847c2ce805ba",
   "metadata": {},
   "outputs": [],
   "source": []
  },
  {
   "cell_type": "code",
   "execution_count": null,
   "id": "5e93edb5-7202-4194-a56c-ad7f29696648",
   "metadata": {},
   "outputs": [],
   "source": [
    "sns.histplot(dwvb_df['DWV B Ct value'], bins=50)"
   ]
  }
 ],
 "metadata": {
  "kernelspec": {
   "display_name": "Python 3 (ipykernel)",
   "language": "python",
   "name": "python3"
  },
  "language_info": {
   "codemirror_mode": {
    "name": "ipython",
    "version": 3
   },
   "file_extension": ".py",
   "mimetype": "text/x-python",
   "name": "python",
   "nbconvert_exporter": "python",
   "pygments_lexer": "ipython3",
   "version": "3.9.21"
  }
 },
 "nbformat": 4,
 "nbformat_minor": 5
}
