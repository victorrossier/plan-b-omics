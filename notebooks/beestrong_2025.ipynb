{
 "cells": [
  {
   "cell_type": "code",
   "execution_count": null,
   "id": "79dee085-82c2-45c5-96f6-89f48b5b8c2f",
   "metadata": {},
   "outputs": [],
   "source": [
    "import matplotlib.pyplot as plt\n",
    "from ete3 import NCBITaxa\n",
    "import seaborn as sns\n",
    "import pandas as pd\n",
    "import numpy as np\n",
    "import glob\n",
    "from itertools import repeat, product, chain\n",
    "from collections import defaultdict\n",
    "import plotly.express as px\n",
    "import plotly\n",
    "import random\n",
    "import pickle\n",
    "from sklearn.preprocessing import StandardScaler\n",
    "from tqdm import tqdm as tqdm\n",
    "import os \n",
    "import shutil\n",
    "import requests\n",
    "import subprocess\n",
    "from datetime import datetime\n",
    "import collections\n",
    "import math\n",
    "import matplotlib.colors as mcolors\n",
    "from matplotlib.patches import Patch\n",
    "from sklearn.decomposition import PCA\n",
    "\n",
    "pd.set_option('display.max_columns', None)\n",
    "#pd.set_option('display.max_rows', None)\n",
    "\n",
    "# to disable ssl certificate check for downloading ncbi taxonomy\n",
    "import ssl\n",
    "ssl._create_default_https_context = ssl._create_unverified_context\n",
    "ncbi = NCBITaxa()\n",
    "# ncbi.update_taxonomy_database()\n",
    "\n",
    "home_path = '/cluster/raid/home/f80878961/'\n",
    "script_path ='{}scripts/'.format(home_path)\n",
    "working_path = '{}phenotypes/'.format(home_path)\n",
    "fig_path = '/agsad/f80878961/Data-Raw/23_Livestock-PO/235_Bee_ZBF/planB/figures/'\n",
    "\n",
    "extract_kraken_reads_script = '{}KrakenTools/extract_kraken_reads.py'.format(script_path)\n",
    "create_kreport_script = '{}KrakenTools/make_kreport.py'.format(script_path)\n",
    "\n",
    "# phenotype data\n",
    "pheno_df = pd.read_csv('{}phenotype_suisse.csv'.format(working_path), sep=';')\n",
    "pheno_df.index = pheno_df['N°-Ruche-BeeStrong']\n",
    "\n",
    "# parse Sonia data\n",
    "mito_df = pd.read_csv('{}varroa_seq_suisse.csv'.format(working_path), sep=';', usecols=range(6))\n",
    "mito_df = mito_df[mito_df['name'] <= 'BS18-0185']"
   ]
  },
  {
   "cell_type": "markdown",
   "id": "f6731614-92cd-4f9e-b389-2206a4422d27",
   "metadata": {},
   "source": [
    "## slurm"
   ]
  },
  {
   "cell_type": "code",
   "execution_count": null,
   "id": "3e22c0ee-9015-4b02-9364-06e239071d83",
   "metadata": {},
   "outputs": [],
   "source": [
    "def write_preprocessing_script(script_fn, array_str, node_str):\n",
    "    runstr=\"\"\"#!/bin/bash -l\n",
    "#SBATCH --array=ARRAY_STRING\n",
    "#SBATCH --nodes=1\n",
    "#SBATCH --ntasks=1\n",
    "#SBATCH --nodelist=NODE_STRING\n",
    "#SBATCH --mem=100g\n",
    "#SBATCH --time=6:00:00\n",
    "#SBATCH --job-name=pp\n",
    "#SBATCH --output=%x_%A_%a.out\n",
    "#SBATCH --error=%x_%A_%a.err\n",
    "\n",
    "modulesld\n",
    "ebld\n",
    "module use /software/anaconda3/envs/eb/easybuild/modules/all\n",
    "ml SRA-Toolkit\n",
    "ml cutadapt\n",
    "ml FastQC\n",
    "\n",
    "# file listing all BeeStrong ids (bs_id) for parallel computing\n",
    "bs_ids_file=$1\n",
    "sra_path=$2\n",
    "fastq_path=$3\n",
    "sample_SRA_file=$4\n",
    "\n",
    "# work on scratch node is better when lots of I/O operations\n",
    "node_scratch=/scratch/${USER}/tmp_${SLURM_ARRAY_JOB_ID}_${SLURM_ARRAY_TASK_ID}/\n",
    "mkdir -p $node_scratch\n",
    "\n",
    "# getting bs_id\n",
    "bs_id=$(sed -n ${SLURM_ARRAY_TASK_ID}'{p;q}' ${bs_ids_file})\n",
    "\n",
    "echo \"1. find all SRA ids corresponding to the bs_id and copy them to the scrach node\"\n",
    "sra_ids=()\n",
    "for sra in $(grep $bs_id $sample_SRA_file | cut -f 2); do\n",
    "    sra_ids+=($sra)\n",
    "    echo $sra_path$sra\n",
    "    cp -r $sra_path$sra $node_scratch\n",
    "done\n",
    "\n",
    "# initiate fastq files\n",
    "fastq_1=$node_scratch${bs_id}_1.fastq\n",
    "fastq_2=$node_scratch${bs_id}_2.fastq\n",
    "touch $fastq_1\n",
    "touch $fastq_2\n",
    "\n",
    "echo \"2. concatenate fastq from multiple SRA files and clean\"\n",
    "for sra in \"${sra_ids[@]}\"; do\n",
    "    ls $node_scratch$sra\n",
    "    fasterq-dump $node_scratch$sra -O $node_scratch\n",
    "    cat ${node_scratch}${sra}_1.fastq >> $fastq_1\n",
    "    cat ${node_scratch}${sra}_2.fastq >> $fastq_2\n",
    "    rm -f ${node_scratch}${sra}_1.fastq\n",
    "    rm -f ${node_scratch}${sra}_2.fastq\n",
    "done\n",
    "\n",
    "echo \"3. trim poly-G tails\"\n",
    "fastq_1_t=$node_scratch${bs_id}_1_trim.fastq\n",
    "fastq_2_t=$node_scratch${bs_id}_2_trim.fastq\n",
    "\n",
    "cutadapt -a \"G{10}\" -A \"G{10}\" -m 50 -o $fastq_1_t -p $fastq_2_t $fastq_1 $fastq_2\n",
    "\n",
    "mv -f $fastq_1_t $fastq_1\n",
    "mv -f $fastq_2_t $fastq_2\n",
    "\n",
    "echo \"4. FastQC\"\n",
    "fastqc $fastq_1 $fastq_2\n",
    "\n",
    "echo \"5. compress\"\n",
    "gzip -f $fastq_1 $fastq_2\n",
    "\n",
    "echo \"6. copy to home and clean\"\n",
    "mv -f $node_scratch${bs_id}* $fastq_path\n",
    "rm -rf $node_scratch\n",
    "\n",
    "echo DONE\"\"\".replace(\"ARRAY_STRING\", array_str).replace(\"NODE_STRING\", node_str)\n",
    "    with open(script_fn, 'w') as outf:\n",
    "        outf.write(runstr)\n",
    "\n",
    "def write_bowtie2_script_home(script_fn, array_str):\n",
    "    runstr=\"\"\"#!/bin/bash -l\n",
    "#SBATCH --array=ARRAY_STR\n",
    "#SBATCH --nodes=1\n",
    "#SBATCH --ntasks=8\n",
    "#SBATCH --mem=30g\n",
    "#SBATCH --time=04:00:00\n",
    "#SBATCH --job-name=bowtie2\n",
    "#SBATCH --output=%x_%A_%a.out\n",
    "#SBATCH --error=%x_%A_%a.err\n",
    "\n",
    "modulesld\n",
    "ebld\n",
    "module use /software/anaconda3/envs/eb/easybuild/modules/all\n",
    "ml Bowtie2\n",
    "ml SAMtools\n",
    "\n",
    "idx_path=$1\n",
    "idx_name=$2\n",
    "fastq_path=$3\n",
    "bowtie2_path=$4\n",
    "bs_ids_file=$5\n",
    "\n",
    "# getting bs_id\n",
    "bs_id=$(sed -n ${SLURM_ARRAY_TASK_ID}'{p;q}' ${bs_ids_file})\n",
    "\n",
    "fastq_1=$fastq_path${bs_id}_1.fastq.gz\n",
    "fastq_2=$fastq_path${bs_id}_2.fastq.gz\n",
    "ls -lh $fastq_1\n",
    "ls -lh $fastq_2\n",
    "\n",
    "echo \"1. bowtie2\"\n",
    "unmapped_prefix=${bowtie2_path}${bs_id}_${idx_name}_unmapped\n",
    "mapped_prefix=${bowtie2_path}${bs_id}_${idx_name}_mapped\n",
    "bowtie2 -x  ${idx_path}${idx_name} -p 8 -1 $fastq_1 -2 $fastq_2 --un-conc ${unmapped_prefix}.fastq -S ${mapped_prefix}.sam > ${bowtie2_path}${bs_id}_${idx_name}.out 2>&1\n",
    "\n",
    "echo \"3. SAM to BAM\"\n",
    "samtools view -S -b ${mapped_prefix}.sam > ${mapped_prefix}.bam\n",
    "\n",
    "echo \"4. compress\"\n",
    "gzip -f ${unmapped_prefix}.1.fastq \n",
    "gzip -f ${unmapped_prefix}.2.fastq\n",
    "rm -f ${mapped_prefix}.sam\n",
    "\n",
    "echo DONE\"\"\".replace(\n",
    "    'ARRAY_STR', array_str)\n",
    "    with open(script_fn, 'w') as outf:\n",
    "        outf.write(runstr)\n",
    "\n",
    "def write_kraken2_script(kraken2_script_fn, array_str, read_pool, min_hit_grps, confidence):\n",
    "    conf_str = str(confidence).replace('.', '')\n",
    "    kraken2_runstr=\"\"\"#!/bin/bash -l\n",
    "#SBATCH --array=ARRAY_STR\n",
    "#SBATCH --nodes=1\n",
    "#SBATCH --ntasks=1\n",
    "#SBATCH --mem=400g\n",
    "#SBATCH --time=02:00:00\n",
    "#SBATCH --job-name=kraken2\n",
    "#SBATCH --output=%x_%A_%a.out\n",
    "#SBATCH --error=%x_%A_%a.err\n",
    "\n",
    "modulesld\n",
    "ebld\n",
    "module use /software/anaconda3/envs/eb/easybuild/modules/all\n",
    "conda activate planb\n",
    "which kraken2\n",
    "\n",
    "kdb_path=$1\n",
    "kdb_name=$2\n",
    "bowtie2_path=$3\n",
    "kraken2_path=$4\n",
    "bs_ids_file=$5\n",
    "\n",
    "# getting bs_id\n",
    "bs_id=$(sed -n ${SLURM_ARRAY_TASK_ID}'{p;q}' ${bs_ids_file})\n",
    "\n",
    "fastq_1=${bowtie2_path}${bs_id}_bee_unmapped.1.fastq.gz\n",
    "fastq_2=${bowtie2_path}${bs_id}_bee_unmapped.2.fastq.gz\n",
    "ls -lh $fastq_1\n",
    "ls -lh $fastq_2\n",
    "\n",
    "out_file_id=${kraken2_path}${bs_id}_${kdb_name}_READPOOL_mhgMINHITGROUP_csCONFIDENCESTRING_sf1_rep1\n",
    "echo $out_file_id\n",
    "\n",
    "echo '1. kraken2'\n",
    "kraken2 --threads 8 --db ${kdb_path}${kdb_name} --paired --report-minimizer-data --minimum-hit-groups MINHITGROUP --confidence CONFIDENCESCORE --gzip-compressed --classified-out ${out_file_id}_cseqs#.fq --output ${out_file_id}.kraken2 --report ${out_file_id}.k2report ${fastq_1} ${fastq_2}\n",
    "\n",
    "echo '2. compress mapped reads fastq'\n",
    "gzip -f ${out_file_id}_cseqs_1.fq\n",
    "gzip -f ${out_file_id}_cseqs_2.fq\n",
    "\n",
    "echo DONE\"\"\".replace('ARRAY_STR', array_str).replace('READPOOL', read_pool).replace('MINHITGROUP', min_hit_grps).replace('CONFIDENCESTRING', conf_str).replace('CONFIDENCESCORE', confidence)\n",
    "    with open(kraken2_script_fn, 'w') as outf:\n",
    "        outf.write(kraken2_runstr)\n",
    "        \n",
    "def get_status_job_array_ids(status='RUNNING', job_name='pp'):\n",
    "    command = ['squeue', '-t', status, '-n', job_name, '-o', '%.18i']\n",
    "    result = subprocess.run(command, capture_output=True, text=True)\n",
    "    job_array_ids = []\n",
    "    # to handle pending jobs...\n",
    "    for job_str in result.stdout.split()[1:]:\n",
    "        job_str = job_str.split('_')[1]\n",
    "        if job_str.startswith('['):\n",
    "            split_job_str = job_str[1:].split('%')[0].split(',')\n",
    "            for js in split_job_str:\n",
    "                if len(js.split('-')) > 1:\n",
    "                    x = js.split('-')\n",
    "                    job_array_ids.extend(list(range(int(x[0]), int(x[1]) + 1)))\n",
    "                else:\n",
    "                    job_array_ids.append(int(js))\n",
    "        else:\n",
    "            job_array_ids.append(int(job_str))\n",
    "    return job_array_ids\n",
    "    \n",
    "def write_array_str(array_ids_to_run, parallel_job_nr=100):\n",
    "    '''\n",
    "    convoluted way to build array string (as BSUB argument cannot be too long)\n",
    "    '''\n",
    "    if len(array_ids_to_run) == 1:\n",
    "        return str(array_ids_to_run[0])\n",
    "    array_str_list = []\n",
    "    start = array_ids_to_run[0]\n",
    "    for i in range(1, len(array_ids_to_run)):\n",
    "        curr = array_ids_to_run[i]\n",
    "        prev = array_ids_to_run[i - 1]\n",
    "        if curr != prev + 1:\n",
    "            if start == prev:\n",
    "                array_str_list.append(str(prev))\n",
    "            else:\n",
    "                array_str_list.append('{}-{}'.format(start, prev))\n",
    "            start = curr\n",
    "    # end \n",
    "    if start == prev:\n",
    "        array_str_list.append(str(prev))\n",
    "    else:\n",
    "        array_str_list.append('{}-{}'.format(start, prev + 1)) ## this + 1 is a hack\n",
    "    start = curr\n",
    "    \n",
    "    return '{}%{}'.format(','.join(array_str_list), parallel_job_nr)\n",
    "\n",
    "# def write_bowtie2_script(script_fn, array_str):\n",
    "#     runstr=\"\"\"#!/bin/bash -l\n",
    "# #SBATCH --array={}\n",
    "# #SBATCH --nodes=1\n",
    "# #SBATCH --ntasks=8\n",
    "# #SBATCH --mem=30g\n",
    "# #SBATCH --time=04:00:00\n",
    "# #SBATCH --job-name=bowtie2\n",
    "# #SBATCH --output=%x_%A_%a.out\n",
    "# #SBATCH --error=%x_%A_%a.err\n",
    "# \n",
    "# modulesldv\n",
    "# ebld\n",
    "# module use /xsoftware/anaconda3/envs/eb/easybuild/modules/all\n",
    "# conda activate planb\n",
    "# ml Bowtie2\n",
    "# which bowtie2 \n",
    "# \n",
    "# idx_path=$1\n",
    "# idx_name=$2\n",
    "# input_path=$3\n",
    "# output_path=$4\n",
    "# \n",
    "# cd $output_path\n",
    "# \n",
    "# # padding zeros\n",
    "# printf -v j \"%04d\" $SLURM_ARRAY_TASK_ID\n",
    "# sample_id=BS18-${{j}}\n",
    "# \n",
    "# reads_1=$(ls ${{input_path}}${{sample_id}}*_R1.fastq.gz)\n",
    "# reads_2=$(ls ${{input_path}}${{sample_id}}*_R2.fastq.gz)\n",
    "# echo $reads_1\n",
    "# echo $reads_2\n",
    "# \n",
    "# bowtie2 -x  ${{idx_path}}${{idx_name}} -p 8 -1 ${{reads_1}} -2 ${{reads_2}} --un-conc ${{output_path}}${{sample_id}}_${{idx_name}}_unmapped.fastq -S ${{output_path}}${{sample_id}}_${{idx_name}}_mapped.sam > ${{output_path}}${{sample_id}}_${{idx_name}}.out 2>&1\"\"\".format(\n",
    "#     array_str)\n",
    "#     with open(script_fn, 'w') as outf:\n",
    "#         outf.write(runstr)\n",
    "# \n",
    "# \n",
    "# def write_kraken2_script(kraken2_script_fn, array_str, gzip, read_pool, min_hit_grps, confidence):\n",
    "#     conf_str = str(confidence).replace('.', '')\n",
    "#     kraken2_runstr=\"\"\"#!/bin/bash -l\n",
    "# #SBATCH --array={}\n",
    "# #SBATCH --nodes=1\n",
    "# #SBATCH --ntasks=1\n",
    "# #SBATCH --mem=400g\n",
    "# #SBATCH --time=02:00:00\n",
    "# #SBATCH --job-name=kraken2\n",
    "# #SBATCH --output=%x_%A_%a.out\n",
    "# #SBATCH --error=%x_%A_%a.err\n",
    "# \n",
    "# modulesld\n",
    "# ebld\n",
    "# module use /software/anaconda3/envs/eb/easybuild/modules/all\n",
    "# conda activate planb\n",
    "# which kraken2\n",
    "# which bracken\n",
    "# \n",
    "# kdb_path=$1\n",
    "# kdb_name=$2\n",
    "# input_path=$3\n",
    "# output_path=$4\n",
    "# read_1_suffix=$5\n",
    "# read_2_suffix=$6\n",
    "# \n",
    "# # padding zeros\n",
    "# printf -v j \"%04d\" $SLURM_ARRAY_TASK_ID\n",
    "# sample_id=BS18-${{j}}\n",
    "# out_file_id=${{output_path}}${{sample_id}}_${{kdb_name}}_{}_mhg{}_cs{}_sf1_rep1\n",
    "# \n",
    "# reads_1=$(ls ${{input_path}}${{sample_id}}${{read_1_suffix}})\n",
    "# reads_2=$(ls ${{input_path}}${{sample_id}}${{read_2_suffix}})\n",
    "# # reads_1=$(ls ${{input_path}}${{sample_id}}*_R1.fastq.gz)\n",
    "# # reads_2=$(ls ${{input_path}}${{sample_id}}*_R2.fastq.gz)\n",
    "# echo $reads_1\n",
    "# echo $reads_2\n",
    "# echo $out_file_id\n",
    "# \n",
    "# kraken2 --threads 8 --db ${{kdb_path}}${{kdb_name}} --paired --report-minimizer-data --minimum-hit-groups {} --confidence {} {} --unclassified-out ${{out_file_id}}_ucseqs#.fq --classified-out ${{out_file_id}}_cseqs#.fq --output ${{out_file_id}}.kraken2 --report ${{out_file_id}}.k2report ${{reads_1}} ${{reads_2}}\n",
    "# \"\"\".format(array_str, read_pool, min_hit_grps, conf_str, min_hit_grps, confidence, gzip)\n",
    "#     with open(kraken2_script_fn, 'w') as outf:\n",
    "#         outf.write(kraken2_runstr)\n",
    "# \n",
    "# def write_bracken_script(bracken_script_fn, array_str):\n",
    "#     bracken_runstr=\"\"\"#!/bin/bash -l\n",
    "# #SBATCH --array={}\n",
    "# #SBATCH --nodes=1\n",
    "# #SBATCH --ntasks=1\n",
    "# #SBATCH --mem=20g\n",
    "# #SBATCH --time=01:00:00\n",
    "# #SBATCH --job-name=bracken\n",
    "# #SBATCH --output=%x_%A_%a.out\n",
    "# #SBATCH --error=%x_%A_%a.err\n",
    "# \n",
    "# modulesld\n",
    "# ebld\n",
    "# module use /software/anaconda3/envs/eb/easybuild/modules/all\n",
    "# conda activate planb\n",
    "# which bracken\n",
    "# \n",
    "# kdb_path=$1\n",
    "# kdb_name=$2\n",
    "# kraken_path=$3\n",
    "# bracken_path=$4\n",
    "# j=$SLURM_ARRAY_TASK_ID\n",
    "# \n",
    "# # padding zeros\n",
    "# printf -v j \"%04d\" $SLURM_ARRAY_TASK_ID\n",
    "# file_id=BS18-${{j}}_corent_nonbee_mhg2_cs005_sf1_rep1\n",
    "# k2report_fn=${{kraken_path}}${{file_id}}.k2report\n",
    "# \n",
    "# echo $k2report_fn\n",
    "# \n",
    "# # species\n",
    "# bracken -d ${{kdb_path}}${{kdb_name}} -i ${{k2report_fn}} -r 150 -l S -t 10 -o ${{bracken_path}}${{file_id}}_S.bracken -w ${{bracken_path}}${{file_id}}_S.breport\n",
    "# \n",
    "# # genus\n",
    "# bracken -d ${{kdb_path}}${{kdb_name}} -i ${{k2report_fn}} -r 150 -l G -t 10 -o ${{bracken_path}}${{file_id}}_G.bracken -w ${{bracken_path}}${{file_id}}_G.breport\"\"\".format(array_str)\n",
    "#     with open(bracken_script_fn, 'w') as outf:\n",
    "#         outf.write(bracken_runstr)"
   ]
  },
  {
   "cell_type": "markdown",
   "id": "2557a4e0-9a5f-4021-a82b-7680c89668b6",
   "metadata": {},
   "source": [
    "## other"
   ]
  },
  {
   "cell_type": "code",
   "execution_count": null,
   "id": "9eb1377a-e07a-4650-b396-cfa222948d91",
   "metadata": {},
   "outputs": [],
   "source": [
    "def parse_kreport(file_path, bs_id_str, krakdb, readpool, mhg, cs, sf, r):\n",
    "    kreport_fn = '{}BS18-{}_{}_{}_mhg{}_cs{}_sf{}_rep{}.k2report'.format(file_path, bs_id_str, krakdb, readpool, mhg, cs, str(sf).replace('.', ''), r)\n",
    "    if not os.path.exists(kreport_fn): \n",
    "        print('missing {}'.format(kreport_fn))\n",
    "    with open(kreport_fn, 'r') as inf:\n",
    "        ucseqs_nr = int(inf.readline().split()[1])\n",
    "        cseqs_nr = int(inf.readline().split()[1])\n",
    "    return ucseqs_nr, cseqs_nr\n",
    "\n",
    "def parse_breport(file_path, bs_id_str, krakdb, readpool, mhg, cs, sf, r, level, taxa):\n",
    "    '''get read numbers for taxa'''\n",
    "    breport_fn = '{}BS18-{}_{}_{}_mhg{}_cs{}_sf{}_rep{}_{}.breport'.format(file_path, bs_id_str, krakdb, readpool, mhg, cs, str(sf).replace('.', ''), r, level)\n",
    "    if not os.path.exists(breport_fn): \n",
    "        print('missing {}'.format(breport_fn))\n",
    "    breport_df = pd.read_csv(breport_fn, header=None, sep='\\t')\n",
    "    breport_df[5] = [x.lstrip() for x in breport_df[5].to_list()]\n",
    "    return breport_df[breport_df[5].isin(taxa)].set_index(5)[1].to_dict()\n",
    "\n",
    "\n",
    "def get_total_read_nr(bowtie2_path, bs_id_str):\n",
    "    with open('{}BS18-{}_bee.out'.format(bowtie2_path, bs_id_str), 'r') as inf:\n",
    "        return int(inf.readline().split()[0])\n",
    "    \n",
    "def get_classified_read_nr(bowtie2_path, kraken_path, bracken_path, bs_id_str, krakdb, readpool, mhg, cs, sf, r, level):\n",
    "    '''\n",
    "    Equals the total number of read in the raw fasta minus the number of unclassified reads by Bracken.\n",
    "    For a subsample, I multiple the total number of reads by the sampling fraction (similar to subsampling reads before mapping with bowtie2)\n",
    "    '''\n",
    "    total_read_nr = get_total_read_nr(bowtie2_path, bs_id_str)\n",
    "    kraken_ucread_nr, kraken_cread_nr = parse_kreport(kraken_path, bs_id_str, krakdb, readpool, mhg, cs, sf, r)\n",
    "    bracken_cread_nr = parse_breport(bracken_path, bs_id_str, krakdb, readpool, mhg, cs, sf, r, level, ['root'])['root']\n",
    "    bracken_ucread_nr = kraken_cread_nr - bracken_cread_nr\n",
    "    return sf * total_read_nr - kraken_ucread_nr - bracken_ucread_nr\n",
    "    \n",
    "def get_bracken_df(bowtie2_path, kraken_path, bracken_path, bs_id_str, krakdb, readpool, mhg, cs, sf, r, level, taxon_filter):\n",
    "    '''\n",
    "    parse bracken file\n",
    "    '''\n",
    "    # parse bracken output\n",
    "    bracken_fn = '{}BS18-{}_{}_{}_mhg{}_cs{}_sf{}_rep{}_{}.bracken'.format(bracken_path, bs_id_str, krakdb, readpool, mhg, cs, str(sf).replace('.', ''), r, level)\n",
    "    if not os.path.exists(bracken_fn): \n",
    "        print('missing {}'.format(bracken_fn))\n",
    "    bracken_df = pd.read_csv(bracken_fn, sep='\\t')\n",
    "\n",
    "    ## calculate original read numbers\n",
    "    # number of reads classified by kraken2 + bracken AND by bowtie2 --> to calculate relative abundance\n",
    "    classified_read_nr = get_classified_read_nr(bowtie2_path, kraken_path, bracken_path, bs_id_str, krakdb, readpool, mhg, cs, sf, r, level)\n",
    "    \n",
    "    # classified reads - non bee reads\n",
    "    honeybee_read_nr = classified_read_nr - bracken_df[bracken_df['name'] != 'Apis mellifera']['new_est_reads'].sum()\n",
    "\n",
    "    # recompute relative abundance\n",
    "    bracken_df['fraction_total_reads'] = bracken_df['new_est_reads'].to_numpy() / classified_read_nr\n",
    "    \n",
    "    # calculate Aitchison log ratio\n",
    "    bracken_df['ratio_honeybee'] = bracken_df['new_est_reads'].to_numpy() / honeybee_read_nr\n",
    "    bracken_df['log_ratio_honeybee'] = np.log(bracken_df['new_est_reads'].to_numpy() / honeybee_read_nr)\n",
    "    \n",
    "    # log ratio of absolute abundances == log ratio of relative abundances\n",
    "    assert np.all(np.round(bracken_df['log_ratio_honeybee'].to_numpy(), 10) == np.round(np.log(bracken_df['fraction_total_reads'].to_numpy() / (honeybee_read_nr / classified_read_nr)), 10))\n",
    "    \n",
    "    if taxon_filter:\n",
    "        return bracken_df[bracken_df['taxonomy_id'].isin(taxon_filter)]\n",
    "    else:\n",
    "        return bracken_df\n",
    "        \n",
    "\n",
    "def get_beexact_species_name2taxid():\n",
    "\n",
    "    url = \"https://raw.githubusercontent.com/bdaisley/BEExact/master/full_database/BEEx_v2023.01.30___FL-refs_taxonomy.txt\"\n",
    "    file_content = requests.get(url, verify=False).text\n",
    "\n",
    "    level2beexact_taxa = defaultdict(set)\n",
    "    for level in ['d', 'p', 'c', 'o', 'f', 'g', 's']:\n",
    "        level2beexact_taxa[level] = set()\n",
    "    \n",
    "    for line in file_content.split('\\n'):\n",
    "        if not line: continue\n",
    "        for s in line.rstrip(';').split('\\t')[1].split(';'):\n",
    "            level, taxon = s.split('__')\n",
    "            assert level in level2beexact_taxa, print('missing {}'.format(level))\n",
    "            level2beexact_taxa[level].add(taxon.replace('_', ' '))\n",
    "\n",
    "    return ncbi.get_name_translator(level2beexact_taxa['s'])\n",
    "\n",
    "\n",
    "def bray_curtis_dissimilarity(sample1, sample2):\n",
    "    # Ensure the samples are numpy arrays\n",
    "    sample1 = np.array(sample1)\n",
    "    sample2 = np.array(sample2)\n",
    "    \n",
    "    # Calculate the Bray-Curtis dissimilarity\n",
    "    numerator = np.sum(np.abs(sample1 - sample2))\n",
    "    denominator = np.sum(sample1 + sample2)\n",
    "    \n",
    "    return numerator / denominator"
   ]
  },
  {
   "cell_type": "markdown",
   "id": "93888533-bb02-4f43-bffc-eed52f735634",
   "metadata": {},
   "source": [
    "# Rarefication and LoD"
   ]
  },
  {
   "cell_type": "code",
   "execution_count": null,
   "id": "35b2d376-b7ff-48f1-a231-68638afd9d38",
   "metadata": {},
   "outputs": [],
   "source": [
    "kdb_path = '{}krakdb/'.format(working_path)\n",
    "tmp_path = '{}tmp/rarefaction/'.format(working_path)\n",
    "bowtie2_path = '{}bowtie2/'.format(tmp_path)\n",
    "kraken_path = '{}kraken/'.format(tmp_path)\n",
    "subsample_path = '{}subsamples/'.format(tmp_path)\n",
    "\n",
    "with open('{}tmp/bacteria_taxids.pkl'.format(working_path), 'rb') as inf:\n",
    "    bacteria_taxids = pickle.load(inf)\n",
    "len(bacteria_taxids)"
   ]
  },
  {
   "cell_type": "markdown",
   "id": "e0bc20d3-0f23-404f-8eac-77c967488517",
   "metadata": {},
   "source": [
    "## Remove most honey bee sequences with bowtie2"
   ]
  },
  {
   "cell_type": "code",
   "execution_count": null,
   "id": "48693f15-80d8-4953-bcb7-17c240b52786",
   "metadata": {},
   "outputs": [],
   "source": [
    "array_str = '62,105,155'\n",
    "bowtie2_script = '{}bowtie2_bee.run'.format(script_path)\n",
    "write_bowtie2_script(bowtie2_script, array_str)"
   ]
  },
  {
   "cell_type": "code",
   "execution_count": null,
   "id": "96b4115f-f06b-4df0-82b5-555c5da720c9",
   "metadata": {},
   "outputs": [],
   "source": [
    "idx_path = '{}bee_bt2idx/'.format(working_path)\n",
    "idx_name = 'bee'\n",
    "input_path = '{}SwissFastQSample/'.format(working_path)\n",
    "output_path = '{}tmp/rarefaction/bowtie2/'.format(working_path)"
   ]
  },
  {
   "cell_type": "code",
   "execution_count": null,
   "id": "e9ead57c-899b-44dd-8724-1eec88f7de0b",
   "metadata": {},
   "outputs": [],
   "source": [
    "%%bash -s \"$bowtie2_script\" \"$idx_path\" \"$idx_name\" \"$input_path\" \"$output_path\"\n",
    "cd $5\n",
    "sbatch $1 $2 $3 $4 $5"
   ]
  },
  {
   "cell_type": "markdown",
   "id": "f9eab089-c810-4332-95a0-b5d2435c37fc",
   "metadata": {},
   "source": [
    "## kraken2 precise and default mode"
   ]
  },
  {
   "cell_type": "code",
   "execution_count": null,
   "id": "f78eb76b-92a5-4077-a075-11a0046ee461",
   "metadata": {},
   "outputs": [],
   "source": [
    "# beestrong ids (same for looked with pavian)\n",
    "bs_ids_str = '27, 62,105,155'"
   ]
  },
  {
   "cell_type": "code",
   "execution_count": null,
   "id": "1775c39c-f051-4760-b0e9-6e464ea45809",
   "metadata": {},
   "outputs": [],
   "source": [
    "# precise mode\n",
    "kraken2_script = '{}kraken2.run'.format(script_path)\n",
    "write_kraken2_script(kraken2_script, bs_ids_str, '--gzip-compressed', 'all', '2', '0.05')\n",
    "\n",
    "kdb_name = 'corent'\n",
    "kdb_name = 'corent_krakdb'\n",
    "input_path = '{}SwissFastQSample/'.format(working_path)\n",
    "output_path = kraken_path"
   ]
  },
  {
   "cell_type": "code",
   "execution_count": null,
   "id": "5bdbcf71-aafe-4ce4-931e-e2cec1cf1767",
   "metadata": {},
   "outputs": [],
   "source": [
    "%%bash -s \"$kraken2_script\" \"$kdb_path\" \"$kdb_name\" \"$input_path\" \"$output_path\"\n",
    "cd $5\n",
    "sbatch $1 $2 $3 $4 $5"
   ]
  },
  {
   "cell_type": "code",
   "execution_count": null,
   "id": "13b65871-578f-49a2-affe-9f8ae486b937",
   "metadata": {},
   "outputs": [],
   "source": [
    "# beestrong ids (same for looked with pavian)\n",
    "bs_ids_str = '27,62,105,155'"
   ]
  },
  {
   "cell_type": "code",
   "execution_count": null,
   "id": "d14c7e53-9462-40f9-b7cf-e0c3fc9ae66e",
   "metadata": {},
   "outputs": [],
   "source": [
    "# with nonbee read pool\n",
    "kraken2_script = '{}kraken2.run'.format(script_path)\n",
    "write_kraken2_script(kraken2_script, bs_ids_str, '', 'nonbee', '2', '0.05')\n",
    "\n",
    "kdb_name = 'corent'\n",
    "input_path = bowtie2_path\n",
    "output_path = kraken_path\n",
    "read_1_suffix = '_bee_unmapped.1.fastq'\n",
    "read_2_suffix = '_bee_unmapped.2.fastq'"
   ]
  },
  {
   "cell_type": "code",
   "execution_count": null,
   "id": "ff30aaf4-49cd-48af-b9b8-a278bf6804ca",
   "metadata": {},
   "outputs": [],
   "source": [
    "%%bash -s \"$kraken2_script\" \"$kdb_path\" \"$kdb_name\" \"$input_path\" \"$output_path\" \"$read_1_suffix\" \"$read_2_suffix\"\n",
    "cd $5\n",
    "sbatch $1 $2 $3 $4 $5 $6 $7"
   ]
  },
  {
   "cell_type": "markdown",
   "id": "297c4ba6-3c7b-4723-9ce7-eb5fc6800306",
   "metadata": {},
   "source": [
    "## subsampling kraken2"
   ]
  },
  {
   "cell_type": "code",
   "execution_count": null,
   "id": "37a791a4-de17-479f-8d02-25102ca4741c",
   "metadata": {
    "scrolled": true
   },
   "outputs": [],
   "source": [
    "# def subsample_kraken2(input_path, bs_id_str, mhg, cs, subsampling_fractions, replicate_nr, output_path):\n",
    "#     with open('{}BS18-{}_mhg{}_cs{}.kraken2'.format(input_path, bs_id_str, mhg, str(cs).replace('.', '')), 'r') as inf:\n",
    "#         lines = inf.readlines()\n",
    "# \n",
    "#     for sf in tqdm(subsampling_fractions):\n",
    "#         line_nr = int(sf * len(lines))\n",
    "#         for r in range(1, replicate_nr + 1):\n",
    "#             with open('{}BS18-{}_mhg{}_cs{}_sf{}_rep{}.kraken2'.format(output_path, bs_id_str, mhg, str(cs).replace('.', ''), str(sf).replace('.', ''), r), 'w') as outf:\n",
    "#                 for l in random.sample(lines, line_nr):\n",
    "#                     outf.write(l)\n",
    "# \n",
    "# randomly subsample .kraken2 files (each line correspond to a paired read)\n",
    "# \n",
    "# \n",
    "# bs_ids_str = '27,62,105,155'\n",
    "# bs_ids = [int(x) for x in bs_ids_str.split(',')]\n",
    "# print(bs_ids)\n",
    "# \n",
    "# # subsample precise kraken outputs\n",
    "# mhg = 2\n",
    "# cs = '005'\n",
    "# subsampling_fractions = [round(x, 2) for x in np.arange(0.1, 1, 0.1)]\n",
    "# replicate_nr = 10\n",
    "# \n",
    "# for bs_id in bs_ids:\n",
    "#     bs_id_str = '%04d' % bs_id\n",
    "#     print(bs_id_str)\n",
    "#     subsample_kraken2(kraken_path, bs_id_str, mhg, cs, subsampling_fractions, replicate_nr, subsample_path)\n",
    "# \n",
    "# # subsample default kraken outputs\n",
    "# mhg = 2\n",
    "# cs = '00'\n",
    "# subsampling_fractions = [round(x, 2) for x in np.arange(0.1, 1, 0.1)]\n",
    "# replicate_nr = 10\n",
    "# \n",
    "# for bs_id in bs_ids:\n",
    "#     bs_id_str = '%04d' % bs_id\n",
    "#     print(bs_id_str)\n",
    "#     subsample_kraken2(kraken_path, bs_id_str, mhg, cs, subsampling_fractions, replicate_nr, subsample_path)"
   ]
  },
  {
   "cell_type": "code",
   "execution_count": null,
   "id": "85b11929-00a4-43f9-ad52-5328e8817de7",
   "metadata": {},
   "outputs": [],
   "source": [
    "def write_subsample_script(subsample_script_fn, array_str):\n",
    "    subsample_runstr=\"\"\"#!/bin/bash -l\n",
    "#SBATCH --array={}\n",
    "#SBATCH --nodes=1\n",
    "#SBATCH --ntasks=1\n",
    "#SBATCH --mem=20g\n",
    "#SBATCH --time=04:00:00\n",
    "#SBATCH --job-name=subsample\n",
    "#SBATCH --output=%x_%A_%a.out\n",
    "#SBATCH --error=%x_%A_%a.err\n",
    "\n",
    "modulesld\n",
    "ebld\n",
    "module use /software/anaconda3/envs/eb/easybuild/modules/all\n",
    "conda activate planb\n",
    "\n",
    "kraken_path=$1\n",
    "subsample_path=$2\n",
    "krakdb=$3\n",
    "readpool=$4\n",
    "mhg=$5\n",
    "cs=$6\n",
    "\n",
    "bs_id=$SLURM_ARRAY_TASK_ID\n",
    "\n",
    "python ~/scripts/plan-b-omics/bin/subsample_kraken2.py --kraken_path ${{kraken_path}} --bs_id ${{bs_id}} --krakdb ${{krakdb}} --readpool ${{readpool}} --mhg ${{mhg}} --cs ${{cs}} --subsample_path ${{subsample_path}}\"\"\".format(array_str)\n",
    "    with open(subsample_script_fn, 'w') as outf:\n",
    "        outf.write(subsample_runstr)"
   ]
  },
  {
   "cell_type": "code",
   "execution_count": null,
   "id": "e38dee2b-de78-4f91-bfa3-375d5d1bee69",
   "metadata": {},
   "outputs": [],
   "source": [
    "line_nr_str = '27,62,105,155'\n",
    "\n",
    "subsample_script = '{}subsample.run'.format(script_path)\n",
    "write_subsample_script(subsample_script, line_nr_str)\n",
    "\n",
    "krakdb = 'corent'\n",
    "readpool = 'nonbee'\n",
    "mhg = 2\n",
    "cs = '005'"
   ]
  },
  {
   "cell_type": "code",
   "execution_count": null,
   "id": "de8bec5b-a6b8-41c6-945d-716f0f04b3f3",
   "metadata": {},
   "outputs": [],
   "source": [
    "%%bash -s \"$subsample_script\" \"$kraken_path\" \"$subsample_path\" \"$krakdb\" \"$readpool\" \"$mhg\" \"$cs\" \n",
    "cd $3\n",
    "sbatch $1 $2 $3 $4 $5 $6 $7"
   ]
  },
  {
   "cell_type": "code",
   "execution_count": null,
   "id": "56ce087a-3be3-4149-afc9-1cbde055fa48",
   "metadata": {},
   "outputs": [],
   "source": [
    "# copy and rename original kraken output (subsampling fraction 1.0) for both precise and default kraken mode\n",
    "bs_ids = [int(x) for x in bs_ids_str.split(',')]\n",
    "print(bs_ids)\n",
    "\n",
    "krakdb = 'corent'\n",
    "readpool = 'nonbee'\n",
    "mhg = 2\n",
    "cs = '005'\n",
    "\n",
    "for bs_id in bs_ids:\n",
    "    bs_id_str = '%04d' % bs_id\n",
    "    shutil.copy('{}BS18-{}_{}_{}_mhg{}_cs{}.kraken2'.format(kraken_path, bs_id_str, krakdb, readpool, mhg, cs), \n",
    "                '{}BS18-{}_{}_{}_mhg{}_cs{}_sf1_rep1.kraken2'.format(subsample_path, bs_id_str, krakdb, readpool, mhg, cs))\n",
    "\n",
    "# --> could also include in script"
   ]
  },
  {
   "cell_type": "markdown",
   "id": "c71b6f6d-b30c-4dcd-ac55-d9a40d579c77",
   "metadata": {},
   "source": [
    "## make_kreport and bracken"
   ]
  },
  {
   "cell_type": "markdown",
   "id": "f0451671-d27a-41f2-a0ed-72a331422822",
   "metadata": {},
   "source": [
    "create ktaxonomy (actually pretty sure it was already available in database)"
   ]
  },
  {
   "cell_type": "code",
   "execution_count": null,
   "id": "bbf19248-468c-4d99-8487-96983e66204f",
   "metadata": {},
   "outputs": [],
   "source": [
    "%%bash\n",
    "python /cluster/raid/home/f80878961/scripts/KrakenTools/make_ktaxonomy.py --nodes /cluster/raid/home/f80878961/phenotypes/corent_krakdb/nodes.dmp --names /cluster/raid/home/f80878961/phenotypes/corent_krakdb/names.dmp --seqid2taxid /cluster/raid/home/f80878961/phenotypes/corent_krakdb/seqid2taxid.map -o /cluster/raid/home/f80878961/phenotypes/corent_krakdb/mydb_taxonomy.txt "
   ]
  },
  {
   "cell_type": "markdown",
   "id": "fd1a0142-251f-4ef6-a691-3917724ac2ed",
   "metadata": {},
   "source": [
    "create file for array job indicating which .kraken2 subsamples to convert in k2report and process with bracken"
   ]
  },
  {
   "cell_type": "code",
   "execution_count": null,
   "id": "362ca8f6-ba0e-414b-907f-ccde334608b4",
   "metadata": {},
   "outputs": [],
   "source": [
    "bs_ids_str = '27,62,105,155'\n",
    "bs_ids = [int(x) for x in bs_ids_str.split(',')]\n",
    "print(bs_ids)"
   ]
  },
  {
   "cell_type": "code",
   "execution_count": null,
   "id": "0162eb79-00a6-44c8-9cbb-aaa0b12cf913",
   "metadata": {},
   "outputs": [],
   "source": [
    "krakdb = 'corent'\n",
    "readpool_mhg_cs = [('nonbee', 2, '005')]\n",
    "\n",
    "subsampling_fractions = [round(x, 2) for x in np.arange(0.1, 1, 0.1)]\n",
    "replicate_nr = 10\n",
    "files_to_bracken_fn = '{}files_to_bracken.txt'.format(tmp_path)\n",
    "\n",
    "with open(files_to_bracken_fn, 'w') as outf:\n",
    "    for bs_id, (readpool, mhg, cs) in product(bs_ids, readpool_mhg_cs): \n",
    "        bs_id_str = '%04d' % bs_id\n",
    "        for sf, r in product(subsampling_fractions, range(1, replicate_nr + 1)):\n",
    "            fn = '{}BS18-{}_{}_{}_mhg{}_cs{}_sf{}_rep{}.kraken2'.format(subsample_path, bs_id_str, krakdb, readpool, mhg, cs, str(sf).replace('.', ''), r)\n",
    "            assert os.path.exists(fn), 'missing {}'.format(fn)\n",
    "            outf.write(fn.split('/')[-1].replace('.kraken2', '\\n'))\n",
    "        \n",
    "        # 100% sampling (no replicate)\n",
    "        fn = '{}BS18-{}_{}_{}_mhg{}_cs{}_sf1_rep1.kraken2'.format(subsample_path, bs_id_str, krakdb, readpool, mhg, cs)\n",
    "        assert os.path.exists(fn), 'missing {}'.format(fn)\n",
    "        outf.write(fn.split('/')[-1].replace('.kraken2', '\\n'))"
   ]
  },
  {
   "cell_type": "code",
   "execution_count": null,
   "id": "65b913c5-caa2-4a8c-ae90-73e0be4a67c6",
   "metadata": {},
   "outputs": [],
   "source": [
    "def write_bracken_script(bracken_script_fn, array_str):\n",
    "    bracken_runstr=\"\"\"#!/bin/bash -l\n",
    "#SBATCH --array={}\n",
    "#SBATCH --nodes=1\n",
    "#SBATCH --ntasks=1\n",
    "#SBATCH --mem=20g\n",
    "#SBATCH --time=01:00:00\n",
    "#SBATCH --job-name=bracken\n",
    "#SBATCH --output=%x_%A_%a.out\n",
    "#SBATCH --error=%x_%A_%a.err\n",
    "\n",
    "modulesld\n",
    "ebld\n",
    "module use /software/anaconda3/envs/eb/easybuild/modules/all\n",
    "conda activate planb\n",
    "which bracken\n",
    "\n",
    "kdb_path=$1\n",
    "kdb_name=$2\n",
    "file_path=$3\n",
    "file_list_path=$4\n",
    "j=$SLURM_ARRAY_TASK_ID\n",
    "\n",
    "file_id=$(sed -n ${{j}}'{{p;q}}' ${{file_list_path}})\n",
    "kraken_fn=${{file_path}}${{file_id}}.kraken2\n",
    "ktaxonomy=${{kdb_path}}${{kdb_name}}/mydb_taxonomy.txt\n",
    "kreport=${{file_path}}${{file_id}}.kreport\n",
    "\n",
    "echo $kraken_fn\n",
    "echo $ktaxonomy\n",
    "echo $kreport\n",
    "echo $bracken_fn\n",
    "echo $breport\n",
    "\n",
    "# create kreports from subsampled kraken files\n",
    "python /cluster/raid/home/f80878961/scripts/KrakenTools/make_kreport.py -i ${{kraken_fn}} -t ${{ktaxonomy}} -o ${{kreport}}\n",
    "\n",
    "# species\n",
    "bracken -d ${{kdb_path}}${{kdb_name}} -i ${{kreport}} -r 150 -l S -t 10 -o ${{file_path}}${{file_id}}_S.bracken -w ${{file_path}}${{file_id}}_S.breport\n",
    "\n",
    "# genus\n",
    "bracken -d ${{kdb_path}}${{kdb_name}} -i ${{kreport}} -r 150 -l G -t 10 -o ${{file_path}}${{file_id}}_G.bracken -w ${{file_path}}${{file_id}}_G.breport\"\"\".format(array_str)\n",
    "    with open(bracken_script_fn, 'w') as outf:\n",
    "        outf.write(bracken_runstr)"
   ]
  },
  {
   "cell_type": "code",
   "execution_count": null,
   "id": "bdc49f1b-a59e-433b-a1c1-1856e5c021c6",
   "metadata": {},
   "outputs": [],
   "source": [
    "# which subsampled kraken files to compute\n",
    "num_lines = sum(1 for _ in open(files_to_bracken_fn))\n",
    "line_nr_str = '1-{}'.format(num_lines)\n",
    "# line_nr_str = '4-182'\n",
    "print(line_nr_str)"
   ]
  },
  {
   "cell_type": "code",
   "execution_count": null,
   "id": "4210725f-17f0-4bc3-af7b-0d71938ab72c",
   "metadata": {},
   "outputs": [],
   "source": [
    "bracken_script = '{}bracken.run'.format(script_path)\n",
    "write_bracken_script(bracken_script, line_nr_str)\n",
    "\n",
    "kdb_name = 'corent'\n",
    "file_path = subsample_path\n",
    "file_list_path = files_to_bracken_fn"
   ]
  },
  {
   "cell_type": "markdown",
   "id": "8178fc78-28f7-4d97-9641-4e736acbf759",
   "metadata": {},
   "source": [
    "start script from Gamarello"
   ]
  },
  {
   "cell_type": "code",
   "execution_count": null,
   "id": "14b38e40-67c8-4ba6-b76b-4f71d2f08343",
   "metadata": {},
   "outputs": [],
   "source": [
    "%%bash -s \"$bracken_script\" \"$kdb_path\" \"$kdb_name\" \"$file_path\" \"$file_list_path\"\n",
    "cd $4\n",
    "sbatch $1 $2 $3 $4 $5"
   ]
  },
  {
   "cell_type": "markdown",
   "id": "a9683bc6-ddcf-4e5a-a30a-828b662c479d",
   "metadata": {},
   "source": [
    "## check expected files\n"
   ]
  },
  {
   "cell_type": "code",
   "execution_count": null,
   "id": "dd175844-67d9-4e06-b2c4-dfe1746d6d27",
   "metadata": {},
   "outputs": [],
   "source": [
    "# # one off to add db and read pool params\n",
    "# files = glob.glob(kraken_path + '*')\n",
    "# for f in files:\n",
    "#     fn = f.split('/')[-1]\n",
    "#     if fn.startswith('BS18'):\n",
    "#         split_fn = fn.split('_')\n",
    "#         # insert corent_all\n",
    "#         if split_fn[1].startswith('mhg'):\n",
    "#             new_fn = '{}{}_corent_all_{}'.format(kraken_path, split_fn[0], '_'.join(split_fn[1:]))\n",
    "#             os.rename(f, new_fn)"
   ]
  },
  {
   "cell_type": "code",
   "execution_count": null,
   "id": "9e9e088d-73c6-425b-87b6-6753805eac28",
   "metadata": {
    "scrolled": true
   },
   "outputs": [],
   "source": [
    "# check if kraken files are there for these parameter combinations\n",
    "bs_ids = [27, 62, 105, 155]\n",
    "krakdb = 'corent'\n",
    "readpool_mhg_cs = [('all', 2, '00'),  ('all', 2, '005'), ('nonbee', 2, '005'), ('all', 4, '005')]\n",
    "\n",
    "for bs_id, (readpool, mhg, cs) in product(bs_ids, readpool_mhg_cs):\n",
    "    bs_id_str = '%04d' % bs_id\n",
    "    file_prefix = '{}BS18-{}_{}_{}_mhg{}_cs{}'.format(kraken_path, bs_id_str, krakdb, readpool, mhg, cs)\n",
    "    assert os.path.exists('{}.kraken2'.format(file_prefix)), print(file_prefix)\n",
    "    assert os.path.exists('{}.k2report'.format(file_prefix)), print(file_prefix)"
   ]
  },
  {
   "cell_type": "code",
   "execution_count": null,
   "id": "3a66d3ac-be36-4638-a34b-d5fa4916cb86",
   "metadata": {},
   "outputs": [],
   "source": [
    "# # one off to add db and read pool params\n",
    "# files = glob.glob(subsample_path + '*')\n",
    "# for f in files:\n",
    "#     fn = f.split('/')[-1]\n",
    "#     if fn.startswith('BS18'):\n",
    "#         split_fn = fn.split('_')\n",
    "#         # insert corent_all\n",
    "#         if split_fn[1].startswith('mhg'):\n",
    "#             new_fn = '{}{}_corent_all_{}'.format(subsample_path, split_fn[0], '_'.join(split_fn[1:]))\n",
    "#             os.rename(f, new_fn)"
   ]
  },
  {
   "cell_type": "code",
   "execution_count": null,
   "id": "7c8c9ba7-03bd-49bd-8e54-de9af00f9442",
   "metadata": {},
   "outputs": [],
   "source": [
    "# check if subsample files are there\n",
    "bs_ids = [27, 62, 105, 155]\n",
    "krakdb = 'corent'\n",
    "readpool_mhg_cs = [('all', 2, '00'),  ('all', 2, '005'), ('nonbee', 2, '005'), ('all', 4, '005')]\n",
    "\n",
    "level = 'S'\n",
    "subsampling_fractions = [round(x, 2) for x in np.arange(0.1, 1, 0.1)]\n",
    "replicate_nr = 10\n",
    "\n",
    "for bs_id, (readpool, mhg, cs) in product(bs_ids, readpool_mhg_cs): \n",
    "    bs_id_str = '%04d' % bs_id\n",
    "    for sf, r in product(subsampling_fractions,  range(1, replicate_nr + 1)):\n",
    "        bracken_fn = '{}BS18-{}_{}_{}_mhg{}_cs{}_sf{}_rep{}_{}.bracken'.format(subsample_path, bs_id_str, krakdb, readpool, mhg, cs, str(sf).replace('.', ''), r, level)\n",
    "        assert os.path.exists(bracken_fn), print(bracken_fn)"
   ]
  },
  {
   "cell_type": "markdown",
   "id": "c8084743-b169-44ea-88f1-aa14fcd26dc6",
   "metadata": {},
   "source": [
    "## classification overview\n"
   ]
  },
  {
   "cell_type": "markdown",
   "id": "5e313956-9ba2-45c6-8445-9b2ff8940233",
   "metadata": {},
   "source": [
    "Load this table rather than recompute it as I have zipped the subsample directory"
   ]
  },
  {
   "cell_type": "code",
   "execution_count": null,
   "id": "55bce9a7-c3c3-4d34-9286-b2bb6a4b1e2d",
   "metadata": {},
   "outputs": [],
   "source": [
    "def parse_kreport(file_path, bs_id_str, krakdb, readpool, mhg, cs, sf, r):\n",
    "    # kreport instead of k2report\n",
    "    kreport_fn = '{}BS18-{}_{}_{}_mhg{}_cs{}_sf{}_rep{}.kreport'.format(file_path, bs_id_str, krakdb, readpool, mhg, cs, str(sf).replace('.', ''), r)\n",
    "    if not os.path.exists(kreport_fn): \n",
    "        print('missing {}'.format(kreport_fn))\n",
    "    with open(kreport_fn, 'r') as inf:\n",
    "        ucseqs_nr = int(inf.readline().split()[1])\n",
    "        cseqs_nr = int(inf.readline().split()[1])\n",
    "    return ucseqs_nr, cseqs_nr\n",
    "    \n",
    "bs_ids = [27, 62, 105, 155]\n",
    "krakdb_readpool_mhg_cs2kraken_setting = {\n",
    "    ('corent', 'all', 2, '00'):'Core-nt DB, all reads, Kraken2 default', \n",
    "    # ('corent', 'all', 4, '005'):'Core-nt DB, all reads, Kraken2 very-precise',\n",
    "    ('corent', 'all', 2, '005'):'Core-nt DB, all reads, Kraken2 precise',\n",
    "    ('corent', 'nonbee', 2, '005'):'Core-nt DB, non-bee reads, Kraken2 precise'}\n",
    "sf = 1\n",
    "r = 1\n",
    "level = 'S'\n",
    "taxa = set(('root', 'Eukaryota', 'Apis', 'Fungi', 'Bacteria', 'Archaea', 'Viruses'))\n",
    "\n",
    "columns = ['Sample id', 'Kraken setting', 'Name', 'Read number']\n",
    "\n",
    "rows = []\n",
    "for bs_id, (krakdb, readpool, mhg, cs) in product(bs_ids, krakdb_readpool_mhg_cs2kraken_setting.keys()):\n",
    "    bs_id_str = '%04d' % bs_id\n",
    "    ucseqs_nr, cseqs_nr = parse_kreport(subsample_path, bs_id_str, krakdb, readpool, mhg, cs, sf, r)\n",
    "    taxa2seqnr = parse_breport(subsample_path, bs_id_str, krakdb, readpool, mhg, cs, sf, r, level, taxa)\n",
    "\n",
    "    rows.append((bs_id_str, krakdb_readpool_mhg_cs2kraken_setting[(krakdb, readpool, mhg, cs)], 'Unclassified', ucseqs_nr))\n",
    "    rows.append((bs_id_str, krakdb_readpool_mhg_cs2kraken_setting[(krakdb, readpool, mhg, cs)], 'Kraken2 only', cseqs_nr - taxa2seqnr['root']))\n",
    "    rows.append((bs_id_str, krakdb_readpool_mhg_cs2kraken_setting[(krakdb, readpool, mhg, cs)], 'Other Kraken2 + Bracken', taxa2seqnr['root'] - taxa2seqnr['Eukaryota'] - taxa2seqnr['Bacteria'] - taxa2seqnr.get('Archaea', 0) - taxa2seqnr['Viruses']))\n",
    "    rows.append((bs_id_str, krakdb_readpool_mhg_cs2kraken_setting[(krakdb, readpool, mhg, cs)], 'Viruses', taxa2seqnr['Viruses']))\n",
    "    rows.append((bs_id_str, krakdb_readpool_mhg_cs2kraken_setting[(krakdb, readpool, mhg, cs)], 'Archaea', taxa2seqnr.get('Archaea', 0)))\n",
    "    rows.append((bs_id_str, krakdb_readpool_mhg_cs2kraken_setting[(krakdb, readpool, mhg, cs)], 'Bacteria', taxa2seqnr['Bacteria']))\n",
    "    rows.append((bs_id_str, krakdb_readpool_mhg_cs2kraken_setting[(krakdb, readpool, mhg, cs)], 'Other Eukaryota', taxa2seqnr['Eukaryota'] - taxa2seqnr['Apis'] - taxa2seqnr['Fungi']))\n",
    "    rows.append((bs_id_str, krakdb_readpool_mhg_cs2kraken_setting[(krakdb, readpool, mhg, cs)], 'Fungi', taxa2seqnr['Fungi']))\n",
    "    rows.append((bs_id_str, krakdb_readpool_mhg_cs2kraken_setting[(krakdb, readpool, mhg, cs)], 'Apis', taxa2seqnr['Apis']))\n",
    "\n",
    "class_df = pd.DataFrame(data=rows, columns=columns)\n",
    "\n",
    "# calculate fraction\n",
    "read_fraction = np.zeros(len(class_df))\n",
    "for bs_id, (krakdb, readpool, mhg, cs) in product(bs_ids, krakdb_readpool_mhg_cs2kraken_setting.keys()):\n",
    "    bs_id_str = '%04d' % bs_id\n",
    "    ucseqs_nr, cseqs_nr = parse_kreport(subsample_path, bs_id_str, krakdb, readpool, mhg, cs, sf, r)\n",
    "    f = (class_df['Sample id'] == bs_id_str) & (class_df['Kraken setting'] == krakdb_readpool_mhg_cs2kraken_setting[(krakdb, readpool, mhg, cs)])\n",
    "    read_fraction[f] = class_df[f]['Read number'] / (ucseqs_nr + cseqs_nr)\n",
    "class_df['Read fraction'] = read_fraction"
   ]
  },
  {
   "cell_type": "code",
   "execution_count": null,
   "id": "d84ddd35-9bbe-4ef5-8f07-2d03b71265f5",
   "metadata": {},
   "outputs": [],
   "source": [
    "class_table_fn = '{}classification_overview.csv'.format(working_path)\n",
    "\n",
    "# class_df.to_csv(class_table_fn)\n",
    "\n",
    "class_df = pd.read_csv(class_table_fn, index_col=0)\n",
    "\n",
    "bs_ids = [27, 62, 105, 155]\n"
   ]
  },
  {
   "cell_type": "code",
   "execution_count": null,
   "id": "a71b3517-3d98-42f0-8885-27f71154c015",
   "metadata": {},
   "outputs": [],
   "source": [
    "class_df"
   ]
  },
  {
   "cell_type": "code",
   "execution_count": null,
   "id": "946eb0e4-c7ed-43a5-a6cc-478de9f19fc0",
   "metadata": {},
   "outputs": [],
   "source": [
    "cmap = {\n",
    "    'Unclassified': '#262626',\n",
    "    'Kraken2 only': '#575757',\n",
    "    'Other Kraken2 + Bracken': '#949494',\n",
    "    'Viruses': '#0173b2',\n",
    "    'Archaea': '#cc78bc',\n",
    "    'Bacteria': '#de8f05',\n",
    "    'Other Eukaryota': '#12634c',\n",
    "    'Fungi': '#029e73',\n",
    "    'Apis': '#75c8b0'\n",
    "}"
   ]
  },
  {
   "cell_type": "code",
   "execution_count": null,
   "id": "d4d298aa-ea68-4535-a6e7-9999ddbc70fe",
   "metadata": {},
   "outputs": [],
   "source": [
    "for bs_id in bs_ids:\n",
    "    bs_id_str = '%04d' % bs_id\n",
    "    fig = px.bar(class_df[class_df['Sample id']==bs_id], x=\"Kraken setting\", y=\"Read number\", color=\"Name\",\n",
    "                hover_data=['Name'], barmode = 'stack', color_discrete_map=cmap, title=bs_id_str)\n",
    "    fig.update_layout(\n",
    "        autosize=False,\n",
    "        width=700,\n",
    "        height=700,\n",
    "    )\n",
    "    fig.show()"
   ]
  },
  {
   "cell_type": "markdown",
   "id": "ff68206d-5568-46fd-a119-c5b69aa56341",
   "metadata": {},
   "source": [
    "### explore colors"
   ]
  },
  {
   "cell_type": "code",
   "execution_count": null,
   "id": "d880b733-2370-4d3c-a831-c5420e2785ee",
   "metadata": {},
   "outputs": [],
   "source": [
    "sns.color_palette('colorblind').as_hex()"
   ]
  },
  {
   "cell_type": "code",
   "execution_count": null,
   "id": "30c95162-8596-4b55-b160-f53e2dcff535",
   "metadata": {},
   "outputs": [],
   "source": [
    "print(sns.color_palette('colorblind').as_hex())"
   ]
  },
  {
   "cell_type": "code",
   "execution_count": null,
   "id": "0bca10e0-1d6f-4c83-95d7-4829d4bb8345",
   "metadata": {},
   "outputs": [],
   "source": [
    "light_palette = sns.light_palette('#029e73', n_colors=9)\n",
    "dark_palette = sns.dark_palette('#029e73', n_colors=9)"
   ]
  },
  {
   "cell_type": "code",
   "execution_count": null,
   "id": "d2bf7338-f4da-4c25-81fb-a2c15ca570ef",
   "metadata": {},
   "outputs": [],
   "source": [
    "dark_palette.as_hex()"
   ]
  },
  {
   "cell_type": "code",
   "execution_count": null,
   "id": "e157c8cf-865a-4ecf-a05d-6d2cae74d406",
   "metadata": {},
   "outputs": [],
   "source": [
    "print(dark_palette.as_hex())"
   ]
  },
  {
   "cell_type": "code",
   "execution_count": null,
   "id": "29b12c40-9171-4f23-b59b-3ac3c10fa775",
   "metadata": {},
   "outputs": [],
   "source": [
    "light_palette"
   ]
  },
  {
   "cell_type": "code",
   "execution_count": null,
   "id": "c76f7a09-cbb9-47d4-b53c-3c005f6ddc4d",
   "metadata": {},
   "outputs": [],
   "source": [
    "print(light_palette.as_hex())"
   ]
  },
  {
   "cell_type": "code",
   "execution_count": null,
   "id": "e959ff2e-59e6-4aa9-8ac5-e75a36d0aded",
   "metadata": {},
   "outputs": [],
   "source": [
    "print(sns.color_palette('colorblind').as_hex())\n"
   ]
  },
  {
   "cell_type": "code",
   "execution_count": null,
   "id": "a88483ff-b001-4136-9fc1-0a4840465704",
   "metadata": {},
   "outputs": [],
   "source": [
    "cmap = {\n",
    "    'Unclassified': '#262626',\n",
    "    'Kraken2 only': '#575757',\n",
    "    'Other Kraken2 + Bracken': '#949494',\n",
    "    'Viruses': '#0173b2',\n",
    "    'Archaea': '#cc78bc',\n",
    "    'Bacteria': '#de8f05',\n",
    "    'Other Eukaryota': '#12634c',\n",
    "    'Fungi': '#029e73',\n",
    "    'Apis': '#75c8b0'\n",
    "}"
   ]
  },
  {
   "cell_type": "code",
   "execution_count": null,
   "id": "fb302fcc-1e9d-43eb-8ade-832546ffdad6",
   "metadata": {},
   "outputs": [],
   "source": [
    "df.plot(kind='bar', stacked=True, color=cmap.values())"
   ]
  },
  {
   "cell_type": "markdown",
   "id": "699a12b8-bfc5-4831-95fb-c1548e4d1227",
   "metadata": {},
   "source": [
    "### plotly [old]"
   ]
  },
  {
   "cell_type": "code",
   "execution_count": null,
   "id": "b1c1f14f-68fa-4cd2-96bc-c0cf53d4c4df",
   "metadata": {},
   "outputs": [],
   "source": [
    "# for the plotly approach\n",
    "#dfs = []\n",
    "#for (mhg, cs) in mhg_cs2kraken_setting.keys():\n",
    "#    columns = ['Unclassified', 'Kraken2 only', 'Kraken2 + Bracken']\n",
    "#    rows = []\n",
    "#    for bs_id_str in bs_ids_str:\n",
    "#        ucseqs_nr, cseqs_nr = parse_kreport(subsample_path, bs_id_str, mhg, cs, sf, r)\n",
    "#        taxa2seqnr = parse_breport(subsample_path, bs_id_str, mhg, cs, sf, r, level, taxa)\n",
    "#        rows.append((ucseqs_nr, cseqs_nr - taxa2seqnr['root'], taxa2seqnr['root']))\n",
    "#    dfs.append(pd.DataFrame(index=bs_ids_str, data=rows, columns=columns))\n",
    "\n",
    "#class_df = pd.concat(dfs, axis=1, keys=list(mhg_cs2kraken_setting.values()))\n",
    "\n",
    "df = class_df\n",
    "\n",
    "# Create a figure with the right layout\n",
    "fig = go.Figure(\n",
    "    layout=go.Layout(\n",
    "        height=600,\n",
    "        width=1000,\n",
    "        barmode=\"relative\",\n",
    "        yaxis_showticklabels=False,\n",
    "        yaxis_showgrid=False,\n",
    "        yaxis_range=[0, df.groupby(axis=1, level=0).sum().max().max() * 1.5],\n",
    "       # Secondary y-axis overlayed on the primary one and not visible\n",
    "        yaxis2=go.layout.YAxis(\n",
    "            visible=False,\n",
    "            matches=\"y\",\n",
    "            overlaying=\"y\",\n",
    "            anchor=\"x\",\n",
    "        ),\n",
    "        font=dict(size=24),\n",
    "        legend_x=0,\n",
    "        legend_y=1,\n",
    "        legend_orientation=\"h\",\n",
    "        hovermode=\"x\",\n",
    "        margin=dict(b=0,t=10,l=0,r=10)\n",
    "    )\n",
    ")\n",
    "# Define some colors for the product, revenue pairs\n",
    "colors = {\n",
    "    \"default\": {\n",
    "        \"Unclassified\": \"#F28F1D\",\n",
    "        \"Kraken2 only\": \"#F6C619\",\n",
    "        \"Kraken2 + Bracken\": \"#FADD75\",\n",
    "    },\n",
    "    \"precise\": {\n",
    "        \"Unclassified\": \"#F28F1D\",\n",
    "        \"Kraken2 only\": \"#F6C619\",\n",
    "        \"Kraken2 + Bracken\": \"#FADD75\",\n",
    "    }\n",
    "}\n",
    "# Add the traces\n",
    "for i, t in enumerate(colors):\n",
    "    for j, col in enumerate(df[t].columns):\n",
    "        if (df[t][col] == 0).all():\n",
    "            continue\n",
    "        fig.add_bar(\n",
    "            x=df.index,\n",
    "            y=df[t][col],\n",
    "            # Set the right yaxis depending on the selected product (from enumerate)\n",
    "            yaxis=f\"y{i + 1}\",\n",
    "            # Offset the bar trace, offset needs to match the width\n",
    "            # For categorical traces, each category is spaced by 1\n",
    "            offsetgroup=str(i),\n",
    "            offset=(i - 1) * 1/3,\n",
    "            width=1/3,\n",
    "            legendgroup=t,\n",
    "            legendgrouptitle_text=t,\n",
    "            name=col,\n",
    "            marker_color=colors[t][col],\n",
    "            marker_line=dict(width=2, color=\"#333\"),\n",
    "            hovertemplate=\"%{y}<extra></extra>\"\n",
    "        )\n",
    "\n",
    "fig.show()"
   ]
  },
  {
   "cell_type": "code",
   "execution_count": null,
   "id": "b9aa9e12-19af-4aef-8b0f-89d180b6eadb",
   "metadata": {},
   "outputs": [],
   "source": [
    "import numpy as np\n",
    "import pandas as pd\n",
    "import plotly.graph_objects as go\n",
    "\n",
    "# Create dummy data indexed by month and with multi-columns [product, revenue]\n",
    "index = [\"California\", \"Texas\", \"Arizona\", \"Nevada\", \"Louisiana\"]\n",
    "df = pd.concat(\n",
    "    [\n",
    "        pd.DataFrame(\n",
    "            np.random.rand(5, 3) * 1.25 + 0.25,\n",
    "            index=index,\n",
    "            columns=[\"Revenue1\", \"Revenue2\", \"Revenue3\"]\n",
    "        ),\n",
    "        pd.DataFrame(\n",
    "            np.random.rand(5, 3) + 0.5,\n",
    "            index=index,\n",
    "            columns=[\"Revenue1\", \"Revenue2\", \"Revenue3\"]\n",
    "        ),\n",
    "    ],\n",
    "    axis=1,\n",
    "    keys=[\"Product1\", \"Product2\"]\n",
    ")"
   ]
  },
  {
   "cell_type": "markdown",
   "id": "a6b44fc1-3b7f-4183-a629-bdbb5fdf850e",
   "metadata": {},
   "source": [
    "## Richness curves"
   ]
  },
  {
   "cell_type": "code",
   "execution_count": null,
   "id": "7cccbd95-377f-40fd-858c-1ae62a54ee59",
   "metadata": {},
   "outputs": [],
   "source": [
    "def parse_kreport(file_path, bs_id_str, krakdb, readpool, mhg, cs, sf, r):\n",
    "    # kreport instead of k2report\n",
    "    kreport_fn = '{}BS18-{}_{}_{}_mhg{}_cs{}_sf{}_rep{}.kreport'.format(file_path, bs_id_str, krakdb, readpool, mhg, cs, str(sf).replace('.', ''), r)\n",
    "    if not os.path.exists(kreport_fn): \n",
    "        print('missing {}'.format(kreport_fn))\n",
    "    with open(kreport_fn, 'r') as inf:\n",
    "        ucseqs_nr = int(inf.readline().split()[1])\n",
    "        cseqs_nr = int(inf.readline().split()[1])\n",
    "    return ucseqs_nr, cseqs_nr\n",
    "\n",
    "    \n",
    "def _compute_species_richness_per_lod(bowtie2_path, subsample_path, bs_id_str, krakdb, readpool, mhg, cs, sf, r, level, taxon_filter, lods, rows):\n",
    "    '''parse bracken file and compute species richness (number of species above lod threshold...)'''\n",
    "\n",
    "    bact_df = get_bracken_df(bowtie2_path, subsample_path, subsample_path, bs_id_str, krakdb, readpool, mhg, cs, sf, r, level, taxon_filter)\n",
    "        \n",
    "    for lod in lods:\n",
    "        richness = len(bact_df[bact_df['fraction_total_reads'] >= lod])\n",
    "        rows.append((\n",
    "            'BS18-{}'.format(bs_id_str), \n",
    "            krakdb_readpool_mhg_cs2kraken_setting[(krakdb, readpool, mhg, cs)],\n",
    "            sf,\n",
    "            r,\n",
    "            level,\n",
    "            lod, \n",
    "            richness\n",
    "        ))\n",
    "\n",
    "    return bact_df"
   ]
  },
  {
   "cell_type": "markdown",
   "id": "f1ccf5af-7c0e-410f-a02c-6668a9139f6a",
   "metadata": {},
   "source": [
    "### Species level"
   ]
  },
  {
   "cell_type": "code",
   "execution_count": null,
   "id": "cc46f9a0-9e32-4d5f-8814-cdd7d3d1a1e1",
   "metadata": {
    "scrolled": true
   },
   "outputs": [],
   "source": [
    "level = 'S'\n",
    "bs_ids = [27, 62, 105, 155]\n",
    "krakdb_readpool_mhg_cs2kraken_setting = {\n",
    "    ('corent', 'all', 2, '00'):'Core-nt DB, all reads, Kraken2 default', \n",
    "    # ('corent', 'all', 4, '005'):'Core-nt DB, all reads, Kraken2 very-precise',\n",
    "    ('corent', 'all', 2, '005'):'Core-nt DB, all reads, Kraken2 precise',\n",
    "    ('corent', 'nonbee', 2, '005'):'Core-nt DB, non-bee reads, Kraken2 precise'}\n",
    "\n",
    "subsampling_fractions = [round(x, 2) for x in np.arange(0.1, 1, 0.1)]\n",
    "replicate_nr = 10\n",
    "\n",
    "#lods = [5e-05, 4e-05, 3e-05, 2e-05, 2.5e-05, 1e-05]\n",
    "# lods = [0.00001, 0.00002, 0.00003, 0.00004, 0.00005]\n",
    "# lods = [0.000001, 0.000009, 0.00001, 0.000011, 0.000015, 0.000019, 0.00002]\n",
    "lods = [0.000001, 0.000005, 0.00001, 0.00005, 0.0001]\n",
    "\n",
    "rows = []\n",
    "for bs_id, (krakdb, readpool, mhg, cs) in product(bs_ids, krakdb_readpool_mhg_cs2kraken_setting.keys()):\n",
    "        bs_id_str = '%04d' % bs_id\n",
    "        for sf, r in tqdm(product(subsampling_fractions,  range(1, replicate_nr + 1))):\n",
    "            bact_df = _compute_species_richness_per_lod(bowtie2_path, subsample_path, bs_id_str, krakdb, readpool, mhg, cs, sf, r, level, bacteria_taxids, lods, rows)\n",
    "            \n",
    "        # 100% sampling (no replicate)\n",
    "        bact_df= _compute_species_richness_per_lod(bowtie2_path, subsample_path, bs_id_str, krakdb, readpool, mhg, cs, 1, 1, level, bacteria_taxids, lods, rows)\n",
    "\n",
    "rcurve_df = pd.DataFrame(data=rows, columns=['Sample id', 'Kraken setting', 'Sampling fraction', 'Replicate nr', 'Level', 'LoD', 'Richness'])"
   ]
  },
  {
   "cell_type": "code",
   "execution_count": null,
   "id": "559d260a-b640-4dab-8f1e-1131ecb0d56a",
   "metadata": {},
   "outputs": [],
   "source": [
    "rcurve_fn = '{}rarefication_curves_S.csv'.format(working_path)\n",
    "\n",
    "# rcurve_df.to_csv(rcurve_fn)\n",
    "\n",
    "rcurve_df = pd.read_csv(rcurve_fn, index_col=0)\n",
    "\n",
    "bs_ids = [27, 62, 105, 155]"
   ]
  },
  {
   "cell_type": "code",
   "execution_count": null,
   "id": "ff241f6a-3f4a-4b2d-b4ce-7c6d519ec7a5",
   "metadata": {
    "scrolled": true
   },
   "outputs": [],
   "source": [
    "cmap = dict(zip(lods, sns.color_palette('colorblind', len(lods))))"
   ]
  },
  {
   "cell_type": "code",
   "execution_count": null,
   "id": "9ffff2d9-55ed-4426-a4ad-6008fc88f775",
   "metadata": {},
   "outputs": [],
   "source": [
    "f_rcurve_df = rcurve_df[rcurve_df['Kraken setting'].isin(\n",
    "    {'Core-nt DB, all reads, Kraken2 precise',\n",
    "    'Core-nt DB, non-bee reads, Kraken2 precise'})]"
   ]
  },
  {
   "cell_type": "markdown",
   "id": "1c3d51ba-4ed9-4f71-928c-3cfda71a5ce7",
   "metadata": {},
   "source": [
    "unfair comparison of lod when removing bee reads!\n",
    "to think --> tune total read function think again when to calcuoate relative abundance (before after removing bee reads?)"
   ]
  },
  {
   "cell_type": "code",
   "execution_count": null,
   "id": "3d9cd7f2-6d24-4286-a40b-e74b0e8bbb4c",
   "metadata": {},
   "outputs": [],
   "source": [
    "for bs_id in bs_ids:\n",
    "    bs_id_str = '%04d' % bs_id\n",
    "    sns.lineplot(data=rcurve_df[rcurve_df['Sample id']=='BS18-0027'], x='Sampling fraction', y='Richness', hue='LoD', style='Kraken setting', palette=cmap)\n",
    "    plt.legend(bbox_to_anchor=(1.05, 1), loc='upper left')\n",
    "    plt.title(bs_id_str)\n",
    "    plt.yscale('log')\n",
    "    plt.show()"
   ]
  },
  {
   "cell_type": "code",
   "execution_count": null,
   "id": "cb034790-c1a6-4eb9-8b51-8d8fc6220597",
   "metadata": {},
   "outputs": [],
   "source": [
    "for bs_id in bs_ids:\n",
    "    bs_id_str = '%04d' % bs_id\n",
    "    sns.lineplot(data=f_rcurve_df[f_rcurve_df['Sample id']=='BS18-{}'.format(bs_id_str)], x='Sampling fraction', y='Richness', hue='LoD', style='Kraken setting', palette=cmap)\n",
    "    plt.legend(bbox_to_anchor=(1.05, 1), loc='upper left')\n",
    "    plt.title(bs_id_str)\n",
    "    plt.show()"
   ]
  },
  {
   "cell_type": "code",
   "execution_count": null,
   "id": "46a0a636-8c11-41da-8f60-6cc6549e53f3",
   "metadata": {},
   "outputs": [],
   "source": [
    "cmap = dict(zip(['BS18-%04d' % bs_id for bs_id in bs_ids], sns.color_palette('colorblind', len(bs_ids))))\n",
    "for lod in lods:\n",
    "    sns.lineplot(data=rcurve_df[(rcurve_df['Kraken setting']=='Core-nt DB, non-bee reads, Kraken2 precise') & (rcurve_df['LoD']==lod)], x='Sampling fraction', y='Richness', hue='Sample id', palette=cmap)\n",
    "    plt.legend(bbox_to_anchor=(1.05, 1), loc='upper left')\n",
    "    plt.title(lod)\n",
    "    plt.show()"
   ]
  },
  {
   "cell_type": "markdown",
   "id": "b64773e4-a8d3-421c-9b11-20b96348d1d8",
   "metadata": {},
   "source": [
    "### Genera level"
   ]
  },
  {
   "cell_type": "code",
   "execution_count": null,
   "id": "e708d5f2-2b94-4fc7-ae84-c3dff62b515b",
   "metadata": {},
   "outputs": [],
   "source": [
    "level = 'G'\n",
    "bs_ids = [27, 62, 105, 155]\n",
    "krakdb_readpool_mhg_cs2kraken_setting = {\n",
    "    ('corent', 'all', 2, '00'):'Core-nt DB, all reads, Kraken2 default', \n",
    "    ('corent', 'all', 4, '005'):'Core-nt DB, all reads, Kraken2 very-precise',\n",
    "    ('corent', 'all', 2, '005'):'Core-nt DB, all reads, Kraken2 precise',\n",
    "    ('corent', 'nonbee', 2, '005'):'Core-nt DB, non-bee reads, Kraken2 precise'}\n",
    "\n",
    "subsampling_fractions = [round(x, 2) for x in np.arange(0.1, 1, 0.1)]\n",
    "replicate_nr = 10\n",
    "\n",
    "#lods = [5e-05, 4e-05, 3e-05, 2e-05, 2.5e-05, 1e-05]\n",
    "# lods = [0.00001, 0.00002, 0.00003, 0.00004, 0.00005]\n",
    "# lods = [0.000001, 0.000009, 0.00001, 0.000011, 0.000015, 0.000019, 0.00002]\n",
    "lods = [0.000001, 0.000005, 0.00001, 0.00005, 0.0001]\n",
    "\n",
    "rows = []\n",
    "for bs_id, (krakdb, readpool, mhg, cs) in product(bs_ids, krakdb_readpool_mhg_cs2kraken_setting.keys()):\n",
    "        bs_id_str = '%04d' % bs_id\n",
    "        for sf, r in tqdm(product(subsampling_fractions,  range(1, replicate_nr + 1))):\n",
    "            bact_df = _compute_species_richness_per_lod(bowtie2_path, subsample_path, bs_id_str, krakdb, readpool, mhg, cs, sf, r, level, bacteria_taxids, lods, rows)\n",
    "            \n",
    "        # 100% sampling (no replicate)\n",
    "        bact_df= _compute_species_richness_per_lod(bowtie2_path, subsample_path, bs_id_str, krakdb, readpool, mhg, cs, 1, 1, level, bacteria_taxids, lods, rows)\n",
    "\n",
    "rcurve_df = pd.DataFrame(data=rows, columns=['Sample id', 'Kraken setting', 'Sampling fraction', 'Replicate nr', 'Level', 'LoD', 'Richness'])"
   ]
  },
  {
   "cell_type": "code",
   "execution_count": null,
   "id": "aa4ba69c-8df8-4a7a-92e2-c96fd04a2983",
   "metadata": {},
   "outputs": [],
   "source": [
    "rcurve_fn = '{}rarefication_curves_G.csv'.format(working_path)\n",
    "\n",
    "# rcurve_df.to_csv(rcurve_fn)\n",
    "\n",
    "rcurve_df = pd.read_csv(rcurve_fn, index_col=0)\n",
    "\n",
    "bs_ids = [27, 62, 105, 155]"
   ]
  },
  {
   "cell_type": "code",
   "execution_count": null,
   "id": "305f23a1-10be-44fd-9556-86b0d5be7276",
   "metadata": {},
   "outputs": [],
   "source": [
    "cmap = dict(zip(lods, sns.color_palette('colorblind', len(lods))))\n",
    "f_rcurve_df = rcurve_df[rcurve_df['Kraken setting'].isin(\n",
    "    {'Core-nt DB, all reads, Kraken2 precise',\n",
    "    'Core-nt DB, non-bee reads, Kraken2 precise'})]\n",
    "for bs_id in bs_ids:\n",
    "    bs_id_str = '%04d' % bs_id\n",
    "    sns.lineplot(data=f_rcurve_df[f_rcurve_df['Sample id']=='BS18-{}'.format(bs_id_str)], x='Sampling fraction', y='Richness', hue='LoD', style='Kraken setting', palette=cmap)\n",
    "    plt.legend(bbox_to_anchor=(1.05, 1), loc='upper left')\n",
    "    plt.title(bs_id_str)\n",
    "    plt.show()"
   ]
  },
  {
   "cell_type": "code",
   "execution_count": null,
   "id": "c8666396-704b-4ca7-83a4-8e6b38c0c92f",
   "metadata": {},
   "outputs": [],
   "source": [
    "cmap = dict(zip(['BS18-%04d' % bs_id for bs_id in bs_ids], sns.color_palette('colorblind', len(bs_ids))))\n",
    "for lod in lods:\n",
    "    sns.lineplot(data=rcurve_df[(rcurve_df['Kraken setting']=='Core-nt DB, non-bee reads, Kraken2 precise') & (rcurve_df['LoD']==lod)], x='Sampling fraction', y='Richness', hue='Sample id', palette=cmap)\n",
    "    plt.legend(bbox_to_anchor=(1.05, 1), loc='upper left')\n",
    "    plt.title(lod)\n",
    "    plt.show()\n",
    "    "
   ]
  },
  {
   "cell_type": "markdown",
   "id": "dc1714ca-044e-46a5-858e-c7309e61d323",
   "metadata": {},
   "source": [
    "## Overlap with BEExact taxonomy (bacteria associated with bee)"
   ]
  },
  {
   "cell_type": "code",
   "execution_count": null,
   "id": "fd7d47ba-17f9-4701-bebd-f99bc56d06fe",
   "metadata": {},
   "outputs": [],
   "source": [
    "beexact_sp_name2taxid = get_beexact_species_name2taxid()"
   ]
  },
  {
   "cell_type": "code",
   "execution_count": null,
   "id": "2b755399-d341-4690-b4d9-d3a22acadc13",
   "metadata": {},
   "outputs": [],
   "source": [
    "level2beexact_taxa = defaultdict(set)\n",
    "for level in ['d', 'p', 'c', 'o', 'f', 'g', 's']:\n",
    "    level2beexact_taxa[level] = set()\n",
    "\n",
    "for line in file_content.split('\\n'):\n",
    "    if not line: continue\n",
    "    for s in line.rstrip(';').split('\\t')[1].split(';'):\n",
    "        level, taxon = s.split('__')\n",
    "        assert level in level2beexact_taxa, print('missing {}'.format(level))\n",
    "        level2beexact_taxa[level].add(taxon.replace('_', ' '))"
   ]
  },
  {
   "cell_type": "code",
   "execution_count": null,
   "id": "c3f6f5b5-7965-466a-a8e0-b0c7c7d756e7",
   "metadata": {},
   "outputs": [],
   "source": [
    "beexact_sp2taxids = ncbi.get_name_translator(level2beexact_taxa['s'])"
   ]
  },
  {
   "cell_type": "code",
   "execution_count": null,
   "id": "ac40fead-8583-4757-9dab-7d232d11b939",
   "metadata": {
    "scrolled": true
   },
   "outputs": [],
   "source": [
    "for sp, taxids in beexact_sp2taxids.items():\n",
    "    if len(taxids) != 1:\n",
    "        print(sp, taxids)"
   ]
  },
  {
   "cell_type": "code",
   "execution_count": null,
   "id": "cc97bf01-de6a-4066-b21a-8f0a9c89b294",
   "metadata": {
    "scrolled": true
   },
   "outputs": [],
   "source": [
    "beexact_taxids = set(itertools.chain(*list(beexact_sp2taxids.values())))\n",
    "\n",
    "beexact_taxnames = set(list(beexact_sp2taxids))"
   ]
  },
  {
   "cell_type": "code",
   "execution_count": null,
   "id": "a8341aad-1205-4b1a-b4d3-cd7c0044f4c0",
   "metadata": {
    "scrolled": true
   },
   "outputs": [],
   "source": [
    "beexact_taxnames"
   ]
  },
  {
   "cell_type": "code",
   "execution_count": null,
   "id": "7c14fe37-27fb-4f92-9c05-84c686a8a9b8",
   "metadata": {},
   "outputs": [],
   "source": [
    "bs_ids = [27, 62, 105, 155]\n",
    "krakdb_readpool_mhg_cs2kraken_setting = {\n",
    "    ('corent', 'all', 2, '00'):'Core-nt DB, all reads, Kraken2 default', \n",
    "    # ('corent', 'all', 4, '005'):'Core-nt DB, all reads, Kraken2 very-precise',\n",
    "    ('corent', 'all', 2, '005'):'Core-nt DB, all reads, Kraken2 precise',\n",
    "    ('corent', 'nonbee', 2, '005'):'Core-nt DB, non-bee reads, Kraken2 precise'}\n",
    "sf = 1\n",
    "r = 1\n",
    "level = 'S'\n",
    "lods = [0.000001, 0.000005, 0.00001, 0.00005, 0.0001]\n",
    "\n",
    "columns = ['Sample id', 'Kraken setting', 'LoD', 'Set', 'Species number', 'Species fraction']\n",
    "rows = []\n",
    "for bs_id, (krakdb, readpool, mhg, cs) in product(bs_ids, krakdb_readpool_mhg_cs2kraken_setting.keys()):\n",
    "    bs_id_str = '%04d' % bs_id\n",
    "    bact_df= get_bracken_df(bowtie2_path, subsample_path, bs_id_str, krakdb, readpool, mhg, cs, sf, r, 'S', bacteria_taxids)\n",
    "    \n",
    "    for lod in lods:\n",
    "        lod_bact_df = bact_df[bact_df['fraction_total_reads'] >= lod]\n",
    "        all_species_nr = len(lod_bact_df)\n",
    "        beexact_species_nr = len(set(lod_bact_df['taxonomy_id']).intersection(beexact_taxids))\n",
    "        nonbeexact_species_nr = all_species_nr - beexact_species_nr\n",
    "        rows.append((bs_id_str, krakdb_readpool_mhg_cs2kraken_setting[(krakdb, readpool, mhg, cs)], str(lod), 'non-BEExact', nonbeexact_species_nr, nonbeexact_species_nr / all_species_nr))\n",
    "        rows.append((bs_id_str, krakdb_readpool_mhg_cs2kraken_setting[(krakdb, readpool, mhg, cs)], str(lod), 'BEExact', beexact_species_nr, beexact_species_nr / all_species_nr))\n",
    "\n",
    "beexact_df = pd.DataFrame(data=rows, columns=columns)"
   ]
  },
  {
   "cell_type": "code",
   "execution_count": null,
   "id": "3687e008-9df5-417d-b2cb-1ea8197fd89a",
   "metadata": {},
   "outputs": [],
   "source": [
    "cmap = {\n",
    "    'BEExact': '#029e73', \n",
    "    'non-BEExact': '#d55e00'\n",
    "}"
   ]
  },
  {
   "cell_type": "code",
   "execution_count": null,
   "id": "350f7237-1054-404c-ad38-e9ad2772278f",
   "metadata": {},
   "outputs": [],
   "source": [
    "for bs_id in bs_ids:\n",
    "    bs_id_str = '%04d' % bs_id\n",
    "        \n",
    "    for setting in krakdb_readpool_mhg_cs2kraken_setting.values():\n",
    "\n",
    "        fig = px.bar(beexact_df[(beexact_df['Sample id']==bs_id_str) & (beexact_df['Kraken setting']==setting)], x=\"LoD\", y=\"Species fraction\", color=\"Set\",\n",
    "                    hover_data=['Set'], barmode = 'stack', color_discrete_map=cmap, title='BS-{} LoD {}'.format(bs_id_str, setting))\n",
    "        fig.update_layout(\n",
    "            autosize=False,\n",
    "            width=700,\n",
    "            height=700,\n",
    "        )\n",
    "        fig.show()"
   ]
  },
  {
   "cell_type": "markdown",
   "id": "c20eab60-2323-4e7e-b883-c6664cfc5e63",
   "metadata": {},
   "source": [
    "# Back to analyzing all Phenotypes samples"
   ]
  },
  {
   "cell_type": "code",
   "execution_count": null,
   "id": "a4aee26a-2479-4ca9-8e52-851adc0c5f58",
   "metadata": {},
   "outputs": [],
   "source": [
    "working_path = '{}phenotypes/'.format(home_path)\n",
    "fig_path = '/agsad/f80878961/Data-Raw/23_Livestock-PO/235_Bee_ZBF/planB/figures/'\n",
    "\n",
    "kdb_path = '{}krakdb/'.format(working_path)\n",
    "tmp_path = '{}tmp/'.format(working_path)\n",
    "bowtie2_path = '{}bowtie2/'.format(tmp_path)\n",
    "kraken_path = '{}kraken2/'.format(tmp_path)\n",
    "bracken_path = '{}bracken/'.format(tmp_path)\n",
    "\n",
    "kdb_name = 'corent'"
   ]
  },
  {
   "cell_type": "markdown",
   "id": "74de8235-2ef6-4867-86cd-d1fa8a8dacc1",
   "metadata": {},
   "source": [
    "## Bowtie2 + Kraken2 + Bracken"
   ]
  },
  {
   "cell_type": "code",
   "execution_count": null,
   "id": "45f90ed4-3760-4d4f-9b24-f209cbf1b6d4",
   "metadata": {},
   "outputs": [],
   "source": [
    "#array_str = ','.join([str(x) for x in failed_bs_ids])"
   ]
  },
  {
   "cell_type": "code",
   "execution_count": null,
   "id": "89812c5e-0051-49b0-835d-668c2a89df71",
   "metadata": {},
   "outputs": [],
   "source": [
    "# also remove 26, 68, 102, 103 with corrupted fastq\n",
    "array_str = '35,36,37,41,43,44,46,47,49,50,60,62,63,64,74,75,77,80,90,98,101,104,110,113,123,126,128,129,131,138,152,153,154,161,162'"
   ]
  },
  {
   "cell_type": "code",
   "execution_count": null,
   "id": "a248a09f-41a5-42ad-b1a7-246ff021098d",
   "metadata": {},
   "outputs": [],
   "source": [
    "# array_str = '1-185'\n",
    "bowtie2_script = '{}bowtie2_bee.run'.format(script_path)\n",
    "write_bowtie2_script(bowtie2_script, array_str)"
   ]
  },
  {
   "cell_type": "code",
   "execution_count": null,
   "id": "15917c74-477c-4fae-adfb-f032968260b4",
   "metadata": {},
   "outputs": [],
   "source": [
    "idx_path = '{}bee_bt2idx/'.format(working_path)\n",
    "idx_name = 'bee'\n",
    "input_path = '{}SwissFastQSample/'.format(working_path)\n",
    "output_path = bowtie2_path"
   ]
  },
  {
   "cell_type": "code",
   "execution_count": null,
   "id": "d49aae06-d517-4005-9681-ce462798325a",
   "metadata": {},
   "outputs": [],
   "source": [
    "%%bash -s \"$bowtie2_script\" \"$idx_path\" \"$idx_name\" \"$input_path\" \"$output_path\"\n",
    "cd $5\n",
    "sbatch $1 $2 $3 $4 $5"
   ]
  },
  {
   "cell_type": "code",
   "execution_count": null,
   "id": "2eb7e243-598b-438b-9a1b-31e79fc5321e",
   "metadata": {},
   "outputs": [],
   "source": [
    "failed_bs_ids = []\n",
    "for bs_id in range(1, 186):\n",
    "    bs_id_str = '%04d' % bs_id\n",
    "    with open('{}BS18-{}_bee.out'.format(bowtie2_path, bs_id_str), 'r') as inf:\n",
    "        line1 = inf.readline().split()\n",
    "        if len(line1) < 2 or line1[1] != 'reads;':\n",
    "            print(bs_id, line1)\n",
    "            failed_bs_ids.append(bs_id)"
   ]
  },
  {
   "cell_type": "code",
   "execution_count": null,
   "id": "945bde80-e161-4a12-a300-14a1c20e71db",
   "metadata": {},
   "outputs": [],
   "source": [
    "kraken2_script = '{}kraken2.run'.format(script_path)\n",
    "write_kraken2_script(kraken2_script, array_str, '', 'nonbee', '2', '0.05')\n",
    "\n",
    "input_path = bowtie2_path\n",
    "output_path = kraken_path\n",
    "read_1_suffix = '_bee_unmapped.1.fastq'\n",
    "read_2_suffix = '_bee_unmapped.2.fastq'"
   ]
  },
  {
   "cell_type": "code",
   "execution_count": null,
   "id": "3dd69c1b-ab86-42df-ba4a-537ffe814bba",
   "metadata": {},
   "outputs": [],
   "source": [
    "%%bash -s \"$kraken2_script\" \"$kdb_path\" \"$kdb_name\" \"$input_path\" \"$output_path\" \"$read_1_suffix\" \"$read_2_suffix\"\n",
    "cd $5\n",
    "sbatch $1 $2 $3 $4 $5 $6 $7"
   ]
  },
  {
   "cell_type": "code",
   "execution_count": null,
   "id": "b4084c3d-a920-469f-80fe-ba8432d85162",
   "metadata": {},
   "outputs": [],
   "source": [
    "# check if kraken files are there for these parameter combinations\n",
    "bs_ids = list(range(1, 186))\n",
    "krakdb = 'corent'\n",
    "readpool_mhg_cs = [('nonbee', 2, '005')]\n",
    "\n",
    "for bs_id, (readpool, mhg, cs) in product(bs_ids, readpool_mhg_cs):\n",
    "    bs_id_str = '%04d' % bs_id\n",
    "    file_prefix = '{}BS18-{}_{}_{}_mhg{}_cs{}_sf1_rep1'.format(kraken_path, bs_id_str, krakdb, readpool, mhg, cs)\n",
    "    if not os.path.exists('{}.kraken2'.format(file_prefix)): \n",
    "        print('{}.kraken2'.format(file_prefix))\n",
    "    if not os.path.exists('{}.k2report'.format(file_prefix)): \n",
    "        print('{}.k2report'.format(file_prefix))"
   ]
  },
  {
   "cell_type": "code",
   "execution_count": null,
   "id": "3671dadf-4b33-4b90-8460-29606daf508c",
   "metadata": {},
   "outputs": [],
   "source": [
    "# # add _sf1_rep1 to kraken file names\n",
    "# bs_ids = list(range(1, 186))\n",
    "# krakdb = 'corent'\n",
    "# readpool_mhg_cs = [('nonbee', 2, '005')]\n",
    "# \n",
    "# for bs_id, (readpool, mhg, cs) in product(bs_ids, readpool_mhg_cs):\n",
    "#     bs_id_str = '%04d' % bs_id\n",
    "#     old_file_prefix = '{}BS18-{}_{}_{}_mhg{}_cs{}'.format(kraken_path, bs_id_str, krakdb, readpool, mhg, cs)\n",
    "#     new_file_prefix = '{}BS18-{}_{}_{}_mhg{}_cs{}_sf1_rep1'.format(kraken_path, bs_id_str, krakdb, readpool, mhg, cs)\n",
    "#     if os.path.exists('{}.kraken2'.format(old_file_prefix)):\n",
    "#         os.rename('{}.kraken2'.format(old_file_prefix), '{}.kraken2'.format(new_file_prefix))\n",
    "#     else:\n",
    "#         print('{}.kraken2'.format(old_file_prefix))\n",
    "#     if os.path.exists('{}.k2report'.format(old_file_prefix)):\n",
    "#         os.rename('{}.k2report'.format(old_file_prefix), '{}.k2report'.format(new_file_prefix))\n",
    "#     else:\n",
    "#         print('{}.k2report'.format(old_file_prefix))"
   ]
  },
  {
   "cell_type": "code",
   "execution_count": null,
   "id": "52917202-2ce8-4cde-9cfd-df2885cfec1c",
   "metadata": {},
   "outputs": [],
   "source": [
    "array_str = '35,36,41,43,44,46,47,49,50,60,62,63,64,74,75,77,80,90,98,101,104,110,113,123,126,128,129,131,138,152,153,154,161,162'\n",
    "bracken_script = '{}bracken.run'.format(script_path)\n",
    "write_bracken_script(bracken_script, array_str)"
   ]
  },
  {
   "cell_type": "code",
   "execution_count": null,
   "id": "b00d6021-a0e4-4da7-8621-0671337605d1",
   "metadata": {},
   "outputs": [],
   "source": [
    "%%bash -s \"$bracken_script\" \"$kdb_path\" \"$kdb_name\" \"$kraken_path\" \"$bracken_path\"\n",
    "cd $5\n",
    "sbatch $1 $2 $3 $4 $5"
   ]
  },
  {
   "cell_type": "code",
   "execution_count": null,
   "id": "c175209e-334f-4328-b3fc-a105eaea1445",
   "metadata": {},
   "outputs": [],
   "source": [
    "# # add _sf1_rep1 to bracken file names\n",
    "# bs_ids = list(range(1, 186))\n",
    "# krakdb = 'corent'\n",
    "# readpool_mhg_cs = [('nonbee', 2, '005')]\n",
    "# levels = ['S', 'G']\n",
    "# \n",
    "# for bs_id, (readpool, mhg, cs), level in product(bs_ids, readpool_mhg_cs, levels):\n",
    "#     bs_id_str = '%04d' % bs_id\n",
    "#     old_file_prefix = '{}BS18-{}_{}_{}_mhg{}_cs{}_{}'.format(bracken_path, bs_id_str, krakdb, readpool, mhg, cs, level)\n",
    "#     new_file_prefix = '{}BS18-{}_{}_{}_mhg{}_cs{}_sf1_rep1_{}'.format(bracken_path, bs_id_str, krakdb, readpool, mhg, cs, level)\n",
    "#     if os.path.exists('{}.bracken'.format(old_file_prefix)):\n",
    "#         os.rename('{}.bracken'.format(old_file_prefix), '{}.bracken'.format(new_file_prefix))\n",
    "#     else:\n",
    "#         print('{}.bracken'.format(old_file_prefix))\n",
    "#     if os.path.exists('{}.breport'.format(old_file_prefix)):\n",
    "#         os.rename('{}.breport'.format(old_file_prefix), '{}.breport'.format(new_file_prefix))\n",
    "#     else:\n",
    "#         print('{}.breport'.format(old_file_prefix))"
   ]
  },
  {
   "cell_type": "code",
   "execution_count": null,
   "id": "e4fa60da-a5a2-4339-8dd1-d001273534f4",
   "metadata": {},
   "outputs": [],
   "source": [
    "# check if bracken files are there for these parameter combinations\n",
    "bs_ids = list(range(1, 186))\n",
    "krakdb = 'corent'\n",
    "readpool_mhg_cs = [('nonbee', 2, '005')]\n",
    "\n",
    "for bs_id, (readpool, mhg, cs) in product(bs_ids, readpool_mhg_cs):\n",
    "    bs_id_str = '%04d' % bs_id\n",
    "    file_prefix = '{}BS18-{}_{}_{}_mhg{}_cs{}_sf1_rep1'.format(bracken_path, bs_id_str, krakdb, readpool, mhg, cs)\n",
    "    if not os.path.exists('{}_S.bracken'.format(file_prefix)): \n",
    "        print('{}_S.bracken'.format(file_prefix))\n",
    "    if not os.path.exists('{}_S.breport'.format(file_prefix)): \n",
    "        print('{}_S.breport'.format(file_prefix))"
   ]
  },
  {
   "cell_type": "markdown",
   "id": "b52a6bc8-58f5-4fec-b5ec-fc5799ddeeb5",
   "metadata": {},
   "source": [
    "## Classification overview"
   ]
  },
  {
   "cell_type": "code",
   "execution_count": null,
   "id": "498efe8d-9c08-4f18-a338-46e469f8b668",
   "metadata": {},
   "outputs": [],
   "source": [
    "missing_ids = {26, 68, 102, 103}\n",
    "bs_ids = ['%04d' % bs_id for bs_id in range(1, 186) if bs_id not in missing_ids]\n",
    "krakdb, readpool, mhg, cs, sf, r, level = ('corent', 'nonbee', 2, '005', 1, 1, 'S')\n",
    "\n",
    "# which high level taxa we care about?\n",
    "taxa = set(('root', 'Eukaryota', 'Apis', 'Varroa', 'Fungi', 'Bacteria', 'Archaea', 'Viruses'))\n",
    "\n",
    "columns = ['Colony', 'Category', 'Read number']\n",
    "rows = []\n",
    "for bs_id in bs_ids:\n",
    "    ucseqs_nr, cseqs_nr = parse_kreport(kraken_path, bs_id, krakdb, readpool, mhg, cs, sf, r)\n",
    "    taxa2seqnr = parse_breport(bracken_path, bs_id, krakdb, readpool, mhg, cs, sf, r, level, taxa)\n",
    "    bs_id_name = 'BS18-{}'.format(bs_id)\n",
    "    rows.append((bs_id_name, 'Unclassified', ucseqs_nr))\n",
    "    rows.append((bs_id_name, 'Kraken2 only', cseqs_nr - taxa2seqnr['root']))\n",
    "    rows.append((bs_id_name, 'Other Kraken2 + Bracken', taxa2seqnr['root'] - taxa2seqnr['Eukaryota'] - taxa2seqnr['Bacteria'] - taxa2seqnr.get('Archaea', 0) - taxa2seqnr['Viruses']))\n",
    "    rows.append((bs_id_name, 'Viruses', taxa2seqnr['Viruses']))\n",
    "    rows.append((bs_id_name, 'Archaea', taxa2seqnr.get('Archaea', 0)))\n",
    "    rows.append((bs_id_name, 'Bacteria', taxa2seqnr['Bacteria']))\n",
    "    rows.append((bs_id_name, 'Other Eukaryota', taxa2seqnr['Eukaryota'] - taxa2seqnr['Apis'] - taxa2seqnr['Fungi'] - taxa2seqnr.get('Varroa', 0)))\n",
    "    rows.append((bs_id_name, 'Fungi', taxa2seqnr['Fungi']))\n",
    "    rows.append((bs_id_name, 'Varroa', taxa2seqnr.get('Varroa', 0)))\n",
    "    rows.append((bs_id_name, 'Apis', taxa2seqnr['Apis']))\n",
    "\n",
    "class_df = pd.DataFrame(data=rows, columns=columns)\n",
    "\n",
    "# calculate fraction a posteriori\n",
    "read_fraction = np.zeros(len(class_df))\n",
    "for bs_id in bs_ids:\n",
    "    bs_id_name = 'BS18-{}'.format(bs_id)\n",
    "    # number of reads classified by kraken2 + bracken AND by bowtie2 --> to calculate relative abundance\n",
    "    classified_read_nr = get_classified_read_nr(bowtie2_path, kraken_path, bracken_path, bs_id, krakdb, readpool, mhg, cs, sf, r, level)\n",
    "    f = (class_df['Colony'] == bs_id_name)\n",
    "    read_fraction[f] = class_df[f]['Read number'] / classified_read_nr\n",
    "class_df['Read fraction'] = read_fraction"
   ]
  },
  {
   "cell_type": "code",
   "execution_count": null,
   "id": "fc48bcce-e873-46eb-a3b5-8c90ffe7ae0d",
   "metadata": {},
   "outputs": [],
   "source": [
    "cmap = {\n",
    "    'Unclassified': '#262626',\n",
    "    'Kraken2 only': '#575757',\n",
    "    'Other Kraken2 + Bracken': '#949494',\n",
    "    'Viruses': '#0173b2',\n",
    "    'Archaea': '#d55e00',\n",
    "    'Bacteria': '#de8f05',\n",
    "    'Other Eukaryota': '#12634c',\n",
    "    'Fungi': '#029e73',\n",
    "    'Metazoa': '#cc78bc',\n",
    "    'Apis': '#75c8b0',\n",
    "    'Varroa': '#ece133'\n",
    "}"
   ]
  },
  {
   "cell_type": "code",
   "execution_count": null,
   "id": "5d372d09-3dd4-45ba-b8dd-2ad1d9d6b0fb",
   "metadata": {},
   "outputs": [],
   "source": [
    "fig = px.bar(class_df, x=\"Colony\", y=\"Read number\", color=\"Category\",\n",
    "            hover_data=['Category'], barmode = 'stack', color_discrete_map=cmap)\n",
    "fig.update_layout(\n",
    "    autosize=False,\n",
    "    width=1500,\n",
    "    height=700,\n",
    ")\n",
    "fig.show()"
   ]
  },
  {
   "cell_type": "code",
   "execution_count": null,
   "id": "7886fa62-d1d2-4b5e-bcc6-5618e4604454",
   "metadata": {},
   "outputs": [],
   "source": [
    "categories={'Viruses','Archaea','Bacteria','Other Eukaryota','Fungi','Varroa'}"
   ]
  },
  {
   "cell_type": "code",
   "execution_count": null,
   "id": "8816a210-b989-4643-ad67-6505788d1618",
   "metadata": {},
   "outputs": [],
   "source": [
    "class_df"
   ]
  },
  {
   "cell_type": "code",
   "execution_count": null,
   "id": "9b57981e-b41b-4525-97f5-34d32a3a36ca",
   "metadata": {},
   "outputs": [],
   "source": [
    "fig = px.bar(class_df[class_df['Category'].isin(categories)], x=\"Colony\", y=\"Read fraction\", color=\"Category\",\n",
    "            hover_data=['Category'], barmode = 'stack', color_discrete_map=cmap)\n",
    "fig.update_layout(\n",
    "    autosize=False,\n",
    "    width=1500,\n",
    "    height=700,\n",
    "    xaxis={'title': {'font': {'size': 18}}},\n",
    "    yaxis={'title': {'font': {'size': 18}}},\n",
    "    legend={'font': {'size': 16}}\n",
    ")\n",
    "fig.show()"
   ]
  },
  {
   "cell_type": "code",
   "execution_count": null,
   "id": "1bed9685-39ce-42d9-87d0-5c866da02683",
   "metadata": {},
   "outputs": [],
   "source": [
    "plt.figure(figsize=(8, 6))\n",
    "sns.boxplot(data=class_df, x='Category', y='Read fraction', palette=cmap, \n",
    "            showmeans=True, meanprops={\"marker\":\"o\", \"markerfacecolor\":\"red\", \"markeredgecolor\":\"black\", \"markersize\":\"5\"})\n",
    "plt.xticks(rotation=90)\n",
    "plt.tight_layout()\n",
    "plt.show()"
   ]
  },
  {
   "cell_type": "markdown",
   "id": "f8a44f52-92e1-4628-8722-82c6f88b0209",
   "metadata": {},
   "source": [
    "# Microbiome and Varroa analyses"
   ]
  },
  {
   "cell_type": "code",
   "execution_count": null,
   "id": "a7666b13-388b-48b5-8e9c-7e12e7fde9cc",
   "metadata": {},
   "outputs": [],
   "source": [
    "kdb_path = '{}krakdb/'.format(working_path)\n",
    "tmp_path = '{}tmp/'.format(working_path)\n",
    "bowtie2_path = '{}bowtie2/'.format(tmp_path)\n",
    "kraken_path = '{}kraken2/'.format(tmp_path)\n",
    "bracken_path = '{}bracken/'.format(tmp_path)\n",
    "tlf_path = '{}tlf/'.format(tmp_path)\n",
    "\n",
    "kdb_name = 'corent'\n",
    "\n",
    "with open('{}bacteria_taxids.pkl'.format(tmp_path), 'rb') as inf:\n",
    "    bacteria_taxids = pickle.load(inf)\n",
    "len(bacteria_taxids)\n",
    "\n",
    "beexact_sp_name2taxid = get_beexact_species_name2taxid()\n",
    "beexact_sp_taxids = set(chain(*list(beexact_sp_name2taxid.values())))\n",
    "beexact_sp_names = set(list(beexact_sp_name2taxid))"
   ]
  },
  {
   "cell_type": "markdown",
   "id": "51c6875f-0fc2-4e39-a78f-738bf33d64ea",
   "metadata": {},
   "source": [
    "## Parse Bracken tables"
   ]
  },
  {
   "cell_type": "code",
   "execution_count": null,
   "id": "5096a51d-454e-4524-87c2-83e3cff2b28b",
   "metadata": {},
   "outputs": [],
   "source": [
    "missing_ids = {26, 68, 102, 103}\n",
    "bs_ids = ['%04d' % bs_id for bs_id in range(1, 186) if bs_id not in missing_ids]\n",
    "lod = 0\n",
    "# lod = 5e-06\n",
    "krakdb, readpool, mhg, cs, sf, r, level = ('corent', 'nonbee', 2, '005', 1, 1, 'S')\n",
    "df_list = []\n",
    "for bs_id in tqdm(bs_ids):\n",
    "    df = get_bracken_df(bowtie2_path, kraken_path, bracken_path, bs_id, krakdb, readpool, mhg, cs, sf, r, level, {})\n",
    "    df = df[df['fraction_total_reads'] >= lod][['name', 'taxonomy_id', 'fraction_total_reads', 'new_est_reads', 'log_ratio_honeybee', 'ratio_honeybee']]\n",
    "    df.insert(0, 'Colony', ['BS18-{}'.format(bs_id) for i in range(len(df))])\n",
    "    df_list.append(df)\n",
    "\n",
    "brack_df_nolod = pd.concat(df_list).rename(columns={'name': 'Taxon', 'taxonomy_id': 'TaxID', 'fraction_total_reads': 'Relative abundance', 'new_est_reads': 'Read number', 'ratio_honeybee': 'Ratio Honeybee', 'log_ratio_honeybee': 'Log Ratio Honeybee'})\n",
    "\n",
    "brack_df_varroa = brack_df_nolod[brack_df_nolod['Taxon'] == 'Varroa destructor']"
   ]
  },
  {
   "cell_type": "code",
   "execution_count": null,
   "id": "3025a314-57d2-4b1f-a910-3812437fca1c",
   "metadata": {},
   "outputs": [],
   "source": [
    "# apply lod\n",
    "lod = 5e-06\n",
    "brack_df = brack_df_nolod[(brack_df_nolod['Relative abundance'] >= lod) & (brack_df_nolod['TaxID'].isin(bacteria_taxids))]\n",
    "brack_df"
   ]
  },
  {
   "cell_type": "code",
   "execution_count": null,
   "id": "c841c40f-5824-43e1-b29a-fa2f6ada70f6",
   "metadata": {},
   "outputs": [],
   "source": [
    "# # for Kevin\n",
    "# brack_df.to_csv('{}{}_bacteria_abundances_BeeStrong_CH.csv'.format(tlf_path, str(datetime.now().date())), index=False)"
   ]
  },
  {
   "cell_type": "markdown",
   "id": "a1c7c522-8c61-439b-bc8e-e9b4f75b410a",
   "metadata": {},
   "source": [
    "## Varroa infestation"
   ]
  },
  {
   "cell_type": "code",
   "execution_count": null,
   "id": "46942aa8-0059-4829-b57e-5f04118de258",
   "metadata": {},
   "outputs": [],
   "source": [
    "varroa_df = pheno_df[pheno_df['N°-Ruche-BeeStrong'].isin({'BS18-{}'.format(x) for x in bs_ids})].loc[:, ['N°-Ruche-BeeStrong', 'Nb varroas/100 bees']].rename(columns={'N°-Ruche-BeeStrong':'Colony'})\n",
    "varroa_df = pd.merge(pd.merge(varroa_df, brack_df_varroa, on='Colony', how='left'), mito_df.rename(columns={'name':'Colony'}), on='Colony', how='left')\n",
    "varroa_df = varroa_df[['Colony', 'Nb varroas/100 bees', 'Relative abundance', 'Read number', 'Ratio Honeybee', 'Log Ratio Honeybee', 'varroaMitoRatio']]"
   ]
  },
  {
   "cell_type": "code",
   "execution_count": null,
   "id": "31fa5ffc-465f-4171-af0b-3760c60f5959",
   "metadata": {},
   "outputs": [],
   "source": [
    "varroa_df['Nb varroas/100 bees'].to_numpy()"
   ]
  },
  {
   "cell_type": "code",
   "execution_count": null,
   "id": "89d9426e-a93f-435b-85e9-bda4be78f3a6",
   "metadata": {},
   "outputs": [],
   "source": [
    "# # my NA means 0 but I don't know what sonia's NA means\n",
    "# # varroa_df = varroa_df.fillna({'Relative abundance': 0, 'Log Ratio Honeybee': np.log(1e-07)})\n",
    "# \n",
    "# x = varroa_df['Nb varroas/100 bees'].to_numpy()\n",
    "# y = np.full(len(varroa_df), np.nan)\n",
    "# y[x > 0] = np.log(x[x > 0])\n",
    "# varroa_df['Log Nb varroas/100 bees'] = y"
   ]
  },
  {
   "cell_type": "markdown",
   "id": "57d81d9e-cd62-4533-973f-9accefda5525",
   "metadata": {},
   "source": [
    "### compare measures"
   ]
  },
  {
   "cell_type": "markdown",
   "id": "5c65560f-df76-4f69-a532-73b79dd29408",
   "metadata": {},
   "source": [
    "compare my measures: Log Ratio Honeybee and Relative abundance, and Sonia' measure: VarroaMitoRatio\n",
    "\n",
    "for fair comparison filter rows with NA and 0 values in one of these measures"
   ]
  },
  {
   "cell_type": "code",
   "execution_count": null,
   "id": "7f6f12f6-39b4-4d4b-8330-2ba15cbad44c",
   "metadata": {},
   "outputs": [],
   "source": [
    "varroa_df.describe()"
   ]
  },
  {
   "cell_type": "code",
   "execution_count": null,
   "id": "7582706b-a0da-403a-8aab-b5bdc3fb00af",
   "metadata": {},
   "outputs": [],
   "source": [
    "varroa_df_f = varroa_df.dropna()"
   ]
  },
  {
   "cell_type": "code",
   "execution_count": null,
   "id": "31194203-ed05-4f83-8f57-6c7470bd0720",
   "metadata": {},
   "outputs": [],
   "source": [
    "varroa_df_f.describe()"
   ]
  },
  {
   "cell_type": "code",
   "execution_count": null,
   "id": "c6e2a92b-afd5-47c5-b355-c9f91f8758e6",
   "metadata": {},
   "outputs": [],
   "source": [
    "figsize=(10, 8)\n",
    "sns.set_style('whitegrid')\n",
    "sns.set_context(\"talk\", font_scale=1.5)"
   ]
  },
  {
   "cell_type": "code",
   "execution_count": null,
   "id": "ad5b184b-40cd-4526-b065-228dad259d66",
   "metadata": {},
   "outputs": [],
   "source": [
    "print(varroa_df_f['Nb varroas/100 bees'].corr(varroa_df_f['Relative abundance']))\n",
    "\n",
    "plt.figure(figsize=figsize)\n",
    "sns.scatterplot(data=varroa_df_f, x='Nb varroas/100 bees', y='Relative abundance')\n",
    "plt.show()"
   ]
  },
  {
   "cell_type": "code",
   "execution_count": null,
   "id": "cb745285-d06d-4e42-be5c-8c3f41b3256e",
   "metadata": {},
   "outputs": [],
   "source": [
    "print(varroa_df_f['Nb varroas/100 bees'].corr(varroa_df_f['Ratio Honeybee']))\n",
    "plt.figure(figsize=figsize)\n",
    "sns.scatterplot(data=varroa_df_f, x='Nb varroas/100 bees', y='Ratio Honeybee')\n",
    "plt.show()"
   ]
  },
  {
   "cell_type": "code",
   "execution_count": null,
   "id": "de9d9eb8-7879-4b35-99ae-0ee129a8aaa7",
   "metadata": {},
   "outputs": [],
   "source": [
    "print(varroa_df_f['Nb varroas/100 bees'].corr(varroa_df_f['varroaMitoRatio']))\n",
    "plt.figure(figsize=figsize)\n",
    "sns.scatterplot(data=varroa_df_f, x='Nb varroas/100 bees', y='varroaMitoRatio')\n",
    "plt.show()"
   ]
  },
  {
   "cell_type": "markdown",
   "id": "de59a17f-5911-42f3-acca-1cbfec046be1",
   "metadata": {},
   "source": [
    "very similar results, but relative abundance is actually better than ratio"
   ]
  },
  {
   "cell_type": "code",
   "execution_count": null,
   "id": "351b590c-8ee0-4218-b99a-f2c517501588",
   "metadata": {},
   "outputs": [],
   "source": []
  },
  {
   "cell_type": "code",
   "execution_count": null,
   "id": "fb082d17-d75e-4c24-b0de-7231f9fcde52",
   "metadata": {},
   "outputs": [],
   "source": [
    "print(varroa_df_f['Relative abundance'].corr(varroa_df_f['varroaMitoRatio']))\n",
    "plt.figure(figsize=figsize)\n",
    "sns.scatterplot(data=varroa_df_f, x='Relative abundance', y='varroaMitoRatio')\n",
    "plt.show()"
   ]
  },
  {
   "cell_type": "code",
   "execution_count": null,
   "id": "14403cc8-5c8f-4abd-a1fd-444ed301f729",
   "metadata": {},
   "outputs": [],
   "source": [
    "sns.scatterplot(data=varroa_df_f, x='Ratio Honeybee', y='varroaMitoRatio')\n",
    "print(varroa_df_f['Ratio Honeybee'].corr(varroa_df_f['varroaMitoRatio']))\n"
   ]
  },
  {
   "cell_type": "code",
   "execution_count": null,
   "id": "8091d2bd-a5c0-4f3c-a879-3c19bc5633a8",
   "metadata": {},
   "outputs": [],
   "source": [
    "sns.scatterplot(data=varroa_df_f, x='Ratio Honeybee', y='Relative abundance')\n",
    "print(varroa_df_f['Ratio Honeybee'].corr(varroa_df_f['Relative abundance']))"
   ]
  },
  {
   "cell_type": "markdown",
   "id": "d6328c0a-5d28-4e30-8a8a-7a950fed6037",
   "metadata": {},
   "source": [
    "my two measures are extremely similar , more than either with sonia's measure, which makes sense"
   ]
  },
  {
   "cell_type": "markdown",
   "id": "169cce5d-69f7-4dbd-8896-f6e243576cb0",
   "metadata": {},
   "source": [
    "### include all samples"
   ]
  },
  {
   "cell_type": "code",
   "execution_count": null,
   "id": "53d4cec2-6d78-4742-bc90-8e99ae1ca116",
   "metadata": {},
   "outputs": [],
   "source": [
    "varroa_df.shape"
   ]
  },
  {
   "cell_type": "code",
   "execution_count": null,
   "id": "94d9fea2-b9e0-47b2-9dab-2700c2a63786",
   "metadata": {},
   "outputs": [],
   "source": [
    "sns.scatterplot(data=varroa_df, x='Nb varroas/100 bees', y='Relative abundance')\n",
    "print(varroa_df['Nb varroas/100 bees'].corr(varroa_df['Relative abundance']))"
   ]
  },
  {
   "cell_type": "markdown",
   "id": "38b7f040-9203-4a67-9158-8066fbc2be63",
   "metadata": {},
   "source": [
    "### Linear modelling [old]"
   ]
  },
  {
   "cell_type": "code",
   "execution_count": null,
   "id": "50237867-9cd2-48ee-b2db-d54b28123fb2",
   "metadata": {},
   "outputs": [],
   "source": [
    "from sklearn import preprocessing, svm \n",
    "from sklearn.model_selection import train_test_split \n",
    "from sklearn.linear_model import LinearRegression "
   ]
  },
  {
   "cell_type": "code",
   "execution_count": null,
   "id": "4ee39a7a-5149-4fbc-b358-a9f4e0c7375c",
   "metadata": {},
   "outputs": [],
   "source": [
    "# aim to predict varroa abundance based on sequence\n",
    "X = np.array(brack_pheno_df['varroaBrackenFrac']).reshape(-1, 1)\n",
    "y = np.array(brack_pheno_df['Nb varroas/100 bees']).reshape(-1, 1) "
   ]
  },
  {
   "cell_type": "code",
   "execution_count": null,
   "id": "1666931c-1521-47ee-98a7-7094e9ee8297",
   "metadata": {},
   "outputs": [],
   "source": [
    "X_train, X_test, y_train, y_test = train_test_split(X, y, test_size = 0.25) "
   ]
  },
  {
   "cell_type": "code",
   "execution_count": null,
   "id": "7f1d0cd2-79b4-4326-bdd9-cbacea5a7779",
   "metadata": {},
   "outputs": [],
   "source": [
    "regr = LinearRegression() \n",
    "regr.fit(X_train, y_train) \n",
    "print(regr.score(X_test, y_test)) "
   ]
  },
  {
   "cell_type": "code",
   "execution_count": null,
   "id": "42cb128f-0d66-4101-9221-3ab3d5ae09eb",
   "metadata": {},
   "outputs": [],
   "source": [
    "y_pred = regr.predict(X_test) \n",
    "plt.scatter(X_test, y_test, color ='b') \n",
    "plt.plot(X_test, y_pred, color ='k') \n",
    "plt.show() "
   ]
  },
  {
   "cell_type": "code",
   "execution_count": null,
   "id": "d3ba2404-7946-41c2-8901-914e4db870df",
   "metadata": {},
   "outputs": [],
   "source": [
    "regr.predict(np.array([[0.0008]]))"
   ]
  },
  {
   "cell_type": "code",
   "execution_count": null,
   "id": "c78e1897-1b96-448b-a206-0f0050223e1f",
   "metadata": {},
   "outputs": [],
   "source": [
    "from sklearn.metrics import mean_absolute_error,mean_squared_error \n",
    "  \n",
    "mae = mean_absolute_error(y_true=y_test,y_pred=y_pred) \n",
    "#squared True returns MSE value, False returns RMSE value. \n",
    "mse = mean_squared_error(y_true=y_test,y_pred=y_pred) #default=True \n",
    "rmse = mean_squared_error(y_true=y_test,y_pred=y_pred)#,squared=False) \n",
    "  \n",
    "print(\"MAE:\",mae) \n",
    "print(\"MSE:\",mse) \n",
    "print(\"RMSE:\",rmse)"
   ]
  },
  {
   "cell_type": "code",
   "execution_count": null,
   "id": "4178d13c-78bb-4700-8668-a0708f59ab93",
   "metadata": {},
   "outputs": [],
   "source": [
    "# what if we do the same but using 25% lower values as test set"
   ]
  },
  {
   "cell_type": "code",
   "execution_count": null,
   "id": "b7243ae2-bd63-42e1-a5fa-77d1a3b75e03",
   "metadata": {},
   "outputs": [],
   "source": [
    "sorted_brack_pheno_df = brack_pheno_df.sort_values(by='Nb varroas/100 bees')"
   ]
  },
  {
   "cell_type": "code",
   "execution_count": null,
   "id": "5dfd7a9c-d739-4ca0-aef5-37878176e120",
   "metadata": {},
   "outputs": [],
   "source": [
    "X = np.array(sorted_brack_pheno_df['varroaBrackenFrac']).reshape(-1, 1)\n",
    "y = np.array(sorted_brack_pheno_df['Nb varroas/100 bees']).reshape(-1, 1) "
   ]
  },
  {
   "cell_type": "code",
   "execution_count": null,
   "id": "b93cf028-1af5-4ac2-b3a6-5c8d220f5265",
   "metadata": {},
   "outputs": [],
   "source": [
    "idx = X.size // 4\n",
    "\n",
    "X_train = X[idx:]\n",
    "X_test = X[:idx]\n",
    "y_train = y[idx:]\n",
    "y_test = y[:idx]"
   ]
  },
  {
   "cell_type": "code",
   "execution_count": null,
   "id": "5aebc587-8ba1-4441-9766-72e6e643e900",
   "metadata": {},
   "outputs": [],
   "source": [
    "regr = LinearRegression() \n",
    "regr.fit(X_train, y_train) \n",
    "print(regr.score(X_test, y_test)) "
   ]
  },
  {
   "cell_type": "code",
   "execution_count": null,
   "id": "f14a94e4-ea4d-4d3d-b926-516e78e85687",
   "metadata": {},
   "outputs": [],
   "source": [
    "y_pred = regr.predict(X_test) \n",
    "plt.scatter(X_test, y_test, color ='b') \n",
    "plt.plot(X_test, y_pred, color ='k') \n",
    "plt.show() "
   ]
  },
  {
   "cell_type": "code",
   "execution_count": null,
   "id": "a5b9ffec-bc2e-4fab-983d-4cb7a2c4aa79",
   "metadata": {},
   "outputs": [],
   "source": [
    "from sklearn.metrics import mean_absolute_error,mean_squared_error \n",
    "  \n",
    "mae = mean_absolute_error(y_true=y_test,y_pred=y_pred) \n",
    "#squared True returns MSE value, False returns RMSE value. \n",
    "mse = mean_squared_error(y_true=y_test,y_pred=y_pred) #default=True \n",
    "rmse = mean_squared_error(y_true=y_test,y_pred=y_pred)#,squared=False) \n",
    "  \n",
    "print(\"MAE:\",mae) \n",
    "print(\"MSE:\",mse) \n",
    "print(\"RMSE:\",rmse)"
   ]
  },
  {
   "cell_type": "markdown",
   "id": "f832e12e-3bed-495a-bd2c-6d8513fb70e4",
   "metadata": {},
   "source": [
    "logic cause model is not suppose to work well for low abundance values \n",
    "- what if I train AND test model on higher values"
   ]
  },
  {
   "cell_type": "code",
   "execution_count": null,
   "id": "7003d45e-870e-46ac-9f84-51b10675acfb",
   "metadata": {},
   "outputs": [],
   "source": [
    "X = np.array(sorted_brack_pheno_df['varroaBrackenFrac']).reshape(-1, 1)\n",
    "y = np.array(sorted_brack_pheno_df['Nb varroas/100 bees']).reshape(-1, 1) \n",
    "\n",
    "idx = X.size // 4\n",
    "X = X[idx:]\n",
    "y = y[idx:]\n",
    "\n",
    "X_train, X_test, y_train, y_test = train_test_split(X, y, test_size = 0.25) "
   ]
  },
  {
   "cell_type": "code",
   "execution_count": null,
   "id": "cc28e1c3-a10b-46f9-9bde-638636742c75",
   "metadata": {},
   "outputs": [],
   "source": [
    "regr = LinearRegression() \n",
    "regr.fit(X_train, y_train) \n",
    "print(regr.score(X_test, y_test)) "
   ]
  },
  {
   "cell_type": "code",
   "execution_count": null,
   "id": "f72e6195-dddc-403c-b312-1bb00b4da71e",
   "metadata": {},
   "outputs": [],
   "source": [
    "y_pred = regr.predict(X_test) \n",
    "plt.scatter(X_test, y_test, color ='b') \n",
    "plt.plot(X_test, y_pred, color ='k') \n",
    "plt.show() "
   ]
  },
  {
   "cell_type": "markdown",
   "id": "994f3b61-ab17-4b55-b284-8af341ff01dd",
   "metadata": {},
   "source": [
    "lower fit it seems \n",
    "\n",
    "- let's exclude higher values"
   ]
  },
  {
   "cell_type": "code",
   "execution_count": null,
   "id": "6524106b-d412-4881-ae0a-ce20194de598",
   "metadata": {},
   "outputs": [],
   "source": [
    "sorted_brack_pheno_df = brack_pheno_df.sort_values(by='varroaBrackenFrac')\n",
    "X = np.array(sorted_brack_pheno_df['varroaBrackenFrac']).reshape(-1, 1)\n",
    "y = np.array(sorted_brack_pheno_df['Nb varroas/100 bees']).reshape(-1, 1)\n",
    "\n",
    "reg_scores_all = []\n",
    "for i in range(100):\n",
    "    X_train, X_test, y_train, y_test = train_test_split(X, y, test_size = 0.25)\n",
    "    regr = LinearRegression() \n",
    "    regr.fit(X_train, y_train) \n",
    "    reg_scores_all.append(regr.score(X_test, y_test))"
   ]
  },
  {
   "cell_type": "code",
   "execution_count": null,
   "id": "44120f06-c615-42c4-aa52-b2a33ddd4f54",
   "metadata": {},
   "outputs": [],
   "source": [
    "sorted_brack_pheno_df = brack_pheno_df.sort_values(by='varroaBrackenFrac')\n",
    "X = np.array(sorted_brack_pheno_df['varroaBrackenFrac']).reshape(-1, 1)[:160]\n",
    "y = np.array(sorted_brack_pheno_df['Nb varroas/100 bees']).reshape(-1, 1)[:160]\n",
    "X_train, X_test, y_train, y_test = train_test_split(X, y, test_size = 0.25) \n",
    "\n",
    "reg_scores_nohigh = []\n",
    "for i in range(100):\n",
    "    X_train, X_test, y_train, y_test = train_test_split(X, y, test_size = 0.25)\n",
    "    regr = LinearRegression() \n",
    "    regr.fit(X_train, y_train) \n",
    "    reg_scores_nohigh.append(regr.score(X_test, y_test))"
   ]
  },
  {
   "cell_type": "code",
   "execution_count": null,
   "id": "4cf5dabe-32c5-45cc-8307-3211c11d9a16",
   "metadata": {},
   "outputs": [],
   "source": [
    "sns.boxplot(reg_scores_all)"
   ]
  },
  {
   "cell_type": "code",
   "execution_count": null,
   "id": "888e8bed-28a0-462b-9ecf-46f504609292",
   "metadata": {},
   "outputs": [],
   "source": [
    "sns.boxplot(reg_scores_nohigh)"
   ]
  },
  {
   "cell_type": "code",
   "execution_count": null,
   "id": "c5a78529-d7c4-4235-ae59-68660c68b8a9",
   "metadata": {},
   "outputs": [],
   "source": [
    "np.mean(reg_scores_all)"
   ]
  },
  {
   "cell_type": "code",
   "execution_count": null,
   "id": "d22c570f-39e5-4675-a028-2c94a35c93a5",
   "metadata": {},
   "outputs": [],
   "source": [
    "np.mean(reg_scores_nohigh)"
   ]
  },
  {
   "cell_type": "markdown",
   "id": "b5499169-27bb-4d64-bb15-db76d7ad5205",
   "metadata": {},
   "source": [
    "well seems to decrease the fit to remove high values\n",
    "\n",
    "not sure how comparable however..."
   ]
  },
  {
   "cell_type": "markdown",
   "id": "f7aa5a4a-2baa-458e-8c06-48bb29aa7588",
   "metadata": {},
   "source": [
    "very stochastic score...\n",
    "\n",
    "train on everything "
   ]
  },
  {
   "cell_type": "code",
   "execution_count": null,
   "id": "a6af40d3-4538-4fc0-a48a-d9fc3c56d11b",
   "metadata": {},
   "outputs": [],
   "source": [
    "sorted_brack_pheno_df = brack_pheno_df.sort_values(by='varroaBrackenFrac')\n",
    "X = np.array(sorted_brack_pheno_df['varroaBrackenFrac']).reshape(-1, 1)[:160]\n",
    "y = np.array(sorted_brack_pheno_df['Nb varroas/100 bees']).reshape(-1, 1)[:160]\n",
    "len(X)"
   ]
  },
  {
   "cell_type": "code",
   "execution_count": null,
   "id": "ae9e813b-eaa0-4e84-89e7-e056b3d936ef",
   "metadata": {},
   "outputs": [],
   "source": [
    "len(y)"
   ]
  },
  {
   "cell_type": "code",
   "execution_count": null,
   "id": "3f479bdc-f1ba-4d1c-9425-f34f467b1f29",
   "metadata": {},
   "outputs": [],
   "source": [
    "regr = LinearRegression() \n",
    "regr.fit(X, y)"
   ]
  },
  {
   "cell_type": "code",
   "execution_count": null,
   "id": "b89de509-7386-4889-811b-3ae3be0c12a5",
   "metadata": {},
   "outputs": [],
   "source": [
    "y_pred = regr.predict(X) \n",
    "plt.scatter(X, y, color ='b') \n",
    "plt.plot(X, y_pred, color ='k') \n",
    "plt.show()"
   ]
  },
  {
   "cell_type": "code",
   "execution_count": null,
   "id": "5c5d88e4-aafb-4944-a7fb-ac2637fb1771",
   "metadata": {},
   "outputs": [],
   "source": [
    "# proportion of infected bees estimated as number of varroa per bee\n",
    "P = (y_pred / 100).flatten()"
   ]
  },
  {
   "cell_type": "code",
   "execution_count": null,
   "id": "32e88a2b-d71f-4cbc-8c2e-e4c96473e8cc",
   "metadata": {},
   "outputs": [],
   "source": [
    "N = sorted_brack_pheno_df[\"Nombre d'abeilles\"][:160]"
   ]
  },
  {
   "cell_type": "code",
   "execution_count": null,
   "id": "52572f29-ec38-4795-bda5-344c4e093cfa",
   "metadata": {},
   "outputs": [],
   "source": [
    "P"
   ]
  },
  {
   "cell_type": "code",
   "execution_count": null,
   "id": "1dcb215d-e179-47b9-a761-efe9c6f9acdc",
   "metadata": {},
   "outputs": [],
   "source": [
    "N"
   ]
  },
  {
   "cell_type": "code",
   "execution_count": null,
   "id": "7a1fea55-4640-41c9-87dc-c0da598943ab",
   "metadata": {},
   "outputs": [],
   "source": [
    "print(len(P))\n",
    "print(len(N))"
   ]
  },
  {
   "cell_type": "code",
   "execution_count": null,
   "id": "54cab080-c0d9-46f3-9344-b3bdd095fb22",
   "metadata": {},
   "outputs": [],
   "source": [
    "D = 1-(1-P)**N"
   ]
  },
  {
   "cell_type": "code",
   "execution_count": null,
   "id": "6c0025cd-e6ed-4ab3-ae72-48b81c5a481e",
   "metadata": {},
   "outputs": [],
   "source": [
    "len(D)"
   ]
  },
  {
   "cell_type": "code",
   "execution_count": null,
   "id": "07327fa1-a44b-400a-8155-60ac601e1b56",
   "metadata": {},
   "outputs": [],
   "source": [
    "D"
   ]
  },
  {
   "cell_type": "code",
   "execution_count": null,
   "id": "007f5ef7-0c0c-4de0-8711-895144801f15",
   "metadata": {},
   "outputs": [],
   "source": [
    "sns.boxplot(D)"
   ]
  },
  {
   "cell_type": "code",
   "execution_count": null,
   "id": "bcafeb4a-bcb9-4bb0-95db-404d72308961",
   "metadata": {},
   "outputs": [],
   "source": [
    "np.mean(D)"
   ]
  },
  {
   "cell_type": "code",
   "execution_count": null,
   "id": "dd9b9a6e-81cc-473e-9c81-0a333959ad7b",
   "metadata": {},
   "outputs": [],
   "source": [
    "1 - sum(sorted_brack_pheno_df['Nb varroas/100 bees'] == 0) / len(brack_pheno_df)"
   ]
  },
  {
   "cell_type": "markdown",
   "id": "6cb34ae7-fa4d-4d28-a53e-81ede4b06c3b",
   "metadata": {},
   "source": [
    "removing outliers give closer results to what theory is expected...\n",
    "\n",
    "--> possible to have > 1 varroa per bee"
   ]
  },
  {
   "cell_type": "code",
   "execution_count": null,
   "id": "e6a1d5d9-63d7-4c63-a913-8433ac774898",
   "metadata": {},
   "outputs": [],
   "source": [
    "sorted_brack_pheno_df"
   ]
  },
  {
   "cell_type": "code",
   "execution_count": null,
   "id": "24dc690c-2abf-4452-8a26-6c00b22300cd",
   "metadata": {},
   "outputs": [],
   "source": [
    "plt.scatter(X[:50], y[:50], color ='b') \n",
    "plt.plot(X[:50], y_pred[:50], color ='k') \n",
    "plt.show()"
   ]
  },
  {
   "cell_type": "code",
   "execution_count": null,
   "id": "42324c13-8961-4ccb-ba32-298330761e4a",
   "metadata": {},
   "outputs": [],
   "source": [
    "plt.scatter(X[:100], y[:100], color ='b') \n",
    "plt.plot(X[:100], y_pred[:100], color ='k') \n",
    "plt.show()"
   ]
  },
  {
   "cell_type": "code",
   "execution_count": null,
   "id": "df040dfc-e6f0-417a-92e1-a37683ebb94f",
   "metadata": {},
   "outputs": [],
   "source": [
    "plt.scatter(X[100:], y[100:], color ='b') \n",
    "plt.plot(X[100:], y_pred[100:], color ='k') \n",
    "plt.show()"
   ]
  },
  {
   "cell_type": "markdown",
   "id": "d5ac2ae2-a449-4560-ab36-9f9cc4d070ea",
   "metadata": {},
   "source": [
    "### ONT sample selection [old]"
   ]
  },
  {
   "cell_type": "code",
   "execution_count": null,
   "id": "34e7f264-f17e-4ddd-97d4-182c0de112d2",
   "metadata": {},
   "outputs": [],
   "source": [
    "brack_pheno_mito_df"
   ]
  },
  {
   "cell_type": "code",
   "execution_count": null,
   "id": "3664734a-f551-4b1a-b87c-24281edef6ce",
   "metadata": {},
   "outputs": [],
   "source": [
    "Nb varroas/100 bees"
   ]
  },
  {
   "cell_type": "code",
   "execution_count": null,
   "id": "4841e80b-770a-4f4a-adfc-a147fa462387",
   "metadata": {},
   "outputs": [],
   "source": [
    "bins = sns.histplot(brack_pheno_mito_df['Nb varroas/100 bees'], bins=23)"
   ]
  },
  {
   "cell_type": "code",
   "execution_count": null,
   "id": "ac832e31-08a7-4d72-913e-45008880e7b9",
   "metadata": {},
   "outputs": [],
   "source": [
    "len(brack_pheno_mito_df['Nb varroas/100 bees'])"
   ]
  },
  {
   "cell_type": "code",
   "execution_count": null,
   "id": "314192b2-b445-4f14-9cf4-509da54604f6",
   "metadata": {},
   "outputs": [],
   "source": [
    "brack_pheno_mito_df['Nb varroas/100 bees'].max()"
   ]
  },
  {
   "cell_type": "code",
   "execution_count": null,
   "id": "a682051c-8560-488a-9893-85452d341dba",
   "metadata": {},
   "outputs": [],
   "source": [
    "bin_nr, bin_values = np.histogram(brack_pheno_mito_df['Nb varroas/100 bees'], bins=23)\n",
    "bin_values[0] = -1"
   ]
  },
  {
   "cell_type": "code",
   "execution_count": null,
   "id": "45310062-05c9-440e-8704-f99f41d19899",
   "metadata": {},
   "outputs": [],
   "source": [
    "bin_nr"
   ]
  },
  {
   "cell_type": "code",
   "execution_count": null,
   "id": "b7f049ee-8cbf-487f-8bb6-f6c0aa6a7b5b",
   "metadata": {},
   "outputs": [],
   "source": [
    "random.seed(1234)"
   ]
  },
  {
   "cell_type": "code",
   "execution_count": null,
   "id": "1ee96ab8-9a03-4469-8fac-86aa8bf57a8f",
   "metadata": {},
   "outputs": [],
   "source": [
    "selected_samples = []\n",
    "\n",
    "for i in range(len(bin_nr)):\n",
    "    if bin_nr[i] == 0: continue\n",
    "    left = bin_values[i]\n",
    "    right = bin_values[i + 1]\n",
    "    selected_samples.append(random.choice(brack_pheno_mito_df[(brack_pheno_mito_df['Nb varroas/100 bees']>left) & (brack_pheno_mito_df['Nb varroas/100 bees']<=right)]['name'].to_list()))"
   ]
  },
  {
   "cell_type": "code",
   "execution_count": null,
   "id": "4373f496-9152-4338-9c47-1e50c5fed556",
   "metadata": {},
   "outputs": [],
   "source": [
    "random.choice(brack_pheno_mito_df[(brack_pheno_mito_df['Nb varroas/100 bees']>left) & (brack_pheno_mito_df['Nb varroas/100 bees']<=right)]['name'].to_list())"
   ]
  },
  {
   "cell_type": "code",
   "execution_count": null,
   "id": "211eb2d1-d328-4f9e-92f8-5cd7c27c7b31",
   "metadata": {},
   "outputs": [],
   "source": [
    "len(selected_samples)"
   ]
  },
  {
   "cell_type": "code",
   "execution_count": null,
   "id": "c52a89b9-8316-4108-a057-f4c4d81cd975",
   "metadata": {},
   "outputs": [],
   "source": [
    "for s in sorted(selected_samples):\n",
    "    print(s)"
   ]
  },
  {
   "cell_type": "code",
   "execution_count": null,
   "id": "4e4287d9-2c4e-4105-9a0b-5ef3a5e675ea",
   "metadata": {},
   "outputs": [],
   "source": [
    "sns.scatterplot(data=brack_pheno_mito_df[brack_pheno_mito_df['name'].isin(selected_samples)], x='Nb varroas/100 bees', y='varroaBrackenFrac')"
   ]
  },
  {
   "cell_type": "code",
   "execution_count": null,
   "id": "f0c3d0c5-f726-48b1-8b42-9ae396cfce7f",
   "metadata": {},
   "outputs": [],
   "source": [
    "sns.scatterplot(data=brack_pheno_mito_df[brack_pheno_mito_df['name'].isin(selected_samples)], x='Nb varroas/100 bees', y='varroaMitoRatio')"
   ]
  },
  {
   "cell_type": "code",
   "execution_count": null,
   "id": "ef3ba396-1f1b-431a-ad05-ce57e108540d",
   "metadata": {},
   "outputs": [],
   "source": [
    "sns.histplot(data=brack_pheno_mito_df[brack_pheno_mito_df['name'].isin(selected_samples)], x='chrDepth', bins=10)"
   ]
  },
  {
   "cell_type": "code",
   "execution_count": null,
   "id": "22273382-0a21-4983-ac1a-4b5edc5ef6db",
   "metadata": {},
   "outputs": [],
   "source": [
    "sns.histplot(data=brack_pheno_mito_df, x='chrDepth', bins=10)"
   ]
  },
  {
   "cell_type": "code",
   "execution_count": null,
   "id": "d366ee21-e94a-4d22-84de-5daca4f4a2d4",
   "metadata": {},
   "outputs": [],
   "source": [
    "pheno_df"
   ]
  },
  {
   "cell_type": "code",
   "execution_count": null,
   "id": "e6241125-3b44-4274-bb68-36820f59b268",
   "metadata": {},
   "outputs": [],
   "source": [
    "sns.histplot(pheno_df[pheno_df['N°-Ruche-BeeStrong'].isin(selected_samples)]['Nb varroas/100 bees'], bins=10)"
   ]
  },
  {
   "cell_type": "code",
   "execution_count": null,
   "id": "d06eb74f-995f-4680-9ea3-4aab7b5e1076",
   "metadata": {},
   "outputs": [],
   "source": []
  },
  {
   "cell_type": "markdown",
   "id": "7f738453-bae7-4ff9-a3ee-d5aebacaef2b",
   "metadata": {},
   "source": [
    "## Misc"
   ]
  },
  {
   "cell_type": "markdown",
   "id": "af4be161-ad8e-4813-af5b-5a2a56f872a8",
   "metadata": {},
   "source": [
    "### Absolute, Relative abundances, and Log ratios"
   ]
  },
  {
   "cell_type": "code",
   "execution_count": null,
   "id": "3c66e8b9-a76e-4d99-b52f-e4564beefd94",
   "metadata": {},
   "outputs": [],
   "source": [
    "sns.lmplot(data=brack_df, y='Relative abundance', x='new_est_reads')\n",
    "plt.show()\n",
    "print(brack_df['Relative abundance'].corr(brack_df['new_est_reads']))"
   ]
  },
  {
   "cell_type": "code",
   "execution_count": null,
   "id": "b582ded4-e3c5-4ea1-bdf4-d532f30be644",
   "metadata": {},
   "outputs": [],
   "source": [
    "ax = sns.scatterplot(y=brack_df['Log Ratio Honeybee'], x=np.log(brack_df['new_est_reads']))\n",
    "plt.show()\n",
    "print(brack_df['Log Ratio Honeybee'].corr(np.log(brack_df['new_est_reads'])))"
   ]
  },
  {
   "cell_type": "code",
   "execution_count": null,
   "id": "1148a4d1-2e23-4bbd-99fb-a63f2570baba",
   "metadata": {},
   "outputs": [],
   "source": [
    "ax = sns.scatterplot(y=brack_df['Log Ratio Honeybee'], x=np.log(brack_df['Relative abundance']))\n",
    "plt.show()\n",
    "print(brack_df['Log Ratio Honeybee'].corr(np.log(brack_df['Relative abundance'])))"
   ]
  },
  {
   "cell_type": "markdown",
   "id": "ed738ae9-d154-4e4b-b01e-c9224ab6e4de",
   "metadata": {},
   "source": [
    "--> both approach should be super fine then"
   ]
  },
  {
   "cell_type": "markdown",
   "id": "50830d18-6b8c-4d35-a018-f161b56f3f4d",
   "metadata": {},
   "source": [
    "### explo BC"
   ]
  },
  {
   "cell_type": "code",
   "execution_count": null,
   "id": "bc13d2ef-8d04-435e-a34f-046d16b18ad1",
   "metadata": {},
   "outputs": [],
   "source": [
    "pivot_relab_df = brack_df.pivot(index='Colony', columns='Taxon', values='Relative abundance').fillna(0)"
   ]
  },
  {
   "cell_type": "code",
   "execution_count": null,
   "id": "3bb20b3a-d308-45da-869a-51a6d0162a8e",
   "metadata": {},
   "outputs": [],
   "source": [
    "pivot_absab_df = brack_df.pivot(index='Colony', columns='Taxon', values='new_est_reads').fillna(0)"
   ]
  },
  {
   "cell_type": "code",
   "execution_count": null,
   "id": "9ae56192-381d-49b6-9ca4-fe8c5e3317ab",
   "metadata": {},
   "outputs": [],
   "source": [
    "bray_curtis_dissimilarity(pivot_absab_df.loc['BS18-0001'].to_numpy(), pivot_absab_df.loc['BS18-0002'].to_numpy())"
   ]
  },
  {
   "cell_type": "code",
   "execution_count": null,
   "id": "acd86bc5-c371-4f4a-866c-6d7c8812c9e7",
   "metadata": {},
   "outputs": [],
   "source": [
    "bray_curtis_dissimilarity(pivot_relab_df.loc['BS18-0001'].to_numpy(), pivot_relab_df.loc['BS18-0002'].to_numpy())"
   ]
  },
  {
   "cell_type": "code",
   "execution_count": null,
   "id": "f6a6571d-ba41-4c0f-88aa-51a2a7829a53",
   "metadata": {},
   "outputs": [],
   "source": [
    "pivot_absab_df.loc['BS18-0001'] > 0"
   ]
  },
  {
   "cell_type": "code",
   "execution_count": null,
   "id": "ade75beb-479e-4734-8637-37f8843b7908",
   "metadata": {},
   "outputs": [],
   "source": [
    "np.all(np.array(pivot_absab_df.loc['BS18-0001'] > 0) == np.array(pivot_relab_df.loc['BS18-0001'] > 0))"
   ]
  },
  {
   "cell_type": "code",
   "execution_count": null,
   "id": "f4e583f9-71bc-41b3-a90d-6e3cd4dbe08a",
   "metadata": {},
   "outputs": [],
   "source": [
    "def bray_curtis_dissimilarity(sample1, sample2):\n",
    "    # Ensure the samples are numpy arrays\n",
    "    sample1 = np.array(sample1)\n",
    "    sample2 = np.array(sample2)\n",
    "    \n",
    "    # Calculate the Bray-Curtis dissimilarity\n",
    "    numerator = np.sum(np.abs(sample1 - sample2))\n",
    "    denominator = np.sum(sample1 + sample2)\n",
    "    \n",
    "    return numerator / denominator\n"
   ]
  },
  {
   "cell_type": "code",
   "execution_count": null,
   "id": "7629c692-d90b-4e5a-87eb-bb305e6733c9",
   "metadata": {},
   "outputs": [],
   "source": [
    "s1 = [0, 1, 5]\n",
    "s2 = [1, 0, 10]"
   ]
  },
  {
   "cell_type": "code",
   "execution_count": null,
   "id": "3dd0a765-3dc4-4885-9b29-8eccf31f3e30",
   "metadata": {},
   "outputs": [],
   "source": [
    "sample1, sample2 = s1, s2\n",
    "sample1 = np.array(sample1)\n",
    "sample2 = np.array(sample2)"
   ]
  },
  {
   "cell_type": "code",
   "execution_count": null,
   "id": "d88e398f-0d3d-43f6-a59b-d7bb5c6acb16",
   "metadata": {},
   "outputs": [],
   "source": [
    "np.sum(np.abs(sample1 - sample2))"
   ]
  },
  {
   "cell_type": "code",
   "execution_count": null,
   "id": "9177f06a-d58b-42a8-b6e3-c8da906887a0",
   "metadata": {},
   "outputs": [],
   "source": [
    "np.sum(sample1 + sample2)"
   ]
  },
  {
   "cell_type": "code",
   "execution_count": null,
   "id": "a4b38da4-15fe-433e-8055-30c7d2f10531",
   "metadata": {},
   "outputs": [],
   "source": [
    "np.log10(1e-07)"
   ]
  },
  {
   "cell_type": "code",
   "execution_count": null,
   "id": "1baa3422-c4fe-41c5-929b-79979a7826cd",
   "metadata": {},
   "outputs": [],
   "source": [
    "1/10000000"
   ]
  },
  {
   "cell_type": "code",
   "execution_count": null,
   "id": "7baa2579-a455-422d-9773-77d2a0fae3af",
   "metadata": {},
   "outputs": [],
   "source": [
    "bray_curtis_dissimilarity(s1, s2)"
   ]
  },
  {
   "cell_type": "code",
   "execution_count": null,
   "id": "9f1d9cbe-41b0-4cf7-9485-9234625f892c",
   "metadata": {},
   "outputs": [],
   "source": [
    "np.abs(s1 - s2)"
   ]
  },
  {
   "cell_type": "markdown",
   "id": "db06e1a3-4903-44f1-ba2e-40da264fbe63",
   "metadata": {},
   "source": [
    "## Colony-centric e.g., Richness"
   ]
  },
  {
   "cell_type": "code",
   "execution_count": null,
   "id": "523fa6c9-5a18-48ca-837d-9c0c9dccca60",
   "metadata": {},
   "outputs": [],
   "source": [
    "figsize=(10, 8)\n",
    "sns.set_style('whitegrid')\n",
    "sns.set_context(\"talk\", font_scale=1.5)"
   ]
  },
  {
   "cell_type": "code",
   "execution_count": null,
   "id": "2dc59faa-6dc4-4cb3-9740-d09db164b827",
   "metadata": {},
   "outputs": [],
   "source": [
    "def shannon_diversity(group):\n",
    "    proportions = group['Relative abundance'] / group['Relative abundance'].sum()\n",
    "    return -sum(proportions * np.log(proportions))"
   ]
  },
  {
   "cell_type": "code",
   "execution_count": null,
   "id": "3196ff03-ba53-45af-9ad6-53623195bc98",
   "metadata": {},
   "outputs": [],
   "source": [
    "x = brack_df.groupby('Colony').agg({'Taxon' : ['count']})['Taxon']\n",
    "\n",
    "colony_df = pd.DataFrame({\n",
    "    'Colony' : x.index,\n",
    "    'Richness' : x['count'],\n",
    "    'Shannon diversity': list(brack_df.groupby('Colony').apply(shannon_diversity).reset_index(name='Shannon diversity')['Shannon diversity'])\n",
    "}).reset_index(drop=True)\n",
    "colony_df['Total read nr'] = [get_total_read_nr(bowtie2_path, col.split('-')[1]) for col in colony_df['Colony'] if bs_id not in missing_ids]\n",
    "\n",
    "# add traits\n",
    "colony_df = colony_df.merge(pheno_df[['N°-Ruche-BeeStrong', 'Identifiant Reine',\n",
    "       'Apiary', 'Population type',\n",
    "       'Calmness (Wabensitz)', 'Gentleness (Sanftmut)',\n",
    "       'Number of workers',\n",
    "       'Total worker brood (dm2)',\n",
    "       'Total honey stores (dm2)',\n",
    "       'Surface of pollen (dm2)',\n",
    "       'Nb varroas/100 bees',\n",
    "       'SMR - % infested cells recapped',\n",
    "       'pin-test -cleared cells/hour']].rename(columns={'N°-Ruche-BeeStrong':'Colony'}), on='Colony', how='inner')"
   ]
  },
  {
   "cell_type": "markdown",
   "id": "59435314-b9e9-47eb-b7f9-04f92e9bf60f",
   "metadata": {},
   "source": [
    "### Species richness vs. library size"
   ]
  },
  {
   "cell_type": "code",
   "execution_count": null,
   "id": "aa223814-1c0a-47f9-a113-2916b8c58179",
   "metadata": {},
   "outputs": [],
   "source": [
    "x = brack_df_nolod.groupby('Colony').agg({'Taxon' : ['count']})['Taxon']\n",
    "\n",
    "colony_df_nolod = pd.DataFrame({\n",
    "    'Colony' : x.index,\n",
    "    'Richness' : x['count']\n",
    "}).reset_index(drop=True)\n",
    "colony_df_nolod['Total read nr'] = [get_total_read_nr(bowtie2_path, col.split('-')[1]) for col in colony_df_nolod['Colony'] if bs_id not in missing_ids]"
   ]
  },
  {
   "cell_type": "code",
   "execution_count": null,
   "id": "229f55be-6ef7-4436-86f4-6401a3e13198",
   "metadata": {},
   "outputs": [],
   "source": [
    "print(colony_df_nolod['Richness'].corr(colony_df_nolod['Total read nr']))\n",
    "\n",
    "plt.figure(figsize=figsize)\n",
    "sns.scatterplot(data=colony_df_nolod, x='Total read nr', y='Richness')\n",
    "plt.show()"
   ]
  },
  {
   "cell_type": "code",
   "execution_count": null,
   "id": "67562bc9-a78a-472d-9577-a062838ec92e",
   "metadata": {},
   "outputs": [],
   "source": [
    "print(colony_df['Richness'].corr(colony_df['Total read nr']))\n",
    "\n",
    "plt.figure(figsize=figsize)\n",
    "sns.scatterplot(data=colony_df, x='Total read nr', y='Richness')\n",
    "plt.show()"
   ]
  },
  {
   "cell_type": "code",
   "execution_count": null,
   "id": "931da5d5-feb1-4f05-b539-a931ef52c0b0",
   "metadata": {},
   "outputs": [],
   "source": [
    "sns.lmplot(data=colony_df, x='Total read nr', y='Shannon diversity')\n",
    "print(colony_df['Shannon diversity'].corr(colony_df['Total read nr']))"
   ]
  },
  {
   "cell_type": "markdown",
   "id": "a9aec713-efd4-4854-9388-a15541054a4d",
   "metadata": {},
   "source": [
    "### Richness and evenness"
   ]
  },
  {
   "cell_type": "markdown",
   "id": "7eda901f-2cef-40ab-9d4d-c75e31d92a6c",
   "metadata": {},
   "source": [
    "Here I want to see whether there are relations between diversity (richness, eveness) and varroa abundance and other variables\n",
    "- H:  more varroa, could disturb the microbiome due to immune response"
   ]
  },
  {
   "cell_type": "code",
   "execution_count": null,
   "id": "250e2b89-53a7-4f63-a9c1-3ef151a2f231",
   "metadata": {},
   "outputs": [],
   "source": [
    "for trait in [\n",
    "       'Apiary', 'Population type',\n",
    "       'Calmness (Wabensitz)', 'Gentleness (Sanftmut)']:\n",
    "    sns.boxplot(data=colony_df, x=trait, y='Richness')\n",
    "    plt.xticks(rotation=90)\n",
    "    plt.show()\n",
    "    sns.boxplot(data=colony_df, x=trait, y='Shannon diversity')\n",
    "    plt.xticks(rotation=90)\n",
    "    plt.show()"
   ]
  },
  {
   "cell_type": "code",
   "execution_count": null,
   "id": "da1df37a-0dc1-4d3d-aa2b-2099ffeffec6",
   "metadata": {},
   "outputs": [],
   "source": [
    "for trait in [\n",
    "       'Number of workers',\n",
    "       'Total worker brood (dm2)',\n",
    "       'Total honey stores (dm2)',\n",
    "       'Surface of pollen (dm2)',\n",
    "       'Nb varroas/100 bees',\n",
    "       'SMR - % infested cells recapped',\n",
    "       'pin-test -cleared cells/hour']:\n",
    "    sns.lmplot(data=colony_df, x=trait, y='Richness')\n",
    "    plt.show()\n",
    "    print(colony_df['Richness'].corr(colony_df[trait]))\n",
    "    sns.lmplot(data=colony_df, x=trait, y='Shannon diversity')\n",
    "    plt.show()\n",
    "    print(colony_df['Shannon diversity'].corr(colony_df[trait]))"
   ]
  },
  {
   "cell_type": "markdown",
   "id": "10ed3778-bcf7-445b-97a8-959a53f9594d",
   "metadata": {},
   "source": [
    "## Species-centric"
   ]
  },
  {
   "cell_type": "markdown",
   "id": "434be578-ca3b-4d77-a22b-de77207166b8",
   "metadata": {},
   "source": [
    "### Prevalence and abundances"
   ]
  },
  {
   "cell_type": "code",
   "execution_count": null,
   "id": "1eaea7b9-c405-4fdc-b0b3-bec663da2eef",
   "metadata": {},
   "outputs": [],
   "source": [
    "# calculate mean and median abundance of each species\n",
    "median_abund_df = brack_df.groupby('Taxon').agg({'Relative abundance' : ['median']})['Relative abundance']\n",
    "mean_abund_df = brack_df.groupby('Taxon').agg({'Relative abundance' : ['mean']})['Relative abundance']\n",
    "sp2median_abund = dict(zip(median_abund_df.index, median_abund_df['median']))\n",
    "sp2mean_abund = dict(zip(mean_abund_df.index, mean_abund_df['mean']))"
   ]
  },
  {
   "cell_type": "code",
   "execution_count": null,
   "id": "a626a842-bc43-4557-94cd-e92f172681da",
   "metadata": {},
   "outputs": [],
   "source": [
    "taxids, counts = np.unique(brack_df['TaxID'], return_counts=True)\n",
    "species, counts = np.unique(brack_df['Taxon'], return_counts=True)"
   ]
  },
  {
   "cell_type": "code",
   "execution_count": null,
   "id": "56eaf38b-4bdb-4dfe-8ec3-fabe1457cf23",
   "metadata": {},
   "outputs": [],
   "source": [
    "# I guess it handles duplicates...\n",
    "sp_name2taxid = dict(zip(brack_df['Taxon'], brack_df['TaxID']))"
   ]
  },
  {
   "cell_type": "code",
   "execution_count": null,
   "id": "5f94a39c-1614-41bc-a04c-22f95fb560ea",
   "metadata": {},
   "outputs": [],
   "source": [
    "print(len(beexact_sp_taxids.intersection(taxids)))\n",
    "print(len(beexact_sp_names.intersection(species)))"
   ]
  },
  {
   "cell_type": "code",
   "execution_count": null,
   "id": "3b2399a9-1202-4049-a5db-78f4fd2f4664",
   "metadata": {},
   "outputs": [],
   "source": [
    "species, counts = np.unique(brack_df['Taxon'], return_counts=True)\n",
    "species_freqs = counts / len(bs_ids)\n",
    "in_beexact = [x in beexact_sp_names for x in species]\n",
    "core = [x >= 0.5 for x in species_freqs]\n",
    "prev_df = pd.DataFrame({\n",
    "    'Taxon' : list(species),\n",
    "    'TaxID' : [sp_name2taxid[sp] for sp in species],\n",
    "    'Prevalence' : list(species_freqs),\n",
    "    'Median Relative Abundance': [sp2median_abund[sp] for sp in species],\n",
    "    'Mean Relative Abundance': [sp2mean_abund[sp] for sp in species],\n",
    "    'In BEExact' : in_beexact,\n",
    "    'Core' : core\n",
    "})"
   ]
  },
  {
   "cell_type": "code",
   "execution_count": null,
   "id": "c250b129-6ddf-48fe-a137-4f73c6b93fd4",
   "metadata": {},
   "outputs": [],
   "source": [
    "print(sns.color_palette('Set1').as_hex())"
   ]
  },
  {
   "cell_type": "code",
   "execution_count": null,
   "id": "f3be5c1b-28bd-4c09-8fec-1c4666380313",
   "metadata": {},
   "outputs": [],
   "source": [
    "plt.figure(figsize=figsize)\n",
    "sns.histplot(data=prev_df, x='Prevalence', hue='In BEExact', multiple='stack', palette='Set1')\n",
    "plt.show()"
   ]
  },
  {
   "cell_type": "code",
   "execution_count": null,
   "id": "6056eb2d-5f93-4c67-93b9-671e9f661121",
   "metadata": {},
   "outputs": [],
   "source": [
    "from scipy import stats"
   ]
  },
  {
   "cell_type": "code",
   "execution_count": null,
   "id": "9dda1a54-da47-4e64-a07b-d6b6face1734",
   "metadata": {},
   "outputs": [],
   "source": [
    "t_stat, p_value = stats.ttest_ind(prev_df[prev_df['In BEExact'] == True]['Prevalence'].to_list(), prev_df[prev_df['In BEExact'] == False]['Prevalence'].to_list())\n",
    "p_value"
   ]
  },
  {
   "cell_type": "code",
   "execution_count": null,
   "id": "fdcc0970-7056-4e1c-9423-13c775293760",
   "metadata": {},
   "outputs": [],
   "source": [
    "plt.figure(figsize=figsize)\n",
    "sns.boxplot(data=prev_df, x='In BEExact', y='Prevalence',palette='Set1')\n",
    "plt.legend(bbox_to_anchor=(1.05, 1), loc='upper left')\n",
    "plt.show()"
   ]
  },
  {
   "cell_type": "code",
   "execution_count": null,
   "id": "74b95ff1-8d90-4321-ab68-72d17d928802",
   "metadata": {},
   "outputs": [],
   "source": [
    "fig = px.scatter(prev_df, x='Prevalence', y='Median Relative Abundance', color='In BEExact', hover_data=['Taxon'])\n",
    "fig.update_layout(\n",
    "    autosize=False,\n",
    "    width=700,\n",
    "    height=500,\n",
    "    xaxis={'title': {'font': {'size': 18}}},\n",
    "    yaxis={'title': {'font': {'size': 18}}},\n",
    "    legend={'font': {'size': 16}}\n",
    ")\n",
    "fig.show()\n"
   ]
  },
  {
   "cell_type": "code",
   "execution_count": null,
   "id": "8fbe2461-6a9f-4df1-9544-7525d335589d",
   "metadata": {},
   "outputs": [],
   "source": [
    "fig = px.scatter(prev_df, x='Prevalence', y='Median Relative Abundance', color='In BEExact', hover_data=['Taxon'], log_y=True)\n",
    "fig.update_layout(\n",
    "    autosize=False,\n",
    "    width=700,\n",
    "    height=500\n",
    ")\n",
    "fig.show()\n"
   ]
  },
  {
   "cell_type": "code",
   "execution_count": null,
   "id": "bac85d5f-f490-4783-9076-b3ef7035089c",
   "metadata": {},
   "outputs": [],
   "source": [
    "fig = px.scatter(prev_df, x='Prevalence', y='Mean Relative Abundance', color='In BEExact', hover_data=['Taxon'], log_y=True)\n",
    "fig.update_layout(\n",
    "    autosize=False,\n",
    "    width=700,\n",
    "    height=500\n",
    ")\n",
    "fig.show()\n"
   ]
  },
  {
   "cell_type": "markdown",
   "id": "2aaa55c8-4320-49a9-a014-b0cf8f6a3244",
   "metadata": {},
   "source": [
    "### (Core) microbiome distribution"
   ]
  },
  {
   "cell_type": "code",
   "execution_count": null,
   "id": "0db4bcfe-19dd-4498-b448-9c933579490c",
   "metadata": {},
   "outputs": [],
   "source": [
    "# defining here the core bacteria...\n",
    "\n",
    "min_prev = 0.0\n",
    "# min_prev = 0.5\n",
    "\n",
    "core_prev_df = prev_df[prev_df['Prevalence'] >= min_prev]\n",
    "core_brack_df = brack_df[brack_df['Taxon'].isin(core_prev_df['Taxon'])]\n",
    "assert len(set(core_brack_df['Taxon'])) == len(core_prev_df['Taxon'])"
   ]
  },
  {
   "cell_type": "code",
   "execution_count": null,
   "id": "2129e87d-4cb1-4b6e-b301-a6849d74bc59",
   "metadata": {},
   "outputs": [],
   "source": [
    "# select species I want to show\n",
    "\n",
    "def get_parent_taxid_at_level(taxid, level):\n",
    "    lineage = ncbi.get_lineage(taxid)\n",
    "    level2taxid = {v:k for k, v in ncbi.get_rank(lineage).items()}\n",
    "    parent_taxid = level2taxid[level]\n",
    "    return ncbi.get_taxid_translator([parent_taxid])[parent_taxid]\n",
    "    \n",
    "# other species are merged together\n",
    "plot_median_lod = 0.001\n",
    "\n",
    "abund_df = core_prev_df[core_prev_df['Median Relative Abundance'] >= plot_median_lod][['Taxon', 'TaxID', 'Median Relative Abundance']]\n",
    "abund_df['Family'] = [get_parent_taxid_at_level(taxid, 'family') for taxid in abund_df['TaxID']] \n",
    "abund_df.loc[len(abund_df)] = ['Other bacteria', np.nan, core_prev_df[core_prev_df['Median Relative Abundance'] < plot_median_lod].sum()['Median Relative Abundance'], 'Other bacteria']\n",
    "abund_df = abund_df.sort_values(by=['Family', 'Median Relative Abundance'], ascending=[True, False])\n",
    "abund_df"
   ]
  },
  {
   "cell_type": "code",
   "execution_count": null,
   "id": "d48a64c6-5042-43fb-9d72-848e67a8aac0",
   "metadata": {},
   "outputs": [],
   "source": [
    "# get species colors as gradients of family colors\n",
    "fam2color = {\n",
    "'Bartonellaceae':'#0173b2',\n",
    "'Bifidobacteriaceae' :'#de8f05',\n",
    "'Enterobacteriaceae':'#029e73',\n",
    "'Erwiniaceae':'#d55e00',\n",
    "'Lactobacillaceae':'#cc78bc',\n",
    "'Morganellaceae':'#ca9161',\n",
    "'Neisseriaceae':'#56b4e9',\n",
    "'Orbaceae':'#ece133',\n",
    "'Other bacteria':'#949494'\n",
    "}\n",
    "\n",
    "x = abund_df.groupby('Family').agg({'Family' : 'count'})\n",
    "fam2sp_nr = dict(zip(x.index, x['Family']))\n",
    "\n",
    "sp2color = {}\n",
    "fam2visit = {k: 0 for k in fam2sp_nr}\n",
    "for i, sp in enumerate(abund_df['Taxon']):\n",
    "    fam = abund_df['Family'].iloc[i]\n",
    "    light_palette = sns.light_palette(fam2color[fam], n_colors=fam2sp_nr[fam] + 1).as_hex()[::-1]\n",
    "    sp2color[sp] = light_palette[fam2visit[fam]]\n",
    "    fam2visit[fam] += 1\n",
    "\n",
    "sp2color"
   ]
  },
  {
   "cell_type": "code",
   "execution_count": null,
   "id": "4f376e89-75d3-49ed-9cee-22ac46c57c46",
   "metadata": {},
   "outputs": [],
   "source": [
    "# merge all non select species into others\n",
    "abund_brack_df = core_brack_df[core_brack_df['Taxon'].isin(sp2color)][['Colony', 'Taxon', 'Relative abundance']]\n",
    "sp2fam = dict(zip(abund_df['Taxon'], abund_df['Family']))\n",
    "abund_brack_df['Family'] = [sp2fam[sp] for sp in abund_brack_df['Taxon']]\n",
    "\n",
    "x = core_brack_df[~core_brack_df['Taxon'].isin(sp2color)].groupby('Colony').agg({'Relative abundance' : 'sum'})\n",
    "other_df = pd.DataFrame(data={'Colony': x.index, 'Taxon':  ['Other bacteria' for i in range(len(x))], 'Relative abundance': x['Relative abundance'], 'Family': ['Other bacteria' for i in range(len(x))]})\n",
    "\n",
    "abund_brack_df = pd.concat([abund_brack_df, other_df]).sort_values('Colony')\n",
    "abund_brack_df"
   ]
  },
  {
   "cell_type": "code",
   "execution_count": null,
   "id": "78493f0b-1842-4b62-a540-dc094b307ec7",
   "metadata": {},
   "outputs": [],
   "source": [
    "fig = px.bar(abund_brack_df, x=\"Colony\", y=\"Relative abundance\", color=\"Taxon\",\n",
    "            hover_data=['Taxon'], barmode = 'stack', color_discrete_map=sp2color, category_orders={'Taxon': list(abund_df['Taxon'])})\n",
    "fig.update_layout(\n",
    "    autosize=False,\n",
    "    width=1500,\n",
    "    height=700,\n",
    "    xaxis={'title': {'font': {'size': 18}}},\n",
    "    yaxis={'title': {'font': {'size': 18}}},\n",
    "    legend={'font': {'size': 16}}\n",
    ")\n",
    "fig.show()"
   ]
  },
  {
   "cell_type": "markdown",
   "id": "775c4e0c-8b85-4f94-921a-c6425e333fb7",
   "metadata": {},
   "source": [
    "## Beta diversity, Jaccard and Bray curtis\n"
   ]
  },
  {
   "cell_type": "markdown",
   "id": "ff40b3d1-12c5-4a05-86b2-7b62fd3907d9",
   "metadata": {},
   "source": [
    "### all bacteria and Jaccard"
   ]
  },
  {
   "cell_type": "code",
   "execution_count": null,
   "id": "c9f0800a-c119-428f-8b27-85f1bc87b94f",
   "metadata": {},
   "outputs": [],
   "source": [
    "jaccard_df = brack_df.pivot(index='Colony', columns='Taxon', values='Relative abundance').map(lambda x: 1 if x > 0 else x).fillna(0)"
   ]
  },
  {
   "cell_type": "code",
   "execution_count": null,
   "id": "ad9d9687-8a85-4e18-af95-15adc3474174",
   "metadata": {},
   "outputs": [],
   "source": [
    "# add metadata\n",
    "pheno_jaccard_df = pd.merge(pheno_df, jaccard_df, left_index=True, right_index=True)\n",
    "\n",
    "color_dict = {}\n",
    "discrete_vars = ['Apiary', 'Population type']\n",
    "continous_vars =  [\n",
    "       'Nb varroas/100 bees',\n",
    "       'SMR - % infested cells recapped',\n",
    "       'pin-test -cleared cells/hour']\n",
    "for var in discrete_vars:\n",
    "    values = pheno_jaccard_df[var]\n",
    "    cmap = dict(zip(values.unique(), [x.upper() for x in list(sns.color_palette('husl', n_colors=len(values.unique())).as_hex())]))\n",
    "    color_dict[var] =  values.map(cmap)\n",
    "\n",
    "for var in continous_vars:\n",
    "    values = pheno_jaccard_df[var]\n",
    "    normalized_values = np.interp(values, (min(values), max(values)), (0, 1))\n",
    "    cmap = plt.get_cmap('viridis')\n",
    "    hex_colors = [mcolors.to_hex(cmap(val)) for val in normalized_values]\n",
    "    color_dict[var] =  hex_colors\n",
    "    \n",
    "row_colors = pd.DataFrame(color_dict)"
   ]
  },
  {
   "cell_type": "code",
   "execution_count": null,
   "id": "eed5e1e0-8b40-4641-aa73-97caee2a26c4",
   "metadata": {},
   "outputs": [],
   "source": [
    "plt.figure(figsize=(20, 16))\n",
    "cg=sns.clustermap(jaccard_df, metric='jaccard', row_colors=row_colors)\n",
    "cg.cax.set_visible(False)\n",
    "plt.show()"
   ]
  },
  {
   "cell_type": "code",
   "execution_count": null,
   "id": "3d5eb958-8be6-4a70-9751-8711c0f16702",
   "metadata": {},
   "outputs": [],
   "source": [
    "pca = PCA()\n",
    "x_pca = pca.fit_transform(jaccard_df)\n",
    "\n",
    "sns.barplot(pca.explained_variance_ratio_[:10])\n",
    "\n",
    "pca_df = pd.DataFrame(data=x_pca, columns=['PC{}'.format(x) for x in range(1, x_pca.shape[1] + 1)], index=jaccard_df.index)\n",
    "\n",
    "pheno_pca_df = pd.merge(pheno_df, pca_df.iloc[:, :5], left_index=True, right_index=True)\n",
    "\n",
    "pheno_pca_melt_df = pd.melt(pheno_pca_df, id_vars=list(pheno_pca_df.columns[:50]), value_vars=list(pheno_pca_df.columns[50:]), \n",
    "        var_name = 'PC', value_name='PC_value')"
   ]
  },
  {
   "cell_type": "code",
   "execution_count": null,
   "id": "83a23d9e-eb4c-4ac2-80d8-09c84275d780",
   "metadata": {},
   "outputs": [],
   "source": [
    "variables = ['Apiary', 'Population type']\n",
    "for v in variables:\n",
    "    g = sns.FacetGrid(pheno_pca_melt_df, col='PC', col_wrap=5, height=3, aspect=1)\n",
    "    g.map(sns.boxplot,'PC_value',v)\n",
    "    g.set_titles(\"{col_name}\")"
   ]
  },
  {
   "cell_type": "code",
   "execution_count": null,
   "id": "24769329-8c36-4b1c-9789-41db4a53a4a9",
   "metadata": {},
   "outputs": [],
   "source": [
    "for pc in ['PC1', 'PC2', 'PC3', 'PC4', 'PC5']:\n",
    "    for v in variables:\n",
    "        df = pheno_pca_melt_df[(pheno_pca_melt_df['PC'] == pc)]\n",
    "        print(pc, v, df[v].corr(df['PC_value']))"
   ]
  },
  {
   "cell_type": "code",
   "execution_count": null,
   "id": "07e61213-58e1-41d4-8006-08deb3c03eab",
   "metadata": {},
   "outputs": [],
   "source": [
    "variables = [\n",
    "       #'Number of workers',\n",
    "       #'Total worker brood (dm2)',\n",
    "       #'Total honey stores (dm2)',\n",
    "       #'Surface of pollen (dm2)',\n",
    "       'Nb varroas/100 bees',\n",
    "       'SMR - % infested cells recapped',\n",
    "       'pin-test -cleared cells/hour']\n",
    "\n",
    "for v in variables:\n",
    "    g = sns.FacetGrid(pheno_pca_melt_df, col='PC', col_wrap=5, height=3, aspect=1)\n",
    "    g.map(sns.regplot,'PC_value',v,scatter_kws={'s':4})\n",
    "    g.set_titles(\"{col_name}\")"
   ]
  },
  {
   "cell_type": "code",
   "execution_count": null,
   "id": "607c6ffb-5dbf-457b-912a-57fb4fa22d9c",
   "metadata": {},
   "outputs": [],
   "source": [
    "variables = [\n",
    "       #'Number of workers',\n",
    "       #'Total worker brood (dm2)',\n",
    "       #'Total honey stores (dm2)',\n",
    "       #'Surface of pollen (dm2)',\n",
    "       'Nb varroas/100 bees',\n",
    "       'SMR - % infested cells recapped',\n",
    "       'pin-test -cleared cells/hour']\n",
    "\n",
    "for v in variables:\n",
    "    g = sns.FacetGrid(pheno_pca_melt_df, col='PC', hue='Population type', col_wrap=5, height=3, aspect=1)\n",
    "    g.map(sns.scatterplot,'PC_value',v)\n",
    "    g.set_titles(\"{col_name}\")"
   ]
  },
  {
   "cell_type": "code",
   "execution_count": null,
   "id": "b64b19f9-94b1-4b8f-8633-efa7f0db8769",
   "metadata": {},
   "outputs": [],
   "source": [
    "sns.set_style('whitegrid')\n",
    "plt.figure(figsize=(8, 8))\n",
    "x='PC1'\n",
    "y='PC2'\n",
    "sns.scatterplot(data=pheno_pca_df, x=x, y=y, hue='Apiary')\n",
    "plt.xlabel(x, fontsize=14)\n",
    "plt.ylabel(y, fontsize=14)\n",
    "plt.xticks(fontsize=14)\n",
    "plt.yticks(fontsize=14)\n",
    "plt.legend(fontsize=14)\n",
    "plt.legend(bbox_to_anchor=(1.05, 1), loc='upper left', borderaxespad=0.)\n",
    "plt.show()"
   ]
  },
  {
   "cell_type": "code",
   "execution_count": null,
   "id": "eb72f50d-1b2a-4994-ba63-22d3780ced55",
   "metadata": {},
   "outputs": [],
   "source": [
    "plt.figure(figsize=(8, 8))\n",
    "x='PC1'\n",
    "y='PC2'\n",
    "hue = 'Population type'\n",
    "sns.scatterplot(data=pheno_pca_df, x=x, y=y, hue=hue)\n",
    "plt.xlabel(x, fontsize=14)\n",
    "plt.ylabel(y, fontsize=14)\n",
    "plt.xticks(fontsize=14)\n",
    "plt.yticks(fontsize=14)\n",
    "plt.legend(fontsize=14)\n",
    "plt.legend(bbox_to_anchor=(1.05, 1), loc='upper left', borderaxespad=0.)\n",
    "plt.show()"
   ]
  },
  {
   "cell_type": "code",
   "execution_count": null,
   "id": "6833824e-cbe7-4c4a-9373-195b287ba1d4",
   "metadata": {},
   "outputs": [],
   "source": [
    "plt.figure(figsize=(8, 6))\n",
    "sns.scatterplot(data=pheno_pca_df, x='PC2', y='PC3', hue='Nb varroas/100 bees')\n",
    "plt.legend(bbox_to_anchor=(1.05, 1), loc='upper left', borderaxespad=0.)\n",
    "plt.show()"
   ]
  },
  {
   "cell_type": "code",
   "execution_count": null,
   "id": "efb12507-c766-4204-8bcf-e42160b25200",
   "metadata": {},
   "outputs": [],
   "source": [
    "plt.figure(figsize=(8, 6))\n",
    "sns.scatterplot(data=pheno_pca_df, x='PC1', y='PC4', hue='SMR - % infested cells recapped')\n",
    "plt.legend(bbox_to_anchor=(1.05, 1), loc='upper left', borderaxespad=0.)\n",
    "plt.show()"
   ]
  },
  {
   "cell_type": "markdown",
   "id": "2433736e-8b77-4839-9822-f2777a7d731e",
   "metadata": {},
   "source": [
    "### core and bray-curtis"
   ]
  },
  {
   "cell_type": "code",
   "execution_count": null,
   "id": "09d6b5fd-53bf-45e1-ba60-c6898c9d5634",
   "metadata": {},
   "outputs": [],
   "source": [
    "# use only abundant bacteria > 0.001 (as for community distributions)\n",
    "core_brack_df = brack_df[brack_df['Taxon'].isin(abund_df['Taxon'])]\n",
    "braycurtis_df = core_brack_df.pivot(index='Colony', columns='Taxon', values='Relative abundance').fillna(0)\n",
    "len(set(core_brack_df['Taxon'])) == abund_df.shape[0] - 1"
   ]
  },
  {
   "cell_type": "code",
   "execution_count": null,
   "id": "195465bc-f71e-4447-9df8-35bc1aa2424d",
   "metadata": {},
   "outputs": [],
   "source": [
    "cmap = plt.get_cmap(\"viridis\")\n",
    "cmap.set_bad(color='white')\n",
    "mask = braycurtis_df == 0"
   ]
  },
  {
   "cell_type": "code",
   "execution_count": null,
   "id": "4e683bde-4741-4dd2-922d-97bcfe1f0cb8",
   "metadata": {},
   "outputs": [],
   "source": [
    "cg = sns.clustermap(braycurtis_df, metric='braycurtis', row_colors=row_colors)#, cmap=cmap, mask=mask)\n",
    "cg.cax.set_visible(False)"
   ]
  },
  {
   "cell_type": "code",
   "execution_count": null,
   "id": "56c28caf-3b72-4eff-ab20-32504a21bf2e",
   "metadata": {},
   "outputs": [],
   "source": [
    "pca = PCA()\n",
    "x_pca = pca.fit_transform(braycurtis_df)\n",
    "\n",
    "sns.barplot(pca.explained_variance_ratio_[:10])\n",
    "\n",
    "pca_df = pd.DataFrame(data=x_pca, columns=['PC{}'.format(x) for x in range(1, x_pca.shape[1] + 1)], index=jaccard_df.index)\n",
    "\n",
    "pheno_pca_df = pd.merge(pheno_df, pca_df.iloc[:, :3], left_index=True, right_index=True)\n",
    "\n",
    "pheno_pca_melt_df = pd.melt(pheno_pca_df, id_vars=list(pheno_pca_df.columns[:50]), value_vars=list(pheno_pca_df.columns[50:]), \n",
    "        var_name = 'PC', value_name='PC_value')"
   ]
  },
  {
   "cell_type": "code",
   "execution_count": null,
   "id": "bf0533e3-f47b-4b88-8793-eb554c0131db",
   "metadata": {},
   "outputs": [],
   "source": [
    "variables = ['Apiary', 'Population type']\n",
    "for v in variables:\n",
    "    g = sns.FacetGrid(pheno_pca_melt_df, col='PC', col_wrap=5, height=3, aspect=1)\n",
    "    g.map(sns.boxplot,'PC_value',v)\n",
    "    g.set_titles(\"{col_name}\")"
   ]
  },
  {
   "cell_type": "code",
   "execution_count": null,
   "id": "b1f20cc7-9ed6-42c4-aef2-98f8df81ea98",
   "metadata": {},
   "outputs": [],
   "source": [
    "variables = [\n",
    "       #'Number of workers',\n",
    "       #'Total worker brood (dm2)',\n",
    "       #'Total honey stores (dm2)',\n",
    "       #'Surface of pollen (dm2)',\n",
    "       'Nb varroas/100 bees',\n",
    "       'SMR - % infested cells recapped',\n",
    "       'pin-test -cleared cells/hour']\n",
    "\n",
    "for pc in ['PC1', 'PC2', 'PC3']:\n",
    "    for v in variables:\n",
    "        df = pheno_pca_melt_df[(pheno_pca_melt_df['PC'] == pc)]\n",
    "        print(pc, v, df[v].corr(df['PC_value']))"
   ]
  },
  {
   "cell_type": "code",
   "execution_count": null,
   "id": "4e985ec6-d00a-4e5c-93c3-17190139ae90",
   "metadata": {},
   "outputs": [],
   "source": [
    "variables = [\n",
    "       #'Number of workers',\n",
    "       #'Total worker brood (dm2)',\n",
    "       #'Total honey stores (dm2)',\n",
    "       #'Surface of pollen (dm2)',\n",
    "       'Nb varroas/100 bees',\n",
    "       'SMR - % infested cells recapped',\n",
    "       'pin-test -cleared cells/hour']\n",
    "\n",
    "for v in variables:\n",
    "    g = sns.FacetGrid(pheno_pca_melt_df, col='PC', col_wrap=5, height=3, aspect=1)\n",
    "    g.map(sns.regplot,'PC_value',v,scatter_kws={'s':4})\n",
    "    g.set_titles(\"{col_name}\")"
   ]
  },
  {
   "cell_type": "code",
   "execution_count": null,
   "id": "94816f67-1a09-4ef6-901c-d225d0dcd4a5",
   "metadata": {},
   "outputs": [],
   "source": [
    "variables = [\n",
    "       #'Number of workers',\n",
    "       #'Total worker brood (dm2)',\n",
    "       #'Total honey stores (dm2)',\n",
    "       #'Surface of pollen (dm2)',\n",
    "       'Nb varroas/100 bees',\n",
    "       'SMR - % infested cells recapped',\n",
    "       'pin-test -cleared cells/hour']\n",
    "\n",
    "for v in variables:\n",
    "    g = sns.FacetGrid(pheno_pca_melt_df, col='PC', hue='Population type', col_wrap=5, height=3, aspect=1)\n",
    "    g.map(sns.scatterplot,'PC_value',v)\n",
    "    g.set_titles(\"{col_name}\")"
   ]
  },
  {
   "cell_type": "code",
   "execution_count": null,
   "id": "8c2fca19-35ca-4fbf-81e6-c88f8dbada4d",
   "metadata": {},
   "outputs": [],
   "source": [
    "sns.set_style('whitegrid')\n",
    "plt.figure(figsize=(8, 8))\n",
    "x='PC1'\n",
    "y='PC2'\n",
    "sns.scatterplot(data=pheno_pca_df, x=x, y=y, hue='Apiary')\n",
    "plt.xlabel(x, fontsize=14)\n",
    "plt.ylabel(y, fontsize=14)\n",
    "plt.xticks(fontsize=14)\n",
    "plt.yticks(fontsize=14)\n",
    "plt.legend(fontsize=14)\n",
    "plt.legend(bbox_to_anchor=(1.05, 1), loc='upper left', borderaxespad=0.)\n",
    "plt.show()"
   ]
  },
  {
   "cell_type": "code",
   "execution_count": null,
   "id": "33cdc7d5-b248-4af4-9a5f-1972984c9b01",
   "metadata": {},
   "outputs": [],
   "source": [
    "plt.figure(figsize=(8, 8))\n",
    "x='PC1'\n",
    "y='PC2'\n",
    "hue = 'Population type'\n",
    "sns.scatterplot(data=pheno_pca_df, x=x, y=y, hue=hue)\n",
    "plt.xlabel(x, fontsize=14)\n",
    "plt.ylabel(y, fontsize=14)\n",
    "plt.xticks(fontsize=14)\n",
    "plt.yticks(fontsize=14)\n",
    "plt.legend(fontsize=14)\n",
    "plt.legend(bbox_to_anchor=(1.05, 1), loc='upper left', borderaxespad=0.)\n",
    "plt.show()"
   ]
  },
  {
   "cell_type": "code",
   "execution_count": null,
   "id": "04e65c2a-8a0c-49ae-9112-de716b68ac49",
   "metadata": {},
   "outputs": [],
   "source": [
    "plt.figure(figsize=(8, 6))\n",
    "sns.scatterplot(data=pheno_pca_df, x='PC2', y='PC3', hue='Nb varroas/100 bees')\n",
    "plt.legend(bbox_to_anchor=(1.05, 1), loc='upper left', borderaxespad=0.)\n",
    "plt.show()"
   ]
  },
  {
   "cell_type": "code",
   "execution_count": null,
   "id": "d8cb7ab3-574d-4d5e-b4e2-56e8e3ae048b",
   "metadata": {},
   "outputs": [],
   "source": [
    "plt.figure(figsize=(8, 6))\n",
    "sns.scatterplot(data=pheno_pca_df, x='PC1', y='PC4', hue='SMR - % infested cells recapped')\n",
    "plt.legend(bbox_to_anchor=(1.05, 1), loc='upper left', borderaxespad=0.)\n",
    "plt.show()"
   ]
  },
  {
   "cell_type": "code",
   "execution_count": null,
   "id": "321d64a1-154d-4937-ba9a-cbb027a64e48",
   "metadata": {},
   "outputs": [],
   "source": [
    "from sklearn.decomposition import PCA"
   ]
  },
  {
   "cell_type": "code",
   "execution_count": null,
   "id": "63ebc69d-d3ba-477c-9eb8-223f6a3d758a",
   "metadata": {},
   "outputs": [],
   "source": [
    "pca = PCA()\n",
    "x_pca = pca.fit_transform(braycurtis_df)"
   ]
  },
  {
   "cell_type": "code",
   "execution_count": null,
   "id": "cc75423a-d40d-48e5-b062-e23c7029c30f",
   "metadata": {
    "scrolled": true
   },
   "outputs": [],
   "source": [
    "x_pca"
   ]
  },
  {
   "cell_type": "code",
   "execution_count": null,
   "id": "fd5f5eaf-879a-4553-a799-ecf610b277e6",
   "metadata": {},
   "outputs": [],
   "source": [
    "sns.barplot(pca.explained_variance_ratio_[:10])"
   ]
  },
  {
   "cell_type": "code",
   "execution_count": null,
   "id": "25c70ce8-9253-4fa1-8c8e-576f26562149",
   "metadata": {},
   "outputs": [],
   "source": [
    "pca_df = pd.DataFrame(data=x_pca, columns=['PC{}'.format(x) for x in range(1, x_pca.shape[1] + 1)], index=jaccard_df.index)"
   ]
  },
  {
   "cell_type": "code",
   "execution_count": null,
   "id": "cd763ce7-3a47-4dfc-a4ff-4d50e4672772",
   "metadata": {},
   "outputs": [],
   "source": [
    "pheno_pca_df = pd.merge(pheno_df, pca_df.iloc[:, :3], left_index=True, right_index=True)"
   ]
  },
  {
   "cell_type": "code",
   "execution_count": null,
   "id": "ea282673-42e2-420d-8f71-f5078cf35d09",
   "metadata": {},
   "outputs": [],
   "source": [
    "variables = ['Apiary', 'Population type']\n",
    "for v in variables:\n",
    "    g = sns.FacetGrid(pheno_pca_melt_df, col='PC', col_wrap=5, height=3, aspect=1)\n",
    "    g.map(sns.boxplot,'PC_value',v)\n",
    "    g.set_titles(\"{col_name}\")"
   ]
  },
  {
   "cell_type": "code",
   "execution_count": null,
   "id": "37dee790-13c6-4a49-90e0-48b5ac28e5d3",
   "metadata": {},
   "outputs": [],
   "source": [
    "variables = [\n",
    "       'Number of workers',\n",
    "       'Total worker brood (dm2)',\n",
    "       'Total honey stores (dm2)',\n",
    "       'Surface of pollen (dm2)',\n",
    "       'Nb varroas/100 bees',\n",
    "       'SMR - % infested cells recapped',\n",
    "       'pin-test -cleared cells/hour']\n",
    "\n",
    "for v in variables:\n",
    "    g = sns.FacetGrid(pheno_pca_melt_df, col='PC', col_wrap=5, height=3, aspect=1)\n",
    "    g.map(sns.regplot,'PC_value',v,scatter_kws={'s':4})\n",
    "    g.set_titles(\"{col_name}\")"
   ]
  },
  {
   "cell_type": "code",
   "execution_count": null,
   "id": "6782629f-7736-45ab-b81a-5f094fb8ee1d",
   "metadata": {},
   "outputs": [],
   "source": [
    "plt.figure(figsize=(8, 8))\n",
    "x='PC1'\n",
    "y='PC2'\n",
    "hue='pin-test -cleared cells/hour'\n",
    "sns.scatterplot(data=pheno_pca_df, x=x, y=y, hue=hue)\n",
    "plt.xlabel(x, fontsize=14)\n",
    "plt.ylabel(y, fontsize=14)\n",
    "plt.xticks(fontsize=14)\n",
    "plt.yticks(fontsize=14)\n",
    "plt.legend(fontsize=14)\n",
    "plt.legend(bbox_to_anchor=(1.05, 1), loc='upper left', borderaxespad=0.)\n",
    "plt.show()"
   ]
  },
  {
   "cell_type": "code",
   "execution_count": null,
   "id": "21d19e9f-b212-40c4-b5be-16c6b39851da",
   "metadata": {},
   "outputs": [],
   "source": [
    "plt.figure(figsize=(8, 6))\n",
    "sns.scatterplot(data=pheno_pca_df, x='PC1', y='PC2', hue='Population type')\n",
    "plt.legend(bbox_to_anchor=(1.05, 1), loc='upper left', borderaxespad=0.)\n",
    "plt.show()"
   ]
  },
  {
   "cell_type": "code",
   "execution_count": null,
   "id": "b08a8c9c-8c21-4d53-bd7c-e232eb6e2199",
   "metadata": {},
   "outputs": [],
   "source": [
    "plt.figure(figsize=(8, 6))\n",
    "sns.scatterplot(data=pheno_pca_df, x='PC1', y='PC2', hue='Apiary')\n",
    "plt.legend(bbox_to_anchor=(1.05, 1), loc='upper left', borderaxespad=0.)\n",
    "plt.show()"
   ]
  },
  {
   "cell_type": "markdown",
   "id": "928a8f31-b7fe-4eea-966e-5f406641b3f7",
   "metadata": {},
   "source": [
    "normalization before bray-curtis? Z-scale stuff?\n",
    "\n",
    "log ratio? \n",
    "\n",
    "do I want all my signal to be driven by some very abundant species?"
   ]
  },
  {
   "cell_type": "markdown",
   "id": "36705ebd-f1b9-47c6-8601-21aca8706901",
   "metadata": {},
   "source": [
    "\n",
    "# Whole BeeStrong"
   ]
  },
  {
   "cell_type": "code",
   "execution_count": null,
   "id": "b6cae49d-2745-4853-a50d-fecbd13d262c",
   "metadata": {},
   "outputs": [],
   "source": [
    "import statsmodels.api as sm\n",
    "import statsmodels.stats.multitest as smm\n",
    "from scipy import stats\n",
    "\n",
    "from scipy.stats import pearsonr, mannwhitneyu,  spearmanr\n",
    "from matplotlib_venn import venn3, venn2\n",
    "\n",
    "from skbio.stats.ordination import pcoa\n",
    "from skbio import DistanceMatrix\n",
    "from scipy.spatial.distance import pdist, squareform\n",
    "from skbio.diversity import beta_diversity\n",
    "\n",
    "from skbio.stats.ordination import pcoa\n",
    "from skbio import DistanceMatrix\n",
    "from scipy.spatial.distance import pdist, squareform\n",
    "from skbio.diversity import beta_diversity\n",
    "\n",
    "figsize=(10, 8)\n",
    "sns.set_style('whitegrid')"
   ]
  },
  {
   "cell_type": "markdown",
   "id": "b3bb81bf-afe4-49fc-841a-068dce545590",
   "metadata": {},
   "source": [
    "## lib"
   ]
  },
  {
   "cell_type": "code",
   "execution_count": null,
   "id": "1819c2c7-f540-4e42-89a2-a9692eeeb156",
   "metadata": {},
   "outputs": [],
   "source": [
    "def parse_kreport(file_path, bs_id, krakdb, readpool, mhg, cs, sf, r):\n",
    "    kreport_fn = '{}{}_{}_{}_mhg{}_cs{}_sf{}_rep{}.k2report'.format(file_path, bs_id, krakdb, readpool, mhg, cs, str(sf).replace('.', ''), r)\n",
    "    if not os.path.exists(kreport_fn): \n",
    "        print('missing {}'.format(kreport_fn))\n",
    "    with open(kreport_fn, 'r') as inf:\n",
    "        ucseqs_nr = int(inf.readline().split()[1])\n",
    "        cseqs_nr = int(inf.readline().split()[1])\n",
    "    return ucseqs_nr, cseqs_nr\n",
    "\n",
    "def parse_breport(file_path, bs_id, krakdb, readpool, mhg, cs, sf, r, level, taxa):\n",
    "    '''get read numbers for taxa'''\n",
    "    breport_fn = '{}{}_{}_{}_mhg{}_cs{}_sf{}_rep{}_{}.breport'.format(file_path, bs_id, krakdb, readpool, mhg, cs, str(sf).replace('.', ''), r, level)\n",
    "    if not os.path.exists(breport_fn): \n",
    "        print('missing {}'.format(breport_fn))\n",
    "    breport_df = pd.read_csv(breport_fn, header=None, sep='\\t')\n",
    "    breport_df[5] = [x.lstrip() for x in breport_df[5].to_list()]\n",
    "    return breport_df[breport_df[5].isin(taxa)].set_index(5)[1].to_dict()\n",
    "\n",
    "def get_total_read_nr(bowtie2_path, bs_id):\n",
    "    with open('{}{}_bee.out'.format(bowtie2_path, bs_id), 'r') as inf:\n",
    "        lines = inf.readlines()\n",
    "        total_read_nr = None\n",
    "        for l in lines:\n",
    "            if l.endswith('reads; of these:\\n'):\n",
    "                total_read_nr = int(l.split()[0])\n",
    "        return total_read_nr\n",
    "\n",
    "def get_classified_read_nr(bowtie2_path, kraken_path, bracken_path, bs_id_str, krakdb, readpool, mhg, cs, sf, r, level):\n",
    "    '''\n",
    "    Equals the total number of read in the raw fasta minus the number of unclassified reads by Bracken.\n",
    "    For a subsample, I multiple the total number of reads by the sampling fraction (similar to subsampling reads before mapping with bowtie2)\n",
    "    '''\n",
    "    total_read_nr = get_total_read_nr(bowtie2_path, bs_id_str)\n",
    "    kraken_ucread_nr, kraken_cread_nr = parse_kreport(kraken_path, bs_id_str, krakdb, readpool, mhg, cs, sf, r)\n",
    "    bracken_cread_nr = parse_breport(bracken_path, bs_id_str, krakdb, readpool, mhg, cs, sf, r, level, ['root'])['root']\n",
    "    bracken_ucread_nr = kraken_cread_nr - bracken_cread_nr\n",
    "    return sf * total_read_nr - kraken_ucread_nr - bracken_ucread_nr\n",
    "\n",
    "def get_beexact_species_name2taxid():\n",
    "\n",
    "    url = \"https://raw.githubusercontent.com/bdaisley/BEExact/master/full_database/BEEx_v2023.01.30___FL-refs_taxonomy.txt\"\n",
    "    file_content = requests.get(url, verify=False).text\n",
    "\n",
    "    level2beexact_taxa = defaultdict(set)\n",
    "    for level in ['d', 'p', 'c', 'o', 'f', 'g', 's']:\n",
    "        level2beexact_taxa[level] = set()\n",
    "    \n",
    "    for line in file_content.split('\\n'):\n",
    "        if not line: continue\n",
    "        for s in line.rstrip(';').split('\\t')[1].split(';'):\n",
    "            level, taxon = s.split('__')\n",
    "            assert level in level2beexact_taxa, print('missing {}'.format(level))\n",
    "            level2beexact_taxa[level].add(taxon.replace('_', ' '))\n",
    "\n",
    "    return ncbi.get_name_translator(level2beexact_taxa['s'])\n",
    "    \n",
    "def get_desc_taxa(node, cand_taxa):\n",
    "    desc_taxa = []\n",
    "    if node.sci_name in cand_taxa:\n",
    "        desc_taxa.append(node.sci_name)\n",
    "        return desc_taxa\n",
    "    for ch in node.children:\n",
    "        desc_taxa.extend(get_desc_taxa(ch, cand_taxa))\n",
    "    return desc_taxa\n",
    "\n",
    "def get_parent_taxon_at_level(taxid, level):\n",
    "    lineage = ncbi.get_lineage(taxid)\n",
    "    level2taxid = {v:k for k, v in ncbi.get_rank(lineage).items()}\n",
    "    parent_taxid = level2taxid.get(level, None)\n",
    "    if parent_taxid:\n",
    "        return ncbi.get_taxid_translator([parent_taxid])[parent_taxid]\n",
    "    else: \n",
    "        return np.nan\n",
    "\n",
    "def get_class_df(bs_ids, level, group_name2taxid, kraken2_path, bracken_path, bowtie2_path):\n",
    "    krakdb, readpool, mhg, cs, sf, r, level = ('corent', 'nonbee', 2, '005', 1, 1, level)\n",
    "    \n",
    "    tree = ncbi.get_topology(list(group_name2taxid.values()))\n",
    "    \n",
    "    columns = ['Colony', 'Category', 'Read number', 'Relative abundance']\n",
    "    rows = []\n",
    "    for bs_id in tqdm(bs_ids):\n",
    "        ucseqs_nr, cseqs_nr = parse_kreport(kraken2_path, bs_id, krakdb, readpool, mhg, cs, sf, r)\n",
    "        taxa2seqnr = parse_breport(bracken_path, bs_id, krakdb, readpool, mhg, cs, sf, r, level, taxonomic_groups)\n",
    "        classified_read_nr = get_classified_read_nr(bowtie2_path, kraken2_path, bracken_path, bs_id, krakdb, readpool, mhg, cs, sf, r, level)\n",
    "        \n",
    "        rows.append((bs_id, 'Unclassified', ucseqs_nr))\n",
    "        rows.append((bs_id, 'Kraken2 only', cseqs_nr - taxa2seqnr['root']))\n",
    "        \n",
    "        for taxon in taxonomic_groups:\n",
    "            name = group2name.get(taxon, taxon)\n",
    "            node = tree&group_name2taxid[name]\n",
    "            read_nr = taxa2seqnr.get(taxon, 0) - sum([taxa2seqnr.get(x, 0) for x in get_desc_taxa(node, taxonomic_groups.difference({node.sci_name}))])\n",
    "            rows.append((bs_id, name, read_nr, read_nr / classified_read_nr))\n",
    "    \n",
    "    return pd.DataFrame(data=rows, columns=columns)\n",
    "def get_bracken_df(bowtie2_path, kraken2_path, bracken_path, bs_id_str, krakdb, readpool, mhg, cs, sf, r, level, taxon_filter):\n",
    "    '''\n",
    "    parse bracken file\n",
    "    '''\n",
    "    # parse bracken output\n",
    "    bracken_fn = '{}{}_{}_{}_mhg{}_cs{}_sf{}_rep{}_{}.bracken'.format(bracken_path, bs_id_str, krakdb, readpool, mhg, cs, str(sf).replace('.', ''), r, level)\n",
    "    if not os.path.exists(bracken_fn): \n",
    "        print('missing {}'.format(bracken_fn))\n",
    "    bracken_df = pd.read_csv(bracken_fn, sep='\\t')\n",
    "\n",
    "    ## calculate original read numbers\n",
    "    # number of reads classified by kraken2 + bracken AND by bowtie2 --> to calculate relative abundance\n",
    "    classified_read_nr = get_classified_read_nr(bowtie2_path, kraken2_path, bracken_path, bs_id_str, krakdb, readpool, mhg, cs, sf, r, level)\n",
    "    \n",
    "    # classified reads - non bee reads\n",
    "    if level == 'S':\n",
    "        honeybee_taxon = 'Apis mellifera'\n",
    "    elif level == 'F':\n",
    "        honeybee_taxon = 'Apidae'\n",
    "    else: \n",
    "        print('wrong honeybee taxonomic level')\n",
    "    \n",
    "    honeybee_read_nr = classified_read_nr - bracken_df[bracken_df['name'] != honeybee_taxon]['new_est_reads'].sum()\n",
    "\n",
    "    # recompute relative abundance\n",
    "    bracken_df['fraction_total_reads'] = bracken_df['new_est_reads'].to_numpy() / classified_read_nr\n",
    "    \n",
    "    # calculate Aitchison log ratio\n",
    "    bracken_df['ratio_honeybee'] = bracken_df['new_est_reads'].to_numpy() / honeybee_read_nr\n",
    "    bracken_df['log_ratio_honeybee'] = np.log(bracken_df['new_est_reads'].to_numpy() / honeybee_read_nr)\n",
    "    \n",
    "    # log ratio of absolute abundances == log ratio of relative abundances\n",
    "    assert np.all(np.round(bracken_df['log_ratio_honeybee'].to_numpy(), 10) == np.round(np.log(bracken_df['fraction_total_reads'].to_numpy() / (honeybee_read_nr / classified_read_nr)), 10))\n",
    "    \n",
    "    if taxon_filter:\n",
    "        return bracken_df[bracken_df['taxonomy_id'].isin(taxon_filter)]\n",
    "    else:\n",
    "        return bracken_df\n",
    "\n",
    "def get_brack_df(bs_ids, level, bowtie2_path, kraken2_path, bracken_path, group_taxid2name):\n",
    "\n",
    "    krakdb, readpool, mhg, cs, sf, r, level = ('corent', 'nonbee', 2, '005', 1, 1, level)\n",
    "    \n",
    "    df_list = []\n",
    "    for bs_id in tqdm(bs_ids):\n",
    "        df = get_bracken_df(bowtie2_path, kraken2_path, bracken_path, bs_id, krakdb, readpool, mhg, cs, sf, r, level, {})\n",
    "        df = df[['name', 'taxonomy_id', 'fraction_total_reads', 'new_est_reads', 'log_ratio_honeybee', 'ratio_honeybee']]\n",
    "        df.insert(0, 'Colony', ['{}'.format(bs_id) for i in range(len(df))])\n",
    "        df_list.append(df)\n",
    "    \n",
    "    brack_df = pd.concat(df_list).rename(columns={'name': 'Taxon', \n",
    "                                                  'taxonomy_id': 'TaxID', \n",
    "                                                  'fraction_total_reads': \n",
    "                                                  'Relative abundance', 'new_est_reads': \n",
    "                                                  'Read number', 'ratio_honeybee': \n",
    "                                                  'Ratio Honeybee', 'log_ratio_honeybee': \n",
    "                                                  'Log Ratio Honeybee'}).reset_index().drop(columns=['index'])\n",
    "    \n",
    "    # enhance brack df with key taxonomic groups (from previous section)\n",
    "    taxid2parent_group = {}\n",
    "    for tid in tqdm(set(brack_df['TaxID'])):\n",
    "        for p in ncbi.get_lineage(tid):\n",
    "            if p in group_taxid2name:\n",
    "                taxid2parent_group[tid] = group_taxid2name[p]\n",
    "    \n",
    "    brack_df.insert(1, 'Group', [taxid2parent_group[x] for x in brack_df['TaxID']])\n",
    "    return taxid2parent_group, brack_df\n",
    "\n",
    "def get_prev_df(brack_df, taxid2parent_group, lod):\n",
    "\n",
    "    brack_df_lod = brack_df[(brack_df['Relative abundance'] >= lod)]\n",
    "    \n",
    "    # calculate mean and median abundance of each species\n",
    "    median_abund_df = brack_df_lod.groupby('Taxon').agg({'Relative abundance' : ['median']})['Relative abundance']\n",
    "    mean_abund_df = brack_df_lod.groupby('Taxon').agg({'Relative abundance' : ['mean']})['Relative abundance']\n",
    "    sp2median_abund = dict(zip(median_abund_df.index, median_abund_df['median']))\n",
    "    sp2mean_abund = dict(zip(mean_abund_df.index, mean_abund_df['mean']))\n",
    "    \n",
    "    x = brack_df_lod[['Taxon', 'TaxID']].drop_duplicates()\n",
    "    sp_name2taxid = dict(zip(x['Taxon'], x['TaxID']))\n",
    "    \n",
    "    species, counts = np.unique(brack_df_lod['Taxon'], return_counts=True)\n",
    "    species_freqs = counts / len(bs_ids)\n",
    "    # in_beexact = [x in beexact_sp_names for x in species]\n",
    "    \n",
    "    #core = [x >= 0.5 for x in species_freqs]\n",
    "    return pd.DataFrame({\n",
    "        'Taxon' : list(species),\n",
    "        #'Family': [get_parent_taxon_at_level(sp_name2taxid[sp], 'family') for sp in species],\n",
    "        'Group': [taxid2parent_group[sp_name2taxid[sp]] for sp in species], \n",
    "        'TaxID' : [sp_name2taxid[sp] for sp in species],\n",
    "        'Prevalence' : list(species_freqs),\n",
    "        'Median Relative Abundance': [sp2median_abund[sp] for sp in species],\n",
    "        'Mean Relative Abundance': [sp2mean_abund[sp] for sp in species],\n",
    "        #'In BEExact' : in_beexact,\n",
    "        # 'Core' : core\n",
    "    })\n",
    "    \n",
    "def get_pv_con(X, y, method):\n",
    "    \n",
    "    # if method == 'lr':\n",
    "    #     X2 = sm.add_constant(X)\n",
    "    #     model = sm.OLS(y, X2).fit()\n",
    "    #     return model.pvalues[sp]\n",
    "\n",
    "    if method == 'pearson_perm':\n",
    "        corr, p_value = pearsonr(X, y, method=stats.PermutationMethod(n_resamples=999), alternative='two-sided')\n",
    "        return corr, p_value\n",
    "\n",
    "    elif method == 'pearson':\n",
    "        corr, p_value = pearsonr(X, y, alternative='two-sided')\n",
    "        return corr, p_value\n",
    "    \n",
    "    elif method == 'spearman':\n",
    "        corr, p_value = spearmanr(X, y, alternative='two-sided')\n",
    "        return corr, p_value  \n",
    "    else:\n",
    "        return None\n",
    "\n",
    "def get_pv_cat(x, y, method):\n",
    "    \n",
    "    if method == 'tt':\n",
    "        t_stat, p_value = stats.ttest_ind(x, y)\n",
    "        return t_stat, p_value\n",
    "\n",
    "    # pretty slow too\n",
    "    elif method == 'wilcoxon':\n",
    "        corr, p_value = mannwhitneyu(x, y, alternative='two-sided')\n",
    "        return corr, p_value\n",
    "\n",
    "    else:\n",
    "        return None\n",
    "\n",
    "def get_pv_df(symbio_pheno_df, symbio_pivot_df, y_variables, min_colony_nr, con_methods, cat_methods, limit_of_detection):\n",
    "    columns = ['Species', 'Y variable', 'Method', 'Stat', 'P-value']\n",
    "    rows = []\n",
    "    for sp in tqdm(symbio_pheno_df.columns[1:len(symbio_pivot_df.columns)]):\n",
    "        for y_name in y_variables:\n",
    "            \n",
    "            # run continuous method only where species and y variable is available for at least 5 colonies\n",
    "            f = (symbio_pheno_df[sp] >= limit_of_detection) & ~(symbio_pheno_df[y_name].isna())\n",
    "            if sum(f) >= min_colony_nr:\n",
    "                X = symbio_pheno_df[sp][f]\n",
    "                y = symbio_pheno_df[y_name][f]\n",
    "                for method in con_methods:\n",
    "                    tstat, pvalue = get_pv_con(X, y, method)\n",
    "                    rows.append((sp, y_name, method, tstat, pvalue))\n",
    "    \n",
    "            # run categorical method only where species and y variable is available for at least 5 colonies\n",
    "            x = symbio_pheno_df[(symbio_pheno_df[sp] >= limit_of_detection) & ~(symbio_pheno_df[y_name].isna())][y_name].to_numpy()\n",
    "            y = symbio_pheno_df[(symbio_pheno_df[sp] < limit_of_detection) & ~(symbio_pheno_df[y_name].isna())][y_name].to_numpy()\n",
    "            if (len(x) >= min_colony_nr) and (len(y) >= min_colony_nr):\n",
    "                for method in cat_methods:\n",
    "                    tstat, pvalue = get_pv_cat(x, y, method)\n",
    "                    rows.append((sp, y_name, method, tstat, pvalue))\n",
    "    \n",
    "    return pd.DataFrame(rows, columns=columns).dropna().reset_index(drop=True)\n",
    "    \n",
    "def get_fdr_df(pv_df, y_variables, methods):\n",
    "    \n",
    "    fdr_df = pv_df[(pv_df['Y variable'].isin(y_variables)) & (pv_df['Method'].isin(methods))].copy()\n",
    "    fdr_df['FDR'] = np.nan\n",
    "\n",
    "    for (y_name, method) in product(y_variables, methods):\n",
    "        f = (fdr_df['Y variable'] == y_name) & (fdr_df['Method'] == method)\n",
    "        fdr_df.iloc[np.argwhere(f).flatten(), 5] = smm.multipletests(fdr_df[f]['P-value'].to_numpy(), alpha=0.05, method='fdr_bh')[1]\n",
    "\n",
    "    return fdr_df\n",
    "\n",
    "def get_row_colors(pheno_pivot_df, discrete_vars, continous_vars, var2cmap):\n",
    "    color_dict = {}\n",
    "    for var in discrete_vars:\n",
    "        values = pheno_pivot_df[var]\n",
    "        if var in var2cmap:\n",
    "            cmap = var2cmap[var]\n",
    "        else:\n",
    "            cmap = dict(zip(values.unique(), [x.upper() for x in list(sns.color_palette('colorblind', n_colors=len(values.unique())).as_hex())]))\n",
    "        color_dict[var] =  values.map(cmap)\n",
    "    \n",
    "    for var in continous_vars:\n",
    "        values = pheno_pivot_df[var]\n",
    "        normalized_values = np.interp(values, (min(values), max(values)), (0, 1))\n",
    "        cmap = plt.get_cmap('viridis')\n",
    "        hex_colors = [mcolors.to_hex(cmap(val)) for val in normalized_values]\n",
    "        color_dict[var] = hex_colors\n",
    "        \n",
    "    return pd.DataFrame(color_dict)\n",
    "\n",
    "def print_group_richness(df, lod, categories):\n",
    "    df1 = pd.DataFrame(df.groupby('Group')['Taxon'].nunique()).rename(columns={'Taxon': 'No LoD'})\n",
    "    df2 = pd.DataFrame(df[df['Relative abundance'] >= lod].groupby('Group')['Taxon'].nunique()).rename(columns={'Taxon': 'LoD {}'.format(lod)})\n",
    "    df = df1.merge(df2, on='Group').reindex(categories)\n",
    "    return df.dropna().astype(int)\n",
    "\n",
    "def plot_pca(pc_x, pc_y, pca_df, hue, cmap_hue, pca_explained_variance):\n",
    "    sns.set_style('whitegrid')\n",
    "    plt.figure(figsize=(8, 8))\n",
    "    x='PC{}'.format(pc_x)\n",
    "    y='PC{}'.format(pc_y)\n",
    "    sns.scatterplot(data=pca_df, x=x, y=y, hue=hue, palette=cmap_hue)\n",
    "    plt.xlabel('{} ({}% variance)'.format(x, round(100 * pca_explained_variance[pc_x -1], 0)), fontsize=14)\n",
    "    plt.ylabel('{} ({}% variance)'.format(y, round(100 * pca_explained_variance[pc_y -1], 0)), fontsize=14)\n",
    "    plt.xticks(fontsize=14)\n",
    "    plt.yticks(fontsize=14)\n",
    "    plt.legend(fontsize=14)\n",
    "    plt.legend(bbox_to_anchor=(1.05, 1), loc='upper left', borderaxespad=0.)\n",
    "    plt.show()\n",
    "\n",
    "def get_fam_enrich_df(df):\n",
    "    # count foreground families (significant correlation with varroa)\n",
    "    fg = df[df['FDR'] < 0.1]['Family'].dropna()\n",
    "    fg_families, fg_counts = np.unique(fg, return_counts=True)\n",
    "    fg_fam2counts = dict(zip(fg_families, fg_counts))\n",
    "    \n",
    "    # and background families\n",
    "    bg = df['Family'].dropna()\n",
    "    bg_families, bg_counts = np.unique(bg, return_counts=True)\n",
    "    \n",
    "    # calculate expected count for each family based on background\n",
    "    exp_counts = bg_counts / bg_counts.sum() * fg.size\n",
    "    obs_counts = np.array([fg_fam2counts.get(f, 0) for f in bg_families])\n",
    "\n",
    "    return pd.DataFrame({\n",
    "    'Family': bg_families,\n",
    "    'Observed count': obs_counts,\n",
    "    'Expected count': exp_counts,\n",
    "    'Observed/expected ratio': obs_counts / exp_counts\n",
    "    }).sort_values('Observed/expected ratio', ascending=False)\n",
    "\n",
    "# Truncate function\n",
    "def truncate(label, max_len=25):\n",
    "    label_str = str(label)\n",
    "    return label_str if len(label_str) <= max_len else label_str[:max_len] + \"...\"\n",
    "\n",
    "def plot_clustermap(taxon_df, pheno_df, continous_vars, var2cmap, distance, figsize=(12, 8)):\n",
    "    \n",
    "    discrete_vars = ['month', 'region']\n",
    "    \n",
    "    # add metadata and reset indexes\n",
    "    pheno_taxon_df = pd.merge(pheno_df, taxon_df, on='Colony')\n",
    "    taxon_df = taxon_df.set_index('Colony')\n",
    "    pheno_taxon_df = pheno_taxon_df.set_index('Colony')\n",
    "\n",
    "    row_colors = get_row_colors(pheno_taxon_df, discrete_vars, continous_vars, var2cmap)\n",
    "    \n",
    "    cg=sns.clustermap(taxon_df, metric=distance, row_colors=row_colors, figsize=figsize, xticklabels=math.ceil(taxon_df.shape[1] / 75))\n",
    "    \n",
    "    # Apply truncation to tick labels\n",
    "    cg.ax_heatmap.set_xticklabels([truncate(label.get_text()) for label in cg.ax_heatmap.get_xticklabels()])\n",
    "    cg.ax_heatmap.set_yticklabels([truncate(label.get_text()) for label in cg.ax_heatmap.get_yticklabels()])\n",
    "    \n",
    "    cg.ax_row_colors.legend([Patch(facecolor=cmap_region[name]) for name in cmap_region], var2cmap['region'], title='Region',bbox_to_anchor=(1, 1), bbox_transform=plt.gcf().transFigure, loc='upper left')\n",
    "    plt.setp(cg.ax_heatmap.xaxis.get_majorticklabels(), fontsize=8)\n",
    "    # cg.ax_row_colors.legend([Patch(facecolor=cmap_months[name]) for name in cmap_months], cmap_months, title='Month',bbox_to_anchor=(1, 0), bbox_transform=plt.gcf().transFigure, loc='lower left')\n",
    "    cg.cax.set_visible(False)\n",
    "    plt.show()\n",
    "    return cg\n",
    "\n",
    "def filter_group_pivot_df(pivot_df, group, taxon2group):\n",
    "    return pivot_df[[x for x in pivot_df.columns if (x == 'Colony' or taxon2group.get(x, None) in group)]]"
   ]
  },
  {
   "cell_type": "markdown",
   "id": "824845a8-cee8-4384-8772-29d32cfda71c",
   "metadata": {},
   "source": [
    "## set env"
   ]
  },
  {
   "cell_type": "code",
   "execution_count": null,
   "id": "e1d78d24-bdb9-4293-9a91-c92ccee4de3f",
   "metadata": {},
   "outputs": [],
   "source": [
    "shared_data_path = '/cluster/raid/home/f80878961/data/'\n",
    "working_path = '/cluster/raid/home/f80878961/beestrong/'\n",
    "data_path = '{}data/'.format(working_path)\n",
    "sample_SRA_file = '{}sample_SRA.csv'.format(data_path)\n",
    "sra_path = '{}BeeStrongSRA/'.format(data_path)\n",
    "fastq_path = '{}BeeStrongFastQ/'.format(data_path)\n",
    "bowtie2_path = '{}bowtie2/'.format(data_path)\n",
    "idx_path = '{}bee_bt2idx/'.format(shared_data_path)\n",
    "idx_name = 'bee'\n",
    "kraken2_path = '{}kraken2/'.format(data_path)\n",
    "kdb_path = '{}krakdb/'.format(shared_data_path)\n",
    "kdb_name = 'corent'\n",
    "bracken_path = '{}bracken/'.format(data_path)\n",
    "tlf_path = '{}tlf/'.format(working_path)\n",
    "\n",
    "# bs_id to SRA ids\n",
    "bs_sra_df = pd.read_table(sample_SRA_file)\n",
    "skip_bs_ids = {'BS17_0674', 'BS17_0721'}\n",
    "bs_ids = sorted([x for x in set(bs_sra_df['num_bs'].to_list()) if x not in skip_bs_ids])\n",
    "\n",
    "# load cleaned phenotype dataset\n",
    "pheno_df = pd.read_csv('{}whole_beestrong_data_cleaned.csv'.format(data_path))\n",
    "pheno_df"
   ]
  },
  {
   "cell_type": "code",
   "execution_count": null,
   "id": "896126ee-99f8-4994-99b7-fe99d256ab3c",
   "metadata": {},
   "outputs": [],
   "source": [
    "## which high level taxa we care about?\n",
    "taxonomic_groups = set(('root', 'Viruses','Bacteria', 'Archaea', 'Eukaryota', 'Embryophyta', 'Fungi', 'Metazoa', 'Apidae','Varroidae'))\n",
    "group2name = {'root': 'Other Root', 'Eukaryota': 'Other Eukaryota', 'Metazoa': 'Other Metazoa'}\n",
    "categories=['Other Root', 'Viruses','Bacteria', 'Archaea','Other Eukaryota','Embryophyta','Fungi','Metazoa', 'Varroidae']\n",
    "\n",
    "group_name2taxid = {group2name.get(k, k): v[0] for k, v in ncbi.get_name_translator(taxonomic_groups).items()}\n",
    "group_taxid2name = {v:k for k, v in group_name2taxid.items()}\n",
    "groups = [group2name.get(x, x) for x in taxonomic_groups]\n",
    "groups = ['Viruses', 'Bacteria', 'Archaea', 'Other Eukaryota',  'Embryophyta', 'Fungi']\n",
    "\n",
    "cmap = {\n",
    "    'Unclassified': '#262626',\n",
    "    'Kraken2 only': '#575757',\n",
    "    'Other Root': '#949494',\n",
    "    'Viruses': '#0173b2',\n",
    "    'Bacteria': '#de8f05',\n",
    "    'Archaea': '#d55e00',\n",
    "    'Other Eukaryota': '#029e73',\n",
    "    'Embryophyta':'#12634c',\n",
    "    'Apidae': '#75c8b0',\n",
    "    'Fungi': '#cc78bc',\n",
    "    'Other Metazoa': '#ca9161',\n",
    "    'Varroidae': '#ece133'\n",
    "}\n",
    "\n",
    "cmap_region = {\n",
    "    'sweden':'#ece133',\n",
    "    'netherlands':'#de8f05',\n",
    "    'luxembourg': '#de8f05',\n",
    "    'grand_est': '#d55e00',\n",
    "    'bourgogne_franche_comte': '#d55e00',\n",
    "    'suisse': '#da291c',\n",
    "    'auvergne_rhone_alpes': '#56b4e9',\n",
    "    'provence_alpes_cote_azur': '#56b4e9',\n",
    "    'corse': '#0173b2',\n",
    "    'new_zealand': '#3b3b3b',\n",
    "    'bretagne': '#ca9161',\n",
    "    'pays_de_la_loire': '#029e73',\n",
    "    'centre_val_de_loire': '#029e73',\n",
    "    'nouvelle_aquitaine': '#cc78bc',\n",
    "    'occitanie': '#fbafe4',\n",
    "    'unknown' : '#949494'\n",
    "}\n",
    "region_labels=['{} n={}'.format(x.replace('_', ' ').capitalize(), pheno_df['region'].value_counts()[x])  for x in cmap_region.keys()]\n",
    "\n",
    "months = sorted(set(pheno_df['month'].dropna()))\n",
    "cmap_months = dict(zip(months, [x.upper() for x in list(sns.color_palette(\"light:b\", n_colors=len(months)).as_hex())]))\n",
    "\n",
    "genetic_groups = sorted(set(pheno_df['group'].dropna()))\n",
    "cmap_group = dict(zip(genetic_groups, [x.upper() for x in list(sns.color_palette(\"colorblind\", n_colors=len(months)).as_hex())]))\n",
    "\n",
    "var2cmap = {'region': cmap_region,\n",
    "           'month': cmap_months}"
   ]
  },
  {
   "cell_type": "code",
   "execution_count": null,
   "id": "5f62fab7-acba-4864-b5d2-22f2057050c0",
   "metadata": {},
   "outputs": [],
   "source": [
    "light_palette = sns.light_palette('#000000', n_colors=9)\n",
    "light_palette.as_hex()"
   ]
  },
  {
   "cell_type": "code",
   "execution_count": null,
   "id": "64446d89-48a5-47bb-899b-8e00efb098bc",
   "metadata": {},
   "outputs": [],
   "source": [
    "print(light_palette.as_hex())"
   ]
  },
  {
   "cell_type": "markdown",
   "id": "0d468049-82ad-4bf6-8a6d-999e8e7dd1f9",
   "metadata": {},
   "source": [
    "## Reads to Species abundances"
   ]
  },
  {
   "cell_type": "code",
   "execution_count": null,
   "id": "1da3bf45-4c7d-412b-8795-34af57c5df94",
   "metadata": {},
   "outputs": [],
   "source": [
    "# list of beestrong sample ids for array job\n",
    "bs_ids_file = '{}bs_ids.txt'.format(data_path)\n",
    "# with open(bs_id_file, 'w') as outf:\n",
    "#     outf.write('\\n'.join(sorted(set(bs_sra_df['num_bs']))))\n",
    "\n",
    "# get mapping between array ids and bs ids\n",
    "with open(bs_ids_file, 'r') as inf:\n",
    "    lines = inf.read().split('\\n')\n",
    "    array_id2bs_id = dict(zip(range(1, len(lines) + 1), lines))\n",
    "\n",
    "bs_id2array_id ={v:k for k, v in array_id2bs_id.items()}"
   ]
  },
  {
   "cell_type": "markdown",
   "id": "4f33d01c-fdb2-4e24-8c9a-c45d5c95ef8a",
   "metadata": {},
   "source": [
    "### Check downloaded SRA files"
   ]
  },
  {
   "cell_type": "code",
   "execution_count": null,
   "id": "b00c345b-b15c-4e74-982b-fc6bafac907e",
   "metadata": {
    "scrolled": true
   },
   "outputs": [],
   "source": [
    "sra_ids = [x.split('/')[-1] for x in glob.glob('{}BeeStrongSRA/*'.format(data_path))]\n",
    "\n",
    "print(len(bs_sra_df['Run'].to_list()))\n",
    "print(len(set(bs_sra_df['Run'])))\n",
    "print(len(sra_ids))\n",
    "print(len(set(sra_ids)))\n",
    "print(set(bs_sra_df['Run']).difference(sra_ids))\n",
    "print(set(sra_ids).difference(bs_sra_df['Run']))"
   ]
  },
  {
   "cell_type": "markdown",
   "id": "01891e90-5b56-49f6-bdcb-31a01f27ac5d",
   "metadata": {},
   "source": [
    "complete download although two more downloaded than in correspondance table..."
   ]
  },
  {
   "cell_type": "code",
   "execution_count": null,
   "id": "25a7ff62-6a56-42b2-9361-c29e7bbdfb74",
   "metadata": {},
   "outputs": [],
   "source": [
    "print(len(set(bs_sra_df['Run'])))\n",
    "print(len(set(bs_sra_df['num_bs'])))"
   ]
  },
  {
   "cell_type": "markdown",
   "id": "2bed1a23-5aea-4fda-ae53-8b36f80d8267",
   "metadata": {},
   "source": [
    "1513 is number of colonies also reported in the paper but it seems we have >1 samples per colonies sometimes"
   ]
  },
  {
   "cell_type": "code",
   "execution_count": null,
   "id": "db25059d-8c03-440f-8d21-422157d7fa94",
   "metadata": {
    "scrolled": true
   },
   "outputs": [],
   "source": [
    "bs_id2sra_count = collections.Counter(bs_sra_df['num_bs'].to_list())\n",
    "bs_id2sra_count"
   ]
  },
  {
   "cell_type": "markdown",
   "id": "40d33456-7a56-4f78-9dc1-091b959c39ee",
   "metadata": {},
   "source": [
    "### Preprocessing and QC"
   ]
  },
  {
   "cell_type": "markdown",
   "id": "202e4526-4fdb-40e5-a594-b9b141961821",
   "metadata": {},
   "source": [
    "per beestrong id:\n",
    "1. convert SRA files to fastq (careful of disk space usage)\n",
    "2. merge fastq files when >1 and rename\n",
    "3. trim poly-G tails (cutadapt)\n",
    "4. FastQC\n",
    "5. gzip"
   ]
  },
  {
   "cell_type": "code",
   "execution_count": null,
   "id": "f3731140-b5d3-4504-8659-1dcd842d64a0",
   "metadata": {},
   "outputs": [],
   "source": [
    "# capture completed, running, pending, and failed/to_run jobs\n",
    "pp_running_jobs = get_status_job_array_ids(status='RUNNING', job_name='pp')\n",
    "pp_pending_jobs = get_status_job_array_ids(status='PENDING', job_name='pp')\n",
    "\n",
    "pp_completed_jobs = []\n",
    "for array_id, bs_id in tqdm(array_id2bs_id.items()):\n",
    "\n",
    "    # ensure latest log file is there and finishes by DONE\n",
    "    x = glob.glob('{}/pp_*_{}.out'.format(fastq_path, array_id))\n",
    "    if len(x) != 1: \n",
    "        print(x)\n",
    "        continue\n",
    "    out_file = x[0]\n",
    "    with open(out_file, 'r') as inf:\n",
    "        lines = inf.readlines()\n",
    "        no_error = True\n",
    "        for l in lines:\n",
    "            if l.startswith('ERROR') or l.startswith('No reads processed!'):\n",
    "                no_error = False\n",
    "        done = lines and lines[-1].startswith('DONE')\n",
    "    \n",
    "    # expected files\n",
    "    gz_1_fn = '{}{}_1.fastq.gz'.format(fastq_path, bs_id)\n",
    "    gz_2_fn = '{}{}_2.fastq.gz'.format(fastq_path, bs_id)\n",
    "    fqc_1_fn = '{}{}_1_fastqc.html'.format(fastq_path, bs_id)\n",
    "    fqc_2_fn = '{}{}_2_fastqc.html'.format(fastq_path, bs_id)\n",
    "    \n",
    "    # condition for completion\n",
    "    gz_1 = os.path.exists(gz_1_fn) and os.path.getsize(gz_1_fn) > 100\n",
    "    gz_2 = os.path.exists(gz_2_fn) and os.path.getsize(gz_2_fn) > 100\n",
    "    fqc_1 = os.path.exists(fqc_1_fn) and os.path.getsize(fqc_1_fn) > 100\n",
    "    fqc_2 = os.path.exists(fqc_2_fn) and os.path.getsize(fqc_2_fn) > 100\n",
    "    \n",
    "    if no_error and done and gz_1 and gz_2 and fqc_1 and fqc_2:\n",
    "        pp_completed_jobs.append(array_id)\n",
    "\n",
    "pp_jobs_to_run = sorted(list(set(array_id2bs_id).difference(pp_completed_jobs + pp_running_jobs + pp_pending_jobs)))\n",
    "print(len(pp_completed_jobs))\n",
    "print(len(pp_jobs_to_run))\n"
   ]
  },
  {
   "cell_type": "code",
   "execution_count": null,
   "id": "60003414-dead-4243-9d61-e8bb938e5e5a",
   "metadata": {},
   "outputs": [],
   "source": [
    "# # remove old logs when more than one\n",
    "# for array_id, bs_id in tqdm(array_id2bs_id.items()):\n",
    "# \n",
    "#     # ensure latest log file is there and finishes by DONE\n",
    "#     x = glob.glob('{}/pp_*_{}.out'.format(fastq_path, array_id))\n",
    "#     if len(x) != 1: \n",
    "#         for f in sorted(x)[:-1]:\n",
    "#             os.remove(f)\n",
    "\n",
    "# # remove older logs\n",
    "# for array_id in tqdm(array_id2bs_id):\n",
    "#     bs_id = array_id2bs_id[array_id]\n",
    "#     \n",
    "#     # ensure latest log file is there and finishes by DONE\n",
    "#     x = glob.glob('{}/pp_*_{}.err'.format(fastq_path, array_id))\n",
    "#     if len(x) > 1:\n",
    "#         for f in sorted(x)[:-1]:\n",
    "#             os.remove(f)"
   ]
  },
  {
   "cell_type": "code",
   "execution_count": null,
   "id": "71b29062-1775-492c-9bfe-6cf413249807",
   "metadata": {},
   "outputs": [],
   "source": [
    "# remove temporary SRR fastq\n",
    "z = [os.remove(x) for x in glob.glob('{}SRR*.fastq'.format(fastq_path))]\n",
    "for array_id in tqdm(pp_jobs_to_run):\n",
    "    # remove logs\n",
    "    z = [os.remove(x) for x in glob.glob('{}pp_*_{}.*'.format(fastq_path, array_id))]\n",
    "    # and uncompleted files\n",
    "    z = [os.remove(x) for x in glob.glob('{}{}*'.format(fastq_path, array_id2bs_id[array_id]))]"
   ]
  },
  {
   "cell_type": "code",
   "execution_count": null,
   "id": "848ed3d2-176f-4fcf-b8ca-806c941ca176",
   "metadata": {
    "scrolled": true
   },
   "outputs": [],
   "source": [
    "nodes = ['node01', 'node02', 'node03', 'node04', 'node05', 'node07', 'node08']\n",
    "parallel_job_nr = 1\n",
    "group_size = math.ceil(len(pp_jobs_to_run) / (len(nodes)))\n",
    "\n",
    "i = 0\n",
    "for node_str in nodes:\n",
    "    j = min(i + group_size, len(pp_jobs_to_run))\n",
    "    print(node_str, i, j)\n",
    "    array_str = write_array_str(pp_jobs_to_run[i: j], parallel_job_nr)\n",
    "    print(array_str)\n",
    "    i = j\n",
    "\n",
    "    \n",
    "    # write the BSUB script\n",
    "    pp_script = '{}pp.run'.format(script_path)\n",
    "    write_preprocessing_script(pp_script, array_str, node_str)\n",
    "    \n",
    "    command = ['sbatch', pp_script, bs_ids_file, sra_path, fastq_path, sample_SRA_file]\n",
    "    result = subprocess.run(command, cwd=fastq_path, capture_output=False)"
   ]
  },
  {
   "cell_type": "code",
   "execution_count": null,
   "id": "58e56287-4966-4616-b5b1-80545dcf4b9b",
   "metadata": {},
   "outputs": [],
   "source": [
    "# TO DO: update to check if existing \n",
    "sra_to_delete = []\n",
    "for array_id in pp_completed_jobs:\n",
    "    bs_id = array_id2bs_id[array_id]\n",
    "    sra_to_delete.extend(bs_sra_df[bs_sra_df['num_bs'] == bs_id]['Run'].to_list())\n",
    "\n",
    "with open('{}SRA_to_delete.txt'.format(data_path), 'w') as outf:\n",
    "    outf.write('\\n'.join(['{}{}'.format(sra_path, x) for x in sra_to_delete]))"
   ]
  },
  {
   "cell_type": "markdown",
   "id": "6cd51a3e-c832-4924-85da-535830129439",
   "metadata": {},
   "source": [
    "### Bowtie2"
   ]
  },
  {
   "cell_type": "code",
   "execution_count": null,
   "id": "0bfddca8-de4c-4825-8a38-8917345f9cb5",
   "metadata": {},
   "outputs": [],
   "source": [
    "# capture completed, running, pending, and failed/to_run jobs\n",
    "bowtie2_running_jobs = get_status_job_array_ids(status='RUNNING', job_name='bowtie2')\n",
    "bowtie2_pending_jobs = get_status_job_array_ids(status='PENDING', job_name='bowtie2')\n",
    "bowtie2_completed_jobs = []\n",
    "\n",
    "for array_id in tqdm(pp_completed_jobs):\n",
    "    bs_id = array_id2bs_id[array_id]\n",
    "    \n",
    "    # ensure latest log file is there and finishes by DONE\n",
    "    x = glob.glob('{}/bowtie2_*_{}.out'.format(bowtie2_path, array_id))\n",
    "    if len(x) != 1:\n",
    "        print(x)\n",
    "        continue\n",
    "\n",
    "    out_file = x[0]\n",
    "    with open(out_file, 'r') as inf:\n",
    "        lines = inf.readlines()\n",
    "        no_error = True\n",
    "        for l in lines:\n",
    "            if l.startswith('(ERR)'):\n",
    "                no_error = False\n",
    "        done = lines and lines[-1].startswith('DONE')\n",
    "    \n",
    "    # expected files\n",
    "    # bam_fn = '{}{}_bee_mapped.bam'.format(bowtie2_path, bs_id)\n",
    "    out_fn = '{}{}_bee.out'.format(bowtie2_path, bs_id)\n",
    "    fqc_1_fn = '{}{}_bee_unmapped.1.fastq.gz'.format(bowtie2_path, bs_id)\n",
    "    fqc_2_fn = '{}{}_bee_unmapped.2.fastq.gz'.format(bowtie2_path, bs_id)\n",
    "    \n",
    "    # condition for completion\n",
    "    # bam = os.path.exists(bam_fn) and os.path.getsize(bam_fn) > 100\n",
    "    out = os.path.exists(out_fn) and os.path.getsize(out_fn) > 100\n",
    "    fqc_1 = os.path.exists(fqc_1_fn) and os.path.getsize(fqc_1_fn) > 100\n",
    "    fqc_2 = os.path.exists(fqc_2_fn) and os.path.getsize(fqc_2_fn) > 100\n",
    "    \n",
    "    if done and no_error and out and fqc_1 and fqc_2:\n",
    "        bowtie2_completed_jobs.append(array_id)\n",
    "        \n",
    "bowtie2_jobs_to_run = list(set(pp_completed_jobs).difference(bowtie2_completed_jobs + bowtie2_running_jobs + bowtie2_pending_jobs))\n",
    "print(len(bowtie2_completed_jobs))\n",
    "print(len(bowtie2_jobs_to_run))"
   ]
  },
  {
   "cell_type": "code",
   "execution_count": null,
   "id": "819a4528-7b3b-4040-a739-3b5beaa10916",
   "metadata": {},
   "outputs": [],
   "source": [
    "# # remove older logs\n",
    "# for array_id in tqdm(pp_completed_jobs):\n",
    "#     bs_id = array_id2bs_id[array_id]\n",
    "#     \n",
    "#     # ensure latest log file is there and finishes by DONE\n",
    "#     x = glob.glob('{}/bowtie2_*_{}.out'.format(bowtie2_path, array_id))\n",
    "#     if len(x) > 1:\n",
    "#         for f in sorted(x)[:-1]:\n",
    "#             os.remove(f)\n",
    "# # remove older logs\n",
    "# for array_id in tqdm(pp_completed_jobs):\n",
    "#     bs_id = array_id2bs_id[array_id]\n",
    "#     \n",
    "#     # ensure latest log file is there and finishes by DONE\n",
    "#     x = glob.glob('{}/bowtie2_*_{}.err'.format(bowtie2_path, array_id))\n",
    "#     if len(x) > 1:\n",
    "#         for f in sorted(x)[:-1]:\n",
    "#             os.remove(f)"
   ]
  },
  {
   "cell_type": "code",
   "execution_count": null,
   "id": "75de5411-a832-40c4-b425-a6864100328d",
   "metadata": {},
   "outputs": [],
   "source": [
    "# remove logs\n",
    "for array_id in tqdm(bowtie2_jobs_to_run):\n",
    "    # remove logs\n",
    "    z = [os.remove(x) for x in glob.glob('{}bowtie2_*_{}.*'.format(bowtie2_path, array_id))]\n",
    "    # and uncompleted files\n",
    "    z = [os.remove(x) for x in glob.glob('{}{}*'.format(bowtie2_path, array_id2bs_id[array_id]))]"
   ]
  },
  {
   "cell_type": "code",
   "execution_count": null,
   "id": "6a1af08e-2959-40d0-83cd-174d75da92fa",
   "metadata": {},
   "outputs": [],
   "source": [
    "# most efficient is actually to run things in home \n",
    "array_str = write_array_str(bowtie2_jobs_to_run, 8)\n",
    "bowtie2_script_home = '{}bowtie2_home.run'.format(script_path)\n",
    "write_bowtie2_script_home(bowtie2_script_home, array_str)"
   ]
  },
  {
   "cell_type": "code",
   "execution_count": null,
   "id": "ea3c2fa4-0d9f-4d15-a930-4be2d25f0970",
   "metadata": {},
   "outputs": [],
   "source": [
    "%%bash -s \"$bowtie2_script_home\" \"$idx_path\" \"$idx_name\" \"$fastq_path\" \"$bowtie2_path\" \"$bs_ids_file\"\n",
    "cd $5\n",
    "sbatch $1 $2 $3 $4 $5 $6"
   ]
  },
  {
   "cell_type": "code",
   "execution_count": null,
   "id": "2f471fed-d14b-422c-92d0-ebd372722f53",
   "metadata": {
    "scrolled": true
   },
   "outputs": [],
   "source": [
    "with open('{}bam_to_copy.txt'.format(data_path), 'w') as outf:\n",
    "    outf.write('\\n'.join(['{}{}_bee_mapped.bam'.format(bowtie2_path, array_id2bs_id[x]) for x in bowtie2_completed_jobs]))"
   ]
  },
  {
   "cell_type": "code",
   "execution_count": null,
   "id": "441abd40-41a6-44fa-adc2-c57918a08e50",
   "metadata": {
    "scrolled": true
   },
   "outputs": [],
   "source": [
    "bowtie2_completed_jobs"
   ]
  },
  {
   "cell_type": "markdown",
   "id": "3716a083-969c-4873-b1b4-643fc456df8b",
   "metadata": {},
   "source": [
    "### Kraken2"
   ]
  },
  {
   "cell_type": "markdown",
   "id": "b48ced98-12be-4480-aeb0-f6010fb72fce",
   "metadata": {},
   "source": [
    "- would be cool that multiple job would be able to read from the same database loaded in memory..."
   ]
  },
  {
   "cell_type": "code",
   "execution_count": null,
   "id": "ea0e05ba-10d7-4715-9bac-554720c89360",
   "metadata": {},
   "outputs": [],
   "source": [
    "read_pool = 'nonbee'\n",
    "mhg = '2'\n",
    "cs = '0.05'\n",
    "cs_str = str(cs).replace('.', '')"
   ]
  },
  {
   "cell_type": "code",
   "execution_count": null,
   "id": "11b266d9-208b-4eff-b7b1-7698fc78e7ff",
   "metadata": {},
   "outputs": [],
   "source": [
    "# capture completed, running, pending, and failed/to_run jobs\n",
    "kraken2_running_jobs = get_status_job_array_ids(status='RUNNING', job_name='kraken2')\n",
    "kraken2_pending_jobs = get_status_job_array_ids(status='PENDING', job_name='kraken2')\n",
    "kraken2_completed_jobs = []\n",
    "for array_id in tqdm(bowtie2_completed_jobs):\n",
    "    bs_id = array_id2bs_id[array_id]\n",
    "    \n",
    "    # ensure latest log file is there and finishes by DONE\n",
    "    x = glob.glob('{}/kraken2_*_{}.out'.format(kraken2_path, array_id))\n",
    "    if len(x) != 1: \n",
    "        if len(x) > 1:\n",
    "            print(x)\n",
    "        continue\n",
    "\n",
    "    out_file = x[0]\n",
    "    with open(out_file, 'r') as inf:\n",
    "        lines = inf.readlines()\n",
    "        done = lines and lines[-1].startswith('DONE')\n",
    "    \n",
    "    # expected files\n",
    "    out = '{}{}_{}_{}_mhg{}_cs{}_sf1_rep1'.format(kraken2_path, bs_id, kdb_name, read_pool, mhg, cs_str)\n",
    "    kout_fn = '{}.kraken2'.format(out)\n",
    "    krp_fn = '{}.k2report'.format(out)\n",
    "    fqc_1_fn = '{}_cseqs_1.fq.gz'.format(out)\n",
    "    fqc_2_fn = '{}_cseqs_2.fq.gz'.format(out)\n",
    "    \n",
    "    # condition for completion\n",
    "    kout = os.path.exists(kout_fn) and os.path.getsize(kout_fn) > 100\n",
    "    krp = os.path.exists(krp_fn) and os.path.getsize(krp_fn) > 100\n",
    "    fqc_1 = os.path.exists(fqc_1_fn) and os.path.getsize(fqc_1_fn) > 100\n",
    "    fqc_2 = os.path.exists(fqc_2_fn) and os.path.getsize(fqc_2_fn) > 100\n",
    "    if done and kout and krp and fqc_1 and fqc_2:\n",
    "        kraken2_completed_jobs.append(array_id)\n",
    "        \n",
    "kraken_jobs_to_run = list(set(bowtie2_completed_jobs).difference(kraken2_completed_jobs + kraken2_running_jobs + kraken2_pending_jobs))\n",
    "print(len(kraken2_completed_jobs))\n",
    "print(len(kraken_jobs_to_run))"
   ]
  },
  {
   "cell_type": "code",
   "execution_count": null,
   "id": "85d19b7c-5dc1-410a-b904-267d9de6f7bc",
   "metadata": {},
   "outputs": [],
   "source": [
    "# # remove older logs\n",
    "# for array_id in tqdm(bowtie2_completed_jobs):\n",
    "#     bs_id = array_id2bs_id[array_id]\n",
    "#     \n",
    "#     # ensure latest log file is there and finishes by DONE\n",
    "#     x = glob.glob('{}/kraken2_*_{}.out'.format(kraken2_path, array_id))\n",
    "#     if len(x) > 1:\n",
    "#         for f in sorted(x)[:-1]:\n",
    "#             os.remove(f)\n",
    "# \n",
    "# # remove older logs\n",
    "# for array_id in tqdm(pp_completed_jobs):\n",
    "#     bs_id = array_id2bs_id[array_id]\n",
    "#     \n",
    "#     # ensure latest log file is there and finishes by DONE\n",
    "#     x = glob.glob('{}//kraken2_*_{}.err'.format(kraken2_path, array_id))\n",
    "#     if len(x) > 1:\n",
    "#         for f in sorted(x)[:-1]:\n",
    "#             os.remove(f)"
   ]
  },
  {
   "cell_type": "code",
   "execution_count": null,
   "id": "d816a17e-af4c-4530-985c-4d6e5fc1ba8b",
   "metadata": {},
   "outputs": [],
   "source": [
    "# remove logs and uncompleted files\n",
    "for array_id in tqdm(kraken_jobs_to_run):\n",
    "    # remove logs\n",
    "    z = [os.remove(x) for x in glob.glob('{}kraken2_*_{}.*'.format(kraken2_path, array_id))]\n",
    "    # and uncompleted files\n",
    "    z = [os.remove(x) for x in glob.glob('{}{}*'.format(kraken2_path, array_id2bs_id[array_id]))]"
   ]
  },
  {
   "cell_type": "code",
   "execution_count": null,
   "id": "c558badb-564c-47a3-913b-c3baba8aebd5",
   "metadata": {},
   "outputs": [],
   "source": [
    "# most efficient is actually to run things in home \n",
    "array_str = write_array_str(kraken_jobs_to_run, 8)\n",
    "kraken2_script = '{}kraken2.run'.format(script_path)\n",
    "write_kraken2_script(kraken2_script, array_str, read_pool, mhg, cs)"
   ]
  },
  {
   "cell_type": "code",
   "execution_count": null,
   "id": "3babd251-8465-4130-9df7-db73e3a111fe",
   "metadata": {},
   "outputs": [],
   "source": [
    "%%bash -s \"$kraken2_script\" \"$kdb_path\" \"$kdb_name\" \"$bowtie2_path\" \"$kraken2_path\" \"$bs_ids_file\"\n",
    "cd $5\n",
    "sbatch $1 $2 $3 $4 $5 $6"
   ]
  },
  {
   "cell_type": "markdown",
   "id": "a237f234-db1a-4bca-9157-46442cc85199",
   "metadata": {},
   "source": [
    "### Bracken"
   ]
  },
  {
   "cell_type": "code",
   "execution_count": null,
   "id": "554eb138-d44a-4ceb-be3c-46008ef2d59f",
   "metadata": {},
   "outputs": [],
   "source": [
    "def write_bracken_script(kraken2_script_fn, array_str, read_pool, min_hit_grps, confidence, level):\n",
    "    conf_str = str(confidence).replace('.', '')\n",
    "    kraken2_runstr=\"\"\"#!/bin/bash -l\n",
    "#SBATCH --array=ARRAY_STR\n",
    "#SBATCH --nodes=1\n",
    "#SBATCH --ntasks=1\n",
    "#SBATCH --mem=20g\n",
    "#SBATCH --time=01:00:00\n",
    "#SBATCH --job-name=bracken\n",
    "#SBATCH --output=%x_%A_%a.out\n",
    "#SBATCH --error=%x_%A_%a.err\n",
    "\n",
    "modulesld\n",
    "ebld\n",
    "module use /software/anaconda3/envs/eb/easybuild/modules/all\n",
    "conda activate planb\n",
    "which bracken\n",
    "\n",
    "kdb_path=$1\n",
    "kdb_name=$2\n",
    "kraken2_path=$3\n",
    "bracken_path=$4\n",
    "bs_ids_file=$5\n",
    "\n",
    "# getting bs_id\n",
    "bs_id=$(sed -n ${SLURM_ARRAY_TASK_ID}'{p;q}' ${bs_ids_file})\n",
    "file_id=${bs_id}_${kdb_name}_READPOOL_mhgMINHITGROUP_csCONFIDENCESTRING_sf1_rep1\n",
    "k2report_fn=${kraken2_path}${file_id}.k2report\n",
    "bracken_fn=${bracken_path}${file_id}_LEVEL.bracken\n",
    "breport_fn=${bracken_path}${file_id}_LEVEL.breport\n",
    "\n",
    "ls -lh $k2report_fn\n",
    "echo $bracken_fn\n",
    "echo $breport_fn\n",
    "\n",
    "echo '1. bracken'\n",
    "bracken -d ${kdb_path}${kdb_name} -i $k2report_fn -r 150 -l LEVEL -t 10 -o $bracken_fn -w $breport_fn\n",
    "\n",
    "echo DONE\"\"\".replace('ARRAY_STR', array_str).replace('READPOOL', read_pool).replace('MINHITGROUP', min_hit_grps).replace('CONFIDENCESTRING', conf_str).replace('CONFIDENCESCORE', confidence).replace('LEVEL', level)\n",
    "    with open(kraken2_script_fn, 'w') as outf:\n",
    "        outf.write(kraken2_runstr)"
   ]
  },
  {
   "cell_type": "code",
   "execution_count": null,
   "id": "aefc77e4-b9b9-41f6-80ff-b3c17644b845",
   "metadata": {},
   "outputs": [],
   "source": [
    "# capture completed, running, pending, and failed/to_run jobs\n",
    "bracken_running_jobs = get_status_job_array_ids(status='RUNNING', job_name='bracken')\n",
    "bracken_pending_jobs = get_status_job_array_ids(status='PENDING', job_name='bracken')\n",
    "bracken_completed_jobs = []\n",
    "for array_id in tqdm(kraken2_completed_jobs):\n",
    "    bs_id = array_id2bs_id[array_id]\n",
    "    \n",
    "    # ensure latest log file is there and finishes by DONE\n",
    "    x = glob.glob('{}/bracken_*_{}.out'.format(bracken_path, array_id))\n",
    "    if len(x) != 1: \n",
    "        if len(x) > 1:\n",
    "            print(x)\n",
    "        continue\n",
    "\n",
    "    out_file = x[0]\n",
    "    with open(out_file, 'r') as inf:\n",
    "        lines = inf.readlines()\n",
    "        no_error = True\n",
    "        for l in lines:\n",
    "            if l.startswith('ERROR'):\n",
    "                no_error = False\n",
    "        done = lines and lines[-1].startswith('DONE')\n",
    "    \n",
    "    # expected files\n",
    "    out = '{}{}_{}_{}_mhg{}_cs{}_sf1_rep1_S'.format(bracken_path, bs_id, kdb_name, read_pool, mhg, cs_str)\n",
    "    bout_fn = '{}.bracken'.format(out)\n",
    "    brp_fn = '{}.breport'.format(out)\n",
    "\n",
    "    # condition for completion\n",
    "    bout_fn = os.path.exists(bout_fn) and os.path.getsize(bout_fn) > 100\n",
    "    brp_fn = os.path.exists(brp_fn) and os.path.getsize(brp_fn) > 100\n",
    "    if done and no_error and bout_fn and brp_fn:\n",
    "        bracken_completed_jobs.append(array_id)\n",
    "        \n",
    "bracken_jobs_to_run = list(set(kraken2_completed_jobs).difference(bracken_completed_jobs + bracken_running_jobs + bracken_pending_jobs))\n",
    "print(len(bracken_completed_jobs))\n",
    "print(len(bracken_jobs_to_run))"
   ]
  },
  {
   "cell_type": "code",
   "execution_count": null,
   "id": "5fbe29e4-a8e5-448c-ae6b-1fcae686a35f",
   "metadata": {},
   "outputs": [],
   "source": [
    "# remove logs and uncompleted files\n",
    "for array_id in tqdm(bracken_jobs_to_run):\n",
    "    # remove logs\n",
    "    z = [os.remove(x) for x in glob.glob('{}bracken_*_{}.*'.format(bracken_path, array_id))]\n",
    "    # and uncompleted files\n",
    "    z = [os.remove(x) for x in glob.glob('{}{}*'.format(bracken_path, array_id2bs_id[array_id]))]"
   ]
  },
  {
   "cell_type": "code",
   "execution_count": null,
   "id": "c3b8f5a9-5d1b-4f24-bcbd-2498bcfee3f1",
   "metadata": {},
   "outputs": [],
   "source": [
    "read_pool = 'nonbee'\n",
    "mhg = '2'\n",
    "cs = '0.05'\n",
    "cs_str = str(cs).replace('.', '')\n",
    "level = 'F'"
   ]
  },
  {
   "cell_type": "code",
   "execution_count": null,
   "id": "f14dd848-d841-4bd0-bc81-112e71124472",
   "metadata": {},
   "outputs": [],
   "source": [
    "# array_str = write_array_str(bracken_jobs_to_run, 8)\n",
    "array_str = '2-1513'"
   ]
  },
  {
   "cell_type": "code",
   "execution_count": null,
   "id": "561ed849-93de-4174-a1c3-f1ac8cfb8777",
   "metadata": {},
   "outputs": [],
   "source": [
    "bracken_script = '{}bracken.run'.format(script_path)\n",
    "write_bracken_script(bracken_script, array_str, read_pool, mhg, cs, level)"
   ]
  },
  {
   "cell_type": "code",
   "execution_count": null,
   "id": "9c8a38ad-627e-4238-98a3-29088854569a",
   "metadata": {},
   "outputs": [],
   "source": [
    "bs_ids_file"
   ]
  },
  {
   "cell_type": "code",
   "execution_count": null,
   "id": "d841cf46-361d-41cb-8ab7-e4f40551ead2",
   "metadata": {},
   "outputs": [],
   "source": [
    "%%bash -s \"$bracken_script\" \"$kdb_path\" \"$kdb_name\" \"$kraken2_path\" \"$bracken_path\" \"$bs_ids_file\"\n",
    "cd $5\n",
    "sbatch $1 $2 $3 $4 $5 $6"
   ]
  },
  {
   "cell_type": "markdown",
   "id": "2c9d1b50-3fb8-4cfb-a25d-2de78bf3647f",
   "metadata": {},
   "source": [
    "to do: \n",
    "- triple check that everything have been processed (MultiQC, cross-checking some numbers, comparing with reported BeeStrong and Phenotype data)\n",
    "- clean disk space, copying stuff to scratch / fola (SRA should probably go to scratch)"
   ]
  },
  {
   "cell_type": "markdown",
   "id": "6d643523-e2c7-4936-ab5c-a2fb4533e5d4",
   "metadata": {},
   "source": [
    "why nbr_pho_varroa_100bee  and v_pho are different?"
   ]
  },
  {
   "cell_type": "markdown",
   "id": "716f3f5c-3f73-4055-adff-77fdf7c920ae",
   "metadata": {},
   "source": [
    "## Clean phenotype dataset (to do once)"
   ]
  },
  {
   "cell_type": "code",
   "execution_count": null,
   "id": "9c0998e2-a4c2-4da9-b881-ef9b27bf58a6",
   "metadata": {},
   "outputs": [],
   "source": [
    "## phenotype dataset\n",
    "pheno_df = pd.read_table('{}whole_beestrong_data.csv'.format(data_path))\n",
    "\n",
    "pheno_df = pheno_df[~pheno_df['num_bs'].isin(skip_bs_ids)].reset_index(drop=True).rename(columns={'num_bs':'Colony'})\n",
    "# pheno_df.index=pheno_df['Colony']\n",
    "\n",
    "# add total read number\n",
    "pheno_df['Total read nr'] = [get_total_read_nr(bowtie2_path, col) for col in pheno_df['Colony']]\n",
    "\n",
    "# and split date into year and month\n",
    "pheno_df['year'] = pheno_df['date'].map(lambda x: int(str(x).split('/')[2]) if not pd.isna(x) else None)\n",
    "pheno_df['month'] = pheno_df['date'].map(lambda x: int(str(x).split('/')[1]) if not pd.isna(x) else None)\n",
    "\n",
    "# add locations\n",
    "loc_df = pd.read_table('{}Data_loc.csv'.format(data_path), sep=';')\n",
    "pheno_df = pheno_df.merge(loc_df.rename(columns={'num_ruche_BS':'Colony'}), on='Colony', how='left')\n"
   ]
  },
  {
   "cell_type": "code",
   "execution_count": null,
   "id": "99bef5b9-9553-489b-b8e1-212d8c2e4802",
   "metadata": {},
   "outputs": [],
   "source": [
    "# Varroidae abundance for Varroa abundance\n",
    "level = 'F'\n",
    "taxid2parent_group, brack_df = get_brack_df(bs_ids, level, bowtie2_path, kraken2_path, bracken_path, group_taxid2name)"
   ]
  },
  {
   "cell_type": "code",
   "execution_count": null,
   "id": "9e6c20e3-e9c9-44d3-8af9-8fe76ae48641",
   "metadata": {},
   "outputs": [],
   "source": [
    "pheno_df = pheno_df.merge(brack_df[brack_df['Taxon']=='Varroidae'][['Colony', 'Relative abundance', 'Log Ratio Honeybee']].rename(columns={'Relative abundance': 'Varroa relative abundance', 'Log Ratio Honeybee': 'Varroa Log Ratio Honeybee'}),\n",
    "              on='Colony', how='left')"
   ]
  },
  {
   "cell_type": "code",
   "execution_count": null,
   "id": "2ffab7c3-dbb2-4cb7-b443-a7c508fe1ccd",
   "metadata": {},
   "outputs": [],
   "source": [
    "# choice of treating NA varroa abundance as 0 values\n",
    "pheno_df['Varroa relative abundance'] = pheno_df['Varroa relative abundance'].fillna(0)\n",
    "pheno_df['Varroa Log Ratio Honeybee'] = pheno_df['Varroa Log Ratio Honeybee'].fillna(np.log(1e-07)) # min relative abundance is 2.637216e-07 , so this seem a reasonable pseudo count"
   ]
  },
  {
   "cell_type": "code",
   "execution_count": null,
   "id": "cb5bbfbd-4b37-42c1-bf9c-9fa7413e2f46",
   "metadata": {},
   "outputs": [],
   "source": [
    "pheno_df.to_csv('{}whole_beestrong_data_cleaned.csv'.format(data_path), index=False)\n",
    "pd.read_csv('{}whole_beestrong_data_cleaned.csv'.format(data_path))"
   ]
  },
  {
   "cell_type": "code",
   "execution_count": null,
   "id": "24f739f9-10b2-4ba7-a44b-c7f2c23b95a5",
   "metadata": {},
   "outputs": [],
   "source": [
    "# sns.scatterplot(data=pheno_df, x='Varroa relative abundance', y='Varroidae relative abundance')"
   ]
  },
  {
   "cell_type": "markdown",
   "id": "bfe8865c-f463-4cac-9f97-e3eb18bf642a",
   "metadata": {},
   "source": [
    "## Covariables"
   ]
  },
  {
   "cell_type": "code",
   "execution_count": null,
   "id": "854ba357-09e7-4d84-96ee-286143b85745",
   "metadata": {},
   "outputs": [],
   "source": [
    "plt.figure(figsize=(8, 8))\n",
    "sns.boxplot(pheno_df, x='region', y='Varroa Log Ratio Honeybee', hue='region', palette=cmap_region, order=cmap_region)\n",
    "plt.xticks(rotation=90, fontsize=12)\n",
    "plt.yticks(fontsize=12)\n",
    "plt.xlabel('Region', fontsize=12)\n",
    "plt.ylabel('Varroa Honeybee Log Ratio', fontsize=12)\n",
    "plt.tight_layout()\n",
    "plt.show()"
   ]
  },
  {
   "cell_type": "code",
   "execution_count": null,
   "id": "b1cc3e18-af0e-45ad-bbdf-3ff403dd7e4c",
   "metadata": {},
   "outputs": [],
   "source": [
    "plt.figure(figsize=(8, 8))\n",
    "sns.boxplot(pheno_df, x='month', y='Varroa Log Ratio Honeybee', hue='month', palette=cmap_months, order=cmap_months)\n",
    "plt.xticks(rotation=90, fontsize=12)\n",
    "plt.yticks(fontsize=12)\n",
    "plt.xlabel('Month', fontsize=12)\n",
    "plt.ylabel('Varroa Honeybee Log Ratio', fontsize=12)\n",
    "plt.tight_layout()\n",
    "plt.show()"
   ]
  },
  {
   "cell_type": "code",
   "execution_count": null,
   "id": "e6469fc1-7a92-44e4-add4-7517c5bf4978",
   "metadata": {},
   "outputs": [],
   "source": [
    "plt.figure(figsize=(12, 8))\n",
    "sns.boxplot(pheno_df, x='region', y='Varroa Log Ratio Honeybee', hue='month', palette=cmap_months, order=cmap_region)\n",
    "plt.xticks(ticks=range(len(region_labels)), labels=region_labels, rotation=90, fontsize=12)\n",
    "plt.yticks(fontsize=12)\n",
    "plt.xlabel('', fontsize=12)\n",
    "plt.ylabel('Varroa Honeybee Log Ratio', fontsize=12)\n",
    "plt.legend(bbox_to_anchor=(1, 1), loc='upper left')\n",
    "plt.tight_layout()\n",
    "plt.show()"
   ]
  },
  {
   "cell_type": "code",
   "execution_count": null,
   "id": "91c120fd-f4d0-464c-a36e-23e57b481b60",
   "metadata": {},
   "outputs": [],
   "source": [
    "plt.figure(figsize=(12, 6))\n",
    "sns.boxplot(pheno_df, x='month', y='Varroa Log Ratio Honeybee', hue='region', palette=cmap_region, order=cmap_months)\n",
    "plt.xticks(rotation=90, fontsize=12)\n",
    "plt.yticks(fontsize=12)\n",
    "plt.xlabel('', fontsize=12)\n",
    "plt.ylabel('Varroa Honeybee Log Ratio', fontsize=12)\n",
    "plt.legend(bbox_to_anchor=(1, 1), loc='upper left')\n",
    "plt.tight_layout()\n",
    "plt.show()"
   ]
  },
  {
   "cell_type": "code",
   "execution_count": null,
   "id": "88608c57-ef04-4955-bbc1-8d89fd76862f",
   "metadata": {},
   "outputs": [],
   "source": [
    "plt.figure(figsize=(8, 8))\n",
    "sns.boxplot(pheno_df, x='year', y='Varroa Log Ratio Honeybee', hue='year')\n",
    "plt.xticks(rotation=90, fontsize=12)\n",
    "plt.yticks(fontsize=12)\n",
    "plt.xlabel('Year', fontsize=12)\n",
    "plt.ylabel('Varroa Honeybee Log Ratio', fontsize=12)\n",
    "plt.legend().set_visible(False)\n",
    "plt.tight_layout()\n",
    "plt.show()"
   ]
  },
  {
   "cell_type": "code",
   "execution_count": null,
   "id": "89faa717-a228-4ba4-b466-5909d505c509",
   "metadata": {},
   "outputs": [],
   "source": [
    "plt.figure(figsize=(8, 8))\n",
    "sns.boxplot(pheno_df, x='group', y='Varroa Log Ratio Honeybee', hue='group', palette=cmap_group)\n",
    "plt.xticks(rotation=90, fontsize=12)\n",
    "plt.yticks(fontsize=12)S\n",
    "plt.xlabel('', fontsize=12)\n",
    "plt.ylabel('Varroa Honeybee Log Ratio', fontsize=12)\n",
    "# plt.legend().set_visible(False)\n",
    "plt.tight_layout()\n",
    "plt.show()"
   ]
  },
  {
   "cell_type": "code",
   "execution_count": null,
   "id": "822dbee6-7487-4090-97ca-d7180af3045d",
   "metadata": {},
   "outputs": [],
   "source": [
    "plt.figure(figsize=(12, 8))\n",
    "sns.boxplot(pheno_df, x='region', y='Varroa Log Ratio Honeybee', hue='group', palette=cmap_group, order=cmap_region)\n",
    "plt.xticks(ticks=range(len(region_labels)), labels=region_labels, rotation=90, fontsize=12)\n",
    "plt.yticks(fontsize=12)\n",
    "plt.xlabel('', fontsize=12)\n",
    "plt.ylabel('Varroa Honeybee Log Ratio', fontsize=12)\n",
    "plt.legend(bbox_to_anchor=(1, 1), loc='upper left')\n",
    "plt.tight_layout()\n",
    "plt.show()"
   ]
  },
  {
   "cell_type": "code",
   "execution_count": null,
   "id": "952230a4-bd29-470f-85cd-a55c7fa02a87",
   "metadata": {},
   "outputs": [],
   "source": [
    "plt.figure(figsize=(8, 6))\n",
    "sns.boxplot(pheno_df, x='departement', y='Varroa Log Ratio Honeybee', hue='departement')\n",
    "plt.xticks(rotation=90)\n",
    "plt.tight_layout()"
   ]
  },
  {
   "cell_type": "code",
   "execution_count": null,
   "id": "1df6a701-94ce-43b7-bb4c-a6d0cf8b07d8",
   "metadata": {},
   "outputs": [],
   "source": [
    "plt.figure(figsize=(8, 6))\n",
    "sns.boxplot(pheno_df, x='group', y='Varroa Log Ratio Honeybee', hue='group')\n",
    "plt.xticks(rotation=90)\n",
    "plt.tight_layout()"
   ]
  },
  {
   "cell_type": "code",
   "execution_count": null,
   "id": "153929ba-58ee-4636-bbd4-ed8cfdd0d104",
   "metadata": {},
   "outputs": [],
   "source": [
    "pheno_df"
   ]
  },
  {
   "cell_type": "code",
   "execution_count": null,
   "id": "1265ba45-e69a-436f-8536-b14f7ce9c06c",
   "metadata": {},
   "outputs": [],
   "source": [
    "plt.figure(figsize=(8, 6))\n",
    "sns.boxplot(pheno_df, x='region', y='percent_Ligustica_Carnica', hue='region', palette=cmap_region, order=cmap_region)\n",
    "plt.xticks(rotation=90)\n",
    "plt.tight_layout()"
   ]
  },
  {
   "cell_type": "code",
   "execution_count": null,
   "id": "83e13467-0d35-4d87-961e-76bcdff513a2",
   "metadata": {},
   "outputs": [],
   "source": [
    "plt.figure(figsize=(8, 6))\n",
    "sns.boxplot(pheno_df, x='region', y='month', hue='region', palette=cmap_region, order=cmap_region)\n",
    "plt.xticks(rotation=90)\n",
    "plt.tight_layout()"
   ]
  },
  {
   "cell_type": "markdown",
   "id": "b359f618-8981-4695-add8-5aece1592896",
   "metadata": {},
   "source": [
    "## Varroa log ratio vs. relative abundance"
   ]
  },
  {
   "cell_type": "code",
   "execution_count": null,
   "id": "e66bd5d8-cf10-42fe-9520-fb29ccf31707",
   "metadata": {},
   "outputs": [],
   "source": []
  },
  {
   "cell_type": "code",
   "execution_count": null,
   "id": "90c7743f-58cc-47fc-977d-150c8958bd7b",
   "metadata": {},
   "outputs": [],
   "source": [
    "sns.histplot(data=pheno_df, x='Varroa Log Ratio Honeybee')"
   ]
  },
  {
   "cell_type": "code",
   "execution_count": null,
   "id": "2e83faec-982e-4c9e-800f-81a3f4abb59d",
   "metadata": {},
   "outputs": [],
   "source": [
    "sns.histplot(data=pheno_df, x='Varroa relative abundance', log_scale=False)"
   ]
  },
  {
   "cell_type": "code",
   "execution_count": null,
   "id": "2d619fc4-feac-41ca-908b-065bc5c16984",
   "metadata": {},
   "outputs": [],
   "source": [
    "pheno_df[pheno_df['Varroa relative abundance'] != 0].describe()"
   ]
  },
  {
   "cell_type": "code",
   "execution_count": null,
   "id": "52ba1d55-af3b-4bdc-bef4-5f95aeea2522",
   "metadata": {},
   "outputs": [],
   "source": [
    "c"
   ]
  },
  {
   "cell_type": "code",
   "execution_count": null,
   "id": "f1b23e18-62bf-4dcb-adba-0a9f4e88ef82",
   "metadata": {},
   "outputs": [],
   "source": [
    "sns.scatterplot(data=pheno_df, x='Varroa Log Ratio Honeybee', y='Varroa relative abundance')"
   ]
  },
  {
   "cell_type": "markdown",
   "id": "8c406c25-f233-4d13-9a14-9e3371359206",
   "metadata": {},
   "source": [
    "# Bracken Family-level"
   ]
  },
  {
   "cell_type": "code",
   "execution_count": null,
   "id": "d6b602fe-1928-4568-8be2-c0aec374f065",
   "metadata": {},
   "outputs": [],
   "source": [
    "level = 'F'\n",
    "level_name = 'Family'\n",
    "lod = 5e-06"
   ]
  },
  {
   "cell_type": "markdown",
   "id": "93fa5314-de63-4451-b82d-529e18733c91",
   "metadata": {},
   "source": [
    "## Classification of key taxonomic levels"
   ]
  },
  {
   "cell_type": "code",
   "execution_count": null,
   "id": "c40dae58-0ca4-4728-9ae7-86e76f16a07b",
   "metadata": {},
   "outputs": [],
   "source": [
    "class_df = get_class_df(bs_ids, level, group_name2taxid, kraken2_path, bracken_path, bowtie2_path)"
   ]
  },
  {
   "cell_type": "code",
   "execution_count": null,
   "id": "6aacddbb-9ed4-4b6b-a13a-b3d6a1c8159c",
   "metadata": {},
   "outputs": [],
   "source": [
    "fig = px.bar(class_df[class_df['Category'].isin(categories)], x=\"Colony\", y=\"Relative abundance\", color=\"Category\",\n",
    "            hover_data=['Category'], barmode = 'stack', color_discrete_map=cmap, category_orders={\"Category\": categories})\n",
    "fig.update_layout(\n",
    "    autosize=False,\n",
    "    width=1000,\n",
    "    height=700,\n",
    "    xaxis={'title': {'font': {'size': 18}}},\n",
    "    yaxis={'title': {'font': {'size': 18}}},\n",
    "    legend={'font': {'size': 16}}\n",
    ")\n",
    "fig.show()"
   ]
  },
  {
   "cell_type": "code",
   "execution_count": null,
   "id": "1b06c42d-4b31-4547-9340-ae6886a7aa2e",
   "metadata": {},
   "outputs": [],
   "source": [
    "plt.figure(figsize=(8, 6))\n",
    "ax = sns.boxplot(data=class_df[class_df['Category'].isin(categories)], x='Category', y='Relative abundance', palette=cmap, \n",
    "            showmeans=True, meanprops={\"marker\":\"o\", \"markerfacecolor\":\"red\", \"markeredgecolor\":\"black\", \"markersize\":\"5\"}, order=categories)\n",
    "\n",
    "ax.set_yscale(\"log\")\n",
    "plt.xticks(rotation=90)\n",
    "plt.tight_layout()\n",
    "plt.show()"
   ]
  },
  {
   "cell_type": "markdown",
   "id": "270c4480-d1e3-4656-9b9c-84e7d4f6aeec",
   "metadata": {},
   "source": [
    "## Symbiosphere "
   ]
  },
  {
   "cell_type": "code",
   "execution_count": null,
   "id": "28375fc3-1c7a-4b24-a3d3-aa64daad11d3",
   "metadata": {},
   "outputs": [],
   "source": [
    "taxid2parent_group, brack_df = get_brack_df(bs_ids, level, bowtie2_path, kraken2_path, bracken_path, group_taxid2name)"
   ]
  },
  {
   "cell_type": "code",
   "execution_count": null,
   "id": "78d90364-0558-4e04-aa05-2c8efe30aa2a",
   "metadata": {},
   "outputs": [],
   "source": [
    "print_group_richness(brack_df, lod, categories)"
   ]
  },
  {
   "cell_type": "code",
   "execution_count": null,
   "id": "416bbdaf-c7bf-49c7-9bd6-bb0815022d58",
   "metadata": {},
   "outputs": [],
   "source": [
    "# current definition of symbiosphere constituents (everything but metazoa basically)\n",
    "f = brack_df['Group'].isin({'Viruses', 'Bacteria', 'Archaea', 'Fungi', 'Other Eukaryota', 'Embryophyta'})\n",
    "symbio_df = brack_df[f & (brack_df['Relative abundance'] >= lod)]\n",
    "\n",
    "taxon2group = dict(zip(symbio_df['Taxon'], symbio_df['Group']))\n",
    "symbio_df"
   ]
  },
  {
   "cell_type": "code",
   "execution_count": null,
   "id": "407ef7b8-e8df-463f-8287-c39d5264ab0c",
   "metadata": {},
   "outputs": [],
   "source": [
    "# get core symbiosphere\n",
    "min_prev = 0.2\n",
    "prev_df = get_prev_df(symbio_df, taxid2parent_group, lod)\n",
    "core_symbio_df = symbio_df[symbio_df['Taxon'].isin(prev_df[prev_df['Prevalence'] >= min_prev]['Taxon'])]\n",
    "core_symbio_df"
   ]
  },
  {
   "cell_type": "code",
   "execution_count": null,
   "id": "82a2df71-b925-4978-93aa-65b947580c65",
   "metadata": {},
   "outputs": [],
   "source": [
    "print_group_richness(core_symbio_df, lod, categories)"
   ]
  },
  {
   "cell_type": "markdown",
   "id": "d6c595be-7327-4676-b553-d19f2fb6a234",
   "metadata": {},
   "source": [
    "### Richness vs- library size"
   ]
  },
  {
   "cell_type": "code",
   "execution_count": null,
   "id": "2149fa05-7dec-4b32-bfe3-2f5acb4b2b7d",
   "metadata": {},
   "outputs": [],
   "source": [
    "lod = 5e-06\n",
    "# lod = 1e-05\n",
    "\n",
    "x = brack_df[(brack_df['Relative abundance'] >= 0)].groupby('Colony').agg({'Taxon' : ['count']})['Taxon']\n",
    "richness_df = pd.DataFrame({\n",
    "    'Colony' : x.index,\n",
    "    'Richness' : x['count']\n",
    "}).reset_index(drop=True).merge(pheno_df[['Colony', 'Total read nr']], how='inner')\n",
    "\n",
    "x = brack_df[(brack_df['Relative abundance'] >= lod)].groupby('Colony').agg({'Taxon' : ['count']})['Taxon']\n",
    "richness_df_lod = pd.DataFrame({\n",
    "    'Colony' : x.index,\n",
    "    'Richness' : x['count']\n",
    "}).reset_index(drop=True).merge(pheno_df[['Colony', 'Total read nr']], how='inner')\n",
    "\n",
    "fig, (ax1, ax2) = plt.subplots(1, 2, figsize=(15, 7.5))\n",
    "\n",
    "sns.regplot(data=richness_df, x='Total read nr', y='Richness', ax=ax1)\n",
    "ax1.set_title('no LoD, corr={}'.format(round(richness_df['Richness'].corr(richness_df['Total read nr']),ndigits=3)))\n",
    "\n",
    "sns.regplot(data=richness_df_lod, x='Total read nr', y='Richness', ax=ax2)\n",
    "ax2.set_title('LoD {}, corr={}'.format(lod, round(richness_df_lod['Richness'].corr(richness_df_lod['Total read nr']),ndigits=3)))\n",
    "\n",
    "plt.tight_layout()\n",
    "plt.show()"
   ]
  },
  {
   "cell_type": "code",
   "execution_count": null,
   "id": "6f375b74-9add-4a7e-8010-da25880e6b79",
   "metadata": {},
   "outputs": [],
   "source": [
    "for group in categories:\n",
    "    \n",
    "    x = brack_df[(brack_df['Group'] == group) & (brack_df['Relative abundance'] >= 0)].groupby('Colony').agg({'Taxon' : ['count']})['Taxon']\n",
    "    richness_df = pd.DataFrame({\n",
    "        'Colony' : x.index,\n",
    "        'Richness' : x['count']\n",
    "    }).reset_index(drop=True).merge(pheno_df[['Colony', 'Total read nr']], how='inner')\n",
    "    \n",
    "    x = brack_df[(brack_df['Group'] == group) & (brack_df['Relative abundance'] >= lod)].groupby('Colony').agg({'Taxon' : ['count']})['Taxon']\n",
    "    richness_df_lod = pd.DataFrame({\n",
    "        'Colony' : x.index,\n",
    "        'Richness' : x['count']\n",
    "    }).reset_index(drop=True).merge(pheno_df[['Colony', 'Total read nr']], how='inner')\n",
    "    \n",
    "    fig, (ax1, ax2) = plt.subplots(1, 2, figsize=(15, 7.5))\n",
    "    \n",
    "    sns.regplot(data=richness_df, x='Total read nr', y='Richness', ax=ax1)\n",
    "    ax1.set_title('{} no LoD, corr={}'.format(group, round(richness_df['Richness'].corr(richness_df['Total read nr']),ndigits=3)))\n",
    "    \n",
    "    sns.regplot(data=richness_df_lod, x='Total read nr', y='Richness', ax=ax2)\n",
    "    ax2.set_title('{} LoD {}, corr={}'.format(group, lod, round(richness_df_lod['Richness'].corr(richness_df_lod['Total read nr']),ndigits=3)))\n",
    "    \n",
    "    plt.tight_layout()\n",
    "    plt.show()"
   ]
  },
  {
   "cell_type": "markdown",
   "id": "313855c8-9acf-45e7-a020-dbfaaa086a13",
   "metadata": {},
   "source": [
    "### Prevalence vs. abundance of families"
   ]
  },
  {
   "cell_type": "code",
   "execution_count": null,
   "id": "c805b489-e49e-4095-8668-ec92b60208fe",
   "metadata": {},
   "outputs": [],
   "source": [
    "fig = px.scatter(prev_df, x='Prevalence', y='Median Relative Abundance', color='Group', hover_data=['Taxon'])\n",
    "fig.update_layout(\n",
    "    autosize=False,\n",
    "    width=1400,\n",
    "    height=1000,\n",
    "    xaxis={'title': {'font': {'size': 18}}},\n",
    "    yaxis={'title': {'font': {'size': 18}}},\n",
    "    legend={'font': {'size': 16}}\n",
    ")\n",
    "fig.update_yaxes(tickformat='.5f')\n",
    "fig.show()"
   ]
  },
  {
   "cell_type": "code",
   "execution_count": null,
   "id": "cc6b9c79-df1e-4c07-bfdf-30d049d9344a",
   "metadata": {
    "scrolled": true
   },
   "outputs": [],
   "source": [
    "fig = px.scatter(prev_df[prev_df['Group'].isin(categories)], x='Prevalence', y='Median Relative Abundance', color='Group', hover_data=['Taxon'], log_y=True, color_discrete_map=cmap)\n",
    "\n",
    "fig.update_traces(marker=dict(\n",
    "    size=10,\n",
    "    opacity=0.8,\n",
    "    #line=dict(width=2, color='DarkSlateGrey')\n",
    "))\n",
    "\n",
    "fig.update_layout(\n",
    "    autosize=False,\n",
    "    width=1200,\n",
    "    height=800,\n",
    "    xaxis={'title': {'font': {'size': 20}}},\n",
    "    yaxis={'title': {'font': {'size': 20}}},\n",
    "    legend={'font': {'size': 20}}\n",
    ")\n",
    "fig.update_yaxes(tickformat='.6f')\n",
    "fig.show()"
   ]
  },
  {
   "cell_type": "markdown",
   "id": "f439bbd4-1a66-447f-992d-010720ee67c3",
   "metadata": {},
   "source": [
    "### Relative abundance vs. Ratio"
   ]
  },
  {
   "cell_type": "code",
   "execution_count": null,
   "id": "cd8eec3b-2955-4764-903a-f62827f79875",
   "metadata": {
    "scrolled": true
   },
   "outputs": [],
   "source": [
    "sns.scatterplot(symbio_df, x='Relative abundance', y='Ratio Honeybee', hue='Group')"
   ]
  },
  {
   "cell_type": "markdown",
   "id": "a514b51a-b7f9-4080-8b32-53018d8ec76f",
   "metadata": {},
   "source": [
    "## Core taxa & Relative abundance"
   ]
  },
  {
   "cell_type": "code",
   "execution_count": null,
   "id": "91748384-e9d1-414b-8ca1-e181b56885dc",
   "metadata": {},
   "outputs": [],
   "source": [
    "core_relabund_df = core_symbio_df.pivot(index='Colony', columns='Taxon', values='Relative abundance').fillna(0).reset_index()\n",
    "print(core_relabund_df.shape)\n",
    "core_relabund_df"
   ]
  },
  {
   "cell_type": "code",
   "execution_count": null,
   "id": "88e0675a-3678-4219-989e-8629ecdb3648",
   "metadata": {},
   "outputs": [],
   "source": [
    "# core_relabund_df.to_csv('{}{}_RelativeAbundance_Core_Families.csv'.format(tlf_path, str(datetime.now().date())), index=False)\n",
    "# pd.read_csv('{}{}_RelativeAbundance_Core_Families.csv'.format(tlf_path, str(datetime.now().date())))"
   ]
  },
  {
   "cell_type": "code",
   "execution_count": null,
   "id": "40f27fea-005d-4dba-9e17-713e2402977b",
   "metadata": {},
   "outputs": [],
   "source": [
    "# add metadata and reset indexes\n",
    "pheno_core_relabund_df = pd.merge(pheno_df, core_relabund_df, on='Colony')\n",
    "core_relabund_df = core_relabund_df.set_index('Colony')\n",
    "pheno_core_relabund_df = pheno_core_relabund_df.set_index('Colony')"
   ]
  },
  {
   "cell_type": "code",
   "execution_count": null,
   "id": "fa6110bf-6519-4fa6-80e6-04d0070c3637",
   "metadata": {},
   "outputs": [],
   "source": [
    "color_dict = {}\n",
    "discrete_vars = ['group', 'year', 'month', 'region']\n",
    "continous_vars =  ['Varroa relative abundance', 'logit_recap_inf', 'raw_mnr', 'Total read nr']\n",
    "\n",
    "row_colors = get_row_colors(pheno_core_relabund_df, discrete_vars, continous_vars)"
   ]
  },
  {
   "cell_type": "code",
   "execution_count": null,
   "id": "1cdb98bf-9ec8-4f8a-b0a6-c9f8c78ceee6",
   "metadata": {},
   "outputs": [],
   "source": [
    "plt.figure(figsize=(30, 24))\n",
    "cg=sns.clustermap(core_relabund_df, metric='braycurtis', row_colors=row_colors, xticklabels=1)\n",
    "cg.cax.set_visible(True)\n",
    "plt.show()"
   ]
  },
  {
   "cell_type": "markdown",
   "id": "c334c9c5-6d22-45bf-9889-c80d5180ac32",
   "metadata": {},
   "source": [
    "### PCoA"
   ]
  },
  {
   "cell_type": "code",
   "execution_count": null,
   "id": "b9b78867-c8da-43ca-91e6-6f04b4bd760c",
   "metadata": {},
   "outputs": [],
   "source": [
    "dist_matrix = beta_diversity('braycurtis', core_relabund_df)\n",
    "pcoa_results = pcoa(dist_matrix)\n",
    "sns.barplot(pcoa_results.proportion_explained[:10])"
   ]
  },
  {
   "cell_type": "code",
   "execution_count": null,
   "id": "75809a1d-e29b-4f67-ae47-7e94ff41b19a",
   "metadata": {},
   "outputs": [],
   "source": [
    "pc_nr = 5\n",
    "pca_df = pd.merge(pheno_df, pd.DataFrame(pcoa_results.samples.values[:, :pc_nr], columns=['PC{}'.format(i + 1) for i in range(pc_nr)], index=dist_matrix.ids).reset_index().rename(columns={'index':'Colony'}), on='Colony')\n",
    "pca_melt_df = pd.melt(pca_df, id_vars=list(pca_df.columns[:-5]), value_vars=list(pca_df.columns[-5:]), var_name = 'PC', value_name='PC_value')"
   ]
  },
  {
   "cell_type": "code",
   "execution_count": null,
   "id": "40ff2977-a5a9-4e85-938d-fb406f679ec9",
   "metadata": {},
   "outputs": [],
   "source": [
    "sns.set_style('whitegrid')\n",
    "plt.figure(figsize=(8, 8))\n",
    "x='PC1'\n",
    "y='PC2'\n",
    "sns.scatterplot(data=pca_df, x=x, y=y, hue='group')\n",
    "plt.xlabel(x, fontsize=14)\n",
    "plt.ylabel(y, fontsize=14)\n",
    "plt.xticks(fontsize=14)\n",
    "plt.yticks(fontsize=14)\n",
    "plt.legend(fontsize=14)\n",
    "plt.legend(bbox_to_anchor=(1.05, 1), loc='upper left', borderaxespad=0.)\n",
    "plt.show()"
   ]
  },
  {
   "cell_type": "code",
   "execution_count": null,
   "id": "6301fa76-de59-4b3c-adee-7b2dc86258f1",
   "metadata": {},
   "outputs": [],
   "source": [
    "variables = ['region', 'group', 'year', 'month']\n",
    "for v in variables:\n",
    "    g = sns.FacetGrid(pca_melt_df, col='PC', col_wrap=5, height=3, aspect=1)\n",
    "    g.map(sns.boxplot,v,'PC_value')\n",
    "    g.set_titles(\"{col_name}\")"
   ]
  },
  {
   "cell_type": "code",
   "execution_count": null,
   "id": "bfe8dbe9-1cca-44b8-9ea5-f5b81b2d033e",
   "metadata": {},
   "outputs": [],
   "source": [
    "variables = [\n",
    "    # 'group',\n",
    "    # 'year',\n",
    "    # 'month', \n",
    "    'percent_Ligustica_Carnica',\n",
    "    'percent_Mellifera',\n",
    "    'percent_Caucasica',\n",
    "    'v_pho',\n",
    "    'v_mito',\n",
    "    'pca1',\n",
    "    'recap_inf',\n",
    "    'logit_recap_inf',\n",
    "    'percent_mnr',\n",
    "    'raw_mnr',\n",
    "    'eb_mmr',\n",
    "    'Varroa relative abundance'\n",
    "]\n",
    "\n",
    "for v in variables:\n",
    "    g = sns.FacetGrid(pca_melt_df, col='PC', col_wrap=5, height=3, aspect=1)\n",
    "    g.map(sns.regplot,'PC_value',v,scatter_kws={'s':4})\n",
    "    g.set_titles(\"{col_name}\")"
   ]
  },
  {
   "cell_type": "code",
   "execution_count": null,
   "id": "fbcc2318-cb95-46e4-9099-aa81d4db8eb8",
   "metadata": {},
   "outputs": [],
   "source": [
    "pca_melt_df"
   ]
  },
  {
   "cell_type": "code",
   "execution_count": null,
   "id": "a10c557a-b0b6-490d-9885-2e0ecb99285d",
   "metadata": {},
   "outputs": [],
   "source": [
    "sns.lmplot(data=pca_melt_df[pca_melt_df['PC']=='PC2'], x='PC_value', y='percent_Ligustica_Carnica', hue='region', height=8)"
   ]
  },
  {
   "cell_type": "markdown",
   "id": "64d6f3cd-eab9-447c-8ea1-f41c9e044f3e",
   "metadata": {},
   "source": [
    "### Varroa-associated taxa"
   ]
  },
  {
   "cell_type": "markdown",
   "id": "a67d9288-30a2-47ef-8ccb-55f52587a118",
   "metadata": {},
   "source": [
    "not much sense here given there are only 30 core families --> compute on all families"
   ]
  },
  {
   "cell_type": "code",
   "execution_count": null,
   "id": "33b77109-3e97-4378-a1bf-1f77881d5def",
   "metadata": {},
   "outputs": [],
   "source": [
    "relabund_df = symbio_df.pivot(index='Colony', columns='Taxon', values='Relative abundance').fillna(0).reset_index()\n",
    "print(relabund_df.shape)"
   ]
  },
  {
   "cell_type": "code",
   "execution_count": null,
   "id": "556a086c-e17d-4238-98d7-8fabf5f71a52",
   "metadata": {
    "scrolled": true
   },
   "outputs": [],
   "source": [
    "# perform correlation tests on log transformed ratio to honeybees \n",
    "relabund_pheno_df = relabund_df.merge(pheno_df, on='Colony')\n",
    "relabund_pheno_df['Shuffled Varroa relative abundance'] = random.sample(relabund_pheno_df['Varroa relative abundance'].to_list(), len(relabund_pheno_df))\n",
    "relabund_pheno_df"
   ]
  },
  {
   "cell_type": "code",
   "execution_count": null,
   "id": "0c68b93f-af8a-4b7c-bbee-e7a948a088c4",
   "metadata": {
    "scrolled": true
   },
   "outputs": [],
   "source": [
    "y_variables = ['Varroa relative abundance', 'Shuffled Varroa relative abundance']\n",
    "min_colony_nr = 5\n",
    "con_methods = ['pearson']\n",
    "cat_methods = []\n",
    "\n",
    "pv_df = get_pv_df(relabund_pheno_df, relabund_df, y_variables, min_colony_nr, con_methods, cat_methods, lod)\n",
    "pv_df"
   ]
  },
  {
   "cell_type": "code",
   "execution_count": null,
   "id": "4ab2eb0f-4c0a-4a4a-b3c8-29e3efd3b177",
   "metadata": {},
   "outputs": [],
   "source": [
    "fdr_df = get_fdr_df(pv_df, y_variables, cat_methods + con_methods)\n",
    "fdr_df"
   ]
  },
  {
   "cell_type": "code",
   "execution_count": null,
   "id": "8ae6526b-8950-4e3d-b127-3903d4c831f9",
   "metadata": {
    "scrolled": true
   },
   "outputs": [],
   "source": [
    "y_name = 'Varroa relative abundance'\n",
    "for sp in fdr_df[(fdr_df['Y variable'] == y_name) & (fdr_df['Method'] == 'pearson') & (fdr_df['FDR'] <= 0.1)].sort_values('FDR')['Species']:\n",
    "    f = relabund_pheno_df[sp] > np.log(lod)\n",
    "    sns.regplot(data=relabund_pheno_df[f], x=sp, y=y_name)\n",
    "    plt.show()"
   ]
  },
  {
   "cell_type": "code",
   "execution_count": null,
   "id": "111c4845-7508-404d-8c19-1f2f223b6940",
   "metadata": {},
   "outputs": [],
   "source": [
    "relabund_sig_df = core_symbio_df[core_symbio_df['Taxon'].isin(fdr_df[fdr_df['FDR'] < 0.1]['Species'])].pivot(index='Colony', columns='Taxon', values='Relative abundance').fillna(0).reset_index()\n",
    "print(relabund_sig_df.shape)"
   ]
  },
  {
   "cell_type": "code",
   "execution_count": null,
   "id": "15ce7e11-6194-4c95-9fe3-94bbabf8385b",
   "metadata": {},
   "outputs": [],
   "source": [
    "relabund_sig_df.to_csv('{}{}_RelativeAbundance_Core_VarroaAssociated_Families.csv'.format(tlf_path, str(datetime.now().date())), index=False)\n",
    "pd.read_csv('{}{}_RelativeAbundance_Core_VarroaAssociated_Families.csv'.format(tlf_path, str(datetime.now().date())))"
   ]
  },
  {
   "cell_type": "markdown",
   "id": "0f875ada-b4b5-4260-8336-366b96f3938a",
   "metadata": {},
   "source": [
    "##  Core taxa & Bee Log ratio"
   ]
  },
  {
   "cell_type": "code",
   "execution_count": null,
   "id": "4f12dcf5-477d-47fd-ade3-4b4fcc87da44",
   "metadata": {},
   "outputs": [],
   "source": [
    "aitchison_df = core_symbio_df.pivot(index='Colony', columns='Taxon', values='Log Ratio Honeybee').fillna(np.log(1e-06)).reset_index()\n",
    "print(aitchison_df.shape)"
   ]
  },
  {
   "cell_type": "code",
   "execution_count": null,
   "id": "7a8ac20c-46e4-4c20-97c6-141059d8f3dd",
   "metadata": {},
   "outputs": [],
   "source": [
    "# aitchison_df.to_csv('{}{}_BeeLogRatio_Core_Families.csv'.format(tlf_path, str(datetime.now().date())), index=False)\n",
    "# pd.read_csv('{}{}_BeeLogRatio_Core_Families.csv'.format(tlf_path, str(datetime.now().date())))"
   ]
  },
  {
   "cell_type": "code",
   "execution_count": null,
   "id": "0e36f777-ab0b-4031-b3fe-990ef8b3b5de",
   "metadata": {},
   "outputs": [],
   "source": [
    "continous_vars =  ['Varroa Log Ratio Honeybee', 'logit_recap_inf', 'raw_mnr']\n",
    "distance = 'euclidean'\n",
    "plot_clustermap(aitchison_df, pheno_df, continous_vars, var2cmap, distance, figsize=(12, 8))"
   ]
  },
  {
   "cell_type": "markdown",
   "id": "fe96088c-1b32-41d5-83fa-7a2d6fea8287",
   "metadata": {},
   "source": [
    "### PCA"
   ]
  },
  {
   "cell_type": "code",
   "execution_count": null,
   "id": "c7cd16a8-dfef-4417-a34a-9391997d3e88",
   "metadata": {},
   "outputs": [],
   "source": [
    "pivot_df = aitchison_df.set_index('Colony')\n",
    "pca = PCA()\n",
    "x_pca = pca.fit_transform(pivot_df)\n",
    "sns.barplot(pca.explained_variance_ratio_[:10])"
   ]
  },
  {
   "cell_type": "code",
   "execution_count": null,
   "id": "20a2d8bb-cf44-4d1f-bb17-516e6d4af040",
   "metadata": {},
   "outputs": [],
   "source": [
    "pc_nr = 5\n",
    "pca_df = pd.merge(pheno_df, pd.DataFrame(pcoa_results.samples.values[:, :pc_nr], columns=['PC{}'.format(i + 1) for i in range(pc_nr)], index=pivot_df.index).reset_index().rename(columns={'index':'Colony'}), on='Colony')\n",
    "pca_melt_df = pd.melt(pca_df, id_vars=list(pca_df.columns[:-5]), value_vars=list(pca_df.columns[-5:]), var_name = 'PC', value_name='PC_value')"
   ]
  },
  {
   "cell_type": "code",
   "execution_count": null,
   "id": "c0a1a239-0b7c-4385-a1cc-8eb7cc5bd02d",
   "metadata": {},
   "outputs": [],
   "source": [
    "plot_pca(1, 2, pca_df, 'region', cmap_region, pca.explained_variance_ratio_)"
   ]
  },
  {
   "cell_type": "code",
   "execution_count": null,
   "id": "cffc64c8-2cae-49eb-aff5-afec62991785",
   "metadata": {},
   "outputs": [],
   "source": [
    "plot_pca(3, 4, pca_df, 'region', cmap_region, pca.explained_variance_ratio_)"
   ]
  },
  {
   "cell_type": "code",
   "execution_count": null,
   "id": "d6ba3e47-6c0c-444b-a559-e650e7ae3039",
   "metadata": {},
   "outputs": [],
   "source": [
    "variables = ['region', 'group', 'year', 'month']\n",
    "for v in variables:\n",
    "    g = sns.FacetGrid(pca_melt_df, col='PC', col_wrap=5, height=3, aspect=1)\n",
    "    g.map(sns.boxplot,v,'PC_value')\n",
    "    g.set_titles(\"{col_name}\")"
   ]
  },
  {
   "cell_type": "code",
   "execution_count": null,
   "id": "b8a2b077-8f98-4062-8ba4-acaf053eb0f4",
   "metadata": {},
   "outputs": [],
   "source": [
    "variables = [\n",
    "    # 'group',\n",
    "    # 'year',\n",
    "    # 'month', \n",
    "    'percent_Ligustica_Carnica',\n",
    "    'percent_Mellifera',\n",
    "    'percent_Caucasica',\n",
    "    'v_pho',\n",
    "    'v_mito',\n",
    "    'pca1',\n",
    "    'recap_inf',\n",
    "    'logit_recap_inf',\n",
    "    'percent_mnr',\n",
    "    'raw_mnr',\n",
    "    'eb_mmr',\n",
    "    'Varroa relative abundance'\n",
    "]\n",
    "\n",
    "for v in variables:\n",
    "    g = sns.FacetGrid(pca_melt_df, col='PC', col_wrap=5, height=3, aspect=1)\n",
    "    g.map(sns.regplot,'PC_value',v,scatter_kws={'s':4})\n",
    "    g.set_titles(\"{col_name}\")"
   ]
  },
  {
   "cell_type": "markdown",
   "id": "8027af27-7408-4070-82f7-64f7e1d82d40",
   "metadata": {},
   "source": [
    "### Varroa-associated taxa"
   ]
  },
  {
   "cell_type": "markdown",
   "id": "c04777a6-2769-4160-a3a6-c9f44152e652",
   "metadata": {},
   "source": [
    "not much sense here given there are only 30 core families"
   ]
  },
  {
   "cell_type": "code",
   "execution_count": null,
   "id": "4ed340b9-ca0d-4a86-8d0f-c3c8f271ff4f",
   "metadata": {},
   "outputs": [],
   "source": [
    "# perform correlation tests on log transformed ratio to honeybees \n",
    "aitchison_pheno_df = aitchison_df.merge(pheno_df, on='Colony')\n",
    "aitchison_pheno_df['Shuffled Varroa Log Ratio Honeybee'] = random.sample(aitchison_pheno_df['Varroa Log Ratio Honeybee'].to_list(), len(aitchison_pheno_df))\n",
    "aitchison_pheno_df"
   ]
  },
  {
   "cell_type": "code",
   "execution_count": null,
   "id": "20aea148-765a-47ef-a556-de03ff9a0795",
   "metadata": {},
   "outputs": [],
   "source": [
    "y_variables = ['Varroa Log Ratio Honeybee', 'Shuffled Varroa Log Ratio Honeybee']\n",
    "min_colony_nr = 5\n",
    "con_methods = ['pearson']\n",
    "cat_methods = []\n",
    "\n",
    "pv_df = get_pv_df(aitchison_pheno_df, aitchison_df, y_variables, min_colony_nr, con_methods, cat_methods, np.log(lod)) # import to log also lod here\n",
    "pv_df"
   ]
  },
  {
   "cell_type": "code",
   "execution_count": null,
   "id": "46c78b5a-b803-49cb-b75c-f203b68c12ee",
   "metadata": {},
   "outputs": [],
   "source": [
    "for method in con_methods:\n",
    "    for y_name in y_variables:\n",
    "        sns.histplot(data=pv_df[(pv_df['Y variable'] == y_name) & (pv_df['Method'] == method)], x='P-value', bins=100)\n",
    "        plt.title('{} {}'.format(y_name, method))\n",
    "        plt.show()"
   ]
  },
  {
   "cell_type": "code",
   "execution_count": null,
   "id": "e67bb310-6c6a-4acf-b8f9-8b6224982409",
   "metadata": {},
   "outputs": [],
   "source": [
    "fdr_df = get_fdr_df(pv_df, y_variables, cat_methods + con_methods)\n",
    "fdr_df"
   ]
  },
  {
   "cell_type": "code",
   "execution_count": null,
   "id": "5a35c400-36b5-487e-85e0-aa081e1e9c5d",
   "metadata": {
    "scrolled": true
   },
   "outputs": [],
   "source": [
    "y_name = 'Varroa Log Ratio Honeybee'\n",
    "for sp in fdr_df[(fdr_df['Y variable'] == y_name) & (fdr_df['Method'] == 'pearson') & (fdr_df['FDR'] <= 0.1)].sort_values('FDR')['Species']:\n",
    "    f = aitchison_pheno_df[sp] > np.log(lod)\n",
    "    sns.regplot(data=aitchison_pheno_df[f], x=sp, y=y_name)\n",
    "    plt.show()"
   ]
  },
  {
   "cell_type": "code",
   "execution_count": null,
   "id": "56c7f864-5e74-47fd-84c6-6235187004c5",
   "metadata": {},
   "outputs": [],
   "source": [
    "aitchison_sig_df = core_symbio_df[core_symbio_df['Taxon'].isin(fdr_df[fdr_df['FDR'] < 0.1]['Species'])].pivot(index='Colony', columns='Taxon', values='Log Ratio Honeybee').fillna(np.log(1e-06)).reset_index()\n",
    "print(aitchison_sig_df.shape)"
   ]
  },
  {
   "cell_type": "code",
   "execution_count": null,
   "id": "79a1ec82-ff40-4a85-b7e8-f89f38eb8b1b",
   "metadata": {},
   "outputs": [],
   "source": [
    "aitchison_sig_df"
   ]
  },
  {
   "cell_type": "code",
   "execution_count": null,
   "id": "52000d06-aeb1-4ab1-a3af-0d8e1e9e2eb4",
   "metadata": {},
   "outputs": [],
   "source": [
    "# aitchison_sig_df.to_csv('{}{}_BeeLogRatio_Core_VarroaAssociated_Families.csv'.format(tlf_path, str(datetime.now().date())), index=False)\n",
    "# pd.read_csv('{}{}_BeeLogRatio_Core_VarroaAssociated_Families.csv'.format(tlf_path, str(datetime.now().date())))"
   ]
  },
  {
   "cell_type": "markdown",
   "id": "777facec-023f-43a3-858c-8eaed91f2a6e",
   "metadata": {},
   "source": [
    "#### stats"
   ]
  },
  {
   "cell_type": "code",
   "execution_count": null,
   "id": "5ee8f144-e3a4-4f38-9a81-078c0a27d6ba",
   "metadata": {},
   "outputs": [],
   "source": [
    "for group in groups:\n",
    "    print(group, filter_group_pivot_df(aitchison_sig_df, set([group]), taxon2group).shape[1] -1)"
   ]
  },
  {
   "cell_type": "code",
   "execution_count": null,
   "id": "7b34b448-99a4-404c-ab3e-53894df83a41",
   "metadata": {},
   "outputs": [],
   "source": [
    "fdr_df = fdr_df.rename(columns={'Species': 'Family'})\n",
    "fdr_df.insert(1, 'Group', [taxon2group[x] for x in fdr_df['Family']])\n",
    "fdr_df"
   ]
  },
  {
   "cell_type": "code",
   "execution_count": null,
   "id": "deacaf3d-0794-4406-899c-1cfb6357b73e",
   "metadata": {},
   "outputs": [],
   "source": [
    "y_name = 'Varroa Log Ratio Honeybee'\n",
    "method = 'pearson'\n",
    "\n",
    "a =fdr_df[(fdr_df['Y variable'] == y_name) & (fdr_df['Method'] == method) & (fdr_df['Stat'] > 0) & (fdr_df['FDR'] <= 0.1)]\n",
    "b =fdr_df[(fdr_df['Y variable'] == y_name) & (fdr_df['Method'] == method) & (fdr_df['Stat'] < 0) & (fdr_df['FDR'] <= 0.1)]"
   ]
  },
  {
   "cell_type": "code",
   "execution_count": null,
   "id": "f38c3501-f395-46fc-a35c-87d2f774d657",
   "metadata": {},
   "outputs": [],
   "source": [
    "print(len(a))\n",
    "print(len(b))"
   ]
  },
  {
   "cell_type": "code",
   "execution_count": null,
   "id": "b8300374-7cc3-43fb-a8f5-0271ef7d294d",
   "metadata": {},
   "outputs": [],
   "source": [
    "x = a\n",
    "print(x.shape)\n",
    "x.sort_values('FDR', ascending=True)[['Family', 'Group', 'FDR']]"
   ]
  },
  {
   "cell_type": "code",
   "execution_count": null,
   "id": "6fb77c8e-097c-4f07-8037-d279d2953b92",
   "metadata": {
    "scrolled": true
   },
   "outputs": [],
   "source": [
    "x = b\n",
    "print(x.shape)\n",
    "x.sort_values('FDR', ascending=True)[['Family', 'Group', 'FDR']]"
   ]
  },
  {
   "cell_type": "markdown",
   "id": "9e464c6a-5236-4c3d-90e8-d2ee922e6216",
   "metadata": {},
   "source": [
    "#### heatmap"
   ]
  },
  {
   "cell_type": "code",
   "execution_count": null,
   "id": "63c3ce00-8277-43c2-89a2-03037798afcc",
   "metadata": {},
   "outputs": [],
   "source": [
    "continous_vars =  ['Varroa Log Ratio Honeybee']\n",
    "distance = 'euclidean'\n",
    "plot_clustermap(aitchison_sig_df, pheno_df, continous_vars, var2cmap, distance, figsize=(10, 8))"
   ]
  },
  {
   "cell_type": "code",
   "execution_count": null,
   "id": "262cebb6-c8bb-4912-85c0-ea503144365f",
   "metadata": {},
   "outputs": [],
   "source": [
    "plot_clustermap(filter_group_pivot_df(aitchison_sig_df, 'Bacteria', taxon2group), pheno_df, continous_vars, var2cmap, distance, figsize=(10, 8))"
   ]
  },
  {
   "cell_type": "code",
   "execution_count": null,
   "id": "68abc22e-3fe8-42a0-850f-05a62148ba82",
   "metadata": {},
   "outputs": [],
   "source": [
    "plot_clustermap(filter_group_pivot_df(aitchison_sig_df, 'Embryophyta', taxon2group), pheno_df, continous_vars, var2cmap, distance, figsize=(10, 8))"
   ]
  },
  {
   "cell_type": "code",
   "execution_count": null,
   "id": "bd050a86-3ba3-4333-b72f-d7200171a51c",
   "metadata": {},
   "outputs": [],
   "source": [
    "# cluster only based on these two families\n",
    "families = ['Morganellaceae', 'Spiroplasmataceae']\n",
    "cg = plot_clustermap(aitchison_sig_df[['Colony'] + families], pheno_df, continous_vars, var2cmap, distance, figsize=(10, 8))"
   ]
  },
  {
   "cell_type": "markdown",
   "id": "93eb0274-9dd8-4491-a6fb-8b7cec311188",
   "metadata": {},
   "source": [
    "#### PCA"
   ]
  },
  {
   "cell_type": "code",
   "execution_count": null,
   "id": "ae284d8b-8662-4e01-a102-9d2cb1bc958c",
   "metadata": {},
   "outputs": [],
   "source": [
    "pivot_df = aitchison_sig_df.set_index('Colony')"
   ]
  },
  {
   "cell_type": "code",
   "execution_count": null,
   "id": "9be5c2a4-7d0d-48ee-9c5a-b46693497b6c",
   "metadata": {},
   "outputs": [],
   "source": [
    "pca = PCA()\n",
    "x_pca = pca.fit_transform(pivot_df)\n",
    "sns.barplot(pca.explained_variance_ratio_[:10])"
   ]
  },
  {
   "cell_type": "code",
   "execution_count": null,
   "id": "7b9c6b91-de11-4c3f-891f-a3acef50bbe2",
   "metadata": {},
   "outputs": [],
   "source": [
    "pc_nr = 5\n",
    "pca_df = pd.merge(pheno_df, pd.DataFrame(pcoa_results.samples.values[:, :pc_nr], columns=['PC{}'.format(i + 1) for i in range(pc_nr)], index=pivot_df.index).reset_index().rename(columns={'index':'Colony'}), on='Colony')\n",
    "pca_melt_df = pd.melt(pca_df, id_vars=list(pca_df.columns[:-5]), value_vars=list(pca_df.columns[-5:]), var_name = 'PC', value_name='PC_value')"
   ]
  },
  {
   "cell_type": "code",
   "execution_count": null,
   "id": "f1f8a75f-bc6c-472b-9ccb-b69c9d1841fa",
   "metadata": {},
   "outputs": [],
   "source": [
    "plot_pca(1, 2, pca_df, 'month', cmap_months, pca.explained_variance_ratio_)"
   ]
  },
  {
   "cell_type": "code",
   "execution_count": null,
   "id": "30ee44d3-ddd9-479c-94ec-cce1cf8d9d67",
   "metadata": {},
   "outputs": [],
   "source": [
    "plot_pca(1, 3, pca_df, 'Varroa Log Ratio Honeybee', None, pca.explained_variance_ratio_)"
   ]
  },
  {
   "cell_type": "code",
   "execution_count": null,
   "id": "43612be7-4a7e-46a1-b57c-0252f16374c3",
   "metadata": {},
   "outputs": [],
   "source": [
    "plot_pca(2, 4, pca_df, 'Varroa Log Ratio Honeybee', None, pca.explained_variance_ratio_)"
   ]
  },
  {
   "cell_type": "code",
   "execution_count": null,
   "id": "547b2c04-1f71-427b-8527-b1988bafc133",
   "metadata": {},
   "outputs": [],
   "source": [
    "variables = [\n",
    "    'v_pho',\n",
    "    'v_mito',\n",
    "    'pca1',\n",
    "    'recap_inf',\n",
    "    'logit_recap_inf',\n",
    "    'percent_mnr',\n",
    "    'raw_mnr',\n",
    "    'eb_mmr',\n",
    "    'Varroa relative abundance',\n",
    "    'Varroa Log Ratio Honeybee'\n",
    "]\n",
    "\n",
    "for v in variables:\n",
    "    g = sns.FacetGrid(pca_melt_df, col='PC', col_wrap=5, height=3, aspect=1)\n",
    "    g.map(sns.regplot,'PC_value',v,scatter_kws={'s':4})\n",
    "    g.set_titles(\"{col_name}\")"
   ]
  },
  {
   "cell_type": "markdown",
   "id": "4823d1d3-e396-4022-8f71-94958c5c040a",
   "metadata": {},
   "source": [
    "## All taxa & Prevalence analyses"
   ]
  },
  {
   "cell_type": "code",
   "execution_count": null,
   "id": "f1a4ba7e-6ef1-4abc-8c32-1b26e8b75f5b",
   "metadata": {},
   "outputs": [],
   "source": [
    "jaccard_df = symbio_df.pivot(index='Colony', columns='Taxon', values='Relative abundance').map(lambda x: 1 if x > 0 else x).fillna(0).reset_index()\n",
    "jaccard_df[jaccard_df.columns[1:]] = jaccard_df.iloc[:, 1:].astype(int)\n",
    "print(jaccard_df.shape)"
   ]
  },
  {
   "cell_type": "code",
   "execution_count": null,
   "id": "e0e98c03-06fa-4726-b8b4-eb3b77fdea06",
   "metadata": {},
   "outputs": [],
   "source": [
    "# jaccard_df.to_csv('{}{}_Prevalence_All_Families.csv'.format(tlf_path, str(datetime.now().date())), index=False)\n",
    "# pd.read_csv('{}{}_Prevalence_All_Families.csv'.format(tlf_path, str(datetime.now().date())))"
   ]
  },
  {
   "cell_type": "code",
   "execution_count": null,
   "id": "6387dd09-56f8-465e-9f70-81a1e4512697",
   "metadata": {},
   "outputs": [],
   "source": [
    "continous_vars =  ['Varroa Log Ratio Honeybee', 'logit_recap_inf', 'raw_mnr']\n",
    "distance = 'jaccard'\n",
    "plot_clustermap(jaccard_df, pheno_df, continous_vars, var2cmap, distance, figsize=(12, 8))"
   ]
  },
  {
   "cell_type": "markdown",
   "id": "9f4e819b-76fe-4850-a206-cf101a5fba61",
   "metadata": {},
   "source": [
    "### PCoA"
   ]
  },
  {
   "cell_type": "code",
   "execution_count": null,
   "id": "62e0c40a-42ed-427a-bec7-8ea14ee7654b",
   "metadata": {},
   "outputs": [],
   "source": [
    "jaccard_dm = DistanceMatrix(squareform(pdist(jaccard_df, metric='jaccard')), ids=jaccard_df.index)\n",
    "\n",
    "pcoa_results = pcoa(jaccard_dm)\n",
    "\n",
    "sns.barplot(pcoa_results.proportion_explained[:10])"
   ]
  },
  {
   "cell_type": "code",
   "execution_count": null,
   "id": "30566cf7-925d-45e7-b7b9-ec5858839651",
   "metadata": {},
   "outputs": [],
   "source": [
    "# jaccard_df.to_csv('{}{}_BeeStrong_species_presences_absences.csv'.format(tlf_path, str(datetime.now().date())), index=True)\n",
    "\n",
    "# pd.read_csv('{}{}_BeeStrong_species_presences_absences.csv'.format(tlf_path, str(datetime.now().date())))"
   ]
  },
  {
   "cell_type": "code",
   "execution_count": null,
   "id": "8241bdd4-9a8b-4602-8ee8-cc14bf36b6bf",
   "metadata": {},
   "outputs": [],
   "source": [
    "pc_nr = 5\n",
    "pca_df = pd.merge(pheno_df, pd.DataFrame(pcoa_results.samples.values[:, :pc_nr], columns=['PC{}'.format(i + 1) for i in range(pc_nr)], index=jaccard_dm.ids).reset_index().rename(columns={'index':'Colony'}), on='Colony')\n",
    "\n",
    "pca_melt_df = pd.melt(pca_df, id_vars=list(pca_df.columns[:-5]), value_vars=list(pca_df.columns[-5:]), var_name = 'PC', value_name='PC_value')"
   ]
  },
  {
   "cell_type": "code",
   "execution_count": null,
   "id": "9eddf538-e7e4-4fee-bb6c-9148a643d706",
   "metadata": {},
   "outputs": [],
   "source": [
    "sns.set_style('whitegrid')\n",
    "plt.figure(figsize=(8, 8))\n",
    "x='PC2'\n",
    "y='PC5'\n",
    "sns.scatterplot(data=pca_df, x=x, y=y, hue='logit_recap_inf')\n",
    "plt.xlabel(x, fontsize=14)\n",
    "plt.ylabel(y, fontsize=14)\n",
    "plt.xticks(fontsize=14)\n",
    "plt.yticks(fontsize=14)\n",
    "plt.legend(fontsize=14)\n",
    "plt.legend(bbox_to_anchor=(1.05, 1), loc='upper left', borderaxespad=0.)\n",
    "plt.show()"
   ]
  },
  {
   "cell_type": "code",
   "execution_count": null,
   "id": "740c3a36-b529-4aef-a165-52a908244810",
   "metadata": {},
   "outputs": [],
   "source": [
    "variables = ['region', 'group', 'year', 'month']\n",
    "for v in variables:\n",
    "    g = sns.FacetGrid(pca_melt_df, col='PC', col_wrap=5, height=3, aspect=1)\n",
    "    g.map(sns.boxplot,v,'PC_value')\n",
    "    g.set_titles(\"{col_name}\")"
   ]
  },
  {
   "cell_type": "code",
   "execution_count": null,
   "id": "ad614155-fe7f-4f45-afd7-d837e6074ce5",
   "metadata": {},
   "outputs": [],
   "source": [
    "variables = [\n",
    "    # 'group',\n",
    "    # 'year',\n",
    "    # 'month', \n",
    "    'percent_Ligustica_Carnica',\n",
    "    'percent_Mellifera',\n",
    "    'percent_Caucasica',\n",
    "    'v_pho',\n",
    "    'v_mito',\n",
    "    'pca1',\n",
    "    'recap_inf',\n",
    "    'logit_recap_inf',\n",
    "    'percent_mnr',\n",
    "    'raw_mnr',\n",
    "    'eb_mmr',\n",
    "    'Varroa relative abundance'\n",
    "]\n",
    "\n",
    "for v in variables:\n",
    "    g = sns.FacetGrid(pca_melt_df, col='PC', col_wrap=5, height=3, aspect=1)\n",
    "    g.map(sns.regplot,'PC_value',v,scatter_kws={'s':4})\n",
    "    g.set_titles(\"{col_name}\")"
   ]
  },
  {
   "cell_type": "markdown",
   "id": "4b0ce71e-f53b-4f71-8b4c-4e0bffc8f739",
   "metadata": {},
   "source": [
    "### Varroa-associated taxa"
   ]
  },
  {
   "cell_type": "code",
   "execution_count": null,
   "id": "319dc062-70b5-48c4-b15a-521d3310d608",
   "metadata": {
    "scrolled": true
   },
   "outputs": [],
   "source": [
    "# perform correlation tests on log transformed ratio to honeybees \n",
    "jaccard_pheno_df = jaccard_df.merge(pheno_df, on='Colony')\n",
    "jaccard_pheno_df['Shuffled Varroa Log Ratio Honeybee'] = random.sample(jaccard_pheno_df['Varroa Log Ratio Honeybee'].to_list(), len(jaccard_pheno_df))\n",
    "jaccard_pheno_df"
   ]
  },
  {
   "cell_type": "code",
   "execution_count": null,
   "id": "aec032bc-b36b-4273-b261-00f467169172",
   "metadata": {
    "scrolled": true
   },
   "outputs": [],
   "source": [
    "y_variables = ['Varroa Log Ratio Honeybee', 'Shuffled Varroa Log Ratio Honeybee']\n",
    "min_colony_nr = 5\n",
    "con_methods = []\n",
    "cat_methods = ['tt']\n",
    "\n",
    "pv_df = get_pv_df(jaccard_pheno_df, jaccard_df, y_variables, min_colony_nr, con_methods, cat_methods, lod)\n",
    "pv_df"
   ]
  },
  {
   "cell_type": "code",
   "execution_count": null,
   "id": "a638978a-1b9a-4b1d-a3a3-a29255cbbb4f",
   "metadata": {},
   "outputs": [],
   "source": [
    "for method in cat_methods:\n",
    "    for y_name in y_variables:\n",
    "        sns.histplot(data=pv_df[(pv_df['Y variable'] == y_name) & (pv_df['Method'] == method)], x='P-value', bins=100)\n",
    "        plt.title('{} {}'.format(y_name, method))\n",
    "        plt.show()"
   ]
  },
  {
   "cell_type": "code",
   "execution_count": null,
   "id": "102429e0-d8e1-4e9b-90fd-0c511e9cb494",
   "metadata": {},
   "outputs": [],
   "source": [
    "fdr_df = get_fdr_df(pv_df, y_variables, cat_methods + con_methods)\n",
    "fdr_df"
   ]
  },
  {
   "cell_type": "code",
   "execution_count": null,
   "id": "ef41c698-694b-4748-a6c4-b91a93f9683f",
   "metadata": {
    "scrolled": true
   },
   "outputs": [],
   "source": [
    "y_name = 'Varroa Log Ratio Honeybee'\n",
    "for sp in fdr_df[(fdr_df['Y variable'] == y_name) & (fdr_df['Method'] == 'tt') & (fdr_df['FDR'] <= 0.1)].sort_values('FDR')['Species']:\n",
    "    x = jaccard_pheno_df[jaccard_pheno_df[sp] >= lod][y_name].to_numpy()\n",
    "    y = jaccard_pheno_df[jaccard_pheno_df[sp] < lod][y_name].to_numpy()\n",
    "    plt.boxplot([x, y], tick_labels=['Presence (n={})'.format(len(x)), 'Absence (n={})'.format(len(y))])\n",
    "    plt.ylabel(y_name)\n",
    "    plt.title(sp)\n",
    "    plt.show()"
   ]
  },
  {
   "cell_type": "code",
   "execution_count": null,
   "id": "cc196659-8161-4345-aff0-4e9a35fe3c98",
   "metadata": {},
   "outputs": [],
   "source": [
    "jaccard_sig_df = symbio_df[symbio_df['Taxon'].isin(fdr_df[fdr_df['FDR'] < 0.1]['Species'])].pivot(index='Colony', columns='Taxon', values='Relative abundance').map(lambda x: 1 if x > 0 else x).fillna(0).reset_index()\n",
    "jaccard_sig_df[jaccard_sig_df.columns[1:]] = jaccard_sig_df.iloc[:, 1:].astype(int)\n",
    "print(jaccard_sig_df.shape)"
   ]
  },
  {
   "cell_type": "code",
   "execution_count": null,
   "id": "c6b89f4c-70e0-4181-9e60-3197b9ada362",
   "metadata": {},
   "outputs": [],
   "source": [
    "jaccard_sig_df"
   ]
  },
  {
   "cell_type": "markdown",
   "id": "48d92cbe-6663-44ce-baf9-5b45b3bd6843",
   "metadata": {},
   "source": [
    "#### stats"
   ]
  },
  {
   "cell_type": "code",
   "execution_count": null,
   "id": "0d76afd4-a10b-4dda-8ae1-e14f504209d9",
   "metadata": {},
   "outputs": [],
   "source": [
    "for group in groups:\n",
    "    print(group, filter_group_pivot_df(jaccard_sig_df, set([group]), taxon2group).shape[1] -1)"
   ]
  },
  {
   "cell_type": "code",
   "execution_count": null,
   "id": "8f4b7746-98b3-44d2-963d-ab9d70d00f89",
   "metadata": {},
   "outputs": [],
   "source": [
    "fdr_df = fdr_df.rename(columns={'Species': 'Family'})\n",
    "fdr_df.insert(1, 'Group', [taxon2group[x] for x in fdr_df['Family']])\n",
    "fdr_df"
   ]
  },
  {
   "cell_type": "code",
   "execution_count": null,
   "id": "0ffd7dfa-f422-49f1-b5ce-73ba6b73230b",
   "metadata": {},
   "outputs": [],
   "source": [
    "y_name = 'Varroa Log Ratio Honeybee'\n",
    "method = 'tt'\n",
    "\n",
    "a =fdr_df[(fdr_df['Y variable'] == y_name) & (fdr_df['Method'] == method) & (fdr_df['Stat'] > 0) & (fdr_df['FDR'] <= 0.1)]\n",
    "b =fdr_df[(fdr_df['Y variable'] == y_name) & (fdr_df['Method'] == method) & (fdr_df['Stat'] < 0) & (fdr_df['FDR'] <= 0.1)]"
   ]
  },
  {
   "cell_type": "code",
   "execution_count": null,
   "id": "1d987eac-d470-4c83-a5eb-a9949807ef77",
   "metadata": {},
   "outputs": [],
   "source": [
    "print(len(a))\n",
    "print(len(b))"
   ]
  },
  {
   "cell_type": "code",
   "execution_count": null,
   "id": "ec251b0b-a0de-414a-81ac-40aed3a6a7e6",
   "metadata": {
    "scrolled": true
   },
   "outputs": [],
   "source": [
    "x = a\n",
    "print(x.shape)\n",
    "x.sort_values('FDR', ascending=True)[['Family', 'Group', 'FDR']]"
   ]
  },
  {
   "cell_type": "code",
   "execution_count": null,
   "id": "1ce9f56f-5033-4411-9114-851e6588b437",
   "metadata": {
    "scrolled": true
   },
   "outputs": [],
   "source": [
    "x = b\n",
    "print(x.shape)\n",
    "x.sort_values('FDR', ascending=True)[['Family', 'Group', 'FDR']]"
   ]
  },
  {
   "cell_type": "markdown",
   "id": "7cf7b590-fcce-4d4e-a836-e250baccbf99",
   "metadata": {},
   "source": [
    "#### heatmap"
   ]
  },
  {
   "cell_type": "code",
   "execution_count": null,
   "id": "0de773b0-61fd-4721-823d-e0467822f140",
   "metadata": {},
   "outputs": [],
   "source": [
    "continous_vars =  ['Varroa Log Ratio Honeybee']\n",
    "distance = 'jaccard'\n",
    "plot_clustermap(jaccard_sig_df, pheno_df, continous_vars, var2cmap, distance, figsize=(12, 10))"
   ]
  },
  {
   "cell_type": "code",
   "execution_count": null,
   "id": "1838edcb-1aa0-482b-b652-8dedd8ad88c4",
   "metadata": {},
   "outputs": [],
   "source": [
    "plot_clustermap(filter_group_pivot_df(jaccard_sig_df, 'Bacteria', taxon2group), pheno_df, continous_vars, var2cmap, distance, figsize=(12, 8))"
   ]
  },
  {
   "cell_type": "code",
   "execution_count": null,
   "id": "07bc22b2-54a0-4689-9f6c-77131a7f9a1e",
   "metadata": {},
   "outputs": [],
   "source": [
    "plot_clustermap(filter_group_pivot_df(jaccard_sig_df, 'Embryophyta', taxon2group), pheno_df, continous_vars, var2cmap, distance, figsize=(12, 8))"
   ]
  },
  {
   "cell_type": "markdown",
   "id": "f83287a2-fb58-47aa-9282-84648cc3d95b",
   "metadata": {},
   "source": [
    "#### PCoA"
   ]
  },
  {
   "cell_type": "code",
   "execution_count": null,
   "id": "f88f18f4-012f-4a6b-ac79-9ec25535e7c9",
   "metadata": {},
   "outputs": [],
   "source": [
    "pivot_df = jaccard_sig_df\n",
    "\n",
    "distance_matrix = DistanceMatrix(squareform(pdist(pivot_df, metric='jaccard')), ids=pivot_df.index)\n",
    "pcoa_results = pcoa(distance_matrix)\n",
    "sns.barplot(pcoa_results.proportion_explained[:10])"
   ]
  },
  {
   "cell_type": "code",
   "execution_count": null,
   "id": "ad6943ec-5f00-4528-b459-ea203c608b38",
   "metadata": {},
   "outputs": [],
   "source": [
    "pc_nr = 5\n",
    "pca_df = pd.merge(pheno_df, pd.DataFrame(pcoa_results.samples.values[:, :pc_nr], columns=['PC{}'.format(i + 1) for i in range(pc_nr)], index=distance_matrix.ids).reset_index().rename(columns={'index':'Colony'}), on='Colony')\n",
    "\n",
    "pca_melt_df = pd.melt(pca_df, id_vars=list(pca_df.columns[:-5]), value_vars=list(pca_df.columns[-5:]), var_name = 'PC', value_name='PC_value')"
   ]
  },
  {
   "cell_type": "code",
   "execution_count": null,
   "id": "d8b63ac3-ec04-4bb6-959d-742bb928c574",
   "metadata": {},
   "outputs": [],
   "source": [
    "sns.set_style('whitegrid')\n",
    "plt.figure(figsize=(8, 8))\n",
    "x='PC1'\n",
    "y='PC2'\n",
    "sns.scatterplot(data=pca_df, x=x, y=y, hue='Varroa Log Ratio Honeybee')\n",
    "plt.xlabel(x, fontsize=14)\n",
    "plt.ylabel(y, fontsize=14)\n",
    "plt.xticks(fontsize=14)\n",
    "plt.yticks(fontsize=14)\n",
    "plt.legend(fontsize=14)\n",
    "plt.legend(bbox_to_anchor=(1.05, 1), loc='upper left', borderaxespad=0.)\n",
    "plt.show()"
   ]
  },
  {
   "cell_type": "code",
   "execution_count": null,
   "id": "684823fb-9bc9-4e9b-958e-5a3df8d8c5db",
   "metadata": {},
   "outputs": [],
   "source": [
    "variables = [\n",
    "    'v_pho',\n",
    "    'v_mito',\n",
    "    'pca1',\n",
    "    'recap_inf',\n",
    "    'logit_recap_inf',\n",
    "    'percent_mnr',\n",
    "    'raw_mnr',\n",
    "    'eb_mmr',\n",
    "    'Varroa relative abundance',\n",
    "    'Varroa Log Ratio Honeybee'\n",
    "]\n",
    "for v in variables:\n",
    "    g = sns.FacetGrid(pca_melt_df, col='PC', col_wrap=5, height=3, aspect=1)\n",
    "    g.map(sns.regplot,'PC_value',v,scatter_kws={'s':4})\n",
    "    g.set_titles(\"{col_name}\")"
   ]
  },
  {
   "cell_type": "markdown",
   "id": "fe8fff7c-1dc1-4b8e-8466-5f4343f1132a",
   "metadata": {},
   "source": [
    "## Varroa-associated families [TO MERGE WITH ABOVE SECTIONS]"
   ]
  },
  {
   "cell_type": "code",
   "execution_count": null,
   "id": "b7aaa15b-3360-47f0-a822-d993c726a6a4",
   "metadata": {},
   "outputs": [],
   "source": [
    "# perform correlation tests on log transformed ratio to honeybees \n",
    "aitchison_df = symbio_df.pivot(index='Colony', columns='Taxon', values='Log Ratio Honeybee').fillna(np.log(1e-06)).reset_index()\n",
    "print(aitchison_df.shape)\n",
    "\n",
    "aitchison_pheno_df = aitchison_df.merge(pheno_df, on='Colony')\n",
    "aitchison_pheno_df['Shuffled Varroa relative abundance'] = random.sample(aitchison_pheno_df['Varroa relative abundance'].to_list(), len(aitchison_pheno_df))\n",
    "aitchison_pheno_df['Shuffled Varroa Log Ratio Honeybee'] = random.sample(aitchison_pheno_df['Varroa Log Ratio Honeybee'].to_list(), len(aitchison_pheno_df))\n",
    "aitchison_pheno_df"
   ]
  },
  {
   "cell_type": "markdown",
   "id": "83d22922-c096-446f-9e16-9c3749563380",
   "metadata": {},
   "source": [
    "### P-value distributions"
   ]
  },
  {
   "cell_type": "code",
   "execution_count": null,
   "id": "7cf723af-641f-4fcf-a9eb-c58d730eb23d",
   "metadata": {},
   "outputs": [],
   "source": [
    "y_variables = ['Varroa Log Ratio Honeybee', 'Shuffled Varroa Log Ratio Honeybee', 'Varroa relative abundance', 'Shuffled Varroa relative abundance', 'bee_weigth', 'nbr_open_brood']\n",
    "min_colony_nr = 5\n",
    "con_methods = ['pearson']\n",
    "cat_methods = ['tt']\n",
    "lod = 5e-06\n",
    "\n",
    "pv_df = get_pv_df(aitchison_pheno_df, aitchison_df, y_variables, min_colony_nr, con_methods, cat_methods, np.log(lod))\n",
    "pv_df"
   ]
  },
  {
   "cell_type": "code",
   "execution_count": null,
   "id": "3bbb4bd6-14c7-4346-bb18-8579d62ad748",
   "metadata": {
    "scrolled": true
   },
   "outputs": [],
   "source": [
    "for method in con_methods:\n",
    "    for y_name in y_variables:\n",
    "        sns.histplot(data=pv_df[(pv_df['Y variable'] == y_name) & (pv_df['Method'] == method)], x='P-value', bins=100)\n",
    "        plt.title('{} {}'.format(y_name, method))\n",
    "        plt.show()"
   ]
  },
  {
   "cell_type": "code",
   "execution_count": null,
   "id": "44895cec-b27b-4b63-a1d4-01bc6761e569",
   "metadata": {
    "scrolled": true
   },
   "outputs": [],
   "source": [
    "for method in cat_methods:\n",
    "    for y_name in y_variables:\n",
    "        sns.histplot(data=pv_df[(pv_df['Y variable'] == y_name) & (pv_df['Method'] == method)], x='P-value', bins=100)\n",
    "        plt.title('{} {}'.format(y_name, method))\n",
    "        plt.show()"
   ]
  },
  {
   "cell_type": "code",
   "execution_count": null,
   "id": "24f9278d-0ce6-4cda-96cc-bdba26a5b79f",
   "metadata": {},
   "outputs": [],
   "source": [
    "pv_df[(pv_df['Y variable'] == 'bee_weigth') & (pv_df['Method'] == 'pearson')].sort_values('P-value')[:10]"
   ]
  },
  {
   "cell_type": "code",
   "execution_count": null,
   "id": "a2c7ebd2-aa08-4ddf-8b5f-1943d52df12d",
   "metadata": {},
   "outputs": [],
   "source": [
    "pv_df[(pv_df['Y variable'] == 'nbr_open_brood') & (pv_df['Method'] == 'pearson')].sort_values('P-value')[:10]"
   ]
  },
  {
   "cell_type": "markdown",
   "id": "930f7c49-6cde-4d97-829e-c864a66f3810",
   "metadata": {},
   "source": [
    "### FDR"
   ]
  },
  {
   "cell_type": "code",
   "execution_count": null,
   "id": "6536bfc1-fe16-430e-a8f8-88416ff0d7ff",
   "metadata": {},
   "outputs": [],
   "source": [
    "y_variables = ['Varroa Log Ratio Honeybee']\n",
    "methods = ['pearson', 'tt']\n",
    "\n",
    "fdr_df = get_fdr_df(pv_df, y_variables, methods)"
   ]
  },
  {
   "cell_type": "code",
   "execution_count": null,
   "id": "35ad30b8-b804-495e-8aa7-4e80239e7d81",
   "metadata": {},
   "outputs": [],
   "source": [
    "# intersection methods\n",
    "plt.figure(figsize=(6, 6))\n",
    "set1 = set(fdr_df[(fdr_df['Y variable'] == 'Varroa Log Ratio Honeybee') & (fdr_df['Method'] == 'pearson') & (fdr_df['FDR'] <= 0.1)]['Species'])\n",
    "set2 = set(fdr_df[(fdr_df['Y variable'] == 'Varroa Log Ratio Honeybee') & (fdr_df['Method'] == 'tt') & (fdr_df['FDR'] <= 0.1)]['Species'])\n",
    "venn2([set1, set2], set_labels=('pearson', 'tt'))\n",
    "plt.show()"
   ]
  },
  {
   "cell_type": "code",
   "execution_count": null,
   "id": "d6bad85c-e414-4864-8dd3-1c679508c285",
   "metadata": {
    "scrolled": true
   },
   "outputs": [],
   "source": [
    "y_name = 'Varroa Log Ratio Honeybee'\n",
    "for sp in fdr_df[(fdr_df['Y variable'] == y_name) & (fdr_df['Method'] == 'pearson') & (fdr_df['FDR'] <= 0.1)].sort_values('FDR')['Species']:\n",
    "    f = symbio_pheno_df[sp] > np.log(lod)\n",
    "    sns.regplot(data=symbio_pheno_df[f], x=sp, y=y_name)\n",
    "    plt.show()"
   ]
  },
  {
   "cell_type": "code",
   "execution_count": null,
   "id": "b99f5838-3208-4802-8ad5-1ab7758a5ed6",
   "metadata": {
    "scrolled": true
   },
   "outputs": [],
   "source": [
    "y_name = 'Varroa Log Ratio Honeybee'\n",
    "for sp in fdr_df[(fdr_df['Y variable'] == y_name) & (fdr_df['Method'] == 'tt') & (fdr_df['FDR'] <= 0.1)].sort_values('FDR')['Species']:\n",
    "    x = symbio_pheno_df[symbio_pheno_df[sp] >= np.log(lod)][y_name].to_numpy()\n",
    "    y = symbio_pheno_df[symbio_pheno_df[sp] < np.log(lod)][y_name].to_numpy()\n",
    "    plt.boxplot([x, y], tick_labels=['Presence (n={})'.format(len(x)), 'Absence (n={})'.format(len(y))])\n",
    "    plt.ylabel(y_name)\n",
    "    plt.title(sp)\n",
    "    plt.show()"
   ]
  },
  {
   "cell_type": "markdown",
   "id": "f519ac20-bf05-4bba-a088-a9ad1ca419bb",
   "metadata": {},
   "source": [
    "### Abundance Aitchison Log Ratio Honeybee"
   ]
  },
  {
   "cell_type": "code",
   "execution_count": null,
   "id": "20a1db60-00f2-4c72-b2a1-404dae38566b",
   "metadata": {},
   "outputs": [],
   "source": [
    "aitchison_df = symbio_df[symbio_df['Taxon'].isin(set(fdr_df[(fdr_df['Y variable'] == 'Varroa Log Ratio Honeybee') & (fdr_df['Method'] == 'pearson') & (fdr_df['FDR'] < 0.1)]['Species']))].pivot(\n",
    "    index='Colony', columns='Taxon', values='Log Ratio Honeybee').fillna(np.log(1e-06)).reset_index()\n",
    "print(aitchison_df.shape)\n",
    "aitchison_df"
   ]
  },
  {
   "cell_type": "code",
   "execution_count": null,
   "id": "8c099bfc-e4da-4f65-b21b-a9da8d4a5952",
   "metadata": {},
   "outputs": [],
   "source": [
    "# add metadata and reset indexes\n",
    "pheno_aitchison_df = pd.merge(pheno_df, aitchison_df, on='Colony')\n",
    "aitchison_df = aitchison_df.set_index('Colony')\n",
    "pheno_aitchison_df = pheno_aitchison_df.set_index('Colony')"
   ]
  },
  {
   "cell_type": "code",
   "execution_count": null,
   "id": "7bd30919-548e-4846-bd17-be1092b6fa5c",
   "metadata": {},
   "outputs": [],
   "source": [
    "pheno_aitchison_df.columns"
   ]
  },
  {
   "cell_type": "code",
   "execution_count": null,
   "id": "a11ec180-8deb-4971-9938-9084c40f04e6",
   "metadata": {},
   "outputs": [],
   "source": [
    "color_dict = {}\n",
    "discrete_vars = ['group', 'year', 'month', 'region']\n",
    "continous_vars =  ['Varroa relative abundance', 'logit_recap_inf', 'raw_mnr', 'Total read nr', 'Varroa Log Ratio Honeybee']\n",
    "\n",
    "for var in discrete_vars:\n",
    "    values = pheno_aitchison_df[var]\n",
    "    cmap = dict(zip(values.unique(), [x.upper() for x in list(sns.color_palette('husl', n_colors=len(values.unique())).as_hex())]))\n",
    "    color_dict[var] =  values.map(cmap)\n",
    "\n",
    "for var in continous_vars:\n",
    "    values = pheno_aitchison_df[var]\n",
    "    normalized_values = np.interp(values, (min(values), max(values)), (0, 1))\n",
    "    cmap = plt.get_cmap('viridis')\n",
    "    hex_colors = [mcolors.to_hex(cmap(val)) for val in normalized_values]\n",
    "    color_dict[var] =  hex_colors\n",
    "    \n",
    "row_colors = pd.DataFrame(color_dict)"
   ]
  },
  {
   "cell_type": "code",
   "execution_count": null,
   "id": "0191f9bb-643e-4376-9cba-00e63e3b66c8",
   "metadata": {},
   "outputs": [],
   "source": [
    "plt.figure(figsize=(30, 24))\n",
    "cg=sns.clustermap(aitchison_df, metric='euclidean', row_colors=row_colors, xticklabels=1)\n",
    "cg.cax.set_visible(True)\n",
    "plt.show()"
   ]
  },
  {
   "cell_type": "markdown",
   "id": "adedcd05-89e8-40de-9b3f-21a84739c1c3",
   "metadata": {},
   "source": [
    "### Abundance Bray-Curtis"
   ]
  },
  {
   "cell_type": "code",
   "execution_count": null,
   "id": "7dcfd1c6-3934-4b2f-b95e-49a50c771cef",
   "metadata": {},
   "outputs": [],
   "source": [
    "braycurtis_df = symbio_df[symbio_df['Taxon'].isin(set(fdr_df[(fdr_df['Y variable'] == 'Varroa Log Ratio Honeybee') & (fdr_df['Method'] == 'pearson') & (fdr_df['FDR'] < 0.1)]['Species']))].pivot(\n",
    "    index='Colony', columns='Taxon', values='Relative abundance').fillna(0).reset_index()\n",
    "print(braycurtis_df.shape)\n",
    "braycurtis_df"
   ]
  },
  {
   "cell_type": "markdown",
   "id": "0b4b45e7-e909-4466-8a22-dae3d2207457",
   "metadata": {},
   "source": [
    "### Presence/absence Jaccard"
   ]
  },
  {
   "cell_type": "markdown",
   "id": "5c689c5e-fec7-407d-8726-6a3e82d8ab0b",
   "metadata": {},
   "source": [
    "For families whose presence correlates with change in varroa abundance"
   ]
  },
  {
   "cell_type": "code",
   "execution_count": null,
   "id": "1fa25df9-cf04-4396-84a4-08eb4c06d8d1",
   "metadata": {},
   "outputs": [],
   "source": [
    "jaccard_df = symbio_df[symbio_df['Taxon'].isin(set(fdr_df[(fdr_df['Y variable'] == 'Varroa Log Ratio Honeybee') & (fdr_df['Method'] == 'tt') & (fdr_df['FDR'] < 0.1)]['Species']))].pivot(\n",
    "    index='Colony', columns='Taxon', values='Log Ratio Honeybee').map(lambda x: 1 if x >= np.log(lod) else x).fillna(0).reset_index()\n",
    "print(jaccard_df.shape)\n",
    "jaccard_df"
   ]
  },
  {
   "cell_type": "code",
   "execution_count": null,
   "id": "4c53dc50-b5e2-4c96-b2e9-8deac304a2e1",
   "metadata": {},
   "outputs": [],
   "source": [
    "# add metadata and reset indexes\n",
    "pheno_jaccard_df = pd.merge(pheno_df, jaccard_df, on='Colony')\n",
    "jaccard_df = jaccard_df.set_index('Colony')\n",
    "pheno_jaccard_df = pheno_jaccard_df.set_index('Colony')"
   ]
  },
  {
   "cell_type": "code",
   "execution_count": null,
   "id": "2d4e7174-07e6-4b71-8918-8a7328d45c0f",
   "metadata": {},
   "outputs": [],
   "source": [
    "color_dict = {}\n",
    "discrete_vars = ['group', 'year', 'month', 'region']\n",
    "continous_vars =  ['Varroa relative abundance', 'logit_recap_inf', 'raw_mnr', 'Total read nr']\n",
    "\n",
    "for var in discrete_vars:\n",
    "    values = pheno_jaccard_df[var]\n",
    "    cmap = dict(zip(values.unique(), [x.upper() for x in list(sns.color_palette('husl', n_colors=len(values.unique())).as_hex())]))\n",
    "    color_dict[var] =  values.map(cmap)\n",
    "\n",
    "for var in continous_vars:\n",
    "    values = pheno_jaccard_df[var]\n",
    "    normalized_values = np.interp(values, (min(values), max(values)), (0, 1))\n",
    "    cmap = plt.get_cmap('viridis')\n",
    "    hex_colors = [mcolors.to_hex(cmap(val)) for val in normalized_values]\n",
    "    color_dict[var] =  hex_colors\n",
    "    \n",
    "row_colors = pd.DataFrame(color_dict)"
   ]
  },
  {
   "cell_type": "code",
   "execution_count": null,
   "id": "2f88774d-62f3-49fc-bf5d-57c6a0949a99",
   "metadata": {},
   "outputs": [],
   "source": [
    "plt.figure(figsize=(30, 24))\n",
    "cg=sns.clustermap(jaccard_df, metric='euclidean', row_colors=row_colors, xticklabels=1)\n",
    "cg.cax.set_visi ble(True)\n",
    "plt.show()"
   ]
  },
  {
   "cell_type": "markdown",
   "id": "d54de10c-e955-4e47-b121-f2a4c905a207",
   "metadata": {},
   "source": [
    "# Bracken Species-level"
   ]
  },
  {
   "cell_type": "code",
   "execution_count": null,
   "id": "ef6f1ccc-cec4-4a36-a1e5-b0b8c28ae423",
   "metadata": {},
   "outputs": [],
   "source": [
    "level = 'S'\n",
    "level_name = 'Species'\n",
    "lod = 5e-06"
   ]
  },
  {
   "cell_type": "markdown",
   "id": "bfa32815-1062-4756-bd7b-942b0433deea",
   "metadata": {},
   "source": [
    "## Classification of key taxonomic levels"
   ]
  },
  {
   "cell_type": "code",
   "execution_count": null,
   "id": "71ffdc73-f60e-446d-9e87-fb60a4dadbd3",
   "metadata": {},
   "outputs": [],
   "source": [
    "class_df = get_class_df(bs_ids, level, group_name2taxid, kraken2_path, bracken_path, bowtie2_path)"
   ]
  },
  {
   "cell_type": "code",
   "execution_count": null,
   "id": "1b9eade6-a7b2-40d7-a42f-2eae3668c0ae",
   "metadata": {},
   "outputs": [],
   "source": [
    "fig = px.bar(class_df[class_df['Category'].isin(categories)], x=\"Colony\", y=\"Relative abundance\", color=\"Category\",\n",
    "            hover_data=['Category'], barmode = 'stack', color_discrete_map=cmap, category_orders={\"Category\": categories})\n",
    "fig.update_layout(\n",
    "    autosize=False,\n",
    "    width=1000,\n",
    "    height=700,\n",
    "    xaxis={'title': {'font': {'size': 18}}},\n",
    "    yaxis={'title': {'font': {'size': 18}}},\n",
    "    legend={'font': {'size': 16}}\n",
    ")\n",
    "fig.show()"
   ]
  },
  {
   "cell_type": "code",
   "execution_count": null,
   "id": "c17df1b5-d255-4e4e-86eb-8deda3e52671",
   "metadata": {},
   "outputs": [],
   "source": [
    "plt.figure(figsize=(8, 6))\n",
    "ax = sns.boxplot(data=class_df[class_df['Category'].isin(categories)], x='Category', y='Relative abundance', palette=cmap, \n",
    "            showmeans=True, meanprops={\"marker\":\"o\", \"markerfacecolor\":\"red\", \"markeredgecolor\":\"black\", \"markersize\":\"5\"}, order=categories)\n",
    "\n",
    "ax.set_yscale(\"log\")\n",
    "plt.xticks(rotation=90)\n",
    "plt.tight_layout()\n",
    "plt.show()"
   ]
  },
  {
   "cell_type": "markdown",
   "id": "690c9e5e-0e98-4561-aa36-3f07fb05ab09",
   "metadata": {},
   "source": [
    "## Symbiosphere "
   ]
  },
  {
   "cell_type": "code",
   "execution_count": null,
   "id": "de3a19cf-ba96-42d9-aaa6-7af34a6740c8",
   "metadata": {},
   "outputs": [],
   "source": [
    "taxid2parent_group, brack_df = get_brack_df(bs_ids, level, bowtie2_path, kraken2_path, bracken_path, group_taxid2name)\n",
    "brack_df"
   ]
  },
  {
   "cell_type": "code",
   "execution_count": null,
   "id": "095b740e-b56f-4887-93a9-53fc81f16da1",
   "metadata": {},
   "outputs": [],
   "source": [
    "# current definition of symbiosphere constituents (everything but metazoa basically)\n",
    "lod = 5e-06\n",
    "f = brack_df['Group'].isin({'Viruses', 'Bacteria', 'Archaea', 'Fungi', 'Other Eukaryota', 'Embryophyta'})\n",
    "symbio_df = brack_df[f & (brack_df['Relative abundance'] >= lod)]"
   ]
  },
  {
   "cell_type": "code",
   "execution_count": null,
   "id": "772a5de4-94e9-43b7-bf0e-8194304b8476",
   "metadata": {},
   "outputs": [],
   "source": [
    "# get core symbiosphere\n",
    "min_prev = 0.2\n",
    "prev_df = get_prev_df(symbio_df, taxid2parent_group, lod)\n",
    "core_symbio_df = symbio_df[symbio_df['Taxon'].isin(prev_df[prev_df['Prevalence'] >= min_prev]['Taxon'])]\n",
    "core_symbio_df"
   ]
  },
  {
   "cell_type": "code",
   "execution_count": null,
   "id": "3198149d-4bbc-4ac8-a3ab-06955c56ea3e",
   "metadata": {},
   "outputs": [],
   "source": [
    "print_group_richness(brack_df, lod, categories)"
   ]
  },
  {
   "cell_type": "code",
   "execution_count": null,
   "id": "b5f8e9bf-ad32-4350-b09c-773b02752884",
   "metadata": {},
   "outputs": [],
   "source": [
    "print_group_richness(symbio_df, lod, categories)"
   ]
  },
  {
   "cell_type": "code",
   "execution_count": null,
   "id": "4a81683a-b113-481e-b3e8-ab54a45db903",
   "metadata": {},
   "outputs": [],
   "source": [
    "print_group_richness(core_symbio_df, lod, categories)"
   ]
  },
  {
   "cell_type": "markdown",
   "id": "255cb3c8-0c68-4969-956f-308e318bfed6",
   "metadata": {},
   "source": [
    "### Richness vs- library size"
   ]
  },
  {
   "cell_type": "code",
   "execution_count": null,
   "id": "4052a126-03c4-4fed-a15c-636f33563419",
   "metadata": {},
   "outputs": [],
   "source": [
    "lod = 5e-06\n",
    "# lod = 1e-05\n",
    "\n",
    "x = brack_df[(brack_df['Relative abundance'] >= 0)].groupby('Colony').agg({'Taxon' : ['count']})['Taxon']\n",
    "richness_df = pd.DataFrame({\n",
    "    'Colony' : x.index,\n",
    "    'Richness' : x['count']\n",
    "}).reset_index(drop=True).merge(pheno_df[['Colony', 'Total read nr']], how='inner')\n",
    "\n",
    "x = brack_df[(brack_df['Relative abundance'] >= lod)].groupby('Colony').agg({'Taxon' : ['count']})['Taxon']\n",
    "richness_df_lod = pd.DataFrame({\n",
    "    'Colony' : x.index,\n",
    "    'Richness' : x['count']\n",
    "}).reset_index(drop=True).merge(pheno_df[['Colony', 'Total read nr']], how='inner')\n",
    "\n",
    "fig, (ax1, ax2) = plt.subplots(1, 2, figsize=(15, 7.5))\n",
    "\n",
    "sns.regplot(data=richness_df, x='Total read nr', y='Richness', ax=ax1)\n",
    "ax1.set_title('no LoD, corr={}'.format(round(richness_df['Richness'].corr(richness_df['Total read nr']),ndigits=3)))\n",
    "\n",
    "sns.regplot(data=richness_df_lod, x='Total read nr', y='Richness', ax=ax2)\n",
    "ax2.set_title('LoD {}, corr={}'.format(lod, round(richness_df_lod['Richness'].corr(richness_df_lod['Total read nr']),ndigits=3)))\n",
    "\n",
    "plt.tight_layout()\n",
    "plt.show()"
   ]
  },
  {
   "cell_type": "code",
   "execution_count": null,
   "id": "28d34b87-3044-4c25-92f4-fe0a99d4dd4f",
   "metadata": {},
   "outputs": [],
   "source": [
    "for group in categories:\n",
    "    \n",
    "    x = brack_df[(brack_df['Group'] == group) & (brack_df['Relative abundance'] >= 0)].groupby('Colony').agg({'Taxon' : ['count']})['Taxon']\n",
    "    richness_df = pd.DataFrame({\n",
    "        'Colony' : x.index,\n",
    "        'Richness' : x['count']\n",
    "    }).reset_index(drop=True).merge(pheno_df[['Colony', 'Total read nr']], how='inner')\n",
    "    \n",
    "    x = brack_df[(brack_df['Group'] == group) & (brack_df['Relative abundance'] >= lod)].groupby('Colony').agg({'Taxon' : ['count']})['Taxon']\n",
    "    richness_df_lod = pd.DataFrame({\n",
    "        'Colony' : x.index,\n",
    "        'Richness' : x['count']\n",
    "    }).reset_index(drop=True).merge(pheno_df[['Colony', 'Total read nr']], how='inner')\n",
    "    \n",
    "    fig, (ax1, ax2) = plt.subplots(1, 2, figsize=(15, 7.5))\n",
    "    \n",
    "    sns.regplot(data=richness_df, x='Total read nr', y='Richness', ax=ax1)\n",
    "    ax1.set_title('{} no LoD, corr={}'.format(group, round(richness_df['Richness'].corr(richness_df['Total read nr']),ndigits=3)))\n",
    "    \n",
    "    sns.regplot(data=richness_df_lod, x='Total read nr', y='Richness', ax=ax2)\n",
    "    ax2.set_title('{} LoD {}, corr={}'.format(group, lod, round(richness_df_lod['Richness'].corr(richness_df_lod['Total read nr']),ndigits=3)))\n",
    "    \n",
    "    plt.tight_layout()\n",
    "    plt.show()"
   ]
  },
  {
   "cell_type": "markdown",
   "id": "f2544cd1-af64-4565-bdde-6e7e5fe7d0e5",
   "metadata": {},
   "source": [
    "### Prevalence vs. abundance of families"
   ]
  },
  {
   "cell_type": "code",
   "execution_count": null,
   "id": "30e940f4-68f5-4944-835b-013a91188b29",
   "metadata": {},
   "outputs": [],
   "source": []
  },
  {
   "cell_type": "code",
   "execution_count": null,
   "id": "d2fe40c8-47eb-49c5-9e6e-04a4900d07b9",
   "metadata": {},
   "outputs": [],
   "source": [
    "fig = px.scatter(prev_df[prev_df['Group'].isin(categories)], x='Prevalence', y='Median Relative Abundance', color='Group', hover_data=['Taxon'])\n",
    "fig.update_layout(\n",
    "    autosize=False,\n",
    "    width=1400,\n",
    "    height=1000,\n",
    "    xaxis={'title': {'font': {'size': 18}}},\n",
    "    yaxis={'title': {'font': {'size': 18}}},\n",
    "    legend={'font': {'size': 16}}\n",
    ")\n",
    "fig.update_yaxes(tickformat='.5f')\n",
    "fig.show()"
   ]
  },
  {
   "cell_type": "code",
   "execution_count": null,
   "id": "008b0eda-d08b-4b8d-8de6-d2fc9d55477b",
   "metadata": {},
   "outputs": [],
   "source": [
    "fig = px.scatter(prev_df[prev_df['Group'].isin(categories)], x='Prevalence', y='Median Relative Abundance', color='Group', hover_data=['Taxon'],  \n",
    "                 log_y=True, color_discrete_map=)\n",
    "fig.update_layout(\n",
    "    autosize=False,\n",
    "    width=1200,\n",
    "    height=800,\n",
    "    xaxis={'title': {'font': {'size': 20}}},\n",
    "    yaxis={'title': {'font': {'size': 20}}},\n",
    "    legend={'font': {'size': 20}}\n",
    ")\n",
    "fig.update_yaxes(tickformat='.6f')\n",
    "fig.show()"
   ]
  },
  {
   "cell_type": "markdown",
   "id": "cd42dfaa-f44a-4ddd-9cec-01bad1bd7467",
   "metadata": {},
   "source": [
    "### Relative abundance vs. Ratio"
   ]
  },
  {
   "cell_type": "code",
   "execution_count": null,
   "id": "c83bf547-0b13-4d70-9484-dc8bf49e822f",
   "metadata": {},
   "outputs": [],
   "source": [
    "symbio_df"
   ]
  },
  {
   "cell_type": "code",
   "execution_count": null,
   "id": "67a28dd6-0b5a-457c-b095-5fd55c0a10ef",
   "metadata": {},
   "outputs": [],
   "source": [
    "sns.scatterplot(symbio_df, x='Relative abundance', y='Ratio Honeybee', hue='Group')"
   ]
  },
  {
   "cell_type": "markdown",
   "id": "1a86f71d-0ba4-4310-8fe2-71d1b2a35c85",
   "metadata": {},
   "source": [
    "## Core taxa & Relative abundance"
   ]
  },
  {
   "cell_type": "code",
   "execution_count": null,
   "id": "e8e9e535-2167-44b5-add3-fcc802d8daaf",
   "metadata": {},
   "outputs": [],
   "source": [
    "core_relabund_df = core_symbio_df.pivot(index='Colony', columns='Taxon', values='Relative abundance').fillna(0).reset_index()\n",
    "print(core_relabund_df.shape)\n",
    "core_relabund_df"
   ]
  },
  {
   "cell_type": "code",
   "execution_count": null,
   "id": "037b7f6a-d256-43d6-a1fa-af339eab0af9",
   "metadata": {},
   "outputs": [],
   "source": [
    "# core_relabund_df.to_csv('{}{}_RelativeAbundance_Core_{}.csv'.format(tlf_path, str(datetime.now().date()), level_name), index=False)\n",
    "# pd.read_csv('{}{}_RelativeAbundance_Core_{}.csv'.format(tlf_path, str(datetime.now().date()), level_name))"
   ]
  },
  {
   "cell_type": "code",
   "execution_count": null,
   "id": "c0dfb0a8-eed0-4b74-8776-fcf38c99c85d",
   "metadata": {},
   "outputs": [],
   "source": [
    "# add metadata and reset indexes\n",
    "pheno_core_relabund_df = pd.merge(pheno_df, core_relabund_df, on='Colony')\n",
    "core_relabund_df = core_relabund_df.set_index('Colony')\n",
    "pheno_core_relabund_df = pheno_core_relabund_df.set_index('Colony')"
   ]
  },
  {
   "cell_type": "code",
   "execution_count": null,
   "id": "6e800c38-6fdb-4372-80b7-8bd8a02ccdf5",
   "metadata": {},
   "outputs": [],
   "source": [
    "discrete_vars = ['month', 'region']\n",
    "continous_vars =  ['Varroa Log Ratio Honeybee']\n",
    "\n",
    "row_colors = get_row_colors(pheno_core_relabund_df, discrete_vars, continous_vars, var2cmap)"
   ]
  },
  {
   "cell_type": "code",
   "execution_count": null,
   "id": "ebb7f5b1-3189-4de6-92e8-d5a936812b58",
   "metadata": {},
   "outputs": [],
   "source": [
    "cg=sns.clustermap(core_relabund_df, metric='braycurtis', row_colors=row_colors, xticklabels=1, figsize=(12, 10))\n",
    "cg.ax_row_colors.legend([Patch(facecolor=cmap_region[name]) for name in cmap_region], cmap_region, title='Region',bbox_to_anchor=(1, 1), bbox_transform=plt.gcf().transFigure, loc='upper left')\n",
    "plt.setp(cg.ax_heatmap.xaxis.get_majorticklabels(), fontsize=8)\n",
    "# cg.ax_row_colors.legend([Patch(facecolor=cmap_months[name]) for name in cmap_months], cmap_months, title='Month',bbox_to_anchor=(1, 0), bbox_transform=plt.gcf().transFigure, loc='lower left')\n",
    "cg.cax.set_visible(False)"
   ]
  },
  {
   "cell_type": "markdown",
   "id": "de9f3de9-0c92-4135-a027-aec3afc77704",
   "metadata": {},
   "source": [
    "### PCoA"
   ]
  },
  {
   "cell_type": "code",
   "execution_count": null,
   "id": "b755412b-db22-48e9-bf83-4a934127275a",
   "metadata": {},
   "outputs": [],
   "source": [
    "dist_matrix = beta_diversity('braycurtis', core_relabund_df)\n",
    "pcoa_results = pcoa(dist_matrix)\n",
    "sns.barplot(pcoa_results.proportion_explained[:10])"
   ]
  },
  {
   "cell_type": "code",
   "execution_count": null,
   "id": "16f8d0dd-7851-4c9c-b7e3-d1f3777639fb",
   "metadata": {},
   "outputs": [],
   "source": [
    "pc_nr = 5\n",
    "pca_df = pd.merge(pheno_df, pd.DataFrame(pcoa_results.samples.values[:, :pc_nr], columns=['PC{}'.format(i + 1) for i in range(pc_nr)], index=dist_matrix.ids).reset_index().rename(columns={'index':'Colony'}), on='Colony')\n",
    "pca_melt_df = pd.melt(pca_df, id_vars=list(pca_df.columns[:-5]), value_vars=list(pca_df.columns[-5:]), var_name = 'PC', value_name='PC_value')"
   ]
  },
  {
   "cell_type": "code",
   "execution_count": null,
   "id": "fe266db7-e193-4e43-bb4e-556c7f900ad4",
   "metadata": {},
   "outputs": [],
   "source": [
    "sns.set_style('whitegrid')\n",
    "plt.figure(figsize=(8, 8))\n",
    "x='PC1'\n",
    "y='PC2'\n",
    "sns.scatterplot(data=pca_df, x=x, y=y, hue='group')\n",
    "plt.xlabel(x, fontsize=14)\n",
    "plt.ylabel(y, fontsize=14)\n",
    "plt.xticks(fontsize=14)\n",
    "plt.yticks(fontsize=14)\n",
    "plt.legend(fontsize=14)\n",
    "plt.legend(bbox_to_anchor=(1.05, 1), loc='upper left', borderaxespad=0.)\n",
    "plt.show()"
   ]
  },
  {
   "cell_type": "code",
   "execution_count": null,
   "id": "4e29541b-f66c-4913-9a85-147f04848524",
   "metadata": {},
   "outputs": [],
   "source": [
    "variables = ['region', 'group', 'year', 'month']\n",
    "for v in variables:\n",
    "    g = sns.FacetGrid(pca_melt_df, col='PC', col_wrap=5, height=3, aspect=1)\n",
    "    g.map(sns.boxplot,v,'PC_value')\n",
    "    g.set_titles(\"{col_name}\")"
   ]
  },
  {
   "cell_type": "code",
   "execution_count": null,
   "id": "cf4fdf70-f857-499b-bbdc-fd1a16a2ccbb",
   "metadata": {},
   "outputs": [],
   "source": [
    "variables = [\n",
    "    # 'group',\n",
    "    # 'year',\n",
    "    # 'month', \n",
    "    'percent_Ligustica_Carnica',\n",
    "    'percent_Mellifera',\n",
    "    'percent_Caucasica',\n",
    "    'v_pho',\n",
    "    'v_mito',\n",
    "    'pca1',\n",
    "    'recap_inf',\n",
    "    'logit_recap_inf',\n",
    "    'percent_mnr',\n",
    "    'raw_mnr',\n",
    "    'eb_mmr',\n",
    "    'Varroa relative abundance'\n",
    "]\n",
    "\n",
    "for v in variables:\n",
    "    g = sns.FacetGrid(pca_melt_df, col='PC', col_wrap=5, height=3, aspect=1)\n",
    "    g.map(sns.regplot,'PC_value',v,scatter_kws={'s':4})\n",
    "    g.set_titles(\"{col_name}\")"
   ]
  },
  {
   "cell_type": "code",
   "execution_count": null,
   "id": "3a792e1a-e9ef-4397-97d6-74b47857bfd7",
   "metadata": {},
   "outputs": [],
   "source": [
    "sns.lmplot(data=pca_melt_df[pca_melt_df['PC']=='PC3'], x='PC_value', y='percent_Ligustica_Carnica', hue='region', height=8)"
   ]
  },
  {
   "cell_type": "markdown",
   "id": "01e63251-d7f5-44e6-879f-18011c451055",
   "metadata": {},
   "source": [
    "### Varroa-associated taxa"
   ]
  },
  {
   "cell_type": "markdown",
   "id": "b3981db3-33d4-438e-8c03-15671fdd5505",
   "metadata": {},
   "source": [
    "not much sense here given there are only 30 core families --> compute on all families"
   ]
  },
  {
   "cell_type": "code",
   "execution_count": null,
   "id": "eac82b84-0c4c-49f7-96eb-aa71853a1251",
   "metadata": {},
   "outputs": [],
   "source": [
    "relabund_df = symbio_df.pivot(index='Colony', columns='Taxon', values='Relative abundance').fillna(0).reset_index()\n",
    "print(relabund_df.shape)"
   ]
  },
  {
   "cell_type": "code",
   "execution_count": null,
   "id": "dab3e512-ecdf-41fc-b7ce-9fd7102bf623",
   "metadata": {
    "scrolled": true
   },
   "outputs": [],
   "source": [
    "# perform correlation tests on log transformed ratio to honeybees \n",
    "relabund_pheno_df = relabund_df.merge(pheno_df, on='Colony')\n",
    "relabund_pheno_df['Shuffled Varroa relative abundance'] = random.sample(relabund_pheno_df['Varroa relative abundance'].to_list(), len(relabund_pheno_df))\n",
    "relabund_pheno_df"
   ]
  },
  {
   "cell_type": "code",
   "execution_count": null,
   "id": "046c0cd3-6ccb-429a-8915-b72d2d67769b",
   "metadata": {
    "scrolled": true
   },
   "outputs": [],
   "source": [
    "y_variables = ['Varroa relative abundance', 'Shuffled Varroa relative abundance']\n",
    "min_colony_nr = 5\n",
    "con_methods = ['pearson']\n",
    "cat_methods = []\n",
    "\n",
    "pv_df = get_pv_df(relabund_pheno_df, relabund_df, y_variables, min_colony_nr, con_methods, cat_methods, lod)\n",
    "pv_df"
   ]
  },
  {
   "cell_type": "code",
   "execution_count": null,
   "id": "fcc4a00e-0d51-4c18-9fa7-b3fe5cc163ed",
   "metadata": {},
   "outputs": [],
   "source": [
    "fdr_df = get_fdr_df(pv_df, y_variables, cat_methods + con_methods)\n",
    "fdr_df"
   ]
  },
  {
   "cell_type": "code",
   "execution_count": null,
   "id": "c0774db2-2d16-4e31-bda0-b23adda12be3",
   "metadata": {
    "scrolled": true
   },
   "outputs": [],
   "source": [
    "y_name = 'Varroa relative abundance'\n",
    "for sp in fdr_df[(fdr_df['Y variable'] == y_name) & (fdr_df['Method'] == 'pearson') & (fdr_df['FDR'] <= 0.1)].sort_values('FDR')['Species']:\n",
    "    f = relabund_pheno_df[sp] > np.log(lod)\n",
    "    sns.regplot(data=relabund_pheno_df[f], x=sp, y=y_name)\n",
    "    plt.show()"
   ]
  },
  {
   "cell_type": "code",
   "execution_count": null,
   "id": "230c520f-2fa0-4a55-9be7-8326a0d5e3db",
   "metadata": {},
   "outputs": [],
   "source": [
    "relabund_sig_df = core_symbio_df[core_symbio_df['Taxon'].isin(fdr_df[fdr_df['FDR'] < 0.1]['Species'])].pivot(index='Colony', columns='Taxon', values='Relative abundance').fillna(0).reset_index()\n",
    "print(relabund_sig_df.shape)"
   ]
  },
  {
   "cell_type": "code",
   "execution_count": null,
   "id": "4fd605b6-42a3-45f0-9563-07c22ce7f423",
   "metadata": {},
   "outputs": [],
   "source": [
    "# relabund_sig_df.to_csv('{}{}_RelativeAbundance_Core_VarroaAssociated_{}.csv'.format(tlf_path, str(datetime.now().date()), level_name), index=False)\n",
    "# pd.read_csv('{}{}_RelativeAbundance_Core_VarroaAssociated_{}.csv'.format(tlf_path, str(datetime.now().date()), level_name))"
   ]
  },
  {
   "cell_type": "markdown",
   "id": "95f98142-b298-4733-99a1-cd229f5cb5c2",
   "metadata": {},
   "source": [
    "##  Core taxa & Bee Log ratio"
   ]
  },
  {
   "cell_type": "code",
   "execution_count": null,
   "id": "464ef078-7954-474b-8356-be98608c1912",
   "metadata": {},
   "outputs": [],
   "source": [
    "aitchison_df = core_symbio_df.pivot(index='Colony', columns='Taxon', values='Log Ratio Honeybee').fillna(np.log(1e-06)).reset_index()\n",
    "print(aitchison_df.shape)"
   ]
  },
  {
   "cell_type": "code",
   "execution_count": null,
   "id": "a25cfc8f-8516-4abc-9fec-c7fe8c47bd5e",
   "metadata": {
    "scrolled": true
   },
   "outputs": [],
   "source": [
    "# aitchison_df.to_csv('{}{}_BeeLogRatio_Core_{}.csv'.format(tlf_path, str(datetime.now().date()), level_name), index=False)\n",
    "# pd.read_csv('{}{}_BeeLogRatio_Core_{}.csv'.format(tlf_path, str(datetime.now().date()), level_name))"
   ]
  },
  {
   "cell_type": "code",
   "execution_count": null,
   "id": "007a8a33-0ecb-4a67-ad37-bd1e97101293",
   "metadata": {
    "scrolled": true
   },
   "outputs": [],
   "source": [
    "continous_vars =  ['Varroa Log Ratio Honeybee', 'logit_recap_inf', 'raw_mnr']\n",
    "distance = 'euclidean'\n",
    "plot_clustermap(aitchison_df, pheno_df, continous_vars, var2cmap, distance, figsize=(12, 9))"
   ]
  },
  {
   "cell_type": "code",
   "execution_count": null,
   "id": "a1979aee-a35a-457a-8eb0-4791e9e2479e",
   "metadata": {},
   "outputs": [],
   "source": [
    "# add metadata and reset indexes\n",
    "pheno_aitchison_df = pd.merge(pheno_df, aitchison_df, on='Colony')\n",
    "aitchison_df = aitchison_df.set_index('Colony')\n",
    "pheno_aitchison_df = pheno_aitchison_df.set_index('Colony')"
   ]
  },
  {
   "cell_type": "code",
   "execution_count": null,
   "id": "71b1812e-a894-4f52-9bbb-db4f43029159",
   "metadata": {},
   "outputs": [],
   "source": [
    "discrete_vars = ['month', 'region']\n",
    "continous_vars =  ['Varroa Log Ratio Honeybee']\n",
    "\n",
    "row_colors = get_row_colors(pheno_aitchison_df, discrete_vars, continous_vars, var2cmap)"
   ]
  },
  {
   "cell_type": "code",
   "execution_count": null,
   "id": "d5314e00-4940-45a5-8a3a-2264ae2e4bd0",
   "metadata": {},
   "outputs": [],
   "source": [
    "cg=sns.clustermap(aitchison_df, metric='euclidean', row_colors=row_colors, xticklabels=1, figsize=(12, 10))\n",
    "cg.ax_row_colors.legend([Patch(facecolor=cmap_region[name]) for name in cmap_region], cmap_region, title='Region',bbox_to_anchor=(1, 1), bbox_transform=plt.gcf().transFigure, loc='upper left')\n",
    "plt.setp(cg.ax_heatmap.xaxis.get_majorticklabels(), fontsize=8)\n",
    "# cg.ax_row_colors.legend([Patch(facecolor=cmap_months[name]) for name in cmap_months], cmap_months, title='Month',bbox_to_anchor=(1, 0), bbox_transform=plt.gcf().transFigure, loc='lower left')\n",
    "cg.cax.set_visible(False)"
   ]
  },
  {
   "cell_type": "markdown",
   "id": "45e09e72-d804-4663-89b3-3aef594c0765",
   "metadata": {},
   "source": [
    "#### Mantel tests"
   ]
  },
  {
   "cell_type": "code",
   "execution_count": null,
   "id": "550c3f53-8700-482a-9ffe-c5ae3813f825",
   "metadata": {},
   "outputs": [],
   "source": [
    "from skbio.stats.distance import mantel"
   ]
  },
  {
   "cell_type": "code",
   "execution_count": null,
   "id": "1901ca64-71b4-4a01-a034-2f7978f9b837",
   "metadata": {},
   "outputs": [],
   "source": [
    "df1 = core_symbio_df.pivot(index='Colony', columns='Taxon', values='Log Ratio Honeybee').fillna(np.log(1e-06))\n",
    "df2 = core_symbio_df.pivot(index='Colony', columns='Taxon', values='Log Ratio Honeybee').fillna(np.log(1e-07))"
   ]
  },
  {
   "cell_type": "code",
   "execution_count": null,
   "id": "6f264488-241a-4c87-9fbe-70a8957feee6",
   "metadata": {},
   "outputs": [],
   "source": [
    "# not entirely sure this is something that make sense honestly to have braycurtis on negative values\n",
    "dm1_bc = DistanceMatrix(squareform(pdist(df1, metric='braycurtis')), ids=df1.index)\n",
    "dm2_bc = DistanceMatrix(squareform(pdist(df2, metric='braycurtis')), ids=df1.index)"
   ]
  },
  {
   "cell_type": "code",
   "execution_count": null,
   "id": "40cbd9e9-408f-4fae-af91-1d01c64fa52b",
   "metadata": {},
   "outputs": [],
   "source": [
    "dm1_eu = DistanceMatrix(squareform(pdist(df1, metric='euclidean')), ids=df1.index)\n",
    "dm2_eu = DistanceMatrix(squareform(pdist(df2, metric='euclidean')), ids=df2.index)"
   ]
  },
  {
   "cell_type": "code",
   "execution_count": null,
   "id": "ce14fd5d-6354-4a88-945c-d2686ed75bc2",
   "metadata": {},
   "outputs": [],
   "source": [
    "# Perform Mantel test\n",
    "r, p_value, n = mantel(dm1_eu, dm2_eu, method='pearson', permutations=999)\n",
    "print(f\"Mantel test statistic: {r}\")"
   ]
  },
  {
   "cell_type": "code",
   "execution_count": null,
   "id": "66d68029-dcc9-412e-9a8a-027d088b4630",
   "metadata": {},
   "outputs": [],
   "source": [
    "# Perform Mantel test\n",
    "r, p_value, n = mantel(dm1_bc, dm2_bc, method='pearson', permutations=999)\n",
    "print(f\"Mantel test statistic: {r}\")"
   ]
  },
  {
   "cell_type": "code",
   "execution_count": null,
   "id": "eff76ac6-1069-4b07-bbea-ba11e0ae75bd",
   "metadata": {},
   "outputs": [],
   "source": [
    "# Perform Mantel test\n",
    "r, p_value, n = mantel(dm2_bc, dm2_eu, method='pearson', permutations=999)\n",
    "print(f\"Mantel test statistic: {r}\")"
   ]
  },
  {
   "cell_type": "code",
   "execution_count": null,
   "id": "338094a6-f695-404c-8d74-e1cdcccbe9e9",
   "metadata": {},
   "outputs": [],
   "source": [
    "# Perform Mantel test\n",
    "r, p_value, n = mantel(dm1_bc, dm1_eu, method='pearson', permutations=999)\n",
    "print(f\"Mantel test statistic: {r}\")"
   ]
  },
  {
   "cell_type": "markdown",
   "id": "afd808f1-420e-4098-b202-ea58b8f5daf4",
   "metadata": {},
   "source": [
    "compare relative abundance bray curtis with euclidian log ratio"
   ]
  },
  {
   "cell_type": "code",
   "execution_count": null,
   "id": "5aeb8534-fce2-4568-bec3-d355a550418b",
   "metadata": {},
   "outputs": [],
   "source": [
    "df1 = core_symbio_df.pivot(index='Colony', columns='Taxon', values='Log Ratio Honeybee').fillna(np.log(1e-06))\n",
    "df2 = core_symbio_df.pivot(index='Colony', columns='Taxon', values='Relative abundance').fillna(0)"
   ]
  },
  {
   "cell_type": "code",
   "execution_count": null,
   "id": "c5eaa9dc-3818-4c70-bae2-9366a7633fcb",
   "metadata": {},
   "outputs": [],
   "source": [
    "dm1 = DistanceMatrix(squareform(pdist(df1, metric='euclidean')), ids=df1.index)\n",
    "dm2 = DistanceMatrix(squareform(pdist(df2, metric='braycurtis')), ids=df2.index)"
   ]
  },
  {
   "cell_type": "code",
   "execution_count": null,
   "id": "2ba720f4-dcc6-4c8a-8357-d0d25f4b9d55",
   "metadata": {},
   "outputs": [],
   "source": [
    "# Perform Mantel test\n",
    "r, p_value, n = mantel(dm1, dm2, method='pearson', permutations=999)\n",
    "print(f\"Mantel test statistic: {r}\")"
   ]
  },
  {
   "cell_type": "code",
   "execution_count": null,
   "id": "64588766-2106-45a8-9d72-9a0ee5db7937",
   "metadata": {},
   "outputs": [],
   "source": [
    "# very different...."
   ]
  },
  {
   "cell_type": "markdown",
   "id": "74cb7f4c-784c-4520-9739-3406a0503bf3",
   "metadata": {},
   "source": [
    "### PCA"
   ]
  },
  {
   "cell_type": "code",
   "execution_count": null,
   "id": "f257bade-ac3b-4e52-bcb7-7c3ac7a3dd13",
   "metadata": {},
   "outputs": [],
   "source": [
    "pivot_df = aitchison_df.set_index('Colony')\n",
    "pca = PCA()\n",
    "x_pca = pca.fit_transform(pivot_df)\n",
    "sns.barplot(pca.explained_variance_ratio_[:10])"
   ]
  },
  {
   "cell_type": "code",
   "execution_count": null,
   "id": "c7affef7-bf89-4f51-81a5-f6c89652d058",
   "metadata": {},
   "outputs": [],
   "source": [
    "pc_nr = 5\n",
    "pca_df = pd.merge(pheno_df, pd.DataFrame(x_pca[:, :pc_nr], columns=['PC{}'.format(i + 1) for i in range(pc_nr)], index=pivot_df.index).reset_index().rename(columns={'index':'Colony'}), on='Colony')\n",
    "pca_melt_df = pd.melt(pca_df, id_vars=list(pca_df.columns[:-5]), value_vars=list(pca_df.columns[-5:]), var_name = 'PC', value_name='PC_value')"
   ]
  },
  {
   "cell_type": "code",
   "execution_count": null,
   "id": "fe8c0d91-29d9-4aff-a15a-0844ae6e20ad",
   "metadata": {},
   "outputs": [],
   "source": [
    "plot_pca(1, 2, pca_df, 'region', cmap_region, pca.explained_variance_ratio_)"
   ]
  },
  {
   "cell_type": "code",
   "execution_count": null,
   "id": "17aa7d42-7c6e-4694-844b-bdd54fd23540",
   "metadata": {},
   "outputs": [],
   "source": [
    "plot_pca(3, 4, pca_df, 'region', cmap_region, pca.explained_variance_ratio_)"
   ]
  },
  {
   "cell_type": "code",
   "execution_count": null,
   "id": "a7b73acb-31a9-4684-807d-85be835d9883",
   "metadata": {},
   "outputs": [],
   "source": [
    "variables = ['region', 'group', 'year', 'month']\n",
    "for v in variables:\n",
    "    g = sns.FacetGrid(pca_melt_df, col='PC', col_wrap=5, height=3, aspect=1)\n",
    "    g.map(sns.boxplot,v,'PC_value')\n",
    "    g.set_titles(\"{col_name}\")"
   ]
  },
  {
   "cell_type": "code",
   "execution_count": null,
   "id": "7724ff2e-f412-43f0-8a76-055b4725ca3a",
   "metadata": {},
   "outputs": [],
   "source": [
    "variables = [\n",
    "    # 'group',\n",
    "    # 'year',\n",
    "    # 'month', \n",
    "    'percent_Ligustica_Carnica',\n",
    "    'percent_Mellifera',\n",
    "    'percent_Caucasica',\n",
    "    'v_pho',\n",
    "    'v_mito',\n",
    "    'pca1',\n",
    "    'recap_inf',\n",
    "    'logit_recap_inf',\n",
    "    'percent_mnr',\n",
    "    'raw_mnr',\n",
    "    'eb_mmr',\n",
    "    'Varroa relative abundance',\n",
    "    'Varroa Log Ratio Honeybee'\n",
    "]\n",
    "\n",
    "for v in variables:\n",
    "    g = sns.FacetGrid(pca_melt_df, col='PC', col_wrap=5, height=3, aspect=1)\n",
    "    g.map(sns.regplot,'PC_value',v,scatter_kws={'s':4})\n",
    "    g.set_titles(\"{col_name}\")"
   ]
  },
  {
   "cell_type": "markdown",
   "id": "8ec5641d-737a-405d-9760-53efaf5d4eaf",
   "metadata": {},
   "source": [
    "### Varroa-associated taxa"
   ]
  },
  {
   "cell_type": "code",
   "execution_count": null,
   "id": "8cefa8cb-3337-40c3-9b3d-c6fed9b97b76",
   "metadata": {},
   "outputs": [],
   "source": [
    "aitchison_pheno_df = aitchison_df.merge(pheno_df, on='Colony')\n",
    "aitchison_pheno_df['Shuffled Varroa Log Ratio Honeybee'] = random.sample(aitchison_pheno_df['Varroa Log Ratio Honeybee'].to_list(), len(aitchison_pheno_df))\n",
    "aitchison_pheno_df"
   ]
  },
  {
   "cell_type": "code",
   "execution_count": null,
   "id": "d8d887e7-a723-4dfa-b5b4-c06dc20896ed",
   "metadata": {},
   "outputs": [],
   "source": [
    "y_variables = ['Varroa Log Ratio Honeybee', 'Shuffled Varroa Log Ratio Honeybee']\n",
    "min_colony_nr = 5\n",
    "con_methods = ['pearson']\n",
    "cat_methods = []\n",
    "\n",
    "pv_df = get_pv_df(aitchison_pheno_df, aitchison_df, y_variables, min_colony_nr, con_methods, cat_methods, np.log(lod)) # import to log also lod here\n",
    "pv_df"
   ]
  },
  {
   "cell_type": "code",
   "execution_count": null,
   "id": "51fc77c8-d6cd-4608-9740-d2ec41e65480",
   "metadata": {},
   "outputs": [],
   "source": [
    "for method in con_methods:\n",
    "    for y_name in y_variables:\n",
    "        sns.histplot(data=pv_df[(pv_df['Y variable'] == y_name) & (pv_df['Method'] == method)], x='P-value', bins=100)\n",
    "        plt.title('{} {}'.format(y_name, method))\n",
    "        plt.show()"
   ]
  },
  {
   "cell_type": "code",
   "execution_count": null,
   "id": "d69f41ea-9fb9-42b7-a74d-fe27617a1b54",
   "metadata": {},
   "outputs": [],
   "source": [
    "fdr_df = get_fdr_df(pv_df, y_variables, cat_methods + con_methods)\n",
    "fdr_df"
   ]
  },
  {
   "cell_type": "code",
   "execution_count": null,
   "id": "0b2fb36b-d66f-4579-b4aa-2655e9d1c10f",
   "metadata": {
    "scrolled": true
   },
   "outputs": [],
   "source": [
    "y_name = 'Varroa Log Ratio Honeybee'\n",
    "for sp in fdr_df[(fdr_df['Y variable'] == y_name) & (fdr_df['Method'] == 'pearson') & (fdr_df['FDR'] <= 0.1)].sort_values('FDR')['Species']:\n",
    "    f = aitchison_pheno_df[sp] > np.log(lod)\n",
    "    sns.regplot(data=aitchison_pheno_df[f], x=sp, y=y_name)\n",
    "    plt.show()"
   ]
  },
  {
   "cell_type": "code",
   "execution_count": null,
   "id": "06519c80-4761-4a6c-8e52-9b62a1d607dd",
   "metadata": {},
   "outputs": [],
   "source": [
    "aitchison_sig_df = core_symbio_df[core_symbio_df['Taxon'].isin(fdr_df[fdr_df['FDR'] < 0.1]['Species'])].pivot(index='Colony', columns='Taxon', values='Log Ratio Honeybee').fillna(np.log(1e-06)).reset_index()\n",
    "print(aitchison_sig_df.shape)"
   ]
  },
  {
   "cell_type": "code",
   "execution_count": null,
   "id": "29633c3e-b649-4475-8101-c5835558f836",
   "metadata": {},
   "outputs": [],
   "source": [
    "for group in groups:\n",
    "    print(group, filter_group_pivot_df(aitchison_sig_df, set([group]), taxon2group).shape[1] -1)"
   ]
  },
  {
   "cell_type": "code",
   "execution_count": null,
   "id": "f138f643-2e95-47bf-80e2-2ce5c8f5f5a7",
   "metadata": {},
   "outputs": [],
   "source": [
    "# aitchison_sig_df.to_csv('{}{}_BeeLogRatio_Core_VarroaAssociated_{}.csv'.format(tlf_path, str(datetime.now().date()), level_name), index=False)\n",
    "# pd.read_csv('{}{}_BeeLogRatio_Core_VarroaAssociated_{}.csv'.format(tlf_path, str(datetime.now().date()),level_name))"
   ]
  },
  {
   "cell_type": "markdown",
   "id": "d575294f-0c4b-47c3-b654-a3005f2d903e",
   "metadata": {},
   "source": [
    "#### family-enrichment"
   ]
  },
  {
   "cell_type": "code",
   "execution_count": null,
   "id": "70bb2bbb-a054-42a3-9a96-7720245eeff4",
   "metadata": {},
   "outputs": [],
   "source": [
    "# fdr_df = fdr_df.drop('Family', axis=1)"
   ]
  },
  {
   "cell_type": "code",
   "execution_count": null,
   "id": "1e141224-d59e-46ba-b0b3-c52625d64e39",
   "metadata": {},
   "outputs": [],
   "source": [
    "x = symbio_df[['Taxon', 'TaxID']].drop_duplicates()\n",
    "sp_name2taxid = dict(zip(x['Taxon'], x['TaxID']))\n",
    "sp2fam = {sp: get_parent_taxon_at_level(sp_name2taxid[sp], 'family') for sp in set(fdr_df['Species'])}\n",
    "fdr_df.insert(1, 'Family', [sp2fam[sp] for sp in fdr_df['Species']])"
   ]
  },
  {
   "cell_type": "code",
   "execution_count": null,
   "id": "a9d32c0a-ece1-480a-97c7-bbe3c2c79133",
   "metadata": {},
   "outputs": [],
   "source": [
    "y_name = 'Varroa Log Ratio Honeybee'\n",
    "method = 'pearson'\n",
    "\n",
    "a =fdr_df[(fdr_df['Y variable'] == y_name) & (fdr_df['Method'] == method) & (fdr_df['Stat'] > 0) & (fdr_df['FDR'] <= 0.1)]\n",
    "b =fdr_df[(fdr_df['Y variable'] == y_name) & (fdr_df['Method'] == method) & (fdr_df['Stat'] < 0) & (fdr_df['FDR'] <= 0.1)]"
   ]
  },
  {
   "cell_type": "code",
   "execution_count": null,
   "id": "58e38679-a546-47be-8a0b-646224c093f4",
   "metadata": {},
   "outputs": [],
   "source": [
    "print(len(a))\n",
    "print(len(b))"
   ]
  },
  {
   "cell_type": "code",
   "execution_count": null,
   "id": "4299e8c2-6df8-4748-a178-ac8307761d99",
   "metadata": {
    "scrolled": true
   },
   "outputs": [],
   "source": [
    "x = a\n",
    "print(x.shape)\n",
    "x.sort_values('FDR', ascending=True)[['Species', 'Family', 'FDR']][:50]"
   ]
  },
  {
   "cell_type": "code",
   "execution_count": null,
   "id": "4d83d682-eeee-455d-b97c-cd01b2fb97f1",
   "metadata": {},
   "outputs": [],
   "source": [
    "x = b\n",
    "print(x.shape)\n",
    "x.sort_values('FDR', ascending=True)[['Species', 'Family', 'FDR']][:50]"
   ]
  },
  {
   "cell_type": "code",
   "execution_count": null,
   "id": "ab06f3af-d8a9-4f4d-91b1-cc999eb3c90c",
   "metadata": {},
   "outputs": [],
   "source": [
    "#pos_con_fam_df = get_fam_enrich_df(fdr_df[(fdr_df['Y variable'] == 'Varroa relative abundance') & (fdr_df['Method'] == 'pearson') & (fdr_df['Stat'] > 0)])\n",
    "pos_cat_fam_df = get_fam_enrich_df(fdr_df[(fdr_df['Y variable'] == y_name) & (fdr_df['Method'] == method) & (fdr_df['Stat'] > 0)])\n",
    "# neg_con_fam_df = get_fam_enrich_df(fdr_df[(fdr_df['Y variable'] == 'Varroa relative abundance') & (fdr_df['Method'] == 'pearson') & (fdr_df['Stat'] < 0)])\n",
    "neg_cat_fam_df = get_fam_enrich_df(fdr_df[(fdr_df['Y variable'] == y_name) & (fdr_df['Method'] == method) & (fdr_df['Stat'] < 0)])"
   ]
  },
  {
   "cell_type": "code",
   "execution_count": null,
   "id": "f68972c8-5202-4702-8174-2154d47e0d4b",
   "metadata": {},
   "outputs": [],
   "source": [
    "pos_cat_fam_df[:20]"
   ]
  },
  {
   "cell_type": "code",
   "execution_count": null,
   "id": "06859e9b-be25-465c-80c0-74d4ca2234d5",
   "metadata": {},
   "outputs": [],
   "source": [
    "pos_cat_fam_df[pos_cat_fam_df['Observed count']>1][:20]"
   ]
  },
  {
   "cell_type": "code",
   "execution_count": null,
   "id": "f402e341-cf9c-4f41-ac81-f88148c1e43c",
   "metadata": {},
   "outputs": [],
   "source": [
    "neg_cat_fam_df[neg_cat_fam_df['Observed count']>1][:20]"
   ]
  },
  {
   "cell_type": "code",
   "execution_count": null,
   "id": "7a823817-835d-451c-a70d-c3b1b52de805",
   "metadata": {},
   "outputs": [],
   "source": [
    "for group in groups:\n",
    "    print(group, filter_group_pivot_df(jaccard_sig_df, set([group]), taxon2group).shape[1] -1)"
   ]
  },
  {
   "cell_type": "markdown",
   "id": "fc13075f-9266-4237-8cdf-e40d6cf67e63",
   "metadata": {},
   "source": [
    "#### heatmap"
   ]
  },
  {
   "cell_type": "code",
   "execution_count": null,
   "id": "78502b03-997a-467f-8bc4-362fa938fbf2",
   "metadata": {},
   "outputs": [],
   "source": [
    "continous_vars =  ['Varroa Log Ratio Honeybee']\n",
    "distance = 'euclidean'\n",
    "plot_clustermap(aitchison_sig_df, pheno_df, continous_vars, var2cmap, distance, figsize=(12, 10))"
   ]
  },
  {
   "cell_type": "markdown",
   "id": "b6f2bab9-f913-4928-8be1-5cdcb7e9433d",
   "metadata": {},
   "source": [
    "## All taxa & Prevalence analyses"
   ]
  },
  {
   "cell_type": "code",
   "execution_count": null,
   "id": "1bb2299f-5263-4118-87da-a2a94613f65b",
   "metadata": {},
   "outputs": [],
   "source": [
    "jaccard_df = symbio_df.pivot(index='Colony', columns='Taxon', values='Relative abundance').map(lambda x: 1 if x > 0 else x).fillna(0).reset_index()\n",
    "jaccard_df[jaccard_df.columns[1:]] = jaccard_df.iloc[:, 1:].astype(int)\n",
    "print(jaccard_df.shape)"
   ]
  },
  {
   "cell_type": "code",
   "execution_count": null,
   "id": "c6637f4c-5ae2-417e-b680-ced3f6c6e348",
   "metadata": {},
   "outputs": [],
   "source": [
    "# jaccard_df.to_csv('{}{}_Prevalence_All_{}.csv'.format(tlf_path, str(datetime.now().date()), level_name), index=False)\n",
    "# pd.read_csv('{}{}_Prevalence_All_{}.csv'.format(tlf_path, str(datetime.now().date()), level_name))"
   ]
  },
  {
   "cell_type": "code",
   "execution_count": null,
   "id": "edda3592-19f8-4427-8432-96e59a641b05",
   "metadata": {},
   "outputs": [],
   "source": [
    "continous_vars =  ['Varroa Log Ratio Honeybee', 'logit_recap_inf', 'raw_mnr']\n",
    "distance = 'jaccard'\n",
    "plot_clustermap(jaccard_df, pheno_df, continous_vars, var2cmap, distance, figsize=(12, 10))"
   ]
  },
  {
   "cell_type": "code",
   "execution_count": null,
   "id": "bda3f441-b979-4ede-b006-0c725775fca0",
   "metadata": {},
   "outputs": [],
   "source": [
    "# add metadata and reset indexes\n",
    "pheno_jaccard_df = pd.merge(pheno_df, jaccard_df, on='Colony')\n",
    "jaccard_df = jaccard_df.set_index('Colony')\n",
    "pheno_jaccard_df = pheno_jaccard_df.set_index('Colony')"
   ]
  },
  {
   "cell_type": "code",
   "execution_count": null,
   "id": "b36ad6f9-9101-452c-a1d8-67b9384ff17d",
   "metadata": {},
   "outputs": [],
   "source": [
    "discrete_vars = ['month', 'region']\n",
    "continous_vars =  ['Varroa Log Ratio Honeybee']\n",
    "\n",
    "row_colors = get_row_colors(pheno_jaccard_df, discrete_vars, continous_vars, var2cmap)"
   ]
  },
  {
   "cell_type": "code",
   "execution_count": null,
   "id": "7f234100-de5a-49d8-9a8b-24ac5133de97",
   "metadata": {},
   "outputs": [],
   "source": [
    "cg=sns.clustermap(jaccard_df, metric='jaccard', row_colors=row_colors, figsize=(12, 10))\n",
    "cg.ax_row_colors.legend([Patch(facecolor=cmap_region[name]) for name in cmap_region], cmap_region, title='Region',bbox_to_anchor=(1, 1), bbox_transform=plt.gcf().transFigure, loc='upper left')\n",
    "plt.setp(cg.ax_heatmap.xaxis.get_majorticklabels(), fontsize=8)\n",
    "# cg.ax_row_colors.legend([Patch(facecolor=cmap_months[name]) for name in cmap_months], cmap_months, title='Month',bbox_to_anchor=(1, 0), bbox_transform=plt.gcf().transFigure, loc='lower left')\n",
    "cg.cax.set_visible(False)"
   ]
  },
  {
   "cell_type": "markdown",
   "id": "f79297f7-bbb5-4114-95d3-8bf089cea937",
   "metadata": {},
   "source": [
    "#### PCoA"
   ]
  },
  {
   "cell_type": "code",
   "execution_count": null,
   "id": "570c4129-bff9-4058-a2db-20b9763996ee",
   "metadata": {},
   "outputs": [],
   "source": [
    "jaccard_dm = DistanceMatrix(squareform(pdist(jaccard_df, metric='jaccard')), ids=jaccard_df.index)\n",
    "\n",
    "pcoa_results = pcoa(jaccard_dm)\n",
    "\n",
    "sns.barplot(pcoa_results.proportion_explained[:10])"
   ]
  },
  {
   "cell_type": "code",
   "execution_count": null,
   "id": "d08afc02-7b06-4c73-aae8-74a9922c4182",
   "metadata": {},
   "outputs": [],
   "source": [
    "pc_nr = 5\n",
    "pca_df = pd.merge(pheno_df, pd.DataFrame(pcoa_results.samples.values[:, :pc_nr], columns=['PC{}'.format(i + 1) for i in range(pc_nr)], index=jaccard_dm.ids).reset_index().rename(columns={'index':'Colony'}), on='Colony')\n",
    "\n",
    "pca_melt_df = pd.melt(pca_df, id_vars=list(pca_df.columns[:-5]), value_vars=list(pca_df.columns[-5:]), var_name = 'PC', value_name='PC_value')"
   ]
  },
  {
   "cell_type": "code",
   "execution_count": null,
   "id": "ea97ef88-ba4c-4f15-bd54-de68fefd11a6",
   "metadata": {},
   "outputs": [],
   "source": [
    "plot_pca(1, 2, pca_df, 'region', cmap_region, list(pcoa_results.proportion_explained))"
   ]
  },
  {
   "cell_type": "code",
   "execution_count": null,
   "id": "f50e07b7-452a-47f4-876b-8046abdf5027",
   "metadata": {},
   "outputs": [],
   "source": [
    "plot_pca(3, 4, pca_df, 'region', cmap_region, list(pcoa_results.proportion_explained))"
   ]
  },
  {
   "cell_type": "code",
   "execution_count": null,
   "id": "cd3f9709-1b1a-411c-b82b-11067217e7ee",
   "metadata": {},
   "outputs": [],
   "source": [
    "plot_pca(1, 2, pca_df, 'group', cmap_group, list(pcoa_results.proportion_explained))"
   ]
  },
  {
   "cell_type": "code",
   "execution_count": null,
   "id": "76463362-a36b-4ba9-8824-478200383e20",
   "metadata": {},
   "outputs": [],
   "source": [
    "variables = ['region', 'group', 'year', 'month']\n",
    "for v in variables:\n",
    "    g = sns.FacetGrid(pca_melt_df, col='PC', col_wrap=5, height=3, aspect=1)\n",
    "    g.map(sns.boxplot,v,'PC_value')\n",
    "    g.set_titles(\"{col_name}\")"
   ]
  },
  {
   "cell_type": "code",
   "execution_count": null,
   "id": "22af3fd1-6097-410d-ba69-21ffa09075b2",
   "metadata": {},
   "outputs": [],
   "source": [
    "variables = [\n",
    "    # 'group',\n",
    "    # 'year',\n",
    "    # 'month', \n",
    "    'percent_Ligustica_Carnica',\n",
    "    'percent_Mellifera',\n",
    "    'percent_Caucasica',\n",
    "    'v_pho',\n",
    "    'v_mito',\n",
    "    'pca1',\n",
    "    'recap_inf',\n",
    "    'logit_recap_inf',\n",
    "    'percent_mnr',\n",
    "    'raw_mnr',\n",
    "    'eb_mmr',\n",
    "    'Varroa relative abundance'\n",
    "]\n",
    "\n",
    "for v in variables:\n",
    "    g = sns.FacetGrid(pca_melt_df, col='PC', col_wrap=5, height=3, aspect=1)\n",
    "    g.map(sns.regplot,'PC_value',v,scatter_kws={'s':4})\n",
    "    g.set_titles(\"{col_name}\")"
   ]
  },
  {
   "cell_type": "markdown",
   "id": "694d82c5-5dc1-4a90-8204-e41e5230af09",
   "metadata": {},
   "source": [
    "### Varroa-associated taxa"
   ]
  },
  {
   "cell_type": "code",
   "execution_count": null,
   "id": "b8f359fa-a62b-4274-8e9e-77ec44ce7c11",
   "metadata": {},
   "outputs": [],
   "source": [
    "jaccard_df = symbio_df.pivot(index='Colony', columns='Taxon', values='Relative abundance').map(lambda x: 1 if x > 0 else x).fillna(0).reset_index()\n",
    "jaccard_df[jaccard_df.columns[1:]] = jaccard_df.iloc[:, 1:].astype(int)\n",
    "print(jaccard_df.shape)"
   ]
  },
  {
   "cell_type": "code",
   "execution_count": null,
   "id": "5b73b7ad-fb91-4d9f-b21f-a51b0a42daa9",
   "metadata": {
    "scrolled": true
   },
   "outputs": [],
   "source": [
    "# perform correlation tests on log transformed ratio to honeybees \n",
    "jaccard_pheno_df = jaccard_df.merge(pheno_df, on='Colony')\n",
    "# jaccard_pheno_df['Shuffled Varroa relative abundance'] = random.sample(jaccard_pheno_df['Varroa relative abundance'].to_list(), len(jaccard_pheno_df))\n",
    "jaccard_pheno_df['Shuffled Varroa Log Ratio Honeybee'] = random.sample(jaccard_pheno_df['Varroa Log Ratio Honeybee'].to_list(), len(jaccard_pheno_df))\n",
    "jaccard_pheno_df"
   ]
  },
  {
   "cell_type": "code",
   "execution_count": null,
   "id": "076c22d0-05be-4ee1-bea1-3bec1a845b4c",
   "metadata": {
    "scrolled": true
   },
   "outputs": [],
   "source": [
    "y_variables = ['Varroa Log Ratio Honeybee', 'Shuffled Varroa Log Ratio Honeybee'] # , 'Varroa relative abundance', 'Shuffled Varroa relative abundance']\n",
    "min_colony_nr = 5\n",
    "con_methods = []\n",
    "cat_methods = ['tt']\n",
    "\n",
    "pv_df = get_pv_df(jaccard_pheno_df, jaccard_df, y_variables, min_colony_nr, con_methods, cat_methods, lod)\n",
    "pv_df"
   ]
  },
  {
   "cell_type": "code",
   "execution_count": null,
   "id": "d8f87fde-430f-42c5-90df-40ac424d3c3d",
   "metadata": {
    "scrolled": true
   },
   "outputs": [],
   "source": [
    "for method in cat_methods:\n",
    "    for y_name in y_variables:\n",
    "        sns.histplot(data=pv_df[(pv_df['Y variable'] == y_name) & (pv_df['Method'] == method)], x='P-value', bins=100)\n",
    "        plt.title('{} {}'.format(y_name, method))\n",
    "        plt.show()"
   ]
  },
  {
   "cell_type": "code",
   "execution_count": null,
   "id": "33b2bfb6-bf44-4d7b-8c4b-b662b5aec995",
   "metadata": {},
   "outputs": [],
   "source": [
    "fdr_df = get_fdr_df(pv_df, y_variables, cat_methods + con_methods)\n",
    "fdr_df"
   ]
  },
  {
   "cell_type": "code",
   "execution_count": null,
   "id": "75d769ac-9386-4099-816f-92f5387edbe6",
   "metadata": {
    "scrolled": true
   },
   "outputs": [],
   "source": [
    "y_name = 'Varroa Log Ratio Honeybee'\n",
    "for sp in fdr_df[(fdr_df['Y variable'] == y_name) & (fdr_df['Method'] == 'tt') & (fdr_df['FDR'] <= 0.1)].sort_values('FDR')['Species']:\n",
    "    x = jaccard_pheno_df[jaccard_pheno_df[sp] >= lod][y_name].to_numpy()\n",
    "    y = jaccard_pheno_df[jaccard_pheno_df[sp] < lod][y_name].to_numpy()\n",
    "    plt.boxplot([x, y], tick_labels=['Presence (n={})'.format(len(x)), 'Absence (n={})'.format(len(y))])\n",
    "    plt.ylabel(y_name)\n",
    "    plt.title(sp)\n",
    "    plt.show()"
   ]
  },
  {
   "cell_type": "code",
   "execution_count": null,
   "id": "a17c15c0-084d-4ac8-9f02-f8b42c45dfb0",
   "metadata": {},
   "outputs": [],
   "source": [
    "y_name = 'Varroa Log Ratio Honeybee'\n",
    "jaccard_sig_df = symbio_df[symbio_df['Taxon'].isin(fdr_df[(fdr_df['FDR'] < 0.1) & (fdr_df['Y variable']==y_name)]['Species'])].pivot(index='Colony', columns='Taxon', values='Relative abundance').map(lambda x: 1 if x > 0 else x).fillna(0).reset_index()\n",
    "jaccard_sig_df[jaccard_sig_df.columns[1:]] = jaccard_sig_df.iloc[:, 1:].astype(int)\n",
    "print(jaccard_sig_df.shape)"
   ]
  },
  {
   "cell_type": "code",
   "execution_count": null,
   "id": "d80032b2-b780-4fbc-a46d-e5643cfde451",
   "metadata": {},
   "outputs": [],
   "source": [
    "# jaccard_sig_df.to_csv('{}{}_Prevalence_All_VarroaAssociated_{}.csv'.format(tlf_path, str(datetime.now().date()), level_name), index=False)\n",
    "# pd.read_csv('{}{}_Prevalence_All_VarroaAssociated_{}.csv'.format(tlf_path, str(datetime.now().date()), level_name))"
   ]
  },
  {
   "cell_type": "markdown",
   "id": "91ff3b6a-4165-408b-9915-c9b616fccc56",
   "metadata": {},
   "source": [
    "#### family-enrichment"
   ]
  },
  {
   "cell_type": "code",
   "execution_count": null,
   "id": "df6c99d0-68cc-4ded-8fe5-9585aeeee4d8",
   "metadata": {},
   "outputs": [],
   "source": [
    "# fdr_df = fdr_df.drop('Family', axis=1)"
   ]
  },
  {
   "cell_type": "code",
   "execution_count": null,
   "id": "1cac855b-8112-4fd2-98b9-87ad8da8a495",
   "metadata": {},
   "outputs": [],
   "source": [
    "x = symbio_df[['Taxon', 'TaxID']].drop_duplicates()\n",
    "sp_name2taxid = dict(zip(x['Taxon'], x['TaxID']))\n",
    "sp2fam = {sp: get_parent_taxon_at_level(sp_name2taxid[sp], 'family') for sp in set(fdr_df['Species'])}\n",
    "fdr_df.insert(1, 'Family', [sp2fam[sp] for sp in fdr_df['Species']])"
   ]
  },
  {
   "cell_type": "code",
   "execution_count": null,
   "id": "96d1316b-12dd-4860-9743-b99ca298d040",
   "metadata": {},
   "outputs": [],
   "source": [
    "y_name = 'Varroa Log Ratio Honeybee'\n",
    "\n",
    "a =fdr_df[(fdr_df['Y variable'] == y_name) & (fdr_df['Method'] == 'tt') & (fdr_df['Stat'] > 0) & (fdr_df['FDR'] <= 0.1)]\n",
    "b =fdr_df[(fdr_df['Y variable'] == y_name) & (fdr_df['Method'] == 'tt') & (fdr_df['Stat'] < 0) & (fdr_df['FDR'] <= 0.1)]"
   ]
  },
  {
   "cell_type": "code",
   "execution_count": null,
   "id": "019a2b47-1954-47ea-af23-f1aae008201c",
   "metadata": {},
   "outputs": [],
   "source": [
    "print(len(a))\n",
    "print(len(b))"
   ]
  },
  {
   "cell_type": "code",
   "execution_count": null,
   "id": "3a6958f5-5afc-46d9-bf29-b613ef7556e4",
   "metadata": {
    "scrolled": true
   },
   "outputs": [],
   "source": [
    "x = a\n",
    "print(x.shape)\n",
    "x.sort_values('FDR', ascending=True)[['Species', 'Family', 'FDR']][:50]"
   ]
  },
  {
   "cell_type": "code",
   "execution_count": null,
   "id": "aacec01e-73a6-4c53-b3d1-5c9e5f7dda9d",
   "metadata": {
    "scrolled": true
   },
   "outputs": [],
   "source": [
    "x = b\n",
    "print(x.shape)\n",
    "x.sort_values('FDR', ascending=True)[['Species', 'Family', 'FDR']][:50]"
   ]
  },
  {
   "cell_type": "code",
   "execution_count": null,
   "id": "0e2eb715-2e19-4aa9-8cef-2f2d18b04148",
   "metadata": {},
   "outputs": [],
   "source": [
    "#pos_con_fam_df = get_fam_enrich_df(fdr_df[(fdr_df['Y variable'] == 'Varroa relative abundance') & (fdr_df['Method'] == 'pearson') & (fdr_df['Stat'] > 0)])\n",
    "pos_cat_fam_df = get_fam_enrich_df(fdr_df[(fdr_df['Y variable'] == y_name) & (fdr_df['Method'] == 'tt') & (fdr_df['Stat'] > 0)])\n",
    "# neg_con_fam_df = get_fam_enrich_df(fdr_df[(fdr_df['Y variable'] == 'Varroa relative abundance') & (fdr_df['Method'] == 'pearson') & (fdr_df['Stat'] < 0)])\n",
    "neg_cat_fam_df = get_fam_enrich_df(fdr_df[(fdr_df['Y variable'] == y_name) & (fdr_df['Method'] == 'tt') & (fdr_df['Stat'] < 0)])"
   ]
  },
  {
   "cell_type": "code",
   "execution_count": null,
   "id": "adeb1441-4d8e-45f0-bbeb-084bcb4a43e6",
   "metadata": {},
   "outputs": [],
   "source": [
    "pos_cat_fam_df[pos_cat_fam_df['Observed count']>1][:20]"
   ]
  },
  {
   "cell_type": "code",
   "execution_count": null,
   "id": "21fbc0d9-94a3-439f-a150-2a800517eb28",
   "metadata": {},
   "outputs": [],
   "source": [
    "neg_cat_fam_df[neg_cat_fam_df['Observed count']>1][:20]"
   ]
  },
  {
   "cell_type": "markdown",
   "id": "ff9022f7-2299-42cc-b418-6919dc1e8ea2",
   "metadata": {},
   "source": [
    "#### heatmap"
   ]
  },
  {
   "cell_type": "code",
   "execution_count": null,
   "id": "17b2854b-a1d4-4f6e-b1cc-346217d573ab",
   "metadata": {},
   "outputs": [],
   "source": [
    "continous_vars =  ['Varroa Log Ratio Honeybee']\n",
    "distance = 'jaccard'\n",
    "plot_clustermap(jaccard_sig_df, pheno_df, continous_vars, var2cmap, distance, figsize=(12, 10))"
   ]
  },
  {
   "cell_type": "markdown",
   "id": "941efaba-b49b-4629-8aac-d6e9a5b67ef6",
   "metadata": {},
   "source": [
    "#### per group"
   ]
  },
  {
   "cell_type": "code",
   "execution_count": null,
   "id": "ad3d85fd-6e13-4bce-b99e-4671aa3ee9a5",
   "metadata": {},
   "outputs": [],
   "source": [
    "taxon2group = dict(zip(symbio_df['Taxon'], symbio_df['Group']))"
   ]
  },
  {
   "cell_type": "code",
   "execution_count": null,
   "id": "72f50156-d72f-4899-83cf-dea4153b3831",
   "metadata": {},
   "outputs": [],
   "source": []
  },
  {
   "cell_type": "code",
   "execution_count": null,
   "id": "7b298d2b-3a03-43b4-b646-77a28aef627c",
   "metadata": {},
   "outputs": [],
   "source": [
    "groups = ['Viruses', 'Bacteria', 'Archaea', 'Other Eukaryota',  'Embryophyta', 'Fungi']"
   ]
  },
  {
   "cell_type": "code",
   "execution_count": null,
   "id": "b3ec44a2-9376-46c0-92ba-d7aa47ec4083",
   "metadata": {},
   "outputs": [],
   "source": [
    "for group in groups:\n",
    "    print(group, filter_group_pivot_df(jaccard_sig_df, set([group]), taxon2group).shape[1] -1)"
   ]
  },
  {
   "cell_type": "code",
   "execution_count": null,
   "id": "9a593f7f-f4c1-4a67-ba53-55479cfe2fdf",
   "metadata": {
    "scrolled": true
   },
   "outputs": [],
   "source": [
    "continous_vars =  ['Varroa Log Ratio Honeybee']\n",
    "group2figsize = {'Embryophyta': (12, 8)}\n",
    "distance = 'jaccard'\n",
    "for group in groups:\n",
    "    f_df = filter_group_pivot_df(jaccard_sig_df, group, taxon2group)\n",
    "    if f_df.shape[1] > 2:\n",
    "        print(group)\n",
    "        plot_clustermap(f_df, pheno_df, continous_vars, var2cmap, distance, group2figsize.get(group, (12, 10)))"
   ]
  },
  {
   "cell_type": "code",
   "execution_count": null,
   "id": "bb86d488-0d2a-4548-9307-fda8e67bf064",
   "metadata": {},
   "outputs": [],
   "source": [
    "# cluster only based on these two families\n",
    "families = ['Morganellaceae', 'Spiroplasmataceae']\n",
    "cg = plot_clustermap(filter_group_pivot_df(jaccard_sig_df, families, sp2fam), pheno_df, continous_vars, var2cmap, distance, figsize=(12, 10))"
   ]
  },
  {
   "cell_type": "code",
   "execution_count": null,
   "id": "d261f72c-f050-469c-a48a-b96aedbf2f8c",
   "metadata": {
    "scrolled": true
   },
   "outputs": [],
   "source": [
    "# keep original clustering but zoom on these two families\n",
    "families = ['Morganellaceae', 'Spiroplasmataceae']\n",
    "c = sns.clustermap(filter_group_pivot_df(cg.data2d, families, sp2fam), row_cluster=False, col_cluster=False, row_linkage=cg.dendrogram_row.linkage, col_linkage=cg.dendrogram_col.linkage)\n",
    "c.ax_heatmap.set_xticklabels([truncate(label.get_text()) for label in c.ax_heatmap.get_xticklabels()])\n",
    "c.ax_heatmap.set_yticklabels([truncate(label.get_text()) for label in c.ax_heatmap.get_yticklabels()])"
   ]
  },
  {
   "cell_type": "markdown",
   "id": "fdbd5cab-1273-45d6-9287-a57e694805fa",
   "metadata": {},
   "source": [
    "# Bracken species-level[OLD]"
   ]
  },
  {
   "cell_type": "code",
   "execution_count": null,
   "id": "10a0c9fc-b88c-4b28-9355-8ace1c756967",
   "metadata": {},
   "outputs": [],
   "source": [
    "## which high level taxa we care about?\n",
    "taxonomic_groups = set(('root', 'Viruses','Bacteria', 'Archaea', 'Eukaryota', 'Embryophyta', 'Fungi', 'Metazoa', 'Apis','Varroa'))\n",
    "group2name = {'root': 'Other Root', 'Eukaryota': 'Other Eukaryota'}\n",
    "\n",
    "group_name2taxid = {group2name.get(k, k): v[0] for k, v in ncbi.get_name_translator(taxonomic_groups).items()}\n",
    "group_taxid2name = {v:k for k, v in group_name2taxid.items()}\n",
    "groups = [group2name.get(x, x) for x in taxonomic_groups]\n",
    "\n",
    "## beexact\n",
    "beexact_sp_name2taxid = get_beexact_species_name2taxid()\n",
    "beexact_sp_taxids = set(chain(*list(beexact_sp_name2taxid.values())))\n",
    "beexact_sp_names = set(list(beexact_sp_name2taxid))\n"
   ]
  },
  {
   "cell_type": "markdown",
   "id": "a6cd4cec-dea6-444e-b1be-5ed1c12a531d",
   "metadata": {},
   "source": [
    "## Classification overview of key taxonomic levels "
   ]
  },
  {
   "cell_type": "code",
   "execution_count": null,
   "id": "0ee1ac63-c2e7-4e69-a08c-0cff6eebf283",
   "metadata": {},
   "outputs": [],
   "source": [
    "skip_bs_ids = {'BS17_0674', 'BS17_0721'}\n",
    "bs_ids = sorted([x for x in set(bs_sra_df['num_bs'].to_list()) if x not in skip_bs_ids])\n",
    "krakdb, readpool, mhg, cs, sf, r, level = ('corent', 'nonbee', 2, '005', 1, 1, 'S')\n",
    "\n",
    "tree = ncbi.get_topology(list(group_name2taxid.values()))\n",
    "\n",
    "columns = ['Colony', 'Category', 'Read number', 'Relative abundance']\n",
    "rows = []\n",
    "for bs_id in tqdm(bs_ids):\n",
    "    ucseqs_nr, cseqs_nr = parse_kreport(kraken2_path, bs_id, krakdb, readpool, mhg, cs, sf, r)\n",
    "    taxa2seqnr = parse_breport(bracken_path, bs_id, krakdb, readpool, mhg, cs, sf, r, level, taxonomic_groups)\n",
    "    classified_read_nr = get_classified_read_nr(bowtie2_path, kraken2_path, bracken_path, bs_id, krakdb, readpool, mhg, cs, sf, r, level)\n",
    "    \n",
    "    rows.append((bs_id, 'Unclassified', ucseqs_nr))\n",
    "    rows.append((bs_id, 'Kraken2 only', cseqs_nr - taxa2seqnr['root']))\n",
    "    \n",
    "    for taxon in taxonomic_groups:\n",
    "        name = group2name.get(taxon, taxon)\n",
    "        node = tree&group_name2taxid[name]\n",
    "        read_nr = taxa2seqnr.get(taxon, 0) - sum([taxa2seqnr.get(x, 0) for x in get_desc_taxa(node, taxonomic_groups.difference({node.sci_name}))])\n",
    "        rows.append((bs_id, name, read_nr, read_nr / classified_read_nr))\n",
    "\n",
    "class_df = pd.DataFrame(data=rows, columns=columns)"
   ]
  },
  {
   "cell_type": "code",
   "execution_count": null,
   "id": "dbde37b2-0bd3-4513-b0b5-bb9570051c4e",
   "metadata": {},
   "outputs": [],
   "source": [
    "class_df"
   ]
  },
  {
   "cell_type": "code",
   "execution_count": null,
   "id": "c46bc228-3d13-4227-9926-25de694109ec",
   "metadata": {},
   "outputs": [],
   "source": [
    "cmap = {\n",
    "    'Unclassified': '#262626',\n",
    "    'Kraken2 only': '#575757',\n",
    "    'Other Root': '#949494',\n",
    "    'Viruses': '#0173b2',\n",
    "    'Bacteria': '#de8f05',\n",
    "    'Archaea': '#d55e00',\n",
    "    'Other Eukaryota': '#029e73',\n",
    "    'Embryophyta':'#12634c',\n",
    "    'Apis': '#75c8b0',\n",
    "    'Fungi': '#cc78bc',\n",
    "    'Metazoa': '#ca9161',\n",
    "    'Varroa': '#ece133'\n",
    "}\n",
    "\n",
    "categories=['Other Root', 'Viruses','Bacteria', 'Archaea','Other Eukaryota','Embryophyta','Fungi','Metazoa', 'Varroa']"
   ]
  },
  {
   "cell_type": "code",
   "execution_count": null,
   "id": "f5af0ab3-8ae7-4c2e-8ee6-10b8a7c30183",
   "metadata": {},
   "outputs": [],
   "source": [
    "fig = px.bar(class_df, x=\"Colony\", y=\"Read number\", color=\"Category\",\n",
    "            hover_data=['Category'], barmode = 'stack', color_discrete_map=cmap, category_orders={\"Category\": cmap.keys()})\n",
    "fig.update_layout(\n",
    "    autosize=False,\n",
    "    width=1500,\n",
    "    height=700,\n",
    ")\n",
    "fig.show()"
   ]
  },
  {
   "cell_type": "code",
   "execution_count": null,
   "id": "20af2a27-ddb0-4bc3-acd4-0de306c9934c",
   "metadata": {},
   "outputs": [],
   "source": [
    "fig = px.bar(class_df[class_df['Category'].isin(categories)], x=\"Colony\", y=\"Relative abundance\", color=\"Category\",\n",
    "            hover_data=['Category'], barmode = 'stack', color_discrete_map=cmap, category_orders={\"Category\": categories})\n",
    "fig.update_layout(\n",
    "    autosize=False,\n",
    "    width=1000,\n",
    "    height=700,\n",
    "    xaxis={'title': {'font': {'size': 18}}},\n",
    "    yaxis={'title': {'font': {'size': 18}}},\n",
    "    legend={'font': {'size': 16}}\n",
    ")\n",
    "fig.show()"
   ]
  },
  {
   "cell_type": "code",
   "execution_count": null,
   "id": "34fda820-b2c3-4daf-9f17-7a14cf64ee04",
   "metadata": {},
   "outputs": [],
   "source": [
    "plt.figure(figsize=(8, 6))\n",
    "ax = sns.boxplot(data=class_df, x='Category', y='Read number', palette=cmap, \n",
    "            showmeans=True, meanprops={\"marker\":\"o\", \"markerfacecolor\":\"red\", \"markeredgecolor\":\"black\", \"markersize\":\"5\"},order=list(cmap.keys()))\n",
    "\n",
    "ax.set_yscale(\"log\")\n",
    "plt.xticks(rotation=90)\n",
    "plt.tight_layout()\n",
    "plt.show()"
   ]
  },
  {
   "cell_type": "code",
   "execution_count": null,
   "id": "7e852511-67b4-4371-868b-527ccd68431f",
   "metadata": {},
   "outputs": [],
   "source": [
    "plt.figure(figsize=(8, 6))\n",
    "ax = sns.boxplot(data=class_df[class_df['Category'].isin(categories)], x='Category', y='Relative abundance', palette=cmap, \n",
    "            showmeans=True, meanprops={\"marker\":\"o\", \"markerfacecolor\":\"red\", \"markeredgecolor\":\"black\", \"markersize\":\"5\"}, order=categories)\n",
    "\n",
    "ax.set_yscale(\"log\")\n",
    "plt.xticks(rotation=90)\n",
    "plt.tight_layout()\n",
    "plt.show()"
   ]
  },
  {
   "cell_type": "markdown",
   "id": "4002cff2-0a43-40fe-ba01-2e9677ef6ed8",
   "metadata": {},
   "source": [
    "## Species-level classification"
   ]
  },
  {
   "cell_type": "code",
   "execution_count": null,
   "id": "70e5dfb4-7ce5-4134-9dc9-d41a647375ff",
   "metadata": {},
   "outputs": [],
   "source": [
    "# parse bracken tables\n",
    "skip_bs_ids = {'BS17_0674', 'BS17_0721'}\n",
    "bs_ids = sorted([x for x in set(bs_sra_df['num_bs'].to_list()) if x not in skip_bs_ids])\n",
    "krakdb, readpool, mhg, cs, sf, r, level = ('corent', 'nonbee', 2, '005', 1, 1, 'S')\n",
    "\n",
    "df_list = []\n",
    "for bs_id in tqdm(bs_ids):\n",
    "    df = get_bracken_df(bowtie2_path, kraken2_path, bracken_path, bs_id, krakdb, readpool, mhg, cs, sf, r, level, {})\n",
    "    df = df[['name', 'taxonomy_id', 'fraction_total_reads', 'new_est_reads', 'log_ratio_honeybee', 'ratio_honeybee']]\n",
    "    df.insert(0, 'Colony', ['{}'.format(bs_id) for i in range(len(df))])\n",
    "    df_list.append(df)\n",
    "\n",
    "brack_df = pd.concat(df_list).rename(columns={'name': 'Taxon', \n",
    "                                              'taxonomy_id': 'TaxID', \n",
    "                                              'fraction_total_reads': \n",
    "                                              'Relative abundance', 'new_est_reads': \n",
    "                                              'Read number', 'ratio_honeybee': \n",
    "                                              'Ratio Honeybee', 'log_ratio_honeybee': \n",
    "                                              'Log Ratio Honeybee'}).reset_index().drop(columns=['index'])\n",
    "\n",
    "# enhance brack df with key taxonomic groups (from previous section)\n",
    "taxid2parent_group = {}\n",
    "for tid in tqdm(set(brack_df['TaxID'])):\n",
    "    for p in ncbi.get_lineage(tid):\n",
    "        if p in group_taxid2name:\n",
    "            taxid2parent_group[tid] = group_taxid2name[p]\n",
    "\n",
    "brack_df.insert(1, 'Group', [taxid2parent_group[x] for x in brack_df['TaxID']])\n",
    "brack_df"
   ]
  },
  {
   "cell_type": "code",
   "execution_count": null,
   "id": "f4cdf34b-418e-40f7-b5f9-a2750f0eb78d",
   "metadata": {},
   "outputs": [],
   "source": [
    "lod = 5e-06\n",
    "categories=['Other Root', 'Viruses','Bacteria', 'Archaea','Other Eukaryota','Embryophyta','Fungi','Metazoa', 'Varroa']\n",
    "\n",
    "df1 = pd.DataFrame(brack_df.groupby('Group')['Taxon'].nunique()).rename(columns={'Taxon': 'No LoD'})\n",
    "df2 = pd.DataFrame(brack_df[brack_df['Relative abundance'] >= lod].groupby('Group')['Taxon'].nunique()).rename(columns={'Taxon': 'LoD {}'.format(lod)})\n",
    "df = df1.merge(df2, on='Group').reindex(categories)\n",
    "df"
   ]
  },
  {
   "cell_type": "code",
   "execution_count": null,
   "id": "15bee6e7-bb29-4955-a667-1c17fe542c37",
   "metadata": {},
   "outputs": [],
   "source": [
    "# temporary definition of symbiosphere constituents\n",
    "lod = 5e-06\n",
    "#f = (brack_df['Group'].isin({'Viruses', 'Bacteria', 'Fungi'})) | (brack_df['Taxon'].isin({'Lotmaria passim'}))\n",
    "f = brack_df['Group'].isin({'Viruses', 'Bacteria', 'Fungi'})\n",
    "symbio_df = brack_df[f & (brack_df['Relative abundance'] >= lod)]"
   ]
  },
  {
   "cell_type": "code",
   "execution_count": null,
   "id": "8d1f8199-d74f-4d1d-8c38-d1d42346c25d",
   "metadata": {},
   "outputs": [],
   "source": [
    "pheno_df = pheno_df.merge(brack_df[brack_df['Taxon']=='Varroa destructor'][['Colony', 'Relative abundance']].rename(columns={'Relative abundance': 'Varroa relative abundance'}),\n",
    "              on='Colony', how='left')\n",
    "# choice of treating NA varroa abundance as 0 values\n",
    "pheno_df['Varroa relative abundance'] = pheno_df['Varroa relative abundance'].fillna(0)"
   ]
  },
  {
   "cell_type": "code",
   "execution_count": null,
   "id": "4745fb56-1e32-47bb-8217-c583d95467bf",
   "metadata": {},
   "outputs": [],
   "source": [
    "pheno_df"
   ]
  },
  {
   "cell_type": "code",
   "execution_count": null,
   "id": "af764ee7-f539-4036-9ed0-1aa165e80343",
   "metadata": {},
   "outputs": [],
   "source": [
    "# for Kevin\n",
    "symbio_df.to_csv('{}{}_symbiosphere_abundances_BeeStrong.csv'.format(tlf_path, str(datetime.now().date())), index=False)\n",
    "pheno_df.to_csv('{}{}_phenotypes_BeeStrong.csv'.format(tlf_path, str(datetime.now().date())), index=False)"
   ]
  },
  {
   "cell_type": "markdown",
   "id": "73a024a0-b87a-4ba4-b074-7371f3ce4b8a",
   "metadata": {},
   "source": [
    "### Richness vs. Library size"
   ]
  },
  {
   "cell_type": "markdown",
   "id": "89ff2117-c51f-4013-831d-693610fa73ba",
   "metadata": {},
   "source": [
    "Do Richness depends on Library size? after LoD?\n",
    "\n",
    "does it vary depending on clade?"
   ]
  },
  {
   "cell_type": "code",
   "execution_count": null,
   "id": "d72c33b6-48b1-450c-b5ae-0bed5d04ed7b",
   "metadata": {},
   "outputs": [],
   "source": [
    "lod = 5e-06\n",
    "# lod = 1e-05\n",
    "\n",
    "x = brack_df[(brack_df['Relative abundance'] >= 0)].groupby('Colony').agg({'Taxon' : ['count']})['Taxon']\n",
    "richness_df = pd.DataFrame({\n",
    "    'Colony' : x.index,\n",
    "    'Richness' : x['count']\n",
    "}).reset_index(drop=True).merge(pheno_df[['Colony', 'Total read nr']], how='inner')\n",
    "\n",
    "x = brack_df[(brack_df['Relative abundance'] >= lod)].groupby('Colony').agg({'Taxon' : ['count']})['Taxon']\n",
    "richness_df_lod = pd.DataFrame({\n",
    "    'Colony' : x.index,\n",
    "    'Richness' : x['count']\n",
    "}).reset_index(drop=True).merge(pheno_df[['Colony', 'Total read nr']], how='inner')\n",
    "\n",
    "fig, (ax1, ax2) = plt.subplots(1, 2, figsize=(15, 7.5))\n",
    "\n",
    "sns.regplot(data=richness_df, x='Total read nr', y='Richness', ax=ax1)\n",
    "ax1.set_title('no LoD, corr={}'.format(round(richness_df['Richness'].corr(richness_df['Total read nr']),ndigits=3)))\n",
    "\n",
    "sns.regplot(data=richness_df_lod, x='Total read nr', y='Richness', ax=ax2)\n",
    "ax2.set_title('LoD {}, corr={}'.format(lod, round(richness_df_lod['Richness'].corr(richness_df_lod['Total read nr']),ndigits=3)))\n",
    "\n",
    "plt.tight_layout()\n",
    "plt.show()"
   ]
  },
  {
   "cell_type": "code",
   "execution_count": null,
   "id": "fd085386-44ec-4839-9605-a8f93e738c5c",
   "metadata": {},
   "outputs": [],
   "source": [
    "richness_df"
   ]
  },
  {
   "cell_type": "code",
   "execution_count": null,
   "id": "9ba1bd40-c5dd-490a-a5bd-19a6aaa17e40",
   "metadata": {},
   "outputs": [],
   "source": [
    "for group in categories:\n",
    "    \n",
    "    x = brack_df[(brack_df['Group'] == group) & (brack_df['Relative abundance'] >= 0)].groupby('Colony').agg({'Taxon' : ['count']})['Taxon']\n",
    "    richness_df = pd.DataFrame({\n",
    "        'Colony' : x.index,\n",
    "        'Richness' : x['count']\n",
    "    }).reset_index(drop=True).merge(pheno_df[['Colony', 'Total read nr']], how='inner')\n",
    "    \n",
    "    x = brack_df[(brack_df['Group'] == group) & (brack_df['Relative abundance'] >= lod)].groupby('Colony').agg({'Taxon' : ['count']})['Taxon']\n",
    "    richness_df_lod = pd.DataFrame({\n",
    "        'Colony' : x.index,\n",
    "        'Richness' : x['count']\n",
    "    }).reset_index(drop=True).merge(pheno_df[['Colony', 'Total read nr']], how='inner')\n",
    "    \n",
    "    fig, (ax1, ax2) = plt.subplots(1, 2, figsize=(15, 7.5))\n",
    "    \n",
    "    sns.regplot(data=richness_df, x='Total read nr', y='Richness', ax=ax1)\n",
    "    ax1.set_title('{} no LoD, corr={}'.format(group, round(richness_df['Richness'].corr(richness_df['Total read nr']),ndigits=3)))\n",
    "    \n",
    "    sns.regplot(data=richness_df_lod, x='Total read nr', y='Richness', ax=ax2)\n",
    "    ax2.set_title('{} LoD {}, corr={}'.format(group, lod, round(richness_df_lod['Richness'].corr(richness_df_lod['Total read nr']),ndigits=3)))\n",
    "    \n",
    "    plt.tight_layout()\n",
    "    plt.show()"
   ]
  },
  {
   "cell_type": "markdown",
   "id": "c88cc3f0-f232-4328-bd72-a374ad0f4fca",
   "metadata": {},
   "source": [
    "## Varroa infestation"
   ]
  },
  {
   "cell_type": "code",
   "execution_count": null,
   "id": "8b53f467-dbcc-483c-ad92-823ef65d29ca",
   "metadata": {},
   "outputs": [],
   "source": [
    "pheno_df"
   ]
  },
  {
   "cell_type": "code",
   "execution_count": null,
   "id": "18d34c86-c554-4480-9cd2-028c4bbda57d",
   "metadata": {},
   "outputs": [],
   "source": [
    "varroa_df = pheno_df.reset_index(drop=True).merge(brack_df[brack_df['Taxon']=='Varroa destructor'][['Colony', 'Relative abundance', 'Ratio Honeybee']].rename(columns={\n",
    "    'Relative abundance': 'Varroa relative abundance', 'Ratio Honeybee': 'Varroa Ratio Honeybee'}), on='Colony', how='left')"
   ]
  },
  {
   "cell_type": "code",
   "execution_count": null,
   "id": "0c8a1f4e-7de2-4fad-a596-c3d47c629fbe",
   "metadata": {},
   "outputs": [],
   "source": [
    "varroa_df"
   ]
  },
  {
   "cell_type": "code",
   "execution_count": null,
   "id": "2d5ec059-f2f7-4174-b788-351019d4ee3b",
   "metadata": {},
   "outputs": [],
   "source": [
    "varroa_df['Varroa relative abundance']\n"
   ]
  },
  {
   "cell_type": "code",
   "execution_count": null,
   "id": "e797442b-adc7-400f-925f-273d4fe13e4f",
   "metadata": {},
   "outputs": [],
   "source": [
    "varroa_df['Varroa relative abundance']"
   ]
  },
  {
   "cell_type": "code",
   "execution_count": null,
   "id": "c61aa4fd-3345-4420-9442-5b35e17101c2",
   "metadata": {},
   "outputs": [],
   "source": [
    "# # my NA means 0 but I don't know what sonia's NA means\n",
    "# # varroa_df = varroa_df.fillna({'Relative abundance': 0, 'Log Ratio Honeybee': np.log(1e-07)})\n",
    "# \n",
    "# x = varroa_df['Nb varroas/100 bees'].to_numpy()\n",
    "# y = np.full(len(varroa_df), np.nan)\n",
    "# y[x > 0] = np.log(x[x > 0])\n",
    "# varroa_df['Log Nb varroas/100 bees'] = y"
   ]
  },
  {
   "cell_type": "markdown",
   "id": "42ff1b08-4b60-4b7a-ac52-68646f066c51",
   "metadata": {},
   "source": [
    "### compare measures"
   ]
  },
  {
   "cell_type": "markdown",
   "id": "1ed5c489-3107-491c-8c0e-41ebaa0598b0",
   "metadata": {},
   "source": [
    "compare my measures: Log Ratio Honeybee and Relative abundance, and Sonia' measure: VarroaMitoRatio\n",
    "\n",
    "for fair comparison filter rows with NA and 0 values in one of these measures"
   ]
  },
  {
   "cell_type": "code",
   "execution_count": null,
   "id": "87d515d2-e6cc-48c0-91de-157bf3ccd0aa",
   "metadata": {},
   "outputs": [],
   "source": [
    "# compare measure when they are not NA\n",
    "sum(varroa_df['Varroa relative abundance'].isna() | varroa_df['v_mito'].isna())"
   ]
  },
  {
   "cell_type": "code",
   "execution_count": null,
   "id": "d95c0806-f6e7-4be9-b0d0-7ae9ce6b911e",
   "metadata": {},
   "outputs": [],
   "source": [
    "varroa_df_f = varroa_df[~(varroa_df['Varroa relative abundance'].isna() | varroa_df['v_mito'].isna())]"
   ]
  },
  {
   "cell_type": "code",
   "execution_count": null,
   "id": "7add0f98-eb0b-4724-9958-6c414f231c58",
   "metadata": {},
   "outputs": [],
   "source": [
    "varroa_df_f"
   ]
  },
  {
   "cell_type": "code",
   "execution_count": null,
   "id": "9a7f7327-54dc-444c-9e10-af382a518c2a",
   "metadata": {},
   "outputs": [],
   "source": [
    "print(varroa_df_f['v_pho'].corr(varroa_df_f['Varroa relative abundance']))\n",
    "\n",
    "plt.figure(figsize=figsize)\n",
    "sns.scatterplot(data=varroa_df_f, x='v_pho', y='Varroa relative abundance')\n",
    "plt.show()"
   ]
  },
  {
   "cell_type": "code",
   "execution_count": null,
   "id": "8923766a-1bdd-4b93-b15a-bcdc2913c3d1",
   "metadata": {},
   "outputs": [],
   "source": [
    "print(varroa_df_f['v_pho'].corr(varroa_df_f['Varroa Ratio Honeybee']))\n",
    "plt.figure(figsize=figsize)\n",
    "sns.scatterplot(data=varroa_df_f, x='v_pho', y='Varroa Ratio Honeybee')\n",
    "plt.show()"
   ]
  },
  {
   "cell_type": "code",
   "execution_count": null,
   "id": "903e7585-a2cf-4c2b-b528-b00fc81d677c",
   "metadata": {},
   "outputs": [],
   "source": [
    "print(varroa_df_f['v_pho'].corr(varroa_df_f['v_mito']))\n",
    "plt.figure(figsize=figsize)\n",
    "sns.scatterplot(data=varroa_df_f, x='v_pho', y='v_mito')\n",
    "plt.show()"
   ]
  },
  {
   "cell_type": "markdown",
   "id": "3646d4d6-5e32-40cb-a284-cb6b60125a5b",
   "metadata": {},
   "source": [
    "very similar results, but relative abundance is actually better than ratio"
   ]
  },
  {
   "cell_type": "code",
   "execution_count": null,
   "id": "30b5df3e-6c5e-4a36-93e9-f3d79a2de01e",
   "metadata": {},
   "outputs": [],
   "source": [
    "print(varroa_df_f['Varroa relative abundance'].corr(varroa_df_f['v_mito']))\n",
    "plt.figure(figsize=figsize)\n",
    "sns.scatterplot(data=varroa_df_f, x='Varroa relative abundance', y='v_mito')\n",
    "plt.show()"
   ]
  },
  {
   "cell_type": "markdown",
   "id": "8f6f021f-2d06-48df-b5b4-fa693368188f",
   "metadata": {},
   "source": [
    "few outliers where I have a lower estimate of varroa load with my method than Sonia"
   ]
  },
  {
   "cell_type": "code",
   "execution_count": null,
   "id": "4cc14ab2-dec1-4713-a6b7-d5f39d69af22",
   "metadata": {},
   "outputs": [],
   "source": [
    "print(varroa_df_f['Varroa Ratio Honeybee'].corr(varroa_df_f['v_mito']))\n",
    "plt.figure(figsize=figsize)\n",
    "sns.scatterplot(data=varroa_df_f, x='Varroa Ratio Honeybee', y='v_mito')\n",
    "plt.show()"
   ]
  },
  {
   "cell_type": "code",
   "execution_count": null,
   "id": "5829353b-1914-47e1-838c-ad41c59021c0",
   "metadata": {},
   "outputs": [],
   "source": [
    "sns.scatterplot(data=varroa_df_f, x='Varroa Ratio Honeybee', y='Varroa relative abundance')\n",
    "print(varroa_df_f['Varroa Ratio Honeybee'].corr(varroa_df_f['Varroa relative abundance']))"
   ]
  },
  {
   "cell_type": "markdown",
   "id": "c5f45b62-7e75-4c5d-ad3f-09d01396dffa",
   "metadata": {},
   "source": [
    "my two measures are extremely similar , more than either with sonia's measure, which makes sense"
   ]
  },
  {
   "cell_type": "markdown",
   "id": "a7d9df96-cfae-4b31-94de-3a55602da6a3",
   "metadata": {},
   "source": [
    "### swiss colonies"
   ]
  },
  {
   "cell_type": "code",
   "execution_count": null,
   "id": "5f701a45-c78e-4a53-aadb-2b02ed715d30",
   "metadata": {},
   "outputs": [],
   "source": [
    "varroa_df_f_ch = varroa_df_f[varroa_df_f['Colony'].isin({'BS18_%04d' % i for i in range(1, 186)})]"
   ]
  },
  {
   "cell_type": "code",
   "execution_count": null,
   "id": "c6212844-b60e-4895-9126-a108bdf55d87",
   "metadata": {},
   "outputs": [],
   "source": [
    "print(varroa_df_f_ch['v_pho'].corr(varroa_df_f_ch['Varroa relative abundance']))\n",
    "\n",
    "plt.figure(figsize=figsize)\n",
    "sns.scatterplot(data=varroa_df_f_ch, x='v_pho', y='Varroa relative abundance')\n",
    "plt.show()"
   ]
  },
  {
   "cell_type": "code",
   "execution_count": null,
   "id": "92646f25-cefa-4146-b482-92b7d626a42a",
   "metadata": {},
   "outputs": [],
   "source": [
    "print(varroa_df_f_ch['v_pho'].corr(varroa_df_f_ch['v_mito']))\n",
    "plt.figure(figsize=figsize)\n",
    "sns.scatterplot(data=varroa_df_f_ch, x='v_pho', y='v_mito')\n",
    "plt.show()"
   ]
  },
  {
   "cell_type": "markdown",
   "id": "9305b423-45e7-4e66-8e21-4dc4c6dc5a8b",
   "metadata": {},
   "source": [
    "### include all samples"
   ]
  },
  {
   "cell_type": "code",
   "execution_count": null,
   "id": "9f11b35a-50a9-43db-a039-008075a9025c",
   "metadata": {},
   "outputs": [],
   "source": [
    "varroa_df.shape"
   ]
  },
  {
   "cell_type": "code",
   "execution_count": null,
   "id": "d9d25952-1d6d-463e-af80-9813ac90c6ff",
   "metadata": {},
   "outputs": [],
   "source": [
    "sns.scatterplot(data=varroa_df, x='v_pho', y='Varroa relative abundance')\n",
    "print(varroa_df['v_pho'].corr(varroa_df['Varroa relative abundance']))"
   ]
  },
  {
   "cell_type": "code",
   "execution_count": null,
   "id": "bbc04065-1599-4a3e-8c63-0bf331a6d2b8",
   "metadata": {},
   "outputs": [],
   "source": [
    "sns.scatterplot(data=varroa_df, x='v_pho', y='v_mito')\n",
    "print(varroa_df['v_pho'].corr(varroa_df['v_mito']))"
   ]
  },
  {
   "cell_type": "markdown",
   "id": "75ec1b5c-dcb0-4e00-ba92-d74cb21ddb92",
   "metadata": {},
   "source": [
    "### other variables"
   ]
  },
  {
   "cell_type": "code",
   "execution_count": null,
   "id": "030543d9-01bf-4173-8f74-71a1a1a37f0d",
   "metadata": {},
   "outputs": [],
   "source": [
    "varroa_df"
   ]
  },
  {
   "cell_type": "code",
   "execution_count": null,
   "id": "6a04d8d0-5451-4f41-9cd7-247606ece306",
   "metadata": {},
   "outputs": [],
   "source": [
    "# pca1 I think is a combination of the 4 varroa load measures\n",
    "sns.scatterplot(data=varroa_df, x='pca1', y='Varroa relative abundance')\n",
    "print(varroa_df['pca1'].corr(varroa_df['Varroa relative abundance']))"
   ]
  },
  {
   "cell_type": "code",
   "execution_count": null,
   "id": "d07d1d72-9f3a-4d63-bc09-9c71f0c918eb",
   "metadata": {},
   "outputs": [],
   "source": [
    "# not sure but maybe it is the brood infestation\n",
    "sns.scatterplot(data=varroa_df, x='nbr_inf', y='Varroa relative abundance')\n",
    "print(varroa_df['nbr_inf'].corr(varroa_df['Varroa relative abundance']))"
   ]
  },
  {
   "cell_type": "code",
   "execution_count": null,
   "id": "241b8f06-280e-45ad-933d-c1ddd155d648",
   "metadata": {},
   "outputs": [],
   "source": [
    "# should be combination of brood and phoretic varroas\n",
    "sns.scatterplot(data=varroa_df, x='v_load', y='Varroa relative abundance')\n",
    "print(varroa_df['v_load'].corr(varroa_df['Varroa relative abundance']))"
   ]
  },
  {
   "cell_type": "code",
   "execution_count": null,
   "id": "aa756e28-b261-4b58-a504-95b0311162d0",
   "metadata": {},
   "outputs": [],
   "source": [
    "# just v_pho rounded I guess\n",
    "sns.scatterplot(data=varroa_df, x='nbr_pho_varroa_100bee', y='Varroa relative abundance')\n",
    "print(varroa_df['nbr_pho_varroa_100bee'].corr(varroa_df['Varroa relative abundance']))"
   ]
  },
  {
   "cell_type": "markdown",
   "id": "9b89dbfc-a52c-4de3-85f5-b56cd4e0871c",
   "metadata": {},
   "source": [
    "## Species composition"
   ]
  },
  {
   "cell_type": "code",
   "execution_count": null,
   "id": "ce27f4ed-ffd7-43df-99e7-11907f61dc4c",
   "metadata": {},
   "outputs": [],
   "source": [
    "lod = 5e-06\n",
    "# lod = 1e-05\n",
    "\n",
    "brack_df_lod = brack_df[(brack_df['Relative abundance'] >= lod)]"
   ]
  },
  {
   "cell_type": "code",
   "execution_count": null,
   "id": "348e838d-3fed-46b3-ad61-e510b1d23ca6",
   "metadata": {},
   "outputs": [],
   "source": [
    "# calculate mean and median abundance of each species\n",
    "median_abund_df = brack_df_lod.groupby('Taxon').agg({'Relative abundance' : ['median']})['Relative abundance']\n",
    "mean_abund_df = brack_df_lod.groupby('Taxon').agg({'Relative abundance' : ['mean']})['Relative abundance']\n",
    "sp2median_abund = dict(zip(median_abund_df.index, median_abund_df['median']))\n",
    "sp2mean_abund = dict(zip(mean_abund_df.index, mean_abund_df['mean']))"
   ]
  },
  {
   "cell_type": "code",
   "execution_count": null,
   "id": "7c1f22b0-79f6-4c60-898a-927a08b1f48d",
   "metadata": {
    "scrolled": true
   },
   "outputs": [],
   "source": [
    "x = brack_df_lod[['Taxon', 'TaxID']].drop_duplicates()\n",
    "sp_name2taxid = dict(zip(x['Taxon'], x['TaxID']))"
   ]
  },
  {
   "cell_type": "code",
   "execution_count": null,
   "id": "7e245959-55af-4cbb-9e89-26d663d9f79d",
   "metadata": {},
   "outputs": [],
   "source": [
    "species, counts = np.unique(brack_df_lod['Taxon'], return_counts=True)\n",
    "species_freqs = counts / len(bs_ids)\n",
    "in_beexact = [x in beexact_sp_names for x in species]"
   ]
  },
  {
   "cell_type": "code",
   "execution_count": null,
   "id": "991bf09e-4f47-4453-ab96-0e4f989c6424",
   "metadata": {},
   "outputs": [],
   "source": [
    "x = brack_df_lod[['Taxon', 'TaxID']].drop_duplicates()\n",
    "sp_name2taxid = dict(zip(x['Taxon'], x['TaxID']))\n"
   ]
  },
  {
   "cell_type": "code",
   "execution_count": null,
   "id": "eab09e39-4ad0-4417-a674-95b2d4f72323",
   "metadata": {},
   "outputs": [],
   "source": [
    "#core = [x >= 0.5 for x in species_freqs]\n",
    "prev_df = pd.DataFrame({\n",
    "    'Taxon' : list(species),\n",
    "    'Family': [get_parent_taxon_at_level(sp_name2taxid[sp], 'family') for sp in species],\n",
    "    'Group': [taxid2parent_group[sp_name2taxid[sp]] for sp in species], \n",
    "    'TaxID' : [sp_name2taxid[sp] for sp in species],\n",
    "    'Prevalence' : list(species_freqs),\n",
    "    'Median Relative Abundance': [sp2median_abund[sp] for sp in species],\n",
    "    'Mean Relative Abundance': [sp2mean_abund[sp] for sp in species],\n",
    "    'In BEExact' : in_beexact,\n",
    "    # 'Core' : core\n",
    "})"
   ]
  },
  {
   "cell_type": "code",
   "execution_count": null,
   "id": "780e2b46-bea5-42b3-81b7-d4702ee23f06",
   "metadata": {},
   "outputs": [],
   "source": [
    "prev_df"
   ]
  },
  {
   "cell_type": "code",
   "execution_count": null,
   "id": "588f2482-dab9-4605-8f7f-0fef52b081ab",
   "metadata": {
    "scrolled": true
   },
   "outputs": [],
   "source": [
    "for group in categories:\n",
    "    fig = px.scatter(prev_df[prev_df['Group'] == group], x='Prevalence', y='Median Relative Abundance', color='In BEExact', hover_data=['Taxon'], title=group)\n",
    "    fig.update_layout(\n",
    "        autosize=False,\n",
    "        width=700,\n",
    "        height=500,\n",
    "        xaxis={'title': {'font': {'size': 18}}},\n",
    "        yaxis={'title': {'font': {'size': 18}}},\n",
    "        legend={'font': {'size': 16}}\n",
    "    )\n",
    "    fig.update_yaxes(tickformat='.5f')\n",
    "    fig.show()"
   ]
  },
  {
   "cell_type": "code",
   "execution_count": null,
   "id": "5247665e-0f27-46d8-a9ab-df3a8365321a",
   "metadata": {},
   "outputs": [],
   "source": [
    "prev_df[prev_df['Taxon'] == 'Acidovorax sp. JMULE5']"
   ]
  },
  {
   "cell_type": "code",
   "execution_count": null,
   "id": "cc22526c-f3bb-42e2-b0e5-2abebf979360",
   "metadata": {},
   "outputs": [],
   "source": [
    "0.000005"
   ]
  },
  {
   "cell_type": "code",
   "execution_count": null,
   "id": "a4a48110-3659-4282-bfac-a815b2299fcd",
   "metadata": {
    "scrolled": true
   },
   "outputs": [],
   "source": [
    "# log version\n",
    "for group in ['Other Eukaryota','Embryophyta','Fungi','Viruses','Bacteria']:\n",
    "    fig = px.scatter(prev_df[prev_df['Group'] == group], x='Prevalence', y='Median Relative Abundance', color='In BEExact', hover_data=['Taxon'], title=group, log_y=True)\n",
    "    fig.update_layout(\n",
    "        autosize=False,\n",
    "        width=700,\n",
    "        height=500,\n",
    "        xaxis={'title': {'font': {'size': 18}}},\n",
    "        yaxis={'title': {'font': {'size': 18}}},\n",
    "        legend={'font': {'size': 16}}\n",
    "    )\n",
    "    fig.show()"
   ]
  },
  {
   "cell_type": "markdown",
   "id": "30634262-c029-4369-9f89-f349b8120978",
   "metadata": {},
   "source": [
    "## 1-1 associations"
   ]
  },
  {
   "cell_type": "code",
   "execution_count": null,
   "id": "0007613e-ec6b-425b-bbec-58186d4224d1",
   "metadata": {},
   "outputs": [],
   "source": [
    "import statsmodels.api as sm\n",
    "import statsmodels.stats.multitest as smm\n",
    "from scipy import stats\n",
    "\n",
    "from scipy.stats import pearsonr, mannwhitneyu,  spearmanr\n",
    "from matplotlib_venn import venn3, venn2\n",
    "\n",
    "from skbio.stats.ordination import pcoa\n",
    "from skbio import DistanceMatrix\n",
    "from scipy.spatial.distance import pdist, squareform\n",
    "from skbio.diversity import beta_diversity\n"
   ]
  },
  {
   "cell_type": "code",
   "execution_count": null,
   "id": "b6d26ed5-505c-4e4c-bb8b-e31c8c03bc5d",
   "metadata": {},
   "outputs": [],
   "source": [
    "symbio_pivot_df = symbio_df.pivot(index='Colony', columns='Taxon', values='Relative abundance').reset_index()\n",
    "# symbio_pivot_df = pd.merge(pheno_df[['v_pho']].dropna(), symbio_pivot_df, left_index=True, right_index=True)\n",
    "symbio_pivot_df"
   ]
  },
  {
   "cell_type": "code",
   "execution_count": null,
   "id": "02b4d9c9-00c9-42e0-accd-d352043379f5",
   "metadata": {},
   "outputs": [],
   "source": [
    "symbio_pheno_df = symbio_pivot_df.merge(pheno_df, on='Colony')\n",
    "\n",
    "symbio_pheno_df['Shuffled Varroa relative abundance'] = random.sample(symbio_pheno_df['Varroa relative abundance'].to_list(), len(symbio_pheno_df))\n",
    "\n",
    "symbio_pheno_df['Shuffled v_pho'] = random.sample(symbio_pheno_df['v_pho'].to_list(), len(symbio_pheno_df))\n",
    "\n",
    "symbio_pheno_df['Shuffled v_mito'] = random.sample(symbio_pheno_df['v_mito'].to_list(), len(symbio_pheno_df))\n",
    "\n",
    "symbio_pheno_df"
   ]
  },
  {
   "cell_type": "markdown",
   "id": "bef3d64a-c281-4222-943b-f1e27584ebeb",
   "metadata": {},
   "source": [
    "### compute p-values"
   ]
  },
  {
   "cell_type": "code",
   "execution_count": null,
   "id": "033adb4b-123b-47b4-ac1b-12857c604522",
   "metadata": {},
   "outputs": [],
   "source": [
    "min_colony_nr = 5\n",
    "# y_variables = ['v_pho', 'Varroa relative abundance', 'v_mito', 'recap_inf', 'raw_mnr', 'bee_weigth', 'nbr_open', 'random']\n",
    "con_methods = ['pearson', 'pearson_perm']\n",
    "#con_methods = ['lr', 'pearson', 'spearman']\n",
    "\n",
    "cat_methods = ['tt', 'wilcoxon' ]\n",
    "\n",
    "y_variables = ['v_pho', 'Shuffled v_pho', 'v_mito', 'Shuffled v_mito', 'Varroa relative abundance', 'Shuffled Varroa relative abundance', 'bee_weigth', 'nbr_open_brood']\n",
    "\n",
    "columns = ['Species', 'Y variable', 'Method', 'Stat', 'P-value']\n",
    "rows = []\n",
    "for sp in tqdm(symbio_pheno_df.columns[1:len(symbio_pivot_df.columns)]):\n",
    "    for y_name in y_variables:\n",
    "        \n",
    "        # run continuous method only where species and y variable is available for at least 5 colonies\n",
    "        f = (symbio_pheno_df[sp] > 0) & ~(symbio_pheno_df[y_name].isna())\n",
    "        if sum(f) >= min_colony_nr:\n",
    "            X = symbio_pheno_df[sp][f]\n",
    "            y = symbio_pheno_df[y_name][f]\n",
    "            for method in con_methods:\n",
    "                tstat, pvalue = get_pv_con(X, y, method)\n",
    "                rows.append((sp, y_name, method, tstat, pvalue))\n",
    "\n",
    "        # run categorical method only where species and y variable is available for at least 5 colonies\n",
    "        x = symbio_pheno_df[(symbio_pheno_df[sp] > 0) & ~(symbio_pheno_df[y_name].isna())][y_name].to_numpy()\n",
    "        y = symbio_pheno_df[(symbio_pheno_df[sp].isna()) & ~(symbio_pheno_df[y_name].isna())][y_name].to_numpy()\n",
    "        if (len(x) >= min_colony_nr) and (len(y) >= min_colony_nr):\n",
    "            for method in cat_methods:\n",
    "                tstat, pvalue = get_pv_cat(x, y, method)\n",
    "                rows.append((sp, y_name, method, tstat, pvalue))\n",
    "\n",
    "pv_df = pd.DataFrame(rows, columns=columns).dropna().reset_index(drop=True)\n",
    "pv_df"
   ]
  },
  {
   "cell_type": "code",
   "execution_count": null,
   "id": "ff82b685-f554-469f-a242-0ac2adecb1a4",
   "metadata": {
    "scrolled": true
   },
   "outputs": [],
   "source": [
    "# pv_df.to_csv('{}{}_pvalues.csv'.format(tlf_path, str(datetime.now().date())))\n",
    "pv_df = pd.read_csv('{}2025-05-13_pvalues.csv'.format(tlf_path), index_col=0)\n",
    "pv_df"
   ]
  },
  {
   "cell_type": "code",
   "execution_count": null,
   "id": "f3cd2b93-cb5c-473a-b6fc-4d2f03806999",
   "metadata": {
    "scrolled": true
   },
   "outputs": [],
   "source": [
    "for method in con_methods:\n",
    "    for y_name in y_variables:\n",
    "        sns.histplot(data=pv_df[(pv_df['Y variable'] == y_name) & (pv_df['Method'] == method)], x='P-value', bins=100)\n",
    "        plt.title('{} {}'.format(y_name, method))\n",
    "        plt.show()"
   ]
  },
  {
   "cell_type": "code",
   "execution_count": null,
   "id": "4bdfe75c-8c92-4d7f-afde-0345209cf512",
   "metadata": {
    "scrolled": true
   },
   "outputs": [],
   "source": [
    "for method in cat_methods:\n",
    "    for y_name in y_variables:\n",
    "        sns.histplot(data=pv_df[(pv_df['Y variable'] == y_name) & (pv_df['Method'] == method)], x='P-value', bins=100)\n",
    "        plt.title('{} {}'.format(y_name, method))\n",
    "        plt.show()"
   ]
  },
  {
   "cell_type": "markdown",
   "id": "757c73f4-2b98-4d33-9436-00fb2bf30e09",
   "metadata": {},
   "source": [
    "- (run the two non-parametric approach: but quite slow)\n",
    "- seems there is an enrichment of small p-value, compared to shuffling\n",
    "- but it also exists for other variables where I would not expect any (bee weight, number of open brood, etc.)\n",
    "- "
   ]
  },
  {
   "cell_type": "markdown",
   "id": "081b5829-3a0c-4e6d-9a71-ddb4dd328d69",
   "metadata": {},
   "source": [
    "#### compare methods and variables"
   ]
  },
  {
   "cell_type": "code",
   "execution_count": null,
   "id": "a48ce695-2e0e-4bb3-84c4-595b5605eb06",
   "metadata": {},
   "outputs": [],
   "source": [
    "y_name = 'Varroa relative abundance'\n",
    "method_df = pv_df[(pv_df['Y variable'] == y_name)].pivot(index=['Species'], columns='Method', values='P-value').reset_index()\n",
    "method_df"
   ]
  },
  {
   "cell_type": "code",
   "execution_count": null,
   "id": "f082851b-61a8-46b9-963c-2479e7557d84",
   "metadata": {},
   "outputs": [],
   "source": [
    "x = 'pearson'\n",
    "y = 'pearson_perm'\n",
    "sns.scatterplot(data=method_df, x=x, y=y)\n",
    "method_df[x].corr(method_df[y])"
   ]
  },
  {
   "cell_type": "code",
   "execution_count": null,
   "id": "187f5360-3d8f-4bd2-8592-b1828e1214b8",
   "metadata": {},
   "outputs": [],
   "source": [
    "x = 'tt'\n",
    "y = 'wilcoxon'\n",
    "sns.scatterplot(data=method_df, x=x, y=y)\n",
    "method_df[x].corr(method_df[y])"
   ]
  },
  {
   "cell_type": "markdown",
   "id": "0c829966-b85b-41ab-8c94-4b3c91dcc2e2",
   "metadata": {},
   "source": [
    "- pearson on LM p-values are identical\n",
    "- ranks are very much different\n",
    "- both pearson are very similar but tt and wilcoxon generate very different p-values, with more significant p-values with wilcoxon"
   ]
  },
  {
   "cell_type": "markdown",
   "id": "ceeb0734-8fe1-4d6c-9eaa-36095f71bd8a",
   "metadata": {},
   "source": [
    "#### compare variables"
   ]
  },
  {
   "cell_type": "code",
   "execution_count": null,
   "id": "ab197502-6dbf-42f3-9d0e-a73dc46e86a8",
   "metadata": {},
   "outputs": [],
   "source": [
    "method_name = 'pearson'\n",
    "y_df = pv_df[(pv_df['Method'] == method_name)].pivot(index=['Species'], columns='Y variable', values='P-value').reset_index()\n",
    "y_df"
   ]
  },
  {
   "cell_type": "code",
   "execution_count": null,
   "id": "a47c459b-f19e-4bc9-9a2c-dad69b13ebc7",
   "metadata": {},
   "outputs": [],
   "source": [
    "x = 'Varroa relative abundance'\n",
    "y = 'v_mito'\n",
    "sns.scatterplot(data=y_df, x=x, y=y)\n",
    "y_df[x].corr(y_df[y])"
   ]
  },
  {
   "cell_type": "code",
   "execution_count": null,
   "id": "8ffd68a8-178b-4f55-98a5-d8dd9c0479a2",
   "metadata": {},
   "outputs": [],
   "source": [
    "x = 'v_pho'\n",
    "y = 'v_mito'\n",
    "sns.scatterplot(data=y_df, x=x, y=y)\n",
    "y_df[x].corr(y_df[y])"
   ]
  },
  {
   "cell_type": "code",
   "execution_count": null,
   "id": "c14fa35a-4132-49fe-9166-366a7391d43d",
   "metadata": {},
   "outputs": [],
   "source": [
    "x = 'v_pho'\n",
    "y = 'Varroa relative abundance'\n",
    "sns.scatterplot(data=y_df, x=x, y=y)\n",
    "y_df[x].corr(y_df[y])"
   ]
  },
  {
   "cell_type": "code",
   "execution_count": null,
   "id": "276aa1a7-1c18-4a6e-a91f-d5b1e43a69ea",
   "metadata": {},
   "outputs": [],
   "source": [
    "method_name = 'tt'\n",
    "y_df = pv_df[(pv_df['Method'] == method_name)].pivot(index=['Species'], columns='Y variable', values='P-value').reset_index()\n",
    "y_df"
   ]
  },
  {
   "cell_type": "code",
   "execution_count": null,
   "id": "9ff641f0-e855-45d9-ae5d-385227fa809f",
   "metadata": {},
   "outputs": [],
   "source": [
    "x = 'Varroa relative abundance'\n",
    "y = 'v_mito'\n",
    "sns.scatterplot(data=y_df, x=x, y=y)\n",
    "y_df[x].corr(y_df[y])"
   ]
  },
  {
   "cell_type": "code",
   "execution_count": null,
   "id": "a1fe23e6-3215-41a7-8add-b5e35ffaa7cb",
   "metadata": {},
   "outputs": [],
   "source": [
    "x = 'v_pho'\n",
    "y = 'v_mito'\n",
    "sns.scatterplot(data=y_df, x=x, y=y)\n",
    "y_df[x].corr(y_df[y])"
   ]
  },
  {
   "cell_type": "code",
   "execution_count": null,
   "id": "5c03d65a-7f43-4c44-b895-f8595f771ab7",
   "metadata": {},
   "outputs": [],
   "source": [
    "x = 'v_pho'\n",
    "y = 'Varroa relative abundance'\n",
    "sns.scatterplot(data=y_df, x=x, y=y)\n",
    "y_df[x].corr(y_df[y])"
   ]
  },
  {
   "cell_type": "markdown",
   "id": "f1399aa7-d9a3-4f8d-9fd9-11c079513eb7",
   "metadata": {},
   "source": [
    "pretty different p-values are generated but the two genomics approach generate more similar p-values\n",
    "\n",
    "--> let's pick the parametric tests then"
   ]
  },
  {
   "cell_type": "markdown",
   "id": "8b4e4e2e-6cd8-47c7-aa8e-9d216cf4d5fb",
   "metadata": {},
   "source": [
    "#### other variables"
   ]
  },
  {
   "cell_type": "code",
   "execution_count": null,
   "id": "6b89b573-4d5b-41a2-b96b-3b43a74cb900",
   "metadata": {},
   "outputs": [],
   "source": [
    "pv_df[(pv_df['Y variable'] == 'bee_weigth') & (pv_df['Method'] == 'pearson') & (pv_df['Stat'] > 0)].sort_values('P-value')[:20]"
   ]
  },
  {
   "cell_type": "code",
   "execution_count": null,
   "id": "05641f91-9f20-4cb4-83de-9b10705717a6",
   "metadata": {},
   "outputs": [],
   "source": [
    "pv_df[(pv_df['Y variable'] == 'nbr_open_brood') & (pv_df['Method'] == 'pearson') & (pv_df['Stat'] < 0)].sort_values('P-value')[:20]"
   ]
  },
  {
   "cell_type": "markdown",
   "id": "7c17e326-65de-48fe-9ae7-b8f9c841bb60",
   "metadata": {},
   "source": [
    "### FDR"
   ]
  },
  {
   "cell_type": "code",
   "execution_count": null,
   "id": "738870a2-3b33-4201-8484-8af99efbea1a",
   "metadata": {},
   "outputs": [],
   "source": [
    "y_variables = ['Varroa relative abundance']\n",
    "methods = ['pearson', 'tt']\n",
    "fdr_df = pv_df[(pv_df['Y variable'].isin(y_variables)) & (pv_df['Method'].isin(methods))].copy()\n",
    "fdr_df['FDR'] = np.nan"
   ]
  },
  {
   "cell_type": "code",
   "execution_count": null,
   "id": "a964bccf-7f2d-4da4-9026-3915828affe3",
   "metadata": {
    "scrolled": true
   },
   "outputs": [],
   "source": [
    "# compute FDR\n",
    "for (y_name, method) in product(y_variables, methods):\n",
    "    f = (fdr_df['Y variable'] == y_name) & (fdr_df['Method'] == method)\n",
    "    fdr_df.iloc[np.argwhere(f).flatten(), 5] = smm.multipletests(fdr_df[f]['P-value'].to_numpy(), alpha=0.05, method='fdr_bh')[1]"
   ]
  },
  {
   "cell_type": "code",
   "execution_count": null,
   "id": "23548b81-ed6d-437d-b36b-57b271184da1",
   "metadata": {},
   "outputs": [],
   "source": [
    "fdr_df"
   ]
  },
  {
   "cell_type": "code",
   "execution_count": null,
   "id": "40ac9eef-b218-4f56-8b37-adf40b587780",
   "metadata": {},
   "outputs": [],
   "source": [
    "for (y_name, method) in product(y_variables, methods):\n",
    "    f = (fdr_df['Y variable'] == y_name) & (fdr_df['Method'] == method)\n",
    "    print((y_name, method), len(fdr_df[f & (fdr_df['FDR'] < 0.1)]))"
   ]
  },
  {
   "cell_type": "code",
   "execution_count": null,
   "id": "9f0ad473-171e-4f49-b5b7-b3b315cbf335",
   "metadata": {},
   "outputs": [],
   "source": [
    "plt.figure(figsize=(6, 6))\n",
    "set1 = set(fdr_df[(fdr_df['Y variable'] == 'Varroa relative abundance') & (fdr_df['Method'] == 'pearson') & (fdr_df['FDR'] <= 0.1)]['Species'])\n",
    "set2 = set(fdr_df[(fdr_df['Y variable'] == 'Varroa relative abundance') & (fdr_df['Method'] == 'tt') & (fdr_df['FDR'] <= 0.1)]['Species'])\n",
    "venn2([set1, set2], set_labels=('pearson', 'tt'))\n",
    "plt.show()"
   ]
  },
  {
   "cell_type": "code",
   "execution_count": null,
   "id": "2f15f663-950e-408b-aed4-45b68662c435",
   "metadata": {},
   "outputs": [],
   "source": [
    "fdr_df[(fdr_df['Y variable'] == 'Varroa relative abundance') & (fdr_df['Method'] == 'tt') & (fdr_df['FDR'] <= 0.1)].sort_values('FDR')['Species']"
   ]
  },
  {
   "cell_type": "markdown",
   "id": "589170c0-00b8-4c98-b6fd-fcc123ac7264",
   "metadata": {},
   "source": [
    "#### some diagnostics on significant species"
   ]
  },
  {
   "cell_type": "code",
   "execution_count": null,
   "id": "4f2a5f30-d3fe-4d59-8bb1-57f71a4f089c",
   "metadata": {},
   "outputs": [],
   "source": [
    "x = prev_df[prev_df['Taxon'].isin(fdr_df[(fdr_df['Y variable'] == 'Varroa relative abundance') & (fdr_df['Stat'] > 0) & (fdr_df['Method'] == 'tt') & (fdr_df['FDR'] <= 0.1)].sort_values('FDR')['Species'])]['Prevalence']\n",
    "y = prev_df['Prevalence']\n",
    "d = {\n",
    "    'Varroa-associated species': x,\n",
    "    'All species' : y\n",
    "}\n",
    "sns.boxplot(d)\n",
    "plt.yscale('log')"
   ]
  },
  {
   "cell_type": "code",
   "execution_count": null,
   "id": "c53447be-c8d9-4999-9a04-e563926028e2",
   "metadata": {},
   "outputs": [],
   "source": [
    "d = {fdr_df[(fdr_df['Y variable'] == 'Varroa relative abundance') & (fdr_df['Method'] == 'tt') & (fdr_df['FDR'] <= 0.1)].sort_values('FDR')[:10]['Taxon']}"
   ]
  },
  {
   "cell_type": "code",
   "execution_count": null,
   "id": "5fe1292f-b681-46d6-98b4-6621998d3b79",
   "metadata": {},
   "outputs": [],
   "source": [
    "fdr_df[(fdr_df['Y variable'] == 'Varroa relative abundance') & (fdr_df['Method'] == 'tt') & (fdr_df['FDR'] <= 0.1)].sort_values('FDR')"
   ]
  },
  {
   "cell_type": "code",
   "execution_count": null,
   "id": "4cbfcff9-b362-4f59-a0fc-06631bec4cd7",
   "metadata": {
    "scrolled": true
   },
   "outputs": [],
   "source": [
    "group = 'Bacteria'\n",
    "fig = px.scatter(prev_df[prev_df['Group'] == group], x='Prevalence', y='Median Relative Abundance', color='Family', hover_data=['Taxon', 'Family'], title=group)\n",
    "fig.update_layout(\n",
    "    autosize=False,\n",
    "    width=1400,\n",
    "    height=1000,\n",
    "    xaxis={'title': {'font': {'size': 18}}},\n",
    "    yaxis={'title': {'font': {'size': 18}}},\n",
    "    legend={'font': {'size': 16}}\n",
    ")\n",
    "fig.update_yaxes(tickformat='.5f')\n",
    "fig.show()"
   ]
  },
  {
   "cell_type": "code",
   "execution_count": null,
   "id": "ebbae959-c796-4302-bf3a-07f361d9706b",
   "metadata": {},
   "outputs": [],
   "source": [
    "fdr_df[(fdr_df['Y variable'] == 'Varroa relative abundance') & (fdr_df['Method'] == 'tt') & (fdr_df['FDR'] <= 0.1)].sort_values('FDR')[:20]"
   ]
  },
  {
   "cell_type": "code",
   "execution_count": null,
   "id": "a3ddabab-422e-4769-be2b-9d554e54436b",
   "metadata": {},
   "outputs": [],
   "source": [
    "sp = 'Vibrio parahaemolyticus'\n",
    "# sp = 'Providencia sp. PROV236'\n"
   ]
  },
  {
   "cell_type": "code",
   "execution_count": null,
   "id": "b5ab0c5f-41ab-40f3-bfb6-cf4718807826",
   "metadata": {},
   "outputs": [],
   "source": [
    "symbio_df[symbio_df['Taxon'] == sp]"
   ]
  },
  {
   "cell_type": "code",
   "execution_count": null,
   "id": "e97321db-934b-4558-a686-d89d7d6026c9",
   "metadata": {},
   "outputs": [],
   "source": [
    "brack_df[brack_df['Taxon'] == sp]"
   ]
  },
  {
   "cell_type": "code",
   "execution_count": null,
   "id": "abb45ec8-d579-471d-9f96-6f271cd814ef",
   "metadata": {},
   "outputs": [],
   "source": [
    "prev_df[prev_df['Taxon'] == sp]"
   ]
  },
  {
   "cell_type": "code",
   "execution_count": null,
   "id": "473f910b-e5ad-4f76-ab74-3166d9afb4fd",
   "metadata": {},
   "outputs": [],
   "source": [
    "a, b = np.unique(pheno_df[pheno_df['Colony'].isin(symbio_df[symbio_df['Taxon'] == sp]['Colony'])]['region'], return_counts=True)\n",
    "sp_region2prop = dict(zip(a, b / sum(b)))"
   ]
  },
  {
   "cell_type": "code",
   "execution_count": null,
   "id": "76a3fe72-f5ec-4d3a-8a3a-6522ccb106f5",
   "metadata": {},
   "outputs": [],
   "source": [
    "a, b = np.unique(pheno_df['region'], return_counts=True)\n",
    "region2prop = dict(zip(a, b / sum(b)))"
   ]
  },
  {
   "cell_type": "code",
   "execution_count": null,
   "id": "8dec2845-6fd1-4eba-9c03-8325075be53c",
   "metadata": {},
   "outputs": [],
   "source": [
    "d = {k: (sp_region2prop.get(k, 0.00000000000000001) / v) for k, v in region2prop.items()}\n",
    "{k: v if v > 1 else None for k, v in d.items()}"
   ]
  },
  {
   "cell_type": "code",
   "execution_count": null,
   "id": "2df2f5e7-d026-4b49-92fc-bbe87f813cb6",
   "metadata": {},
   "outputs": [],
   "source": [
    "pheno_df[pheno_df['Colony'].isin(symbio_df[symbio_df['Taxon'] == sp]['Colony'])].describe()"
   ]
  },
  {
   "cell_type": "code",
   "execution_count": null,
   "id": "e1054464-a9ce-4bea-b576-6e8c3ca17993",
   "metadata": {},
   "outputs": [],
   "source": [
    "pheno_df[~pheno_df['Colony'].isin(symbio_df[symbio_df['Taxon'] == sp]['Colony'])].describe()"
   ]
  },
  {
   "cell_type": "code",
   "execution_count": null,
   "id": "4adf6540-3224-4d46-a104-0b1195e0f9b8",
   "metadata": {},
   "outputs": [],
   "source": [
    "richness_df_lod[richness_df['Colony'].isin(symbio_df[symbio_df['Taxon'] == sp]['Colony'])].describe()"
   ]
  },
  {
   "cell_type": "code",
   "execution_count": null,
   "id": "4f9ef924-8b4c-4cf0-834f-547caee26c9a",
   "metadata": {},
   "outputs": [],
   "source": [
    "richness_df_lod[~richness_df['Colony'].isin(symbio_df[symbio_df['Taxon'] == sp]['Colony'])].describe()"
   ]
  },
  {
   "cell_type": "code",
   "execution_count": null,
   "id": "f1ff8fc7-cab7-4b66-beac-a36c4dba52c4",
   "metadata": {},
   "outputs": [],
   "source": [
    "symbio_df[symbio_df['Colony'].isin(symbio_df[symbio_df['Taxon'] == sp]['Colony'])]"
   ]
  },
  {
   "cell_type": "code",
   "execution_count": null,
   "id": "4e120326-72b0-406b-9f38-44a163811059",
   "metadata": {},
   "outputs": [],
   "source": [
    "x = pheno_df[pheno_df['Colony'].isin(symbio_df[symbio_df['Taxon'] == sp]['Colony'])]['Varroa relative abundance']\n",
    "y = pheno_df[~pheno_df['Colony'].isin(symbio_df[symbio_df['Taxon'] == sp]['Colony'])]['Varroa relative abundance']\n",
    "d = {\n",
    "    'Marbach apiary': x,\n",
    "    'Other apiary' : y\n",
    "}\n",
    "sns.boxplot(d)\n",
    "plt.ylabel('Varroa relative abundance')\n",
    "#plt.yscale('log')"
   ]
  },
  {
   "cell_type": "code",
   "execution_count": null,
   "id": "aa19dc3d-1680-4013-a8ae-dfa9410f7d59",
   "metadata": {},
   "outputs": [],
   "source": [
    "# proven\n",
    "x = pheno_df[pheno_df['region'] == 'provence_alpes_cote_azur']['Varroa relative abundance']\n",
    "y = pheno_df[~(pheno_df['region'] == 'provence_alpes_cote_azur')]['Varroa relative abundance']\n",
    "d = {\n",
    "    'provence_alpes_cote_azur': x,\n",
    "    'Other regions' : y\n",
    "}\n",
    "sns.boxplot(d)\n",
    "plt.ylabel('Varroa relative abundance')\n",
    "plt.yscale('log')"
   ]
  },
  {
   "cell_type": "code",
   "execution_count": null,
   "id": "76a86094-5de2-440a-8638-51de7d79daec",
   "metadata": {},
   "outputs": [],
   "source": [
    "# set1 = set(lm_df[(lm_df['Y variable'] == 'v_pho') & (lm_df['FDR'] <= 0.1)]['Species'])\n",
    "# set2 = set(lm_df[(lm_df['Y variable'] == 'v_mito') & (lm_df['FDR'] <= 0.1)]['Species'])\n",
    "# set3 = set(lm_df[(lm_df['Y variable'] == 'Varroa relative abundance') & (lm_df['FDR'] <= 0.1)]['Species'])\n",
    "# \n",
    "# plt.figure(figsize=(6, 6))\n",
    "# venn3([set1, set2, set3], set_labels=('v_pho', 'v_mito', 'Varroa relative abundance'))\n",
    "# plt.show()"
   ]
  },
  {
   "cell_type": "code",
   "execution_count": null,
   "id": "ff40ac2f-37cf-4ee7-8b62-4edc71102722",
   "metadata": {
    "scrolled": true
   },
   "outputs": [],
   "source": [
    "y_name = 'Varroa relative abundance'\n",
    "for sp in fdr_df[(fdr_df['Y variable'] == y_name) & (fdr_df['Method'] == 'pearson') & (fdr_df['FDR'] <= 0.1)].sort_values('FDR')['Species']:\n",
    "    f = symbio_pheno_df[sp] > 0\n",
    "    sns.regplot(data=symbio_pheno_df[f], x=sp, y=y_name)\n",
    "    plt.show()"
   ]
  },
  {
   "cell_type": "code",
   "execution_count": null,
   "id": "b5987621-72ff-4ce0-9e9a-eda581769aa7",
   "metadata": {
    "scrolled": true
   },
   "outputs": [],
   "source": [
    "y_name = 'Varroa relative abundance'\n",
    "for sp in fdr_df[(fdr_df['Y variable'] == y_name) & (fdr_df['Method'] == 'tt') & (fdr_df['FDR'] <= 0.1)].sort_values('FDR')['Species']:\n",
    "    x = symbio_pheno_df[symbio_pheno_df[sp] > 0][y_name].to_numpy()\n",
    "    y = symbio_pheno_df[symbio_pheno_df[sp].isna()][y_name].to_numpy()\n",
    "    plt.boxplot([x, y], tick_labels=['Presence (n={})'.format(len(x)), 'Absence (n={})'.format(len(y))])\n",
    "    plt.ylabel(y_name)\n",
    "    plt.title(sp)\n",
    "    plt.show()v"
   ]
  },
  {
   "cell_type": "markdown",
   "id": "b638dc99-2c27-411e-bf5a-53d0cf8cd8a0",
   "metadata": {},
   "source": [
    "- more cases of positive correlation between presence of species and varroa load (spiroplasma genus, Lactobacillus)\n",
    "\n",
    "- I should probably treat these differently in follow-up analyses (beneficial vs. pathogenic constituents)  --> should store correlation coefficients for pearson...\n",
    "\n",
    "- look what are the intersecting bacteria"
   ]
  },
  {
   "cell_type": "markdown",
   "id": "92242625-d81d-42b5-9e9c-0e33d9cba2ea",
   "metadata": {},
   "source": [
    "### Family enrichment"
   ]
  },
  {
   "cell_type": "code",
   "execution_count": null,
   "id": "6973ce54-bcce-4c36-86c0-d7847b06f641",
   "metadata": {},
   "outputs": [],
   "source": [
    "def get_fam_enrich_df(df):\n",
    "    # count foreground families (significant correlation with varroa)\n",
    "    fg = df[df['FDR'] < 0.1]['Family'].dropna()\n",
    "    fg_families, fg_counts = np.unique(fg, return_counts=True)\n",
    "    fg_fam2counts = dict(zip(fg_families, fg_counts))\n",
    "    \n",
    "    # and background families\n",
    "    bg = df['Family'].dropna()\n",
    "    bg_families, bg_counts = np.unique(bg, return_counts=True)\n",
    "    \n",
    "    # calculate expected count for each family based on background\n",
    "    exp_counts = bg_counts / bg_counts.sum() * fg.size\n",
    "    obs_counts = np.array([fg_fam2counts.get(f, 0) for f in bg_families])\n",
    "\n",
    "    return pd.DataFrame({\n",
    "    'Family': bg_families,\n",
    "    'Observed count': obs_counts,\n",
    "    'Expected count': exp_counts,\n",
    "    'Observed/expected ratio': obs_counts / exp_counts\n",
    "    }).sort_values('Observed/expected ratio', ascending=False)"
   ]
  },
  {
   "cell_type": "code",
   "execution_count": null,
   "id": "039278eb-5e0a-4a50-996e-abd2d555a1f2",
   "metadata": {},
   "outputs": [],
   "source": [
    "# fdr_df = fdr_df.drop('Family', axis=1)"
   ]
  },
  {
   "cell_type": "code",
   "execution_count": null,
   "id": "c3e889de-7a7a-43b7-a94f-7403031d8cf4",
   "metadata": {},
   "outputs": [],
   "source": [
    "x = symbio_df[['Taxon', 'TaxID']].drop_duplicates()\n",
    "sp_name2taxid = dict(zip(x['Taxon'], x['TaxID']))\n",
    "sp2fam = {sp: get_parent_taxon_at_level(sp_name2taxid[sp], 'family') for sp in set(fdr_df['Species'])}\n",
    "fdr_df.insert(1, 'Family', [sp2fam[sp] for sp in fdr_df['Species']])"
   ]
  },
  {
   "cell_type": "code",
   "execution_count": null,
   "id": "67ac8050-c105-4583-afb7-1c40584de565",
   "metadata": {},
   "outputs": [],
   "source": [
    "a =fdr_df[(fdr_df['Y variable'] == 'Varroa relative abundance') & (fdr_df['Method'] == 'pearson') & (fdr_df['Stat'] > 0) & (fdr_df['FDR'] <= 0.1)]\n",
    "b =fdr_df[(fdr_df['Y variable'] == 'Varroa relative abundance') & (fdr_df['Method'] == 'tt') & (fdr_df['Stat'] > 0) & (fdr_df['FDR'] <= 0.1)]\n",
    "c =fdr_df[(fdr_df['Y variable'] == 'Varroa relative abundance') & (fdr_df['Method'] == 'pearson') & (fdr_df['Stat'] < 0) & (fdr_df['FDR'] <= 0.1)]\n",
    "d =fdr_df[(fdr_df['Y variable'] == 'Varroa relative abundance') & (fdr_df['Method'] == 'tt') & (fdr_df['Stat'] < 0) & (fdr_df['FDR'] <= 0.1)]"
   ]
  },
  {
   "cell_type": "code",
   "execution_count": null,
   "id": "e0ba2128-9cd2-4bcb-b5d4-aecaad6035e5",
   "metadata": {},
   "outputs": [],
   "source": [
    "x = d\n",
    "\n",
    "print(x.shape)\n",
    "x.sort_values('FDR', ascending=True)[['Species', 'Family', 'FDR']]\n"
   ]
  },
  {
   "cell_type": "code",
   "execution_count": null,
   "id": "1764ffb9-9f78-4ffe-9209-f7ee9fdb293a",
   "metadata": {},
   "outputs": [],
   "source": [
    "print(len(a))\n",
    "print(len(b))\n",
    "print(len(c))\n",
    "print(len(d))"
   ]
  },
  {
   "cell_type": "code",
   "execution_count": null,
   "id": "7b12918b-4d37-4466-9acb-5c900698f3c8",
   "metadata": {},
   "outputs": [],
   "source": [
    "pos_con_fam_df = get_fam_enrich_df(fdr_df[(fdr_df['Y variable'] == 'Varroa relative abundance') & (fdr_df['Method'] == 'pearson') & (fdr_df['Stat'] > 0)])\n",
    "pos_cat_fam_df = get_fam_enrich_df(fdr_df[(fdr_df['Y variable'] == 'Varroa relative abundance') & (fdr_df['Method'] == 'tt') & (fdr_df['Stat'] > 0)])\n",
    "neg_con_fam_df = get_fam_enrich_df(fdr_df[(fdr_df['Y variable'] == 'Varroa relative abundance') & (fdr_df['Method'] == 'pearson') & (fdr_df['Stat'] < 0)])\n",
    "neg_cat_fam_df = get_fam_enrich_df(fdr_df[(fdr_df['Y variable'] == 'Varroa relative abundance') & (fdr_df['Method'] == 'tt') & (fdr_df['Stat'] < 0)])"
   ]
  },
  {
   "cell_type": "code",
   "execution_count": null,
   "id": "0356e970-fc26-4e8b-822d-5207aef5f448",
   "metadata": {},
   "outputs": [],
   "source": [
    "neg_con_fam_df[:10]"
   ]
  },
  {
   "cell_type": "code",
   "execution_count": null,
   "id": "3142acd4-225f-48a5-80e0-6aa1e5db4243",
   "metadata": {},
   "outputs": [],
   "source": [
    "neg_cat_fam_df[:20]"
   ]
  },
  {
   "cell_type": "code",
   "execution_count": null,
   "id": "5cd97990-1acb-4cdd-a021-0f14b54250b1",
   "metadata": {},
   "outputs": [],
   "source": [
    "pos_cat_fam_df[:20]"
   ]
  },
  {
   "cell_type": "code",
   "execution_count": null,
   "id": "68769edf-8b3b-4b59-bc07-612a270b318d",
   "metadata": {},
   "outputs": [],
   "source": [
    "neg_con_fam_df[:10]"
   ]
  },
  {
   "cell_type": "code",
   "execution_count": null,
   "id": "138a48b0-516f-4290-ac13-a55fa3097e5a",
   "metadata": {},
   "outputs": [],
   "source": [
    "neg_cat_fam_df[:20]"
   ]
  },
  {
   "cell_type": "markdown",
   "id": "fde5b4b0-4d9f-4bc8-8628-0a5aa4e90953",
   "metadata": {},
   "source": [
    "- families whose presence correlate positively with Varroa  : Morganellaceae (15 species) --> opportunistic pathogens. Could be symptom of dysbiosis\n",
    "- families whose abundance correlates negatively with Varroa : Gut bacteria families\n",
    "- families whose presence correlates negatively with Varroa : Spiroplasmataceae\n",
    "\n",
    "non-bacteria observations:\n",
    "- Bifidobacterium phage BadAztec4 (and other variants) with positive correlation with Varroa (both presence and abundance) --> engel study on it\n",
    "- one variant whose abundance and presence negatively correlate with varroa: Bifidobacterium phage BigBern1\n",
    "\n",
    "now, zooming on these varroa-associated symbiosphere constituents, the question is : do they co-occur in colonies with high varroa load and do the one associated with low-varroa abundance co-occur in colonies with low-varroa abundace, which would indicate health/dysbosis communities\n",
    "\n",
    "- hierarchical clustering on Jaccard distances for presence/absence\n",
    "- same with Bray-Curtis distance for abundances"
   ]
  },
  {
   "cell_type": "markdown",
   "id": "57f5c06f-0187-4b53-91c3-e1a54562802c",
   "metadata": {},
   "source": [
    "### Clustering and PCA"
   ]
  },
  {
   "cell_type": "markdown",
   "id": "69ff24ef-5e09-4b50-badd-55f8dae967fb",
   "metadata": {},
   "source": [
    "#### Jaccard"
   ]
  },
  {
   "cell_type": "code",
   "execution_count": null,
   "id": "06da6323-435a-4bec-9839-da252b8a7144",
   "metadata": {},
   "outputs": [],
   "source": [
    "jaccard_df = symbio_df[symbio_df['Taxon'].isin(set(fdr_df[(fdr_df['Y variable'] == 'Varroa relative abundance') & (fdr_df['Method'] == 'tt') & (fdr_df['FDR'] < 0.1)]['Species']))].pivot(\n",
    "    index='Colony', columns='Taxon', values='Relative abundance').map(lambda x: 1 if x > 0 else x).fillna(0).reset_index()\n",
    "print(jaccard_df.shape)\n",
    "jaccard_df"
   ]
  },
  {
   "cell_type": "code",
   "execution_count": null,
   "id": "f79d640a-d115-49cb-a033-c09b92fed56d",
   "metadata": {},
   "outputs": [],
   "source": [
    "# add metadata and reset indexes\n",
    "pheno_jaccard_df = pd.merge(pheno_df, jaccard_df, on='Colony')\n",
    "jaccard_df = jaccard_df.set_index('Colony')\n",
    "pheno_jaccard_df = pheno_jaccard_df.set_index('Colony')"
   ]
  },
  {
   "cell_type": "code",
   "execution_count": null,
   "id": "eab59d58-d161-4226-889c-35e7077b2bbf",
   "metadata": {},
   "outputs": [],
   "source": [
    "color_dict = {}\n",
    "discrete_vars = ['group', 'year', 'month', 'region']\n",
    "continous_vars =  ['Varroa relative abundance']\n",
    "\n",
    "for var in discrete_vars:\n",
    "    values = pheno_jaccard_df[var]\n",
    "    cmap = dict(zip(values.unique(), [x.upper() for x in list(sns.color_palette('colorblind', n_colors=len(values.unique())).as_hex())]))\n",
    "    color_dict[var] =  values.map(cmap)\n",
    "\n",
    "for var in continous_vars:\n",
    "    values = pheno_jaccard_df[var]\n",
    "    normalized_values = np.interp(values, (min(values), max(values)), (0, 1))\n",
    "    cmap = plt.get_cmap('viridis')\n",
    "    hex_colors = [mcolors.to_hex(cmap(val)) for val in normalized_values]\n",
    "    color_dict[var] =  hex_colors\n",
    "    \n",
    "row_colors = pd.DataFrame(color_dict)"
   ]
  },
  {
   "cell_type": "code",
   "execution_count": null,
   "id": "8f010851-2c59-4408-91a1-c8f6428d490e",
   "metadata": {},
   "outputs": [],
   "source": [
    "row_colors"
   ]
  },
  {
   "cell_type": "code",
   "execution_count": null,
   "id": "96265c17-5616-4536-a509-9539eec059fa",
   "metadata": {},
   "outputs": [],
   "source": [
    "from matplotlib.patches import Patch\n"
   ]
  },
  {
   "cell_type": "code",
   "execution_count": null,
   "id": "a7d95b1b-1d45-476c-a2d1-796ad940c695",
   "metadata": {},
   "outputs": [],
   "source": [
    "plt.figure(figsize=(20, 16))\n",
    "cg=sns.clustermap(jaccard_df, metric='jaccard', row_colors=row_colors)\n",
    "cg.cax.set_visible(False)\n",
    "\n",
    "\n",
    "# cg.ax_row_dendrogram.legend(handles, unique_labels, loc='center', bbox_to_anchor=(1.2, 0.5), title=\"Row Groups\")\n",
    "#handles = [Patch(facecolor=lut[name]) for name in lut]\n",
    "#plt.legend(handles, lut, title='Species',\n",
    "#           bbox_to_anchor=(1, 1), bbox_transform=plt.gcf().transFigure, loc='upper right')\n",
    "\n",
    "plt.show()"
   ]
  },
  {
   "cell_type": "code",
   "execution_count": null,
   "id": "2dd1acbf-da9c-4390-b3de-7e0bd750c983",
   "metadata": {},
   "outputs": [],
   "source": [
    "jaccard_dm = DistanceMatrix(squareform(pdist(jaccard_df, metric='jaccard')), ids=jaccard_df.index)\n",
    "\n",
    "pcoa_results = pcoa(jaccard_dm)\n",
    "\n",
    "sns.barplot(pcoa_results.proportion_explained[:10])"
   ]
  },
  {
   "cell_type": "code",
   "execution_count": null,
   "id": "34a6c606-c598-4bed-964b-d68bf34038aa",
   "metadata": {},
   "outputs": [],
   "source": [
    "pd.DataFrame(pcoa_results.samples.values[:, :pc_nr], columns=['PC{}'.format(i + 1) for i in range(pc_nr)], index=jaccard_dm.ids).reset_index().rename(columns={'index':'Colony'})"
   ]
  },
  {
   "cell_type": "code",
   "execution_count": null,
   "id": "31c506eb-71fc-4bc9-a9e0-a476a0f81419",
   "metadata": {},
   "outputs": [],
   "source": [
    "pc_nr = 5\n",
    "pca_df = pd.merge(pheno_df, pd.DataFrame(pcoa_results.samples.values[:, :pc_nr], columns=['PC{}'.format(i + 1) for i in range(pc_nr)], index=jaccard_dm.ids).reset_index().rename(columns={'index':'Colony'}), on='Colony')"
   ]
  },
  {
   "cell_type": "code",
   "execution_count": null,
   "id": "5ef95754-1e75-4544-b09b-a0b9fce32280",
   "metadata": {},
   "outputs": [],
   "source": [
    "pca_melt_df = pd.melt(pca_df, id_vars=list(pca_df.columns[:-5]), value_vars=list(pca_df.columns[-5:]), var_name = 'PC', value_name='PC_value')"
   ]
  },
  {
   "cell_type": "code",
   "execution_count": null,
   "id": "aebb6e93-832b-4e90-9223-bb30f6be6efd",
   "metadata": {},
   "outputs": [],
   "source": [
    "pca_melt_df"
   ]
  },
  {
   "cell_type": "code",
   "execution_count": null,
   "id": "44c56810-6294-44cb-9e54-2e12e58a0ded",
   "metadata": {},
   "outputs": [],
   "source": [
    "sns.set_style('whitegrid')\n",
    "plt.figure(figsize=(8, 8))\n",
    "x='PC1'\n",
    "y='PC2'\n",
    "sns.scatterplot(data=pca_df, x=x, y=y, hue='group')\n",
    "plt.xlabel(x, fontsize=14)\n",
    "plt.ylabel(y, fontsize=14)\n",
    "plt.xticks(fontsize=14)\n",
    "plt.yticks(fontsize=14)\n",
    "plt.legend(fontsize=14)\n",
    "plt.legend(bbox_to_anchor=(1.05, 1), loc='upper left', borderaxespad=0.)\n",
    "plt.show()"
   ]
  },
  {
   "cell_type": "code",
   "execution_count": null,
   "id": "0c02b8c8-755b-4409-9a3c-9d4a4c551b19",
   "metadata": {},
   "outputs": [],
   "source": [
    "sns.set_style('whitegrid')\n",
    "plt.figure(figsize=(8, 8))\n",
    "x='PC1'\n",
    "y='PC2'\n",
    "sns.scatterplot(data=pca_df, x=x, y=y, hue='year')\n",
    "plt.xlabel(x, fontsize=14)\n",
    "plt.ylabel(y, fontsize=14)\n",
    "plt.xticks(fontsize=14)\n",
    "plt.yticks(fontsize=14)\n",
    "plt.legend(fontsize=14)\n",
    "plt.legend(bbox_to_anchor=(1.05, 1), loc='upper left', borderaxespad=0.)\n",
    "plt.show()"
   ]
  },
  {
   "cell_type": "code",
   "execution_count": null,
   "id": "43f9a32a-fbfc-41ea-b627-278f0e3d5687",
   "metadata": {},
   "outputs": [],
   "source": [
    "sns.set_style('whitegrid')\n",
    "plt.figure(figsize=(8, 8))\n",
    "x='PC1'\n",
    "y='PC2'\n",
    "sns.scatterplot(data=pca_df, x=x, y=y, hue='month')\n",
    "plt.xlabel(x, fontsize=14)\n",
    "plt.ylabel(y, fontsize=14)\n",
    "plt.xticks(fontsize=14)\n",
    "plt.yticks(fontsize=14)\n",
    "plt.legend(fontsize=14)\n",
    "plt.legend(bbox_to_anchor=(1.05, 1), loc='upper left', borderaxespad=0.)\n",
    "plt.show()"
   ]
  },
  {
   "cell_type": "code",
   "execution_count": null,
   "id": "5252750a-ff69-47f2-b1fd-7df69699da7e",
   "metadata": {},
   "outputs": [],
   "source": [
    "# for v in discrete_vars:\n",
    "#     g = sns.FacetGrid(pca_melt_df, col='PC', col_wrap=5, height=3, aspect=1)\n",
    "#     g.map(sns.boxplot,'PC_value',v)\n",
    "#     g.set_titles(\"{col_name}\")"
   ]
  },
  {
   "cell_type": "code",
   "execution_count": null,
   "id": "ad924b18-abac-41dc-a136-b77758b886da",
   "metadata": {},
   "outputs": [],
   "source": [
    "for v in continous_vars:\n",
    "    g = sns.FacetGrid(pca_melt_df, col='PC', col_wrap=5, height=3, aspect=1)\n",
    "    g.map(sns.regplot,'PC_value',v,scatter_kws={'s':4})\n",
    "    g.set_titles(\"{col_name}\")"
   ]
  },
  {
   "cell_type": "markdown",
   "id": "be096379-c293-47c4-aee9-3fd4a2c2341d",
   "metadata": {},
   "source": [
    "#### Bray-Curtis"
   ]
  },
  {
   "cell_type": "code",
   "execution_count": null,
   "id": "02d47469-fd8c-46ba-8f17-ebf6e0099d14",
   "metadata": {},
   "outputs": [],
   "source": [
    "braycurtis_df = symbio_df[symbio_df['Taxon'].isin(set(fdr_df[(fdr_df['Y variable'] == 'Varroa relative abundance') & (fdr_df['Method'] == 'pearson') & (fdr_df['FDR'] < 0.1)]['Species']))].pivot(\n",
    "    index='Colony', columns='Taxon', values='Relative abundance').fillna(0).reset_index()\n",
    "print(braycurtis_df.shape)\n",
    "braycurtis_df"
   ]
  },
  {
   "cell_type": "code",
   "execution_count": null,
   "id": "bae084ce-38e1-4d20-9d63-69982173026e",
   "metadata": {},
   "outputs": [],
   "source": [
    "# add metadata and reset indexes\n",
    "pheno_braycurtis_df = pd.merge(pheno_df, braycurtis_df, on='Colony')\n",
    "braycurtis_df = braycurtis_df.set_index('Colony')\n",
    "pheno_braycurtis_df = pheno_braycurtis_df.set_index('Colony')"
   ]
  },
  {
   "cell_type": "code",
   "execution_count": null,
   "id": "078a4f49-16ef-4f28-8ac7-7c75a08c9f80",
   "metadata": {},
   "outputs": [],
   "source": [
    "color_dict = {}\n",
    "discrete_vars = ['group', 'year', 'month']\n",
    "continous_vars =  ['Varroa relative abundance']\n",
    "\n",
    "for var in discrete_vars:\n",
    "    values = pheno_braycurtis_df[var]\n",
    "    cmap = dict(zip(values.unique(), [x.upper() for x in list(sns.color_palette('husl', n_colors=len(values.unique())).as_hex())]))\n",
    "    color_dict[var] =  values.map(cmap)\n",
    "\n",
    "for var in continous_vars:\n",
    "    values = pheno_braycurtis_df[var]\n",
    "    normalized_values = np.interp(values, (min(values), max(values)), (0, 1))\n",
    "    cmap = plt.get_cmap('viridis')\n",
    "    hex_colors = [mcolors.to_hex(cmap(val)) for val in normalized_values]\n",
    "    color_dict[var] =  hex_colors\n",
    "    \n",
    "row_colors = pd.DataFrame(color_dict)"
   ]
  },
  {
   "cell_type": "code",
   "execution_count": null,
   "id": "27359eda-324a-467e-bd04-dd42d203675e",
   "metadata": {},
   "outputs": [],
   "source": [
    "from scipy.stats import zscore"
   ]
  },
  {
   "cell_type": "code",
   "execution_count": null,
   "id": "31a29125-ae60-4fda-b12e-158557069fd2",
   "metadata": {},
   "outputs": [],
   "source": [
    "# trying to give same weight to all species...\n",
    "braycurtis_df =zscore(braycurtis_df)"
   ]
  },
  {
   "cell_type": "code",
   "execution_count": null,
   "id": "ed31d492-d5dd-409a-8b84-a52e032a7d90",
   "metadata": {},
   "outputs": [],
   "source": [
    "plt.figure(figsize=(20, 16))\n",
    "cg=sns.clustermap(braycurtis_df, metric='braycurtis', row_colors=row_colors)\n",
    "cg.cax.set_visible(False)\n",
    "plt.show()"
   ]
  },
  {
   "cell_type": "code",
   "execution_count": null,
   "id": "b9efd61e-996a-42c0-b534-6880e4b91a64",
   "metadata": {},
   "outputs": [],
   "source": [
    "braycurtis_dm = DistanceMatrix(squareform(pdist(braycurtis_df, metric='braycurtis')), ids=braycurtis_df.index)\n",
    "\n",
    "pcoa_results = pcoa(braycurtis_dm)\n",
    "\n",
    "sns.barplot(pcoa_results.proportion_explained[:10])"
   ]
  },
  {
   "cell_type": "code",
   "execution_count": null,
   "id": "1a8b4c1d-a4a9-4f53-881c-2578ffcd6ebb",
   "metadata": {},
   "outputs": [],
   "source": [
    "pc_nr = 5\n",
    "pca_df = pd.merge(pheno_df, pd.DataFrame(pcoa_results.samples.values[:, :pc_nr], columns=['PC{}'.format(i + 1) for i in range(pc_nr)], index=braycurtis_dm.ids).reset_index().rename(columns={'index':'Colony'}), on='Colony')"
   ]
  },
  {
   "cell_type": "code",
   "execution_count": null,
   "id": "eebba3bb-4298-493c-a605-cb47e8f3cb62",
   "metadata": {},
   "outputs": [],
   "source": [
    "pca_melt_df = pd.melt(pca_df, id_vars=list(pca_df.columns[:-5]), value_vars=list(pca_df.columns[-5:]), var_name = 'PC', value_name='PC_value')"
   ]
  },
  {
   "cell_type": "code",
   "execution_count": null,
   "id": "23bc73cf-579d-4136-8319-17219899e964",
   "metadata": {},
   "outputs": [],
   "source": [
    "pca_melt_df"
   ]
  },
  {
   "cell_type": "code",
   "execution_count": null,
   "id": "3b9fd6f5-7d16-46d7-a374-73f82b74b527",
   "metadata": {},
   "outputs": [],
   "source": [
    "sns.set_style('whitegrid')\n",
    "plt.figure(figsize=(8, 8))\n",
    "x='PC1'\n",
    "y='PC2'\n",
    "sns.scatterplot(data=pca_df, x=x, y=y, hue='group')\n",
    "plt.xlabel(x, fontsize=14)\n",
    "plt.ylabel(y, fontsize=14)\n",
    "plt.xticks(fontsize=14)\n",
    "plt.yticks(fontsize=14)\n",
    "plt.legend(fontsize=14)\n",
    "plt.legend(bbox_to_anchor=(1.05, 1), loc='upper left', borderaxespad=0.)\n",
    "plt.show()"
   ]
  },
  {
   "cell_type": "code",
   "execution_count": null,
   "id": "52b2976f-040d-4088-b10c-c8e3fc499580",
   "metadata": {},
   "outputs": [],
   "source": [
    "sns.set_style('whitegrid')\n",
    "plt.figure(figsize=(8, 8))\n",
    "x='PC1'\n",
    "y='PC2'\n",
    "sns.scatterplot(data=pca_df, x=x, y=y, hue='Varroa relative abundance')\n",
    "plt.xlabel(x, fontsize=14)\n",
    "plt.ylabel(y, fontsize=14)\n",
    "plt.xticks(fontsize=14)\n",
    "plt.yticks(fontsize=14)\n",
    "plt.legend(fontsize=14)\n",
    "plt.legend(bbox_to_anchor=(1.05, 1), loc='upper left', borderaxespad=0.)\n",
    "plt.show()"
   ]
  },
  {
   "cell_type": "code",
   "execution_count": null,
   "id": "1185b982-5718-419d-89fb-32d338ea6f05",
   "metadata": {},
   "outputs": [],
   "source": [
    "sns.set_style('whitegrid')\n",
    "plt.figure(figsize=(8, 8))\n",
    "x='PC1'\n",
    "y='PC2'\n",
    "sns.scatterplot(data=pca_df, x=x, y=y, hue='year')\n",
    "plt.xlabel(x, fontsize=14)\n",
    "plt.ylabel(y, fontsize=14)\n",
    "plt.xticks(fontsize=14)\n",
    "plt.yticks(fontsize=14)\n",
    "plt.legend(fontsize=14)\n",
    "plt.legend(bbox_to_anchor=(1.05, 1), loc='upper left', borderaxespad=0.)\n",
    "plt.show()"
   ]
  },
  {
   "cell_type": "code",
   "execution_count": null,
   "id": "1b0a9b1c-5a6d-4c2c-aa85-f55004340db1",
   "metadata": {},
   "outputs": [],
   "source": [
    "sns.set_style('whitegrid')\n",
    "plt.figure(figsize=(8, 8))\n",
    "x='PC1'\n",
    "y='PC2'\n",
    "sns.scatterplot(data=pca_df, x=x, y=y, hue='month')\n",
    "plt.xlabel(x, fontsize=14)\n",
    "plt.ylabel(y, fontsize=14)\n",
    "plt.xticks(fontsize=14)\n",
    "plt.yticks(fontsize=14)\n",
    "plt.legend(fontsize=14)\n",
    "plt.legend(bbox_to_anchor=(1.05, 1), loc='upper left', borderaxespad=0.)\n",
    "plt.show()"
   ]
  },
  {
   "cell_type": "code",
   "execution_count": null,
   "id": "627cb08d-7124-4e5a-aaff-9cd7ed5c7545",
   "metadata": {},
   "outputs": [],
   "source": [
    "continous_vars"
   ]
  },
  {
   "cell_type": "code",
   "execution_count": null,
   "id": "f440c4f7-0ba7-40c4-8222-18ddbec7c7d0",
   "metadata": {},
   "outputs": [],
   "source": [
    "# for v in discrete_vars:\n",
    "#     g = sns.FacetGrid(pca_melt_df, col='PC', col_wrap=5, height=3, aspect=1)\n",
    "#     g.map(sns.boxplot,'PC_value',v)\n",
    "#     g.set_titles(\"{col_name}\")"
   ]
  },
  {
   "cell_type": "code",
   "execution_count": null,
   "id": "354167af-4e26-4334-a2eb-7c9b86aea434",
   "metadata": {},
   "outputs": [],
   "source": [
    "for v in continous_vars:\n",
    "    g = sns.FacetGrid(pca_melt_df, col='PC', col_wrap=5, height=3, aspect=1)\n",
    "    g.map(sns.regplot,'PC_value',v,scatter_kws={'s':4})\n",
    "    g.set_titles(\"{col_name}\")"
   ]
  },
  {
   "cell_type": "code",
   "execution_count": null,
   "id": "16aaa45e-7c11-4e53-ae29-a31e7e76595b",
   "metadata": {},
   "outputs": [],
   "source": []
  },
  {
   "cell_type": "markdown",
   "id": "1c4e3220-2543-4578-859a-87191969ffc9",
   "metadata": {},
   "source": [
    "## Symbiosphere communities"
   ]
  },
  {
   "cell_type": "code",
   "execution_count": null,
   "id": "1787ec6b-eb3e-4ba7-bb12-7fd651301134",
   "metadata": {},
   "outputs": [],
   "source": [
    "from skbio.stats.ordination import pcoa\n",
    "from skbio import DistanceMatrix\n",
    "from scipy.spatial.distance import pdist, squareform\n",
    "from skbio.diversity import beta_diversity\n"
   ]
  },
  {
   "cell_type": "markdown",
   "id": "979bc950-8206-4cd5-bd5d-48019c974f69",
   "metadata": {},
   "source": [
    "### Presence/absence Jaccard"
   ]
  },
  {
   "cell_type": "code",
   "execution_count": null,
   "id": "b165ffcc-d0aa-4c5c-bcd9-db24c5fdadae",
   "metadata": {},
   "outputs": [],
   "source": [
    "jaccard_df = symbio_df.pivot(index='Colony', columns='Taxon', values='Relative abundance').map(lambda x: 1 if x > 0 else x).fillna(0)\n",
    "print(jaccard_df.shape)\n",
    "\n",
    "jaccard_dm = DistanceMatrix(squareform(pdist(jaccard_df, metric='jaccard')), ids=jaccard_df.index)\n",
    "\n",
    "pcoa_results = pcoa(jaccard_dm)\n",
    "\n",
    "sns.barplot(pcoa_results.proportion_explained[:10])"
   ]
  },
  {
   "cell_type": "code",
   "execution_count": null,
   "id": "f4e6b180-812e-423f-a514-da73d2c8e566",
   "metadata": {},
   "outputs": [],
   "source": [
    "# jaccard_df.to_csv('{}{}_BeeStrong_species_presences_absences.csv'.format(tlf_path, str(datetime.now().date())), index=True)\n",
    "\n",
    "# pd.read_csv('{}{}_BeeStrong_species_presences_absences.csv'.format(tlf_path, str(datetime.now().date())))"
   ]
  },
  {
   "cell_type": "code",
   "execution_count": null,
   "id": "a0d29241-0e09-43c1-8c81-53707276341d",
   "metadata": {},
   "outputs": [],
   "source": [
    "pc_nr = 5\n",
    "pca_df = pd.merge(pheno_df, pd.DataFrame(pcoa_results.samples.values[:, :pc_nr], columns=['PC{}'.format(i + 1) for i in range(pc_nr)], index=jaccard_dm.ids).reset_index().rename(columns={'index':'Colony'}), on='Colony')\n",
    "\n",
    "pca_melt_df = pd.melt(pca_df, id_vars=list(pca_df.columns[:-5]), value_vars=list(pca_df.columns[-5:]), var_name = 'PC', value_name='PC_value')"
   ]
  },
  {
   "cell_type": "code",
   "execution_count": null,
   "id": "0fe0eb38-660c-4b65-9bb9-fe6a9f511080",
   "metadata": {},
   "outputs": [],
   "source": [
    "pca_df"
   ]
  },
  {
   "cell_type": "code",
   "execution_count": null,
   "id": "100bb705-8e7b-425a-bc54-400e10974322",
   "metadata": {},
   "outputs": [],
   "source": [
    "['BS18_0{}'.format(i) for i in range(161, 169)]"
   ]
  },
  {
   "cell_type": "code",
   "execution_count": null,
   "id": "004ce225-a5a4-472f-abdb-e7700ee2c15e",
   "metadata": {},
   "outputs": [],
   "source": [
    "marbach = set(['BS18_0{}'.format(i) for i in range(161, 169)])"
   ]
  },
  {
   "cell_type": "code",
   "execution_count": null,
   "id": "a2e00307-b9da-426e-95cf-2fb69b250275",
   "metadata": {},
   "outputs": [],
   "source": [
    "pca_df['Marbach'] = [1 if x in marbach else 0 for x in pca_df['Colony']]"
   ]
  },
  {
   "cell_type": "code",
   "execution_count": null,
   "id": "ebb86438-f2cb-46bd-85fc-597e2798c36b",
   "metadata": {},
   "outputs": [],
   "source": [
    "sns.set_style('whitegrid')\n",
    "plt.figure(figsize=(8, 8))\n",
    "x='PC1'\n",
    "y='PC2'\n",
    "sns.scatterplot(data=pca_df, x=x, y=y, hue='Marbach')\n",
    "plt.xlabel(x, fontsize=14)\n",
    "plt.ylabel(y, fontsize=14)\n",
    "plt.xticks(fontsize=14)\n",
    "plt.yticks(fontsize=14)\n",
    "plt.legend(fontsize=14)\n",
    "plt.legend(bbox_to_anchor=(1.05, 1), loc='upper left', borderaxespad=0.)\n",
    "plt.show()"
   ]
  },
  {
   "cell_type": "code",
   "execution_count": null,
   "id": "751e5aa7-7f9d-44e8-8e6d-1ccfb263f56d",
   "metadata": {},
   "outputs": [],
   "source": [
    "variables = ['region', 'group', 'year', 'month']\n",
    "for v in variables:\n",
    "    g = sns.FacetGrid(pca_melt_df, col='PC', col_wrap=5, height=3, aspect=1)\n",
    "    g.map(sns.boxplot,v,'PC_value')\n",
    "    g.set_titles(\"{col_name}\")"
   ]
  },
  {
   "cell_type": "code",
   "execution_count": null,
   "id": "4cd42c2b-a296-4bc4-8d5b-d3765baff19c",
   "metadata": {},
   "outputs": [],
   "source": [
    "variables = [\n",
    "    # 'group',\n",
    "    # 'year',\n",
    "    # 'month', \n",
    "    'percent_Ligustica_Carnica',\n",
    "    'percent_Mellifera',\n",
    "    'percent_Caucasica',\n",
    "    'v_pho',\n",
    "    'v_mito',\n",
    "    'pca1',\n",
    "    'recap_inf',\n",
    "    'logit_recap_inf',\n",
    "    'percent_mnr',\n",
    "    'raw_mnr',\n",
    "    'eb_mmr',\n",
    "    'Varroa relative abundance'\n",
    "]\n",
    "\n",
    "for v in variables:\n",
    "    g = sns.FacetGrid(pca_melt_df, col='PC', col_wrap=5, height=3, aspect=1)\n",
    "    g.map(sns.regplot,'PC_value',v,scatter_kws={'s':4})\n",
    "    g.set_titles(\"{col_name}\")"
   ]
  },
  {
   "cell_type": "markdown",
   "id": "50b61048-c575-40e0-a5f2-cadb4ba29227",
   "metadata": {},
   "source": [
    "### Abundance Bray-Curtis"
   ]
  },
  {
   "cell_type": "code",
   "execution_count": null,
   "id": "180c6d47-4772-4251-b151-fca11d4a9fbb",
   "metadata": {},
   "outputs": [],
   "source": [
    "braycurtis_df = symbio_df.pivot(index='Colony', columns='Taxon', values='Relative abundance').fillna(0)\n",
    "print(braycurtis_df.shape)\n",
    "\n",
    "braycurtis_dm = beta_diversity('braycurtis', braycurtis_df)\n",
    "\n",
    "pcoa_results = pcoa(braycurtis_dm)\n",
    "\n",
    "sns.barplot(pcoa_results.proportion_explained[:10])"
   ]
  },
  {
   "cell_type": "code",
   "execution_count": null,
   "id": "a04943b7-b98c-4dbb-b58d-31e37ca85386",
   "metadata": {},
   "outputs": [],
   "source": [
    "pc_nr = 5\n",
    "pca_df = pd.merge(pheno_df, pd.DataFrame(pcoa_results.samples.values[:, :pc_nr], columns=['PC{}'.format(i + 1) for i in range(pc_nr)], index=braycurtis_dm.ids).reset_index().rename(columns={'index':'Colony'}), on='Colony')\n",
    "\n",
    "pca_melt_df = pd.melt(pca_df, id_vars=list(pca_df.columns[:-5]), value_vars=list(pca_df.columns[-5:]), var_name = 'PC', value_name='PC_value')\n"
   ]
  },
  {
   "cell_type": "code",
   "execution_count": null,
   "id": "32d6dacd-d3a7-4041-a445-20adcecb63d6",
   "metadata": {},
   "outputs": [],
   "source": [
    "sns.set_style('whitegrid')\n",
    "plt.figure(figsize=(8, 8))\n",
    "x='PC1'\n",
    "y='PC3'\n",
    "sns.scatterplot(data=pca_df, x=x, y=y, hue='region')\n",
    "plt.xlabel(x, fontsize=14)\n",
    "plt.ylabel(y, fontsize=14)\n",
    "plt.xticks(fontsize=14)\n",
    "plt.yticks(fontsize=14)\n",
    "plt.legend(fontsize=14)\n",
    "plt.legend(bbox_to_anchor=(1.05, 1), loc='upper left', borderaxespad=0.)\n",
    "plt.show()"
   ]
  },
  {
   "cell_type": "code",
   "execution_count": null,
   "id": "e5d2f9a2-077d-4011-93c2-31cb0b3e8a08",
   "metadata": {},
   "outputs": [],
   "source": [
    "sns.set_style('whitegrid')\n",
    "plt.figure(figsize=(8, 8))\n",
    "x='PC1'\n",
    "y='PC2'\n",
    "sns.scatterplot(data=pca_df, x=x, y=y, hue='month')\n",
    "plt.xlabel(x, fontsize=14)\n",
    "plt.ylabel(y, fontsize=14)\n",
    "plt.xticks(fontsize=14)\n",
    "plt.yticks(fontsize=14)\n",
    "plt.legend(fontsize=14)\n",
    "plt.legend(bbox_to_anchor=(1.05, 1), loc='upper left', borderaxespad=0.)\n",
    "plt.show()"
   ]
  },
  {
   "cell_type": "code",
   "execution_count": null,
   "id": "8c644118-ac52-48c8-9e4e-a1ed58a922e6",
   "metadata": {},
   "outputs": [],
   "source": [
    "variables = ['region', 'group', 'month', 'year']\n",
    "for v in variables:\n",
    "    g = sns.FacetGrid(pca_melt_df, col='PC', col_wrap=5, height=3, aspect=1)\n",
    "    g.map(sns.boxplot,v,'PC_value')\n",
    "    g.set_titles(\"{col_name}\")"
   ]
  },
  {
   "cell_type": "code",
   "execution_count": null,
   "id": "6a0e9a68-c439-42fe-a5c7-8e2792a3f4eb",
   "metadata": {},
   "outputs": [],
   "source": [
    "variables = [\n",
    "    'percent_Ligustica_Carnica',\n",
    "    'percent_Mellifera',\n",
    "    'percent_Caucasica',\n",
    "    'v_pho',\n",
    "    'v_mito',\n",
    "    'pca1',\n",
    "    'recap_inf',\n",
    "    'logit_recap_inf',\n",
    "    'percent_mnr',\n",
    "    'raw_mnr',\n",
    "    'eb_mmr',\n",
    "    'Varroa relative abundance'\n",
    "]\n",
    "\n",
    "for v in variables:\n",
    "    g = sns.FacetGrid(pca_melt_df, col='PC', col_wrap=5, height=3, aspect=1)\n",
    "    g.map(sns.regplot,'PC_value',v,scatter_kws={'s':4})\n",
    "    g.set_titles(\"{col_name}\")"
   ]
  },
  {
   "cell_type": "markdown",
   "id": "3717b242-de17-49b2-9197-db2f2987c50e",
   "metadata": {},
   "source": [
    "### Core Bray-Curtis"
   ]
  },
  {
   "cell_type": "code",
   "execution_count": null,
   "id": "61cb3eba-f64b-46e6-a012-5c911982ef57",
   "metadata": {},
   "outputs": [],
   "source": [
    "print(set(prev_df[(prev_df['Prevalence'] >= 0.5) & (prev_df['Group'].isin({'Viruses', 'Bacteria', 'Fungi'}))]['Taxon']))"
   ]
  },
  {
   "cell_type": "code",
   "execution_count": null,
   "id": "5a3f0e8c-97db-40ad-ba14-dd3a3d0960ac",
   "metadata": {},
   "outputs": [],
   "source": [
    "f = brack_df['Taxon'].isin(set(prev_df[(prev_df['Prevalence'] >= 0.5) & (prev_df['Group'].isin({'Viruses', 'Bacteria', 'Fungi'}))]['Taxon']))"
   ]
  },
  {
   "cell_type": "code",
   "execution_count": null,
   "id": "fd10fbcc-fc62-41e1-ad96-128e7b8ea54d",
   "metadata": {},
   "outputs": [],
   "source": [
    "symbio_df = brack_df[f & (brack_df['Relative abundance'] >= lod)]\n",
    "symbio_df"
   ]
  },
  {
   "cell_type": "code",
   "execution_count": null,
   "id": "0ae20ec9-05d6-45e3-9726-7d14d46d5afb",
   "metadata": {},
   "outputs": [],
   "source": [
    "braycurtis_df = symbio_df.pivot(index='Colony', columns='Taxon', values='Relative abundance').fillna(0)\n",
    "print(braycurtis_df.shape)\n",
    "\n",
    "braycurtis_dm = beta_diversity('braycurtis', braycurtis_df)\n",
    "\n",
    "pcoa_results = pcoa(braycurtis_dm)\n",
    "\n",
    "sns.barplot(pcoa_results.proportion_explained[:10])"
   ]
  },
  {
   "cell_type": "code",
   "execution_count": null,
   "id": "0675842d-7488-45e4-b00f-27ac7ea8290c",
   "metadata": {},
   "outputs": [],
   "source": [
    "pc_nr = 5\n",
    "pca_df = pd.merge(pheno_df, pd.DataFrame(pcoa_results.samples.values[:, :pc_nr], columns=['PC{}'.format(i + 1) for i in range(pc_nr)], index=braycurtis_dm.ids), left_index=True, right_index=True)\n",
    "\n",
    "pca_melt_df = pd.melt(pca_df, id_vars=list(pca_df.columns[:-5]), value_vars=list(pca_df.columns[-5:]), var_name = 'PC', value_name='PC_value')\n"
   ]
  },
  {
   "cell_type": "code",
   "execution_count": null,
   "id": "b4396884-e9f7-4372-85a7-745529072e70",
   "metadata": {},
   "outputs": [],
   "source": [
    "sns.set_style('whitegrid')\n",
    "plt.figure(figsize=(8, 8))\n",
    "x='PC1'\n",
    "y='PC2'\n",
    "sns.scatterplot(data=pca_df, x=x, y=y, hue='group')\n",
    "plt.xlabel(x, fontsize=14)\n",
    "plt.ylabel(y, fontsize=14)\n",
    "plt.xticks(fontsize=14)\n",
    "plt.yticks(fontsize=14)\n",
    "plt.legend(fontsize=14)\n",
    "plt.legend(bbox_to_anchor=(1.05, 1), loc='upper left', borderaxespad=0.)\n",
    "plt.show()"
   ]
  },
  {
   "cell_type": "code",
   "execution_count": null,
   "id": "8ad4f992-1a57-42e4-9d6a-c24b857e6c71",
   "metadata": {},
   "outputs": [],
   "source": [
    "sns.set_style('whitegrid')\n",
    "plt.figure(figsize=(8, 8))\n",
    "x='PC1'\n",
    "y='PC3'\n",
    "sns.scatterplot(data=pca_df, x=x, y=y, hue='group')\n",
    "plt.xlabel(x, fontsize=14)\n",
    "plt.ylabel(y, fontsize=14)\n",
    "plt.xticks(fontsize=14)\n",
    "plt.yticks(fontsize=14)\n",
    "plt.legend(fontsize=14)\n",
    "plt.legend(bbox_to_anchor=(1.05, 1), loc='upper left', borderaxespad=0.)\n",
    "plt.show()"
   ]
  },
  {
   "cell_type": "code",
   "execution_count": null,
   "id": "318bf5c0-2052-4a2a-aed7-859d6d302d4c",
   "metadata": {},
   "outputs": [],
   "source": [
    "variables = ['group']\n",
    "for v in variables:\n",
    "    g = sns.FacetGrid(pca_melt_df, col='PC', col_wrap=5, height=3, aspect=1)\n",
    "    g.map(sns.boxplot,'PC_value',v)\n",
    "    g.set_titles(\"{col_name}\")"
   ]
  },
  {
   "cell_type": "code",
   "execution_count": null,
   "id": "1e30be92-26dc-4b05-b324-2af1a0edf5cf",
   "metadata": {},
   "outputs": [],
   "source": [
    "variables = [\n",
    "    'percent_Ligustica_Carnica',\n",
    "    'percent_Mellifera',\n",
    "    'percent_Caucasica',\n",
    "    'v_pho',\n",
    "    'v_mito',\n",
    "    'pca1',\n",
    "    'recap_inf',\n",
    "    'logit_recap_inf',\n",
    "    'percent_mnr',\n",
    "    'raw_mnr',\n",
    "    'eb_mmr',\n",
    "]\n",
    "\n",
    "for v in variables:\n",
    "    g = sns.FacetGrid(pca_melt_df, col='PC', col_wrap=5, height=3, aspect=1)\n",
    "    g.map(sns.regplot,'PC_value',v,scatter_kws={'s':4})\n",
    "    g.set_titles(\"{col_name}\")"
   ]
  },
  {
   "cell_type": "markdown",
   "id": "af3eeff4-2ec3-4048-9986-a34a7030588e",
   "metadata": {},
   "source": [
    "# Graveyard"
   ]
  },
  {
   "cell_type": "code",
   "execution_count": null,
   "id": "2151f911-190f-4a83-bc87-24cacedd2016",
   "metadata": {},
   "outputs": [],
   "source": [
    "def write_bowtie2_script_nodescratch(script_fn, array_str):\n",
    "    runstr=\"\"\"#!/bin/bash -l\n",
    "#SBATCH --array=ARRAY_STR\n",
    "#SBATCH --nodes=1\n",
    "#SBATCH --ntasks=24\n",
    "#SBATCH --nodelist=node04\n",
    "#SBATCH --mem=30g\n",
    "#SBATCH --time=04:00:00\n",
    "#SBATCH --job-name=bowtie2\n",
    "#SBATCH --output=%x_%A_%a.out\n",
    "#SBATCH --error=%x_%A_%a.err\n",
    "\n",
    "modulesld\n",
    "ebld\n",
    "module use /software/anaconda3/envs/eb/easybuild/modules/all\n",
    "ml Bowtie2\n",
    "ml SAMtools\n",
    "\n",
    "idx_path=$1\n",
    "idx_name=$2\n",
    "fastq_path=$3\n",
    "bowtie2_path=$4\n",
    "bs_ids_file=$5\n",
    "\n",
    "# work on scratch node is better when lots of I/O operations\n",
    "node_scratch=/scratch/${USER}/tmp_${SLURM_ARRAY_JOB_ID}_${SLURM_ARRAY_TASK_ID}/\n",
    "mkdir -p $node_scratch\n",
    "\n",
    "# let's see if it matters\n",
    "cp -r $idx_path $node_scratch\n",
    "bt_idx_path=${node_scratch}bee_bt2idx/\n",
    "\n",
    "# getting bs_id\n",
    "bs_id=$(sed -n ${SLURM_ARRAY_TASK_ID}'{p;q}' ${bs_ids_file})\n",
    "\n",
    "fastq_1=$fastq_path${bs_id}_1.fastq.gz\n",
    "fastq_2=$fastq_path${bs_id}_2.fastq.gz\n",
    "ls $fastq_1\n",
    "ls $fastq_2\n",
    "\n",
    "echo \"1. copy fastq.gz to node scratch\"\n",
    "cp $fastq_1 $node_scratch\n",
    "cp $fastq_2 $node_scratch\n",
    "ls -lh $node_scratch\n",
    "\n",
    "# not sure if I need to copy also the index...\n",
    "\n",
    "echo \"2. bowtie2\"\n",
    "unmapped_prefix=${node_scratch}${bs_id}_${idx_name}_unmapped\n",
    "mapped_prefix=${node_scratch}${bs_id}_${idx_name}_mapped\n",
    "bowtie2 -x  ${bt_idx_path}${idx_name} -p 8 -1 $node_scratch${bs_id}_1.fastq.gz -2 $node_scratch${bs_id}_2.fastq.gz --un-conc ${unmapped_prefix}.fastq -S ${mapped_prefix}.sam > ${bowtie2_path}${bs_id}_${idx_name}.out 2>&1\n",
    "\n",
    "echo \"3. SAM to BAM\"\n",
    "samtools view -S -b ${mapped_prefix}.sam > ${mapped_prefix}.bam\n",
    "\n",
    "echo \"4. compress\"\n",
    "gzip -f ${unmapped_prefix}.1.fastq \n",
    "gzip -f ${unmapped_prefix}.2.fastq\n",
    "\n",
    "echo \"5. copy to home and clean\"\n",
    "mv -f ${unmapped_prefix}.1.fastq.gz ${bowtie2_path}\n",
    "mv -f ${unmapped_prefix}.2.fastq.gz ${bowtie2_path}\n",
    "mv -f ${mapped_prefix}.bam ${bowtie2_path}\n",
    "rm -rf $node_scratch\n",
    "\n",
    "echo DONE\"\"\".replace(\n",
    "    'ARRAY_STR', array_str)\n",
    "    with open(script_fn, 'w') as outf:\n",
    "        outf.write(runstr)"
   ]
  }
 ],
 "metadata": {
  "kernelspec": {
   "display_name": "Python 3 (ipykernel)",
   "language": "python",
   "name": "python3"
  },
  "language_info": {
   "codemirror_mode": {
    "name": "ipython",
    "version": 3
   },
   "file_extension": ".py",
   "mimetype": "text/x-python",
   "name": "python",
   "nbconvert_exporter": "python",
   "pygments_lexer": "ipython3",
   "version": "3.9.21"
  }
 },
 "nbformat": 4,
 "nbformat_minor": 5
}
